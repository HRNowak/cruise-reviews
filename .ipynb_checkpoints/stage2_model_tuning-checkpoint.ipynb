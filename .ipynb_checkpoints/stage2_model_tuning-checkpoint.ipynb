{
 "cells": [
  {
   "cell_type": "markdown",
   "metadata": {},
   "source": [
    "<h1><center>Model Tuning</center></h1>"
   ]
  },
  {
   "cell_type": "markdown",
   "metadata": {},
   "source": [
    "![title](images/Screen.png)"
   ]
  },
  {
   "cell_type": "markdown",
   "metadata": {},
   "source": [
    "## Importing Libraries & Defining functions"
   ]
  },
  {
   "cell_type": "code",
   "execution_count": 1,
   "metadata": {},
   "outputs": [],
   "source": [
    "import pandas as pd\n",
    "import numpy as np\n",
    "import seaborn as sns\n",
    "import matplotlib.pyplot as plt\n",
    "import warnings\n",
    "import pickle\n",
    "from datetime import datetime\n",
    "from scipy import sparse\n",
    "\n",
    "\n",
    "# Preprocessing\n",
    "from sklearn.preprocessing import label_binarize, StandardScaler\n",
    "from sklearn.model_selection import train_test_split\n",
    "from sklearn.feature_extraction.text import TfidfVectorizer\n",
    "\n",
    "#Model Assestment\n",
    "from sklearn.model_selection import cross_val_score, GridSearchCV\n",
    "from sklearn.metrics import confusion_matrix,classification_report,precision_score, recall_score, roc_curve, auc, precision_recall_curve, average_precision_score\n",
    "from sklearn.preprocessing import label_binarize\n",
    "\n",
    "#Models\n",
    "from sklearn import naive_bayes\n",
    "from sklearn.neighbors import KNeighborsClassifier\n",
    "from sklearn.linear_model import LogisticRegressionCV\n",
    "from sklearn.tree import DecisionTreeClassifier\n",
    "from sklearn.ensemble import BaggingClassifier, RandomForestClassifier, GradientBoostingClassifier, AdaBoostClassifier\n",
    "from sklearn.svm import SVC, LinearSVC\n",
    "from sklearn.neural_network import MLPClassifier\n",
    "\n",
    "warnings.filterwarnings('ignore')\n",
    "\n",
    "import sys\n",
    "sys.path.append('modules/')\n",
    "from simp_pickle import load_pickle, save_pickle"
   ]
  },
  {
   "cell_type": "markdown",
   "metadata": {},
   "source": [
    "## Loading Data"
   ]
  },
  {
   "cell_type": "code",
   "execution_count": 2,
   "metadata": {
    "scrolled": true
   },
   "outputs": [],
   "source": [
    "# Reviews Content\n",
    "reviews = pd.read_csv('data/reviews_step_3.csv', index_col=0)"
   ]
  },
  {
   "cell_type": "code",
   "execution_count": 3,
   "metadata": {},
   "outputs": [],
   "source": [
    "word_type_df = pd.read_csv('data/word_type.csv', index_col=0)\n",
    "word_type_df.fillna('',inplace = True)"
   ]
  },
  {
   "cell_type": "markdown",
   "metadata": {},
   "source": [
    "## Assesing Models"
   ]
  },
  {
   "cell_type": "markdown",
   "metadata": {},
   "source": [
    "### Model Scorer"
   ]
  },
  {
   "cell_type": "code",
   "execution_count": 4,
   "metadata": {},
   "outputs": [],
   "source": [
    "# Resetting results\n",
    "model_results = {}"
   ]
  },
  {
   "cell_type": "code",
   "execution_count": 5,
   "metadata": {},
   "outputs": [],
   "source": [
    "## pre-setting random state\n",
    "random_state = 14\n",
    "\n",
    "##Estimating Baseline\n",
    "baseline = reviews.stars_grouped.value_counts(normalize = True)[0]\n",
    "\n",
    "\n",
    "\n",
    "def grid(model_name,model_type,param_dict,Xtr,ytr,Xte,yte,scoring='roc_auc'):\n",
    "    \n",
    "    start = datetime.now()\n",
    "    \n",
    "    #Fitting grid\n",
    "    grid = GridSearchCV(model_type,param_dict,n_jobs = -1,scoring=scoring,verbose =2,cv = 5).fit(Xtr,ytr)\n",
    "    grid_time = datetime.now()\n",
    "    print('Time\\nGrid fitting took {}'.format(grid_time - start))\n",
    "    \n",
    "    #Extracting best model and predictions\n",
    "    model = grid.best_estimator_\n",
    "    yte_hat = model.predict(Xte)\n",
    "    \n",
    "    # binarising for roc_auc\n",
    "    yte_bin = label_binarize(yte, classes=['Good Review','Bad Review'])\n",
    "    yte_hat_bin = label_binarize(yte_hat, classes=['Good Review','Bad Review'])\n",
    "    \n",
    "    # cross validating for accuracy\n",
    "    scores = cross_val_score(model,Xtr,ytr,cv = 5,scoring = 'accuracy')\n",
    "    cv_time = datetime.now()\n",
    "    print('CV took {}'.format(cv_time - grid_time))\n",
    "\n",
    "    # additional calculations\n",
    "    fpr, tpr, threshold = roc_curve(yte_bin, yte_hat_bin,pos_label = 1)\n",
    "    roc_auc = auc(fpr, tpr)\n",
    "    \n",
    "    # storing results  \n",
    "    model_results[model_name] = {\n",
    "        'model': model,\n",
    "        'accuracy train' : model.score(Xtr,ytr),\n",
    "        'accuracy test' : model.score(Xte,yte),\n",
    "        'accuracy cv' : np.mean(scores),\n",
    "        'confusion' : confusion_matrix(yte,yte_hat,model.classes_),\n",
    "        'report': classification_report(yte,yte_hat, labels = model.classes_),\n",
    "        'precision': precision_score(yte,yte_hat, labels = model.classes_,pos_label ='Bad Review'),\n",
    "        'recall': recall_score(yte,yte_hat, labels = model.classes_,pos_label ='Bad Review'),\n",
    "         'AUC': roc_auc,\n",
    "         'AUC CV':grid.best_score_\n",
    "    }    \n",
    "\n",
    "    #printing results\n",
    "    print('\\nModel Scores')\n",
    "    print('Accuracy on train data: {}'.format(model_results[model_name]['accuracy train']))\n",
    "    print('Accuracy on test data: {}'.format(model_results[model_name]['accuracy test']))\n",
    "    print('Accuracy on CV: {}'.format(model_results[model_name]['accuracy cv']))\n",
    "    print('Baseline: {}\\n'.format(baseline))\n",
    "    \n",
    "    print('AUC CV: {}'.format(model_results[model_name]['AUC CV'])) \n",
    "    print('\\nConfusion Matrix')\n",
    "    print(model_results[model_name]['confusion'])    \n",
    "    print('\\nClassification Report')\n",
    "    print(model_results[model_name]['report'])\n",
    "    \n",
    "    print('Best Estimator Parameters'.format(model_name))\n",
    "    print(model.get_params())\n",
    "    finish = datetime.now()\n",
    "    return grid"
   ]
  },
  {
   "cell_type": "markdown",
   "metadata": {},
   "source": [
    "## Testing different feature combinations"
   ]
  },
  {
   "cell_type": "code",
   "execution_count": 6,
   "metadata": {},
   "outputs": [],
   "source": [
    "Cs = 10"
   ]
  },
  {
   "cell_type": "markdown",
   "metadata": {},
   "source": [
    "### Bag of words - Adj - 0%"
   ]
  },
  {
   "cell_type": "code",
   "execution_count": 7,
   "metadata": {},
   "outputs": [
    {
     "name": "stdout",
     "output_type": "stream",
     "text": [
      "Fitting 5 folds for each of 2 candidates, totalling 10 fits\n"
     ]
    },
    {
     "name": "stderr",
     "output_type": "stream",
     "text": [
      "[Parallel(n_jobs=-1)]: Using backend LokyBackend with 8 concurrent workers.\n",
      "[Parallel(n_jobs=-1)]: Done   7 out of  10 | elapsed:    9.0s remaining:    3.9s\n",
      "[Parallel(n_jobs=-1)]: Done  10 out of  10 | elapsed:   11.0s finished\n"
     ]
    },
    {
     "name": "stdout",
     "output_type": "stream",
     "text": [
      "Time\n",
      "Grid fitting took 0:00:18.413546\n",
      "CV took 0:00:19.532054\n",
      "\n",
      "Model Scores\n",
      "Accuracy on train data: 0.9373232097662647\n",
      "Accuracy on test data: 0.8211184439041334\n",
      "Accuracy on CV: 0.8277542159216871\n",
      "Baseline: 0.6779908295122968\n",
      "\n",
      "AUC CV: 0.8925123743550224\n",
      "\n",
      "Confusion Matrix\n",
      "[[ 572  355]\n",
      " [ 160 1792]]\n",
      "\n",
      "Classification Report\n",
      "              precision    recall  f1-score   support\n",
      "\n",
      "  Bad Review       0.78      0.62      0.69       927\n",
      " Good Review       0.83      0.92      0.87      1952\n",
      "\n",
      "   micro avg       0.82      0.82      0.82      2879\n",
      "   macro avg       0.81      0.77      0.78      2879\n",
      "weighted avg       0.82      0.82      0.81      2879\n",
      "\n",
      "Best Estimator Parameters\n",
      "{'Cs': 10, 'class_weight': None, 'cv': 'warn', 'dual': False, 'fit_intercept': True, 'intercept_scaling': 1.0, 'max_iter': 100, 'multi_class': 'warn', 'n_jobs': None, 'penalty': 'l2', 'random_state': 14, 'refit': True, 'scoring': None, 'solver': 'liblinear', 'tol': 0.0001, 'verbose': 0}\n"
     ]
    }
   ],
   "source": [
    "#Settings\n",
    "name = 'BOW - ADJ 0% - LogReg'\n",
    "per = 0\n",
    "with_mean = False\n",
    "\n",
    "#X with adj only\n",
    "adj_X = word_type_df.apply(lambda x: x['ADJ'], axis = 1)\n",
    "\n",
    "#Defining target\n",
    "adj_y = reviews.stars_grouped\n",
    "\n",
    "#Train_Test\n",
    "adj_Xtrain, adj_Xtest,adj_ytrain, adj_ytest = train_test_split(adj_X,adj_y,test_size = 0.3, stratify = adj_y, random_state = 14)\n",
    "\n",
    "#TFID vectoriser\n",
    "adj_tvec = TfidfVectorizer(strip_accents='unicode', ngram_range=(1,1),stop_words = 'english',max_df=0.5, min_df=per)\n",
    "adj_train_matrix = adj_tvec.fit_transform(adj_Xtrain)\n",
    "adj_test_matrix = adj_tvec.transform(adj_Xtest)\n",
    "\n",
    "# Keeping mean to work with Sparse Matrix\n",
    "scaler = StandardScaler(with_mean = with_mean)\n",
    "adj_Xtrain_std = scaler.fit_transform(adj_train_matrix)\n",
    "adj_Xtest_std = scaler.transform(adj_test_matrix)\n",
    "\n",
    "\n",
    "#logistic regression parameter dictionaty\n",
    "log_dict = {\n",
    "    'Cs':[Cs],\n",
    "    'penalty':['l1','l2'],\n",
    "    'solver': ['liblinear']}\n",
    "\n",
    "#logistic regression parameter dictionaty\n",
    "log_grid = grid(\n",
    "    name,LogisticRegressionCV(random_state = random_state),log_dict, \n",
    "    adj_Xtrain_std,adj_ytrain,\n",
    "    adj_Xtest_std,adj_ytest,\n",
    "    scoring = 'roc_auc')"
   ]
  },
  {
   "cell_type": "markdown",
   "metadata": {},
   "source": [
    "### Bag of words - Adj - 2%"
   ]
  },
  {
   "cell_type": "code",
   "execution_count": 8,
   "metadata": {},
   "outputs": [
    {
     "name": "stdout",
     "output_type": "stream",
     "text": [
      "Fitting 5 folds for each of 2 candidates, totalling 10 fits\n"
     ]
    },
    {
     "name": "stderr",
     "output_type": "stream",
     "text": [
      "[Parallel(n_jobs=-1)]: Using backend LokyBackend with 8 concurrent workers.\n",
      "[Parallel(n_jobs=-1)]: Done   7 out of  10 | elapsed:    0.5s remaining:    0.2s\n",
      "[Parallel(n_jobs=-1)]: Done  10 out of  10 | elapsed:    0.6s finished\n"
     ]
    },
    {
     "name": "stdout",
     "output_type": "stream",
     "text": [
      "Time\n",
      "Grid fitting took 0:00:00.887121\n",
      "CV took 0:00:00.963000\n",
      "\n",
      "Model Scores\n",
      "Accuracy on train data: 0.8354920351347328\n",
      "Accuracy on test data: 0.8245918721778396\n",
      "Accuracy on CV: 0.8219439919707625\n",
      "Baseline: 0.6779908295122968\n",
      "\n",
      "AUC CV: 0.8795070253200371\n",
      "\n",
      "Confusion Matrix\n",
      "[[ 576  351]\n",
      " [ 154 1798]]\n",
      "\n",
      "Classification Report\n",
      "              precision    recall  f1-score   support\n",
      "\n",
      "  Bad Review       0.79      0.62      0.70       927\n",
      " Good Review       0.84      0.92      0.88      1952\n",
      "\n",
      "   micro avg       0.82      0.82      0.82      2879\n",
      "   macro avg       0.81      0.77      0.79      2879\n",
      "weighted avg       0.82      0.82      0.82      2879\n",
      "\n",
      "Best Estimator Parameters\n",
      "{'Cs': 10, 'class_weight': None, 'cv': 'warn', 'dual': False, 'fit_intercept': True, 'intercept_scaling': 1.0, 'max_iter': 100, 'multi_class': 'warn', 'n_jobs': None, 'penalty': 'l2', 'random_state': 14, 'refit': True, 'scoring': None, 'solver': 'liblinear', 'tol': 0.0001, 'verbose': 0}\n"
     ]
    }
   ],
   "source": [
    "#Settings\n",
    "name = 'BOW - ADJ 2% - LogReg'\n",
    "per = 0.02\n",
    "with_mean = False\n",
    "\n",
    "#X with adj only\n",
    "adj_X = word_type_df.apply(lambda x: x['ADJ'], axis = 1)\n",
    "\n",
    "#Defining target\n",
    "adj_y = reviews.stars_grouped\n",
    "\n",
    "#Train_Test\n",
    "adj_Xtrain, adj_Xtest,adj_ytrain, adj_ytest = train_test_split(adj_X,adj_y,test_size = 0.3, stratify = adj_y,\n",
    "                                                               random_state = random_state)\n",
    "\n",
    "#TFID vectoriser\n",
    "adj_tvec = TfidfVectorizer(strip_accents='unicode', ngram_range=(1,1),\n",
    "                           stop_words = 'english',max_df=0.5, min_df=per)\n",
    "adj_train_matrix = adj_tvec.fit_transform(adj_Xtrain)\n",
    "adj_test_matrix = adj_tvec.transform(adj_Xtest)\n",
    "\n",
    "# Keeping mean to work with Sparse Matrix\n",
    "scaler = StandardScaler(with_mean = with_mean)\n",
    "adj_Xtrain_std = scaler.fit_transform(adj_train_matrix)\n",
    "adj_Xtest_std = scaler.transform(adj_test_matrix)\n",
    "\n",
    "\n",
    "#logistic regression parameter dictionaty\n",
    "log_dict = {\n",
    "    'Cs':[Cs],\n",
    "    'penalty':['l1','l2'],\n",
    "    'solver': ['liblinear']}\n",
    "\n",
    "#logistic regression parameter dictionaty\n",
    "log_grid = grid(\n",
    "    name,LogisticRegressionCV(random_state = random_state),log_dict, \n",
    "    adj_Xtrain_std,adj_ytrain,\n",
    "    adj_Xtest_std,adj_ytest,\n",
    "    scoring = 'roc_auc')"
   ]
  },
  {
   "cell_type": "markdown",
   "metadata": {},
   "source": [
    "### Bag of words - Nouns - 0%"
   ]
  },
  {
   "cell_type": "code",
   "execution_count": 9,
   "metadata": {},
   "outputs": [
    {
     "name": "stdout",
     "output_type": "stream",
     "text": [
      "Fitting 5 folds for each of 2 candidates, totalling 10 fits\n"
     ]
    },
    {
     "name": "stderr",
     "output_type": "stream",
     "text": [
      "[Parallel(n_jobs=-1)]: Using backend LokyBackend with 8 concurrent workers.\n",
      "[Parallel(n_jobs=-1)]: Done   7 out of  10 | elapsed:    6.4s remaining:    2.7s\n",
      "[Parallel(n_jobs=-1)]: Done  10 out of  10 | elapsed:    7.0s finished\n"
     ]
    },
    {
     "name": "stdout",
     "output_type": "stream",
     "text": [
      "Time\n",
      "Grid fitting took 0:00:08.035548\n",
      "CV took 0:00:03.988972\n",
      "\n",
      "Model Scores\n",
      "Accuracy on train data: 0.970522554711925\n",
      "Accuracy on test data: 0.783605418548107\n",
      "Accuracy on CV: 0.7787661696618506\n",
      "Baseline: 0.6779908295122968\n",
      "\n",
      "AUC CV: 0.8287528751259235\n",
      "\n",
      "Confusion Matrix\n",
      "[[ 503  424]\n",
      " [ 199 1753]]\n",
      "\n",
      "Classification Report\n",
      "              precision    recall  f1-score   support\n",
      "\n",
      "  Bad Review       0.72      0.54      0.62       927\n",
      " Good Review       0.81      0.90      0.85      1952\n",
      "\n",
      "   micro avg       0.78      0.78      0.78      2879\n",
      "   macro avg       0.76      0.72      0.73      2879\n",
      "weighted avg       0.78      0.78      0.77      2879\n",
      "\n",
      "Best Estimator Parameters\n",
      "{'Cs': 10, 'class_weight': None, 'cv': 'warn', 'dual': False, 'fit_intercept': True, 'intercept_scaling': 1.0, 'max_iter': 100, 'multi_class': 'warn', 'n_jobs': None, 'penalty': 'l1', 'random_state': 14, 'refit': True, 'scoring': None, 'solver': 'liblinear', 'tol': 0.0001, 'verbose': 0}\n"
     ]
    }
   ],
   "source": [
    "#Settings\n",
    "name = 'BOW - NOUN 0% - LR'\n",
    "per = 0.00\n",
    "with_mean = False\n",
    "\n",
    "#X with noun only\n",
    "noun_X = word_type_df.apply(lambda x: x['NOUN'], axis = 1)\n",
    "\n",
    "#Defining target\n",
    "noun_y = reviews.stars_grouped\n",
    "\n",
    "#Train_Test\n",
    "noun_Xtrain, noun_Xtest,noun_ytrain, noun_ytest = train_test_split(noun_X,noun_y,test_size = 0.3, stratify = noun_y,\n",
    "                                                                   random_state = random_state)\n",
    "\n",
    "#TFID vectoriser\n",
    "noun_tvec = TfidfVectorizer(strip_accents='unicode', ngram_range=(1,1),\n",
    "                            stop_words = 'english',max_df=0.5, min_df=per)\n",
    "noun_train_matrix = noun_tvec.fit_transform(noun_Xtrain)\n",
    "noun_test_matrix = noun_tvec.transform(noun_Xtest)\n",
    "\n",
    "# Keeping mean to work with Sparse Matrix\n",
    "scaler = StandardScaler(with_mean = with_mean)\n",
    "noun_Xtrain_std = scaler.fit_transform(noun_train_matrix)\n",
    "noun_Xtest_std = scaler.transform(noun_test_matrix)\n",
    "\n",
    "\n",
    "#logistic regression parameter dictionaty\n",
    "log_dict = {\n",
    "    'Cs':[Cs],\n",
    "    'penalty':['l1','l2'],\n",
    "    'solver': ['liblinear']}\n",
    "\n",
    "#logistic regression parameter dictionaty\n",
    "log_grid = grid(\n",
    "    name,LogisticRegressionCV(random_state = random_state),log_dict, \n",
    "    noun_Xtrain_std,noun_ytrain,\n",
    "    noun_Xtest_std,noun_ytest,\n",
    "    scoring = 'roc_auc')"
   ]
  },
  {
   "cell_type": "markdown",
   "metadata": {},
   "source": [
    "### Bag of words - Nouns - 2%"
   ]
  },
  {
   "cell_type": "code",
   "execution_count": 10,
   "metadata": {},
   "outputs": [
    {
     "name": "stdout",
     "output_type": "stream",
     "text": [
      "Fitting 5 folds for each of 2 candidates, totalling 10 fits\n"
     ]
    },
    {
     "name": "stderr",
     "output_type": "stream",
     "text": [
      "[Parallel(n_jobs=-1)]: Using backend LokyBackend with 8 concurrent workers.\n",
      "[Parallel(n_jobs=-1)]: Done   7 out of  10 | elapsed:    1.2s remaining:    0.5s\n",
      "[Parallel(n_jobs=-1)]: Done  10 out of  10 | elapsed:    1.4s finished\n"
     ]
    },
    {
     "name": "stdout",
     "output_type": "stream",
     "text": [
      "Time\n",
      "Grid fitting took 0:00:01.991010\n",
      "CV took 0:00:02.145515\n",
      "\n",
      "Model Scores\n",
      "Accuracy on train data: 0.7851719517641804\n",
      "Accuracy on test data: 0.7537339353942341\n",
      "Accuracy on CV: 0.7646284914199603\n",
      "Baseline: 0.6779908295122968\n",
      "\n",
      "AUC CV: 0.7954566534934469\n",
      "\n",
      "Confusion Matrix\n",
      "[[ 405  522]\n",
      " [ 187 1765]]\n",
      "\n",
      "Classification Report\n",
      "              precision    recall  f1-score   support\n",
      "\n",
      "  Bad Review       0.68      0.44      0.53       927\n",
      " Good Review       0.77      0.90      0.83      1952\n",
      "\n",
      "   micro avg       0.75      0.75      0.75      2879\n",
      "   macro avg       0.73      0.67      0.68      2879\n",
      "weighted avg       0.74      0.75      0.74      2879\n",
      "\n",
      "Best Estimator Parameters\n",
      "{'Cs': 10, 'class_weight': None, 'cv': 'warn', 'dual': False, 'fit_intercept': True, 'intercept_scaling': 1.0, 'max_iter': 100, 'multi_class': 'warn', 'n_jobs': None, 'penalty': 'l1', 'random_state': 14, 'refit': True, 'scoring': None, 'solver': 'liblinear', 'tol': 0.0001, 'verbose': 0}\n"
     ]
    }
   ],
   "source": [
    "name = 'BOW - NOUN 2% - LR'\n",
    "per = 0.02\n",
    "with_mean = False\n",
    "\n",
    "#X with noun only\n",
    "noun_X = word_type_df.apply(lambda x: x['NOUN'], axis = 1)\n",
    "\n",
    "#Defining target\n",
    "noun_y = reviews.stars_grouped\n",
    "\n",
    "#Train_Test\n",
    "noun_Xtrain, noun_Xtest,noun_ytrain, noun_ytest = train_test_split(noun_X,noun_y,test_size = 0.3, stratify = noun_y,\n",
    "                                                                   random_state = random_state)\n",
    "\n",
    "#TFID vectoriser\n",
    "noun_tvec = TfidfVectorizer(strip_accents='unicode', ngram_range=(1,1),\n",
    "                            stop_words = 'english',max_df=0.5, min_df=per)\n",
    "noun_train_matrix = noun_tvec.fit_transform(noun_Xtrain)\n",
    "noun_test_matrix = noun_tvec.transform(noun_Xtest)\n",
    "\n",
    "# Keeping mean to work with Sparse Matrix\n",
    "scaler = StandardScaler(with_mean = with_mean)\n",
    "noun_Xtrain_std = scaler.fit_transform(noun_train_matrix)\n",
    "noun_Xtest_std = scaler.transform(noun_test_matrix)\n",
    "\n",
    "\n",
    "#logistic regression parameter dictionaty\n",
    "log_dict = {\n",
    "    'Cs':[Cs],\n",
    "    'penalty':['l1','l2'],\n",
    "    'solver': ['liblinear']}\n",
    "\n",
    "#logistic regression parameter dictionaty\n",
    "log_grid = grid(\n",
    "    name,LogisticRegressionCV(random_state = random_state),log_dict, \n",
    "    noun_Xtrain_std,noun_ytrain,\n",
    "    noun_Xtest_std,noun_ytest,\n",
    "    scoring = 'roc_auc')"
   ]
  },
  {
   "cell_type": "markdown",
   "metadata": {},
   "source": [
    "### Bag of words - Verbs - 0%"
   ]
  },
  {
   "cell_type": "code",
   "execution_count": 11,
   "metadata": {},
   "outputs": [
    {
     "name": "stdout",
     "output_type": "stream",
     "text": [
      "Fitting 5 folds for each of 2 candidates, totalling 10 fits\n"
     ]
    },
    {
     "name": "stderr",
     "output_type": "stream",
     "text": [
      "[Parallel(n_jobs=-1)]: Using backend LokyBackend with 8 concurrent workers.\n",
      "[Parallel(n_jobs=-1)]: Done   7 out of  10 | elapsed:    4.3s remaining:    1.8s\n",
      "[Parallel(n_jobs=-1)]: Done  10 out of  10 | elapsed:    5.0s finished\n"
     ]
    },
    {
     "name": "stdout",
     "output_type": "stream",
     "text": [
      "Time\n",
      "Grid fitting took 0:00:06.382247\n",
      "CV took 0:00:03.407688\n",
      "\n",
      "Model Scores\n",
      "Accuracy on train data: 0.9423849933005806\n",
      "Accuracy on test data: 0.7908996179228899\n",
      "Accuracy on CV: 0.7890435622078446\n",
      "Baseline: 0.6779908295122968\n",
      "\n",
      "AUC CV: 0.835985099131443\n",
      "\n",
      "Confusion Matrix\n",
      "[[ 506  421]\n",
      " [ 181 1771]]\n",
      "\n",
      "Classification Report\n",
      "              precision    recall  f1-score   support\n",
      "\n",
      "  Bad Review       0.74      0.55      0.63       927\n",
      " Good Review       0.81      0.91      0.85      1952\n",
      "\n",
      "   micro avg       0.79      0.79      0.79      2879\n",
      "   macro avg       0.77      0.73      0.74      2879\n",
      "weighted avg       0.78      0.79      0.78      2879\n",
      "\n",
      "Best Estimator Parameters\n",
      "{'Cs': 10, 'class_weight': None, 'cv': 'warn', 'dual': False, 'fit_intercept': True, 'intercept_scaling': 1.0, 'max_iter': 100, 'multi_class': 'warn', 'n_jobs': None, 'penalty': 'l1', 'random_state': 14, 'refit': True, 'scoring': None, 'solver': 'liblinear', 'tol': 0.0001, 'verbose': 0}\n"
     ]
    }
   ],
   "source": [
    "name = 'BOW - VERB 0% - LR'\n",
    "per = 0\n",
    "with_mean = False\n",
    "\n",
    "#X with verb only\n",
    "verb_X = word_type_df.apply(lambda x: x['VERB'], axis = 1)\n",
    "\n",
    "#Defining target\n",
    "verb_y = reviews.stars_grouped\n",
    "\n",
    "#Train_Test\n",
    "verb_Xtrain, verb_Xtest,verb_ytrain, verb_ytest = train_test_split(verb_X,verb_y,test_size = 0.3, stratify = verb_y, random_state = random_state)\n",
    "\n",
    "#TFID vectoriser\n",
    "verb_tvec = TfidfVectorizer(strip_accents='unicode', ngram_range=(1,1),stop_words = 'english',max_df=0.5, min_df=per)\n",
    "verb_train_matrix = verb_tvec.fit_transform(verb_Xtrain)\n",
    "verb_test_matrix = verb_tvec.transform(verb_Xtest)\n",
    "\n",
    "# Keeping mean to work with Sparse Matrix\n",
    "scaler = StandardScaler(with_mean = with_mean)\n",
    "verb_Xtrain_std = scaler.fit_transform(verb_train_matrix)\n",
    "verb_Xtest_std = scaler.transform(verb_test_matrix)\n",
    "\n",
    "\n",
    "#logistic regression parameter dictionaty\n",
    "log_dict = {\n",
    "    'Cs':[Cs],\n",
    "    'penalty':['l1','l2'],\n",
    "    'solver': ['liblinear']}\n",
    "\n",
    "#logistic regression parameter dictionaty\n",
    "log_grid = grid(\n",
    "    name,LogisticRegressionCV(random_state = random_state),log_dict, \n",
    "    verb_Xtrain_std,verb_ytrain,\n",
    "    verb_Xtest_std,verb_ytest,\n",
    "    scoring = 'roc_auc')"
   ]
  },
  {
   "cell_type": "markdown",
   "metadata": {},
   "source": [
    "### Bag of words - Verbs - 2%"
   ]
  },
  {
   "cell_type": "code",
   "execution_count": 12,
   "metadata": {},
   "outputs": [
    {
     "name": "stdout",
     "output_type": "stream",
     "text": [
      "Fitting 5 folds for each of 2 candidates, totalling 10 fits\n"
     ]
    },
    {
     "name": "stderr",
     "output_type": "stream",
     "text": [
      "[Parallel(n_jobs=-1)]: Using backend LokyBackend with 8 concurrent workers.\n",
      "[Parallel(n_jobs=-1)]: Done   7 out of  10 | elapsed:    0.5s remaining:    0.2s\n",
      "[Parallel(n_jobs=-1)]: Done  10 out of  10 | elapsed:    0.7s finished\n"
     ]
    },
    {
     "name": "stdout",
     "output_type": "stream",
     "text": [
      "Time\n",
      "Grid fitting took 0:00:00.939117\n",
      "CV took 0:00:00.953251\n",
      "\n",
      "Model Scores\n",
      "Accuracy on train data: 0.7951466428465088\n",
      "Accuracy on test data: 0.7794373046196597\n",
      "Accuracy on CV: 0.7778758631534638\n",
      "Baseline: 0.6779908295122968\n",
      "\n",
      "AUC CV: 0.8132526077378401\n",
      "\n",
      "Confusion Matrix\n",
      "[[ 504  423]\n",
      " [ 212 1740]]\n",
      "\n",
      "Classification Report\n",
      "              precision    recall  f1-score   support\n",
      "\n",
      "  Bad Review       0.70      0.54      0.61       927\n",
      " Good Review       0.80      0.89      0.85      1952\n",
      "\n",
      "   micro avg       0.78      0.78      0.78      2879\n",
      "   macro avg       0.75      0.72      0.73      2879\n",
      "weighted avg       0.77      0.78      0.77      2879\n",
      "\n",
      "Best Estimator Parameters\n",
      "{'Cs': 10, 'class_weight': None, 'cv': 'warn', 'dual': False, 'fit_intercept': True, 'intercept_scaling': 1.0, 'max_iter': 100, 'multi_class': 'warn', 'n_jobs': None, 'penalty': 'l1', 'random_state': 14, 'refit': True, 'scoring': None, 'solver': 'liblinear', 'tol': 0.0001, 'verbose': 0}\n"
     ]
    }
   ],
   "source": [
    "name = 'BOW - VERB 2% - LR'\n",
    "per = 0.02\n",
    "with_mean = False\n",
    "\n",
    "#X with verb only\n",
    "verb_X = word_type_df.apply(lambda x: x['VERB'], axis = 1)\n",
    "\n",
    "#Defining target\n",
    "verb_y = reviews.stars_grouped\n",
    "\n",
    "#Train_Test\n",
    "verb_Xtrain, verb_Xtest,verb_ytrain, verb_ytest = train_test_split(verb_X,verb_y,test_size = 0.3, stratify = verb_y, random_state = random_state)\n",
    "\n",
    "#TFID vectoriser\n",
    "verb_tvec = TfidfVectorizer(strip_accents='unicode', ngram_range=(1,1),stop_words = 'english',max_df=0.5, min_df=per)\n",
    "verb_train_matrix = verb_tvec.fit_transform(verb_Xtrain)\n",
    "verb_test_matrix = verb_tvec.transform(verb_Xtest)\n",
    "\n",
    "# Keeping mean to work with Sparse Matrix\n",
    "scaler = StandardScaler(with_mean = with_mean)\n",
    "verb_Xtrain_std = scaler.fit_transform(verb_train_matrix)\n",
    "verb_Xtest_std = scaler.transform(verb_test_matrix)\n",
    "\n",
    "\n",
    "#logistic regression parameter dictionaty\n",
    "log_dict = {\n",
    "    'Cs':[Cs],\n",
    "    'penalty':['l1','l2'],\n",
    "    'solver': ['liblinear']}\n",
    "\n",
    "#logistic regression parameter dictionaty\n",
    "log_grid = grid(\n",
    "    name,LogisticRegressionCV(random_state = random_state),log_dict, \n",
    "    verb_Xtrain_std,verb_ytrain,\n",
    "    verb_Xtest_std,verb_ytest,\n",
    "    scoring = 'roc_auc')"
   ]
  },
  {
   "cell_type": "markdown",
   "metadata": {},
   "source": [
    "### Bag of words - Adverbs - 0%"
   ]
  },
  {
   "cell_type": "code",
   "execution_count": 13,
   "metadata": {},
   "outputs": [
    {
     "name": "stdout",
     "output_type": "stream",
     "text": [
      "Fitting 5 folds for each of 2 candidates, totalling 10 fits\n"
     ]
    },
    {
     "name": "stderr",
     "output_type": "stream",
     "text": [
      "[Parallel(n_jobs=-1)]: Using backend LokyBackend with 8 concurrent workers.\n",
      "[Parallel(n_jobs=-1)]: Done   7 out of  10 | elapsed:    1.3s remaining:    0.6s\n",
      "[Parallel(n_jobs=-1)]: Done  10 out of  10 | elapsed:    1.6s finished\n"
     ]
    },
    {
     "name": "stdout",
     "output_type": "stream",
     "text": [
      "Time\n",
      "Grid fitting took 0:00:01.764248\n",
      "CV took 0:00:00.774709\n",
      "\n",
      "Model Scores\n",
      "Accuracy on train data: 0.7947000148875987\n",
      "Accuracy on test data: 0.7360194511983328\n",
      "Accuracy on CV: 0.7323239647403039\n",
      "Baseline: 0.6779908295122968\n",
      "\n",
      "AUC CV: 0.7273325759725849\n",
      "\n",
      "Confusion Matrix\n",
      "[[ 348  579]\n",
      " [ 181 1771]]\n",
      "\n",
      "Classification Report\n",
      "              precision    recall  f1-score   support\n",
      "\n",
      "  Bad Review       0.66      0.38      0.48       927\n",
      " Good Review       0.75      0.91      0.82      1952\n",
      "\n",
      "   micro avg       0.74      0.74      0.74      2879\n",
      "   macro avg       0.71      0.64      0.65      2879\n",
      "weighted avg       0.72      0.74      0.71      2879\n",
      "\n",
      "Best Estimator Parameters\n",
      "{'Cs': 10, 'class_weight': None, 'cv': 'warn', 'dual': False, 'fit_intercept': True, 'intercept_scaling': 1.0, 'max_iter': 100, 'multi_class': 'warn', 'n_jobs': None, 'penalty': 'l1', 'random_state': 14, 'refit': True, 'scoring': None, 'solver': 'liblinear', 'tol': 0.0001, 'verbose': 0}\n"
     ]
    }
   ],
   "source": [
    "name = 'BOW - ADV 0% - LR'\n",
    "per = 0\n",
    "with_mean = False\n",
    "\n",
    "#X with adv only\n",
    "adv_X = word_type_df.apply(lambda x: x['ADV'], axis = 1)\n",
    "\n",
    "#Defining target\n",
    "adv_y = reviews.stars_grouped\n",
    "\n",
    "#Train_Test\n",
    "adv_Xtrain, adv_Xtest,adv_ytrain, adv_ytest = train_test_split(adv_X,adv_y,test_size = 0.3, stratify = adv_y,\n",
    "                                                               random_state = random_state)\n",
    "\n",
    "#TFID vectoriser\n",
    "adv_tvec = TfidfVectorizer(strip_accents='unicode', ngram_range=(1,1),\n",
    "                           stop_words = 'english',max_df=0.5, min_df=per)\n",
    "adv_train_matrix = adv_tvec.fit_transform(adv_Xtrain)\n",
    "adv_test_matrix = adv_tvec.transform(adv_Xtest)\n",
    "\n",
    "# Keeping mean to work with Sparse Matrix\n",
    "scaler = StandardScaler(with_mean = with_mean)\n",
    "adv_Xtrain_std = scaler.fit_transform(adv_train_matrix)\n",
    "adv_Xtest_std = scaler.transform(adv_test_matrix)\n",
    "\n",
    "\n",
    "#logistic regression parameter dictionaty\n",
    "log_dict = {\n",
    "    'Cs':[Cs],\n",
    "    'penalty':['l1','l2'],\n",
    "    'solver': ['liblinear']}\n",
    "\n",
    "#logistic regression parameter dictionaty\n",
    "log_grid = grid(\n",
    "    'BOW - ADV 0% - LR',LogisticRegressionCV(random_state = random_state),log_dict, \n",
    "    adv_Xtrain_std,adv_ytrain,\n",
    "    adv_Xtest_std,adv_ytest,\n",
    "    scoring = 'roc_auc')"
   ]
  },
  {
   "cell_type": "markdown",
   "metadata": {},
   "source": [
    "### Bag of words - Adverbs - 2%"
   ]
  },
  {
   "cell_type": "code",
   "execution_count": 14,
   "metadata": {},
   "outputs": [
    {
     "name": "stdout",
     "output_type": "stream",
     "text": [
      "Fitting 5 folds for each of 2 candidates, totalling 10 fits\n"
     ]
    },
    {
     "name": "stderr",
     "output_type": "stream",
     "text": [
      "[Parallel(n_jobs=-1)]: Using backend LokyBackend with 8 concurrent workers.\n",
      "[Parallel(n_jobs=-1)]: Done   7 out of  10 | elapsed:    0.3s remaining:    0.1s\n",
      "[Parallel(n_jobs=-1)]: Done  10 out of  10 | elapsed:    0.4s finished\n"
     ]
    },
    {
     "name": "stdout",
     "output_type": "stream",
     "text": [
      "Time\n",
      "Grid fitting took 0:00:00.520414\n",
      "CV took 0:00:00.568496\n",
      "\n",
      "Model Scores\n",
      "Accuracy on train data: 0.711924966502903\n",
      "Accuracy on test data: 0.7058006252170893\n",
      "Accuracy on CV: 0.7040356324857473\n",
      "Baseline: 0.6779908295122968\n",
      "\n",
      "AUC CV: 0.672271710775419\n",
      "\n",
      "Confusion Matrix\n",
      "[[ 216  711]\n",
      " [ 136 1816]]\n",
      "\n",
      "Classification Report\n",
      "              precision    recall  f1-score   support\n",
      "\n",
      "  Bad Review       0.61      0.23      0.34       927\n",
      " Good Review       0.72      0.93      0.81      1952\n",
      "\n",
      "   micro avg       0.71      0.71      0.71      2879\n",
      "   macro avg       0.67      0.58      0.57      2879\n",
      "weighted avg       0.68      0.71      0.66      2879\n",
      "\n",
      "Best Estimator Parameters\n",
      "{'Cs': 10, 'class_weight': None, 'cv': 'warn', 'dual': False, 'fit_intercept': True, 'intercept_scaling': 1.0, 'max_iter': 100, 'multi_class': 'warn', 'n_jobs': None, 'penalty': 'l1', 'random_state': 14, 'refit': True, 'scoring': None, 'solver': 'liblinear', 'tol': 0.0001, 'verbose': 0}\n"
     ]
    }
   ],
   "source": [
    "name = 'BOW - ADV 2% - LR'\n",
    "per = 0.02\n",
    "with_mean = False\n",
    "\n",
    "#X with adv only\n",
    "adv_X = word_type_df.apply(lambda x: x['ADV'], axis = 1)\n",
    "\n",
    "#Defining target\n",
    "adv_y = reviews.stars_grouped\n",
    "\n",
    "#Train_Test\n",
    "adv_Xtrain, adv_Xtest,adv_ytrain, adv_ytest = train_test_split(adv_X,adv_y,test_size = 0.3, stratify = adv_y,\n",
    "                                                               random_state = random_state)\n",
    "\n",
    "#TFID vectoriser\n",
    "adv_tvec = TfidfVectorizer(strip_accents='unicode', ngram_range=(1,1),\n",
    "                           stop_words = 'english',max_df=0.5, min_df=per) ## HERE\n",
    "adv_train_matrix = adv_tvec.fit_transform(adv_Xtrain)\n",
    "adv_test_matrix = adv_tvec.transform(adv_Xtest)\n",
    "\n",
    "# Keeping mean to work with Sparse Matrix\n",
    "scaler = StandardScaler(with_mean = with_mean) ## Here\n",
    "adv_Xtrain_std = scaler.fit_transform(adv_train_matrix)\n",
    "adv_Xtest_std = scaler.transform(adv_test_matrix)\n",
    "\n",
    "\n",
    "#logistic regression parameter dictionaty\n",
    "log_dict = {\n",
    "    'Cs':[Cs], ## HERE\n",
    "    'penalty':['l1','l2'],\n",
    "    'solver': ['liblinear']}\n",
    "\n",
    "#logistic regression parameter dictionaty\n",
    "log_grid = grid(\n",
    "    name,LogisticRegressionCV(random_state = random_state),log_dict, ## Here\n",
    "    adv_Xtrain_std,adv_ytrain,\n",
    "    adv_Xtest_std,adv_ytest,\n",
    "    scoring = 'roc_auc')"
   ]
  },
  {
   "cell_type": "markdown",
   "metadata": {},
   "source": [
    "### Bag of words - ADJ + VERB - 2%"
   ]
  },
  {
   "cell_type": "code",
   "execution_count": 15,
   "metadata": {},
   "outputs": [
    {
     "name": "stdout",
     "output_type": "stream",
     "text": [
      "Fitting 5 folds for each of 2 candidates, totalling 10 fits\n"
     ]
    },
    {
     "name": "stderr",
     "output_type": "stream",
     "text": [
      "[Parallel(n_jobs=-1)]: Using backend LokyBackend with 8 concurrent workers.\n",
      "[Parallel(n_jobs=-1)]: Done   7 out of  10 | elapsed:    1.0s remaining:    0.4s\n",
      "[Parallel(n_jobs=-1)]: Done  10 out of  10 | elapsed:    1.2s finished\n"
     ]
    },
    {
     "name": "stdout",
     "output_type": "stream",
     "text": [
      "Time\n",
      "Grid fitting took 0:00:01.625362\n",
      "CV took 0:00:01.498266\n",
      "\n",
      "Model Scores\n",
      "Accuracy on train data: 0.8691380080393033\n",
      "Accuracy on test data: 0.8562000694685655\n",
      "Accuracy on CV: 0.8459144083693204\n",
      "Baseline: 0.6779908295122968\n",
      "\n",
      "AUC CV: 0.9037799789058908\n",
      "\n",
      "Confusion Matrix\n",
      "[[ 661  266]\n",
      " [ 148 1804]]\n",
      "\n",
      "Classification Report\n",
      "              precision    recall  f1-score   support\n",
      "\n",
      "  Bad Review       0.82      0.71      0.76       927\n",
      " Good Review       0.87      0.92      0.90      1952\n",
      "\n",
      "   micro avg       0.86      0.86      0.86      2879\n",
      "   macro avg       0.84      0.82      0.83      2879\n",
      "weighted avg       0.85      0.86      0.85      2879\n",
      "\n",
      "Best Estimator Parameters\n",
      "{'Cs': 10, 'class_weight': None, 'cv': 'warn', 'dual': False, 'fit_intercept': True, 'intercept_scaling': 1.0, 'max_iter': 100, 'multi_class': 'warn', 'n_jobs': None, 'penalty': 'l2', 'random_state': 14, 'refit': True, 'scoring': None, 'solver': 'liblinear', 'tol': 0.0001, 'verbose': 0}\n"
     ]
    }
   ],
   "source": [
    "name = 'BOW - ADJ + VERB 2% - LR'\n",
    "per = 0.02\n",
    "with_mean = False\n",
    "\n",
    "#X with adv only\n",
    "adv_X = word_type_df.apply(lambda x: x['ADJ']+' '+x['VERB'], axis = 1)\n",
    "\n",
    "#Defining target\n",
    "adv_y = reviews.stars_grouped\n",
    "\n",
    "#Train_Test\n",
    "adv_Xtrain, adv_Xtest,adv_ytrain, adv_ytest = train_test_split(adv_X,adv_y,test_size = 0.3, stratify = adv_y,\n",
    "                                                               random_state = random_state)\n",
    "\n",
    "#TFID vectoriser\n",
    "adv_tvec = TfidfVectorizer(strip_accents='unicode', ngram_range=(1,1),\n",
    "                           stop_words = 'english',max_df=0.5, min_df=per) ## HERE\n",
    "adv_train_matrix = adv_tvec.fit_transform(adv_Xtrain)\n",
    "adv_test_matrix = adv_tvec.transform(adv_Xtest)\n",
    "\n",
    "# Keeping mean to work with Sparse Matrix\n",
    "scaler = StandardScaler(with_mean = with_mean) ## Here\n",
    "adv_Xtrain_std = scaler.fit_transform(adv_train_matrix)\n",
    "adv_Xtest_std = scaler.transform(adv_test_matrix)\n",
    "\n",
    "\n",
    "#logistic regression parameter dictionaty\n",
    "log_dict = {\n",
    "    'Cs':[Cs], ## HERE\n",
    "    'penalty':['l1','l2'],\n",
    "    'solver': ['liblinear']}\n",
    "\n",
    "#logistic regression parameter dictionaty\n",
    "log_grid = grid(\n",
    "    name,LogisticRegressionCV(random_state = random_state),log_dict, ## Here\n",
    "    adv_Xtrain_std,adv_ytrain,\n",
    "    adv_Xtest_std,adv_ytest,\n",
    "    scoring = 'roc_auc')"
   ]
  },
  {
   "cell_type": "markdown",
   "metadata": {},
   "source": [
    "### Bag of words - ADJ + VERB + NOUN - 2%"
   ]
  },
  {
   "cell_type": "code",
   "execution_count": 16,
   "metadata": {},
   "outputs": [
    {
     "name": "stdout",
     "output_type": "stream",
     "text": [
      "Fitting 5 folds for each of 2 candidates, totalling 10 fits\n"
     ]
    },
    {
     "name": "stderr",
     "output_type": "stream",
     "text": [
      "[Parallel(n_jobs=-1)]: Using backend LokyBackend with 8 concurrent workers.\n",
      "[Parallel(n_jobs=-1)]: Done   7 out of  10 | elapsed:    3.2s remaining:    1.4s\n",
      "[Parallel(n_jobs=-1)]: Done  10 out of  10 | elapsed:    3.9s finished\n"
     ]
    },
    {
     "name": "stdout",
     "output_type": "stream",
     "text": [
      "Time\n",
      "Grid fitting took 0:00:04.800586\n",
      "CV took 0:00:03.533593\n",
      "\n",
      "Model Scores\n",
      "Accuracy on train data: 0.8889385142176567\n",
      "Accuracy on test data: 0.8565474122959361\n",
      "Accuracy on CV: 0.8561863677303252\n",
      "Baseline: 0.6779908295122968\n",
      "\n",
      "AUC CV: 0.913494136436328\n",
      "\n",
      "Confusion Matrix\n",
      "[[ 669  258]\n",
      " [ 155 1797]]\n",
      "\n",
      "Classification Report\n",
      "              precision    recall  f1-score   support\n",
      "\n",
      "  Bad Review       0.81      0.72      0.76       927\n",
      " Good Review       0.87      0.92      0.90      1952\n",
      "\n",
      "   micro avg       0.86      0.86      0.86      2879\n",
      "   macro avg       0.84      0.82      0.83      2879\n",
      "weighted avg       0.85      0.86      0.85      2879\n",
      "\n",
      "Best Estimator Parameters\n",
      "{'Cs': 10, 'class_weight': None, 'cv': 'warn', 'dual': False, 'fit_intercept': True, 'intercept_scaling': 1.0, 'max_iter': 100, 'multi_class': 'warn', 'n_jobs': None, 'penalty': 'l2', 'random_state': 14, 'refit': True, 'scoring': None, 'solver': 'liblinear', 'tol': 0.0001, 'verbose': 0}\n"
     ]
    }
   ],
   "source": [
    "name = 'BOW - ADJ + VERB + NOUN 2% - LR'\n",
    "per = 0.02\n",
    "with_mean = False\n",
    "\n",
    "#X with adv only\n",
    "adv_X = word_type_df.apply(lambda x: x['ADJ']+' '+x['VERB']+' '+x['NOUN'], axis = 1)\n",
    "\n",
    "#Defining target\n",
    "adv_y = reviews.stars_grouped\n",
    "\n",
    "#Train_Test\n",
    "adv_Xtrain, adv_Xtest,adv_ytrain, adv_ytest = train_test_split(adv_X,adv_y,test_size = 0.3, stratify = adv_y,\n",
    "                                                               random_state = random_state)\n",
    "\n",
    "#TFID vectoriser\n",
    "adv_tvec = TfidfVectorizer(strip_accents='unicode', ngram_range=(1,1),\n",
    "                           stop_words = 'english',max_df=0.5, min_df=per) ## HERE\n",
    "adv_train_matrix = adv_tvec.fit_transform(adv_Xtrain)\n",
    "adv_test_matrix = adv_tvec.transform(adv_Xtest)\n",
    "\n",
    "# Keeping mean to work with Sparse Matrix\n",
    "scaler = StandardScaler(with_mean = with_mean) ## Here\n",
    "adv_Xtrain_std = scaler.fit_transform(adv_train_matrix)\n",
    "adv_Xtest_std = scaler.transform(adv_test_matrix)\n",
    "\n",
    "\n",
    "#logistic regression parameter dictionaty\n",
    "log_dict = {\n",
    "    'Cs':[Cs], ## HERE\n",
    "    'penalty':['l1','l2'],\n",
    "    'solver': ['liblinear']}\n",
    "\n",
    "#logistic regression parameter dictionaty\n",
    "log_grid = grid(\n",
    "    name,LogisticRegressionCV(random_state = random_state),log_dict, ## Here\n",
    "    adv_Xtrain_std,adv_ytrain,\n",
    "    adv_Xtest_std,adv_ytest,\n",
    "    scoring = 'roc_auc')"
   ]
  },
  {
   "cell_type": "markdown",
   "metadata": {},
   "source": [
    "### Bag of words - 4 types - 0%"
   ]
  },
  {
   "cell_type": "code",
   "execution_count": 17,
   "metadata": {},
   "outputs": [
    {
     "name": "stdout",
     "output_type": "stream",
     "text": [
      "Fitting 5 folds for each of 2 candidates, totalling 10 fits\n"
     ]
    },
    {
     "name": "stderr",
     "output_type": "stream",
     "text": [
      "[Parallel(n_jobs=-1)]: Using backend LokyBackend with 8 concurrent workers.\n",
      "[Parallel(n_jobs=-1)]: Done   7 out of  10 | elapsed:    8.7s remaining:    3.7s\n",
      "[Parallel(n_jobs=-1)]: Done  10 out of  10 | elapsed:   10.0s finished\n"
     ]
    },
    {
     "name": "stdout",
     "output_type": "stream",
     "text": [
      "Time\n",
      "Grid fitting took 0:00:11.391032\n",
      "CV took 0:00:05.492198\n",
      "\n",
      "Model Scores\n",
      "Accuracy on train data: 0.9915140687807057\n",
      "Accuracy on test data: 0.8523792983674887\n",
      "Accuracy on CV: 0.8515708343128985\n",
      "Baseline: 0.6779908295122968\n",
      "\n",
      "AUC CV: 0.9155080632248532\n",
      "\n",
      "Confusion Matrix\n",
      "[[ 653  274]\n",
      " [ 151 1801]]\n",
      "\n",
      "Classification Report\n",
      "              precision    recall  f1-score   support\n",
      "\n",
      "  Bad Review       0.81      0.70      0.75       927\n",
      " Good Review       0.87      0.92      0.89      1952\n",
      "\n",
      "   micro avg       0.85      0.85      0.85      2879\n",
      "   macro avg       0.84      0.81      0.82      2879\n",
      "weighted avg       0.85      0.85      0.85      2879\n",
      "\n",
      "Best Estimator Parameters\n",
      "{'Cs': 10, 'class_weight': None, 'cv': 'warn', 'dual': False, 'fit_intercept': True, 'intercept_scaling': 1.0, 'max_iter': 100, 'multi_class': 'warn', 'n_jobs': None, 'penalty': 'l1', 'random_state': 14, 'refit': True, 'scoring': None, 'solver': 'liblinear', 'tol': 0.0001, 'verbose': 0}\n"
     ]
    }
   ],
   "source": [
    "name = 'BOW - 4types 0% - LR'\n",
    "per = 0\n",
    "with_mean = False\n",
    "\n",
    "#X with adv only\n",
    "adv_X = word_type_df.apply(lambda x: x['ADJ']+' '+x['VERB']+' '+x['NOUN']+' '+x['ADV'], axis = 1)\n",
    "\n",
    "#Defining target\n",
    "adv_y = reviews.stars_grouped\n",
    "\n",
    "#Train_Test\n",
    "adv_Xtrain, adv_Xtest,adv_ytrain, adv_ytest = train_test_split(adv_X,adv_y,test_size = 0.3, stratify = adv_y,\n",
    "                                                               random_state = random_state)\n",
    "\n",
    "#TFID vectoriser\n",
    "adv_tvec = TfidfVectorizer(strip_accents='unicode', ngram_range=(1,1),\n",
    "                           stop_words = 'english',max_df=0.5, min_df=per) ## HERE\n",
    "adv_train_matrix = adv_tvec.fit_transform(adv_Xtrain)\n",
    "adv_test_matrix = adv_tvec.transform(adv_Xtest)\n",
    "\n",
    "# Keeping mean to work with Sparse Matrix\n",
    "scaler = StandardScaler(with_mean = with_mean) ## Here\n",
    "adv_Xtrain_std = scaler.fit_transform(adv_train_matrix)\n",
    "adv_Xtest_std = scaler.transform(adv_test_matrix)\n",
    "\n",
    "\n",
    "#logistic regression parameter dictionaty\n",
    "log_dict = {\n",
    "    'Cs':[Cs], ## HERE\n",
    "    'penalty':['l1','l2'],\n",
    "    'solver': ['liblinear']}\n",
    "\n",
    "#logistic regression parameter dictionaty\n",
    "log_grid = grid(\n",
    "    name,LogisticRegressionCV(random_state = random_state),log_dict, ## Here\n",
    "    adv_Xtrain_std,adv_ytrain,\n",
    "    adv_Xtest_std,adv_ytest,\n",
    "    scoring = 'roc_auc')"
   ]
  },
  {
   "cell_type": "markdown",
   "metadata": {},
   "source": [
    "### Bag of words - 4 types - 2%"
   ]
  },
  {
   "cell_type": "code",
   "execution_count": 18,
   "metadata": {},
   "outputs": [
    {
     "name": "stdout",
     "output_type": "stream",
     "text": [
      "Fitting 5 folds for each of 2 candidates, totalling 10 fits\n"
     ]
    },
    {
     "name": "stderr",
     "output_type": "stream",
     "text": [
      "[Parallel(n_jobs=-1)]: Using backend LokyBackend with 8 concurrent workers.\n",
      "[Parallel(n_jobs=-1)]: Done   7 out of  10 | elapsed:    3.6s remaining:    1.5s\n",
      "[Parallel(n_jobs=-1)]: Done  10 out of  10 | elapsed:    4.5s finished\n"
     ]
    },
    {
     "name": "stdout",
     "output_type": "stream",
     "text": [
      "Time\n",
      "Grid fitting took 0:00:05.436008\n",
      "CV took 0:00:04.035963\n",
      "\n",
      "Model Scores\n",
      "Accuracy on train data: 0.8811969629298794\n",
      "Accuracy on test data: 0.8586314692601598\n",
      "Accuracy on CV: 0.8543981041311997\n",
      "Baseline: 0.6779908295122968\n",
      "\n",
      "AUC CV: 0.9141690855623743\n",
      "\n",
      "Confusion Matrix\n",
      "[[ 639  288]\n",
      " [ 119 1833]]\n",
      "\n",
      "Classification Report\n",
      "              precision    recall  f1-score   support\n",
      "\n",
      "  Bad Review       0.84      0.69      0.76       927\n",
      " Good Review       0.86      0.94      0.90      1952\n",
      "\n",
      "   micro avg       0.86      0.86      0.86      2879\n",
      "   macro avg       0.85      0.81      0.83      2879\n",
      "weighted avg       0.86      0.86      0.85      2879\n",
      "\n",
      "Best Estimator Parameters\n",
      "{'Cs': 10, 'class_weight': None, 'cv': 'warn', 'dual': False, 'fit_intercept': True, 'intercept_scaling': 1.0, 'max_iter': 100, 'multi_class': 'warn', 'n_jobs': None, 'penalty': 'l2', 'random_state': 14, 'refit': True, 'scoring': None, 'solver': 'liblinear', 'tol': 0.0001, 'verbose': 0}\n"
     ]
    }
   ],
   "source": [
    "name = 'BOW - 4types 2% - LR'\n",
    "per = 0.02\n",
    "with_mean = False\n",
    "\n",
    "#X with adv only\n",
    "adv_X = word_type_df.apply(lambda x: x['ADJ']+' '+x['VERB']+' '+x['NOUN']+' '+x['ADV'], axis = 1)\n",
    "\n",
    "#Defining target\n",
    "adv_y = reviews.stars_grouped\n",
    "\n",
    "#Train_Test\n",
    "adv_Xtrain, adv_Xtest,adv_ytrain, adv_ytest = train_test_split(adv_X,adv_y,test_size = 0.3, stratify = adv_y,\n",
    "                                                               random_state = random_state)\n",
    "\n",
    "#TFID vectoriser\n",
    "adv_tvec = TfidfVectorizer(strip_accents='unicode', ngram_range=(1,1),\n",
    "                           stop_words = 'english',max_df=0.5, min_df=per) ## HERE\n",
    "adv_train_matrix = adv_tvec.fit_transform(adv_Xtrain)\n",
    "adv_test_matrix = adv_tvec.transform(adv_Xtest)\n",
    "\n",
    "# Keeping mean to work with Sparse Matrix\n",
    "scaler = StandardScaler(with_mean = with_mean) ## Here\n",
    "adv_Xtrain_std = scaler.fit_transform(adv_train_matrix)\n",
    "adv_Xtest_std = scaler.transform(adv_test_matrix)\n",
    "\n",
    "\n",
    "#logistic regression parameter dictionaty\n",
    "log_dict = {\n",
    "    'Cs':[Cs], ## HERE\n",
    "    'penalty':['l1','l2'],\n",
    "    'solver': ['liblinear']}\n",
    "\n",
    "#logistic regression parameter dictionaty\n",
    "log_grid = grid(\n",
    "    name,LogisticRegressionCV(random_state = random_state),log_dict, ## Here\n",
    "    adv_Xtrain_std,adv_ytrain,\n",
    "    adv_Xtest_std,adv_ytest,\n",
    "    scoring = 'roc_auc')"
   ]
  },
  {
   "cell_type": "markdown",
   "metadata": {},
   "source": [
    "### Sentiment Analyis (All) + Word Count - All"
   ]
  },
  {
   "cell_type": "code",
   "execution_count": 19,
   "metadata": {},
   "outputs": [
    {
     "name": "stdout",
     "output_type": "stream",
     "text": [
      "Fitting 5 folds for each of 2 candidates, totalling 10 fits\n"
     ]
    },
    {
     "name": "stderr",
     "output_type": "stream",
     "text": [
      "[Parallel(n_jobs=-1)]: Using backend LokyBackend with 8 concurrent workers.\n",
      "[Parallel(n_jobs=-1)]: Done   7 out of  10 | elapsed:    0.4s remaining:    0.2s\n",
      "[Parallel(n_jobs=-1)]: Done  10 out of  10 | elapsed:    0.5s finished\n"
     ]
    },
    {
     "name": "stdout",
     "output_type": "stream",
     "text": [
      "Time\n",
      "Grid fitting took 0:00:00.812354\n",
      "CV took 0:00:01.048638\n",
      "\n",
      "Model Scores\n",
      "Accuracy on train data: 0.8310257555456305\n",
      "Accuracy on test data: 0.8304967002431399\n",
      "Accuracy on CV: 0.8310285794645728\n",
      "Baseline: 0.6779908295122968\n",
      "\n",
      "AUC CV: 0.8915898464031397\n",
      "\n",
      "Confusion Matrix\n",
      "[[ 624  303]\n",
      " [ 185 1767]]\n",
      "\n",
      "Classification Report\n",
      "              precision    recall  f1-score   support\n",
      "\n",
      "  Bad Review       0.77      0.67      0.72       927\n",
      " Good Review       0.85      0.91      0.88      1952\n",
      "\n",
      "   micro avg       0.83      0.83      0.83      2879\n",
      "   macro avg       0.81      0.79      0.80      2879\n",
      "weighted avg       0.83      0.83      0.83      2879\n",
      "\n",
      "Best Estimator Parameters\n",
      "{'Cs': 10, 'class_weight': None, 'cv': 'warn', 'dual': False, 'fit_intercept': True, 'intercept_scaling': 1.0, 'max_iter': 100, 'multi_class': 'warn', 'n_jobs': None, 'penalty': 'l1', 'random_state': 14, 'refit': True, 'scoring': None, 'solver': 'liblinear', 'tol': 0.0001, 'verbose': 0}\n"
     ]
    }
   ],
   "source": [
    "name = 'SENT + WCount - LR'\n",
    "with_mean = False\n",
    "\n",
    "# Defining predictors\n",
    "Xsent = reviews[['vader_content_compound', \n",
    "                        'vader_content_neg',\n",
    "                        'vader_content_neu', \n",
    "                        'vader_content_pos',\n",
    "                        'word_count']]\n",
    "\n",
    "\n",
    "#Defining target\n",
    "ysent = reviews.stars_grouped\n",
    "\n",
    "#Train_Test\n",
    "Xsent_train, Xsent_test,ysent_train, ysent_test = train_test_split(Xsent,ysent,test_size = 0.3, stratify = ysent,\n",
    "                                                                   random_state = random_state)\n",
    "\n",
    "# Keeping mean to work with Sparse Matrix\n",
    "scaler = StandardScaler(with_mean = with_mean)\n",
    "Xsent_train_std = pd.DataFrame(scaler.fit_transform(Xsent_train),columns = Xsent_train.columns, index = Xsent_train.index)\n",
    "Xsent_test_std = pd.DataFrame(scaler.transform(Xsent_test),columns = Xsent_test.columns, index = Xsent_test.index)\n",
    "\n",
    "#logistic regression parameter dictionaty\n",
    "log_dict = {\n",
    "    'Cs':[10],\n",
    "    'penalty':['l1','l2'],\n",
    "    'solver': ['liblinear']}\n",
    "\n",
    "#logistic regression parameter dictionaty\n",
    "log_grid = grid(\n",
    "    name,LogisticRegressionCV(random_state = random_state),log_dict, \n",
    "    Xsent_train_std,ysent_train,\n",
    "    Xsent_test_std,ysent_test,\n",
    "    scoring = 'roc_auc')\n",
    "\n"
   ]
  },
  {
   "cell_type": "markdown",
   "metadata": {},
   "source": [
    "### Sentiment Analyis (All) - No Word Count"
   ]
  },
  {
   "cell_type": "code",
   "execution_count": 20,
   "metadata": {},
   "outputs": [
    {
     "name": "stdout",
     "output_type": "stream",
     "text": [
      "Fitting 5 folds for each of 2 candidates, totalling 10 fits\n"
     ]
    },
    {
     "name": "stderr",
     "output_type": "stream",
     "text": [
      "[Parallel(n_jobs=-1)]: Using backend LokyBackend with 8 concurrent workers.\n",
      "[Parallel(n_jobs=-1)]: Done   7 out of  10 | elapsed:    0.5s remaining:    0.2s\n",
      "[Parallel(n_jobs=-1)]: Done  10 out of  10 | elapsed:    0.6s finished\n"
     ]
    },
    {
     "name": "stdout",
     "output_type": "stream",
     "text": [
      "Time\n",
      "Grid fitting took 0:00:00.726564\n",
      "CV took 0:00:00.610277\n",
      "\n",
      "Model Scores\n",
      "Accuracy on train data: 0.8317701354771475\n",
      "Accuracy on test data: 0.8329281000347343\n",
      "Accuracy on CV: 0.8316254804427006\n",
      "Baseline: 0.6779908295122968\n",
      "\n",
      "AUC CV: 0.8912566666773687\n",
      "\n",
      "Confusion Matrix\n",
      "[[ 627  300]\n",
      " [ 181 1771]]\n",
      "\n",
      "Classification Report\n",
      "              precision    recall  f1-score   support\n",
      "\n",
      "  Bad Review       0.78      0.68      0.72       927\n",
      " Good Review       0.86      0.91      0.88      1952\n",
      "\n",
      "   micro avg       0.83      0.83      0.83      2879\n",
      "   macro avg       0.82      0.79      0.80      2879\n",
      "weighted avg       0.83      0.83      0.83      2879\n",
      "\n",
      "Best Estimator Parameters\n",
      "{'Cs': 10, 'class_weight': None, 'cv': 'warn', 'dual': False, 'fit_intercept': True, 'intercept_scaling': 1.0, 'max_iter': 100, 'multi_class': 'warn', 'n_jobs': None, 'penalty': 'l2', 'random_state': 14, 'refit': True, 'scoring': None, 'solver': 'liblinear', 'tol': 0.0001, 'verbose': 0}\n"
     ]
    }
   ],
   "source": [
    "name = 'SENT -No WCount - LR'\n",
    "with_mean = False\n",
    "\n",
    "# Defining predictors\n",
    "Xsent = reviews[['vader_content_compound', \n",
    "                        'vader_content_neg',\n",
    "                        'vader_content_neu', \n",
    "                        'vader_content_pos']]\n",
    "\n",
    "\n",
    "#Defining target\n",
    "ysent = reviews.stars_grouped\n",
    "\n",
    "#Train_Test\n",
    "Xsent_train, Xsent_test,ysent_train, ysent_test = train_test_split(Xsent,ysent,test_size = 0.3, stratify = ysent,\n",
    "                                                                   random_state = random_state)\n",
    "\n",
    "# Keeping mean to work with Sparse Matrix\n",
    "scaler = StandardScaler(with_mean = with_mean)\n",
    "Xsent_train_std = pd.DataFrame(scaler.fit_transform(Xsent_train),columns = Xsent_train.columns, index = Xsent_train.index)\n",
    "Xsent_test_std = pd.DataFrame(scaler.transform(Xsent_test),columns = Xsent_test.columns, index = Xsent_test.index)\n",
    "\n",
    "#logistic regression parameter dictionaty\n",
    "log_dict = {\n",
    "    'Cs':[10],\n",
    "    'penalty':['l1','l2'],\n",
    "    'solver': ['liblinear']}\n",
    "\n",
    "#logistic regression parameter dictionaty\n",
    "log_grid = grid(\n",
    "    name,LogisticRegressionCV(random_state = random_state),log_dict, \n",
    "    Xsent_train_std,ysent_train,\n",
    "    Xsent_test_std,ysent_test,\n",
    "    scoring = 'roc_auc')\n",
    "\n"
   ]
  },
  {
   "cell_type": "markdown",
   "metadata": {},
   "source": [
    "### Sentiment Analyis (no compound) - No Word Count"
   ]
  },
  {
   "cell_type": "code",
   "execution_count": 21,
   "metadata": {},
   "outputs": [
    {
     "name": "stdout",
     "output_type": "stream",
     "text": [
      "Fitting 5 folds for each of 2 candidates, totalling 10 fits\n"
     ]
    },
    {
     "name": "stderr",
     "output_type": "stream",
     "text": [
      "[Parallel(n_jobs=-1)]: Using backend LokyBackend with 8 concurrent workers.\n",
      "[Parallel(n_jobs=-1)]: Done   7 out of  10 | elapsed:    0.4s remaining:    0.2s\n",
      "[Parallel(n_jobs=-1)]: Done  10 out of  10 | elapsed:    0.5s finished\n"
     ]
    },
    {
     "name": "stdout",
     "output_type": "stream",
     "text": [
      "Time\n",
      "Grid fitting took 0:00:00.602210\n",
      "CV took 0:00:00.525721\n",
      "\n",
      "Model Scores\n",
      "Accuracy on train data: 0.8310257555456305\n",
      "Accuracy on test data: 0.8304967002431399\n",
      "Accuracy on CV: 0.8305839245798492\n",
      "Baseline: 0.6779908295122968\n",
      "\n",
      "AUC CV: 0.891139381169883\n",
      "\n",
      "Confusion Matrix\n",
      "[[ 609  318]\n",
      " [ 170 1782]]\n",
      "\n",
      "Classification Report\n",
      "              precision    recall  f1-score   support\n",
      "\n",
      "  Bad Review       0.78      0.66      0.71       927\n",
      " Good Review       0.85      0.91      0.88      1952\n",
      "\n",
      "   micro avg       0.83      0.83      0.83      2879\n",
      "   macro avg       0.82      0.78      0.80      2879\n",
      "weighted avg       0.83      0.83      0.83      2879\n",
      "\n",
      "Best Estimator Parameters\n",
      "{'Cs': 10, 'class_weight': None, 'cv': 'warn', 'dual': False, 'fit_intercept': True, 'intercept_scaling': 1.0, 'max_iter': 100, 'multi_class': 'warn', 'n_jobs': None, 'penalty': 'l2', 'random_state': 14, 'refit': True, 'scoring': None, 'solver': 'liblinear', 'tol': 0.0001, 'verbose': 0}\n"
     ]
    }
   ],
   "source": [
    "name = 'SENT -No Coumpound or WCount - LR'\n",
    "with_mean = False\n",
    "\n",
    "# Defining predictors\n",
    "Xsent = reviews[['vader_content_neg',\n",
    "                        'vader_content_neu', \n",
    "                        'vader_content_pos']]\n",
    "\n",
    "#Defining target\n",
    "ysent = reviews.stars_grouped\n",
    "\n",
    "#Train_Test\n",
    "Xsent_train, Xsent_test,ysent_train, ysent_test = train_test_split(Xsent,ysent,test_size = 0.3, stratify = ysent,\n",
    "                                                                   random_state = random_state)\n",
    "\n",
    "# Keeping mean to work with Sparse Matrix\n",
    "scaler = StandardScaler(with_mean = with_mean)\n",
    "Xsent_train_std = pd.DataFrame(scaler.fit_transform(Xsent_train),columns = Xsent_train.columns, index = Xsent_train.index)\n",
    "Xsent_test_std = pd.DataFrame(scaler.transform(Xsent_test),columns = Xsent_test.columns, index = Xsent_test.index)\n",
    "\n",
    "#logistic regression parameter dictionaty\n",
    "log_dict = {\n",
    "    'Cs':[10],\n",
    "    'penalty':['l1','l2'],\n",
    "    'solver': ['liblinear']}\n",
    "\n",
    "#logistic regression parameter dictionaty\n",
    "log_grid = grid(\n",
    "    name,LogisticRegressionCV(random_state = random_state),log_dict, \n",
    "    Xsent_train_std,ysent_train,\n",
    "    Xsent_test_std,ysent_test,\n",
    "    scoring = 'roc_auc')\n",
    "\n"
   ]
  },
  {
   "cell_type": "markdown",
   "metadata": {},
   "source": [
    "### Sentiment Analyisis -  4 Tpes - 2%"
   ]
  },
  {
   "cell_type": "code",
   "execution_count": 22,
   "metadata": {},
   "outputs": [
    {
     "name": "stdout",
     "output_type": "stream",
     "text": [
      "Fitting 5 folds for each of 2 candidates, totalling 10 fits\n"
     ]
    },
    {
     "name": "stderr",
     "output_type": "stream",
     "text": [
      "[Parallel(n_jobs=-1)]: Using backend LokyBackend with 8 concurrent workers.\n",
      "[Parallel(n_jobs=-1)]: Done   7 out of  10 | elapsed:   10.5s remaining:    4.5s\n",
      "[Parallel(n_jobs=-1)]: Done  10 out of  10 | elapsed:   11.0s finished\n"
     ]
    },
    {
     "name": "stdout",
     "output_type": "stream",
     "text": [
      "Time\n",
      "Grid fitting took 0:00:12.518222\n",
      "CV took 0:00:05.992324\n",
      "\n",
      "Model Scores\n",
      "Accuracy on train data: 0.8877475063272294\n",
      "Accuracy on test data: 0.8634942688433483\n",
      "Accuracy on CV: 0.8636283963301408\n",
      "Baseline: 0.6779908295122968\n",
      "\n",
      "AUC CV: 0.9266301723308612\n",
      "\n",
      "Confusion Matrix\n",
      "[[ 642  285]\n",
      " [ 108 1844]]\n",
      "\n",
      "Classification Report\n",
      "              precision    recall  f1-score   support\n",
      "\n",
      "  Bad Review       0.86      0.69      0.77       927\n",
      " Good Review       0.87      0.94      0.90      1952\n",
      "\n",
      "   micro avg       0.86      0.86      0.86      2879\n",
      "   macro avg       0.86      0.82      0.83      2879\n",
      "weighted avg       0.86      0.86      0.86      2879\n",
      "\n",
      "Best Estimator Parameters\n",
      "{'Cs': 10, 'class_weight': None, 'cv': 5, 'dual': False, 'fit_intercept': True, 'intercept_scaling': 1.0, 'max_iter': 100, 'multi_class': 'warn', 'n_jobs': None, 'penalty': 'l2', 'random_state': 14, 'refit': True, 'scoring': None, 'solver': 'liblinear', 'tol': 0.0001, 'verbose': 0}\n"
     ]
    }
   ],
   "source": [
    "name = 'SENT + 4 types - 2%'\n",
    "with_mean = False\n",
    "per = 0.02\n",
    "\n",
    "# Defining X,Y and BOW\n",
    "BOW_X = word_type_df.apply(lambda x: x['ADJ']+' '+x['VERB']+' '+x['NOUN']+' '+x['ADV'], axis = 1)\n",
    "\n",
    "y = reviews.stars_grouped\n",
    "\n",
    "Xsent = reviews[['vader_content_neg',\n",
    "                        'vader_content_neu', \n",
    "                        'vader_content_pos']]\n",
    "\n",
    "\n",
    "#Train_Test\n",
    "Xsent_train, Xsent_test,BOW_train,BOW_test, y_train, y_test = train_test_split(Xsent,BOW_X,y,test_size = 0.3, \n",
    "                                                                                     stratify = ysent,\n",
    "                                                                                   random_state = random_state)\n",
    "BOW_tvec = TfidfVectorizer(strip_accents='unicode', ngram_range=(1,1),\n",
    "                           stop_words = 'english',max_df=0.5, min_df=per) ## HERE\n",
    "\n",
    "BOW_train_df = pd.DataFrame(BOW_tvec.fit_transform(BOW_train).toarray(),\n",
    "                            columns= list(map(lambda x : 'tfid - '+ x, list(BOW_tvec.get_feature_names()))),\n",
    "                            index = BOW_train.index)\n",
    "BOW_test_df = pd.DataFrame(BOW_tvec.transform(BOW_test).toarray(),\n",
    "                            columns= list(map(lambda x : 'tfid - '+ x, list(BOW_tvec.get_feature_names()))),\n",
    "                            index = BOW_test.index)\n",
    "\n",
    "\n",
    "\n",
    "Xtrain = pd.concat([Xsent_train,BOW_train_df], axis=1)\n",
    "Xtest = pd.concat([Xsent_test,BOW_test_df], axis=1)\n",
    "\n",
    "\n",
    "# Keeping mean to work with Sparse Matrix\n",
    "scaler = StandardScaler(with_mean = with_mean)\n",
    "Xtrain_std = pd.DataFrame(scaler.fit_transform(Xtrain),columns = Xtrain.columns, index = Xtrain.index)\n",
    "Xtest_std = pd.DataFrame(scaler.transform(Xtest),columns = Xtest.columns, index = Xtest.index)\n",
    "\n",
    "#Spar\n",
    "Xtrain_std_spa = sparse.csr_matrix(Xtrain_std.values)\n",
    "Xtest_std_spa = sparse.csr_matrix(Xtest_std.values)\n",
    "\n",
    "#logistic regression parameter dictionaty\n",
    "log_dict = {\n",
    "    'Cs':[10],\n",
    "    'penalty':['l1','l2'],\n",
    "    'solver': ['liblinear']}\n",
    "\n",
    "#logistic regression parameter dictionaty\n",
    "log_grid = grid(\n",
    "    name,LogisticRegressionCV(random_state = random_state,cv = 5),log_dict, \n",
    "    Xtrain_std_spa,y_train,\n",
    "    Xtest_std_spa,y_test,\n",
    "    scoring = 'roc_auc')\n"
   ]
  },
  {
   "cell_type": "markdown",
   "metadata": {},
   "source": [
    "### Sentiment Analyisis -  4 Tpes - 0%"
   ]
  },
  {
   "cell_type": "code",
   "execution_count": 23,
   "metadata": {
    "scrolled": true
   },
   "outputs": [
    {
     "name": "stdout",
     "output_type": "stream",
     "text": [
      "Fitting 5 folds for each of 2 candidates, totalling 10 fits\n"
     ]
    },
    {
     "name": "stderr",
     "output_type": "stream",
     "text": [
      "[Parallel(n_jobs=-1)]: Using backend LokyBackend with 8 concurrent workers.\n",
      "[Parallel(n_jobs=-1)]: Done   7 out of  10 | elapsed:    8.7s remaining:    3.7s\n",
      "[Parallel(n_jobs=-1)]: Done  10 out of  10 | elapsed:   10.1s finished\n"
     ]
    },
    {
     "name": "stdout",
     "output_type": "stream",
     "text": [
      "Time\n",
      "Grid fitting took 0:00:11.623683\n",
      "CV took 0:00:05.650393\n",
      "\n",
      "Model Scores\n",
      "Accuracy on train data: 0.9900253089176716\n",
      "Accuracy on test data: 0.859326154914901\n",
      "Accuracy on CV: 0.8610991889398518\n",
      "Baseline: 0.6779908295122968\n",
      "\n",
      "AUC CV: 0.9218363161006692\n",
      "\n",
      "Confusion Matrix\n",
      "[[ 684  243]\n",
      " [ 162 1790]]\n",
      "\n",
      "Classification Report\n",
      "              precision    recall  f1-score   support\n",
      "\n",
      "  Bad Review       0.81      0.74      0.77       927\n",
      " Good Review       0.88      0.92      0.90      1952\n",
      "\n",
      "   micro avg       0.86      0.86      0.86      2879\n",
      "   macro avg       0.84      0.83      0.83      2879\n",
      "weighted avg       0.86      0.86      0.86      2879\n",
      "\n",
      "Best Estimator Parameters\n",
      "{'Cs': 10, 'class_weight': None, 'cv': 'warn', 'dual': False, 'fit_intercept': True, 'intercept_scaling': 1.0, 'max_iter': 100, 'multi_class': 'warn', 'n_jobs': None, 'penalty': 'l1', 'random_state': 14, 'refit': True, 'scoring': None, 'solver': 'liblinear', 'tol': 0.0001, 'verbose': 0}\n"
     ]
    }
   ],
   "source": [
    "name = 'SENT + 4 types - 0%'\n",
    "with_mean = False\n",
    "per = 0\n",
    "\n",
    "# Defining X,Y and BOW\n",
    "BOW_X = word_type_df.apply(lambda x: x['ADJ']+' '+x['VERB']+' '+x['NOUN']+' '+x['ADV'], axis = 1)\n",
    "\n",
    "y = reviews.stars_grouped\n",
    "\n",
    "Xsent = reviews[['vader_content_neg',\n",
    "                        'vader_content_neu', \n",
    "                        'vader_content_pos']]\n",
    "\n",
    "\n",
    "#Train_Test\n",
    "Xsent_train, Xsent_test,BOW_train,BOW_test, y_train, y_test = train_test_split(Xsent,BOW_X,y,test_size = 0.3, \n",
    "                                                                                     stratify = ysent,\n",
    "                                                                                   random_state = random_state)\n",
    "BOW_tvec = TfidfVectorizer(strip_accents='unicode', ngram_range=(1,1),\n",
    "                           stop_words = 'english',max_df=0.5, min_df=per) ## HERE\n",
    "\n",
    "BOW_train_df = pd.DataFrame(BOW_tvec.fit_transform(BOW_train).toarray(),\n",
    "                            columns= list(map(lambda x : 'tfid - '+ x, list(BOW_tvec.get_feature_names()))),\n",
    "                            index = BOW_train.index)\n",
    "BOW_test_df = pd.DataFrame(BOW_tvec.transform(BOW_test).toarray(),\n",
    "                            columns= list(map(lambda x : 'tfid - '+ x, list(BOW_tvec.get_feature_names()))),\n",
    "                            index = BOW_test.index)\n",
    "\n",
    "\n",
    "\n",
    "Xtrain = pd.concat([Xsent_train,BOW_train_df], axis=1)\n",
    "Xtest = pd.concat([Xsent_test,BOW_test_df], axis=1)\n",
    "\n",
    "\n",
    "# Keeping mean to work with Sparse Matrix\n",
    "scaler = StandardScaler(with_mean = with_mean)\n",
    "Xtrain_std = pd.DataFrame(scaler.fit_transform(Xtrain),columns = Xtrain.columns, index = Xtrain.index)\n",
    "Xtest_std = pd.DataFrame(scaler.transform(Xtest),columns = Xtest.columns, index = Xtest.index)\n",
    "\n",
    "#Spar\n",
    "Xtrain_std_spa = sparse.csr_matrix(Xtrain_std.values)\n",
    "Xtest_std_spa = sparse.csr_matrix(Xtest_std.values)\n",
    "\n",
    "#logistic regression parameter dictionaty\n",
    "log_dict = {\n",
    "    'Cs':[10],\n",
    "    'penalty':['l1','l2'],\n",
    "    'solver': ['liblinear']}\n",
    "\n",
    "#logistic regression parameter dictionaty\n",
    "log_grid = grid(\n",
    "    name,LogisticRegressionCV(random_state = random_state),log_dict, \n",
    "    Xtrain_std_spa,y_train,\n",
    "    Xtest_std_spa,y_test,\n",
    "    scoring = 'roc_auc')\n"
   ]
  },
  {
   "cell_type": "markdown",
   "metadata": {},
   "source": [
    "### Sentiment Analyisis -  ADJ,VERB,NOUN Types - 2%"
   ]
  },
  {
   "cell_type": "code",
   "execution_count": 84,
   "metadata": {},
   "outputs": [
    {
     "name": "stdout",
     "output_type": "stream",
     "text": [
      "Fitting 5 folds for each of 2 candidates, totalling 10 fits\n"
     ]
    },
    {
     "name": "stderr",
     "output_type": "stream",
     "text": [
      "[Parallel(n_jobs=-1)]: Using backend LokyBackend with 8 concurrent workers.\n",
      "[Parallel(n_jobs=-1)]: Done   7 out of  10 | elapsed:    7.2s remaining:    3.1s\n",
      "[Parallel(n_jobs=-1)]: Done  10 out of  10 | elapsed:    7.4s finished\n"
     ]
    },
    {
     "name": "stdout",
     "output_type": "stream",
     "text": [
      "Time\n",
      "Grid fitting took 0:00:08.072464\n",
      "CV took 0:00:03.463012\n",
      "\n",
      "Model Scores\n",
      "Accuracy on train data: 0.8861098704778919\n",
      "Accuracy on test data: 0.8631469260159778\n",
      "Accuracy on CV: 0.8649684573408681\n",
      "Baseline: 0.6779908295122968\n",
      "\n",
      "AUC CV: 0.9267849462817205\n",
      "\n",
      "Confusion Matrix\n",
      "[[ 638  289]\n",
      " [ 105 1847]]\n",
      "\n",
      "Classification Report\n",
      "              precision    recall  f1-score   support\n",
      "\n",
      "  Bad Review       0.86      0.69      0.76       927\n",
      " Good Review       0.86      0.95      0.90      1952\n",
      "\n",
      "   micro avg       0.86      0.86      0.86      2879\n",
      "   macro avg       0.86      0.82      0.83      2879\n",
      "weighted avg       0.86      0.86      0.86      2879\n",
      "\n",
      "Best Estimator Parameters\n",
      "{'Cs': 10, 'class_weight': None, 'cv': 'warn', 'dual': False, 'fit_intercept': True, 'intercept_scaling': 1.0, 'max_iter': 100, 'multi_class': 'warn', 'n_jobs': None, 'penalty': 'l2', 'random_state': 14, 'refit': True, 'scoring': None, 'solver': 'liblinear', 'tol': 0.0001, 'verbose': 0}\n"
     ]
    },
    {
     "ename": "NameError",
     "evalue": "name 'ytrain' is not defined",
     "output_type": "error",
     "traceback": [
      "\u001b[0;31m---------------------------------------------------------------------------\u001b[0m",
      "\u001b[0;31mNameError\u001b[0m                                 Traceback (most recent call last)",
      "\u001b[0;32m<ipython-input-84-eefba43d201d>\u001b[0m in \u001b[0;36m<module>\u001b[0;34m\u001b[0m\n\u001b[1;32m     57\u001b[0m \u001b[0mf_Xtrain\u001b[0m \u001b[0;34m=\u001b[0m \u001b[0mXtrain_std_spa\u001b[0m\u001b[0;34m\u001b[0m\u001b[0;34m\u001b[0m\u001b[0m\n\u001b[1;32m     58\u001b[0m \u001b[0mf_Xtest\u001b[0m \u001b[0;34m=\u001b[0m \u001b[0mXtest_std_spa\u001b[0m\u001b[0;34m\u001b[0m\u001b[0;34m\u001b[0m\u001b[0m\n\u001b[0;32m---> 59\u001b[0;31m \u001b[0mf_ytrain\u001b[0m \u001b[0;34m=\u001b[0m \u001b[0mytrain\u001b[0m\u001b[0;34m\u001b[0m\u001b[0;34m\u001b[0m\u001b[0m\n\u001b[0m\u001b[1;32m     60\u001b[0m \u001b[0mf_ytest\u001b[0m \u001b[0;34m=\u001b[0m \u001b[0mytest\u001b[0m\u001b[0;34m\u001b[0m\u001b[0;34m\u001b[0m\u001b[0m\n",
      "\u001b[0;31mNameError\u001b[0m: name 'ytrain' is not defined"
     ]
    }
   ],
   "source": [
    "name = 'SENT + ADJ, VERB, NOUN - 2%'\n",
    "with_mean = False\n",
    "per = 0.02\n",
    "\n",
    "# Defining X,Y and BOW\n",
    "BOW_X = word_type_df.apply(lambda x: x['ADJ']+' '+x['VERB']+' '+x['NOUN'], axis = 1)\n",
    "\n",
    "y = reviews.stars_grouped\n",
    "\n",
    "Xsent = reviews[['vader_content_neg',\n",
    "                        'vader_content_neu', \n",
    "                        'vader_content_pos']]\n",
    "\n",
    "\n",
    "#Train_Test\n",
    "Xsent_train, Xsent_test,BOW_train,BOW_test, y_train, y_test = train_test_split(Xsent,BOW_X,y,test_size = 0.3, \n",
    "                                                                                     stratify = ysent,\n",
    "                                                                                   random_state = random_state)\n",
    "BOW_tvec = TfidfVectorizer(strip_accents='unicode', ngram_range=(1,1),\n",
    "                           stop_words = 'english',max_df=0.5, min_df=per) ## HERE\n",
    "\n",
    "BOW_train_df = pd.DataFrame(BOW_tvec.fit_transform(BOW_train).toarray(),\n",
    "                            columns= list(map(lambda x : 'tfid - '+ x, list(BOW_tvec.get_feature_names()))),\n",
    "                            index = BOW_train.index)\n",
    "BOW_test_df = pd.DataFrame(BOW_tvec.transform(BOW_test).toarray(),\n",
    "                            columns= list(map(lambda x : 'tfid - '+ x, list(BOW_tvec.get_feature_names()))),\n",
    "                            index = BOW_test.index)\n",
    "\n",
    "\n",
    "\n",
    "Xtrain = pd.concat([Xsent_train,BOW_train_df], axis=1)\n",
    "Xtest = pd.concat([Xsent_test,BOW_test_df], axis=1)\n",
    "\n",
    "\n",
    "# Keeping mean to work with Sparse Matrix\n",
    "scaler = StandardScaler(with_mean = with_mean)\n",
    "Xtrain_std = pd.DataFrame(scaler.fit_transform(Xtrain),columns = Xtrain.columns, index = Xtrain.index)\n",
    "Xtest_std = pd.DataFrame(scaler.transform(Xtest),columns = Xtest.columns, index = Xtest.index)\n",
    "\n",
    "#Spar\n",
    "Xtrain_std_spa = sparse.csr_matrix(Xtrain_std.values)\n",
    "Xtest_std_spa = sparse.csr_matrix(Xtest_std.values)\n",
    "\n",
    "#logistic regression parameter dictionaty\n",
    "log_dict = {\n",
    "    'Cs':[10],\n",
    "    'penalty':['l1','l2'],\n",
    "    'solver': ['liblinear']}\n",
    "\n",
    "#logistic regression parameter dictionaty\n",
    "log_grid = grid(\n",
    "    name,LogisticRegressionCV(random_state = random_state),log_dict, \n",
    "    Xtrain_std_spa,y_train,\n",
    "    Xtest_std_spa,y_test,\n",
    "    scoring = 'roc_auc')\n",
    "\n",
    "f_Xtrain = Xtrain_std_spa\n",
    "f_Xtest = Xtest_std_spa\n",
    "f_ytrain = ytrain\n",
    "f_ytest = ytest\n"
   ]
  },
  {
   "cell_type": "code",
   "execution_count": 26,
   "metadata": {},
   "outputs": [],
   "source": [
    "save_pickle(model_results,'model_tuning_versions.pkl')"
   ]
  },
  {
   "cell_type": "markdown",
   "metadata": {},
   "source": [
    "## Comparing Results"
   ]
  },
  {
   "cell_type": "code",
   "execution_count": 68,
   "metadata": {},
   "outputs": [],
   "source": [
    "model_results = load_pickle('model_tuning_versions.pkl')"
   ]
  },
  {
   "cell_type": "code",
   "execution_count": 69,
   "metadata": {
    "scrolled": false
   },
   "outputs": [
    {
     "data": {
      "text/html": [
       "<div>\n",
       "<style scoped>\n",
       "    .dataframe tbody tr th:only-of-type {\n",
       "        vertical-align: middle;\n",
       "    }\n",
       "\n",
       "    .dataframe tbody tr th {\n",
       "        vertical-align: top;\n",
       "    }\n",
       "\n",
       "    .dataframe thead th {\n",
       "        text-align: right;\n",
       "    }\n",
       "</style>\n",
       "<table border=\"1\" class=\"dataframe\">\n",
       "  <thead>\n",
       "    <tr style=\"text-align: right;\">\n",
       "      <th></th>\n",
       "      <th>Model Name</th>\n",
       "      <th>AUC CV</th>\n",
       "      <th>Accuracy CV</th>\n",
       "      <th>Accuracy Test</th>\n",
       "      <th>Features</th>\n",
       "    </tr>\n",
       "  </thead>\n",
       "  <tbody>\n",
       "    <tr>\n",
       "      <th>17</th>\n",
       "      <td>SENT + ADJ, VERB, NOUN - 2%</td>\n",
       "      <td>0.926785</td>\n",
       "      <td>0.864968</td>\n",
       "      <td>0.863147</td>\n",
       "      <td>636</td>\n",
       "    </tr>\n",
       "    <tr>\n",
       "      <th>15</th>\n",
       "      <td>SENT + 4 types - 2%</td>\n",
       "      <td>0.926630</td>\n",
       "      <td>0.863628</td>\n",
       "      <td>0.863494</td>\n",
       "      <td>672</td>\n",
       "    </tr>\n",
       "    <tr>\n",
       "      <th>18</th>\n",
       "      <td>SENT + ADJ, ADV, NOUN, ADV - 2% - Mean True</td>\n",
       "      <td>0.925581</td>\n",
       "      <td>0.866309</td>\n",
       "      <td>0.863147</td>\n",
       "      <td>672</td>\n",
       "    </tr>\n",
       "    <tr>\n",
       "      <th>16</th>\n",
       "      <td>SENT + 4 types - 0%</td>\n",
       "      <td>0.921836</td>\n",
       "      <td>0.861099</td>\n",
       "      <td>0.859326</td>\n",
       "      <td>21025</td>\n",
       "    </tr>\n",
       "    <tr>\n",
       "      <th>10</th>\n",
       "      <td>BOW - 4types 0% - LR</td>\n",
       "      <td>0.915508</td>\n",
       "      <td>0.851571</td>\n",
       "      <td>0.852379</td>\n",
       "      <td>21022</td>\n",
       "    </tr>\n",
       "    <tr>\n",
       "      <th>11</th>\n",
       "      <td>BOW - 4types 2% - LR</td>\n",
       "      <td>0.914169</td>\n",
       "      <td>0.854398</td>\n",
       "      <td>0.858631</td>\n",
       "      <td>669</td>\n",
       "    </tr>\n",
       "    <tr>\n",
       "      <th>9</th>\n",
       "      <td>BOW - ADJ + VERB + NOUN 2% - LR</td>\n",
       "      <td>0.913494</td>\n",
       "      <td>0.856186</td>\n",
       "      <td>0.856547</td>\n",
       "      <td>633</td>\n",
       "    </tr>\n",
       "    <tr>\n",
       "      <th>8</th>\n",
       "      <td>BOW - ADJ + VERB 2% - LR</td>\n",
       "      <td>0.903780</td>\n",
       "      <td>0.845914</td>\n",
       "      <td>0.856200</td>\n",
       "      <td>329</td>\n",
       "    </tr>\n",
       "    <tr>\n",
       "      <th>0</th>\n",
       "      <td>BOW - ADJ 0% - LogReg</td>\n",
       "      <td>0.892512</td>\n",
       "      <td>0.827754</td>\n",
       "      <td>0.821118</td>\n",
       "      <td>4699</td>\n",
       "    </tr>\n",
       "    <tr>\n",
       "      <th>12</th>\n",
       "      <td>SENT + WCount - LR</td>\n",
       "      <td>0.891590</td>\n",
       "      <td>0.831029</td>\n",
       "      <td>0.830497</td>\n",
       "      <td>5</td>\n",
       "    </tr>\n",
       "    <tr>\n",
       "      <th>13</th>\n",
       "      <td>SENT -No WCount - LR</td>\n",
       "      <td>0.891257</td>\n",
       "      <td>0.831625</td>\n",
       "      <td>0.832928</td>\n",
       "      <td>4</td>\n",
       "    </tr>\n",
       "    <tr>\n",
       "      <th>14</th>\n",
       "      <td>SENT -No Coumpound or WCount - LR</td>\n",
       "      <td>0.891139</td>\n",
       "      <td>0.830584</td>\n",
       "      <td>0.830497</td>\n",
       "      <td>3</td>\n",
       "    </tr>\n",
       "    <tr>\n",
       "      <th>1</th>\n",
       "      <td>BOW - ADJ 2% - LogReg</td>\n",
       "      <td>0.879507</td>\n",
       "      <td>0.821944</td>\n",
       "      <td>0.824592</td>\n",
       "      <td>140</td>\n",
       "    </tr>\n",
       "    <tr>\n",
       "      <th>4</th>\n",
       "      <td>BOW - VERB 0% - LR</td>\n",
       "      <td>0.835985</td>\n",
       "      <td>0.789044</td>\n",
       "      <td>0.790900</td>\n",
       "      <td>7260</td>\n",
       "    </tr>\n",
       "    <tr>\n",
       "      <th>2</th>\n",
       "      <td>BOW - NOUN 0% - LR</td>\n",
       "      <td>0.828753</td>\n",
       "      <td>0.778766</td>\n",
       "      <td>0.783605</td>\n",
       "      <td>12424</td>\n",
       "    </tr>\n",
       "    <tr>\n",
       "      <th>5</th>\n",
       "      <td>BOW - VERB 2% - LR</td>\n",
       "      <td>0.813253</td>\n",
       "      <td>0.777876</td>\n",
       "      <td>0.779437</td>\n",
       "      <td>179</td>\n",
       "    </tr>\n",
       "    <tr>\n",
       "      <th>3</th>\n",
       "      <td>BOW - NOUN 2% - LR</td>\n",
       "      <td>0.795457</td>\n",
       "      <td>0.764628</td>\n",
       "      <td>0.753734</td>\n",
       "      <td>294</td>\n",
       "    </tr>\n",
       "    <tr>\n",
       "      <th>6</th>\n",
       "      <td>BOW - ADV 0% - LR</td>\n",
       "      <td>0.727333</td>\n",
       "      <td>0.732324</td>\n",
       "      <td>0.736019</td>\n",
       "      <td>1212</td>\n",
       "    </tr>\n",
       "    <tr>\n",
       "      <th>7</th>\n",
       "      <td>BOW - ADV 2% - LR</td>\n",
       "      <td>0.672272</td>\n",
       "      <td>0.704036</td>\n",
       "      <td>0.705801</td>\n",
       "      <td>43</td>\n",
       "    </tr>\n",
       "  </tbody>\n",
       "</table>\n",
       "</div>"
      ],
      "text/plain": [
       "                                     Model Name    AUC CV  Accuracy CV  \\\n",
       "17                  SENT + ADJ, VERB, NOUN - 2%  0.926785     0.864968   \n",
       "15                          SENT + 4 types - 2%  0.926630     0.863628   \n",
       "18  SENT + ADJ, ADV, NOUN, ADV - 2% - Mean True  0.925581     0.866309   \n",
       "16                          SENT + 4 types - 0%  0.921836     0.861099   \n",
       "10                         BOW - 4types 0% - LR  0.915508     0.851571   \n",
       "11                         BOW - 4types 2% - LR  0.914169     0.854398   \n",
       "9               BOW - ADJ + VERB + NOUN 2% - LR  0.913494     0.856186   \n",
       "8                      BOW - ADJ + VERB 2% - LR  0.903780     0.845914   \n",
       "0                         BOW - ADJ 0% - LogReg  0.892512     0.827754   \n",
       "12                           SENT + WCount - LR  0.891590     0.831029   \n",
       "13                         SENT -No WCount - LR  0.891257     0.831625   \n",
       "14            SENT -No Coumpound or WCount - LR  0.891139     0.830584   \n",
       "1                         BOW - ADJ 2% - LogReg  0.879507     0.821944   \n",
       "4                            BOW - VERB 0% - LR  0.835985     0.789044   \n",
       "2                            BOW - NOUN 0% - LR  0.828753     0.778766   \n",
       "5                            BOW - VERB 2% - LR  0.813253     0.777876   \n",
       "3                            BOW - NOUN 2% - LR  0.795457     0.764628   \n",
       "6                             BOW - ADV 0% - LR  0.727333     0.732324   \n",
       "7                             BOW - ADV 2% - LR  0.672272     0.704036   \n",
       "\n",
       "    Accuracy Test  Features  \n",
       "17       0.863147       636  \n",
       "15       0.863494       672  \n",
       "18       0.863147       672  \n",
       "16       0.859326     21025  \n",
       "10       0.852379     21022  \n",
       "11       0.858631       669  \n",
       "9        0.856547       633  \n",
       "8        0.856200       329  \n",
       "0        0.821118      4699  \n",
       "12       0.830497         5  \n",
       "13       0.832928         4  \n",
       "14       0.830497         3  \n",
       "1        0.824592       140  \n",
       "4        0.790900      7260  \n",
       "2        0.783605     12424  \n",
       "5        0.779437       179  \n",
       "3        0.753734       294  \n",
       "6        0.736019      1212  \n",
       "7        0.705801        43  "
      ]
     },
     "execution_count": 69,
     "metadata": {},
     "output_type": "execute_result"
    }
   ],
   "source": [
    "model_resultsumm= {\n",
    "    'Model Name': [x for x in model_results.keys()],\n",
    "    'AUC CV': [model_results[x]['AUC CV'] for x in model_results.keys()],\n",
    "    'Accuracy CV': [model_results[x]['accuracy cv'] for x in model_results.keys()],\n",
    "    'Accuracy Test': [model_results[x]['accuracy test'] for x in model_results.keys()],\n",
    "    'Features': [len(model_results[x]['model'].coef_[0]) for x in model_results.keys()]\n",
    "}\n",
    "\n",
    "resultsDF = pd.DataFrame(model_resultsumm)\n",
    "\n",
    "resultsDF.sort_values(by = 'AUC CV', ascending = False)\n",
    "\n"
   ]
  },
  {
   "cell_type": "code",
   "execution_count": 70,
   "metadata": {},
   "outputs": [
    {
     "data": {
      "image/png": "[encoded data removed]",
      "text/plain": [
       "<Figure size 432x720 with 1 Axes>"
      ]
     },
     "metadata": {
      "needs_background": "light"
     },
     "output_type": "display_data"
    }
   ],
   "source": [
    "fig, ax = plt.subplots(figsize = (6,10));\n",
    "resultsDF.set_index('Model Name')[['AUC CV','Accuracy Test']].sort_values(by = 'AUC CV').plot(kind = 'barh', ax = ax);\n",
    "ax.legend(loc = 'lower left');"
   ]
  },
  {
   "cell_type": "markdown",
   "metadata": {},
   "source": [
    "## Model Analysis"
   ]
  },
  {
   "cell_type": "code",
   "execution_count": 81,
   "metadata": {},
   "outputs": [],
   "source": [
    "#'SENT + ADJ, VERB, NOUN - 2%'\n",
    "best_model = model_results['SENT + ADJ, VERB, NOUN - 2%']"
   ]
  },
  {
   "cell_type": "code",
   "execution_count": 88,
   "metadata": {},
   "outputs": [
    {
     "data": {
      "text/plain": [
       "LogisticRegressionCV(Cs=10, class_weight=None, cv='warn', dual=False,\n",
       "           fit_intercept=True, intercept_scaling=1.0, max_iter=100,\n",
       "           multi_class='warn', n_jobs=None, penalty='l2', random_state=14,\n",
       "           refit=True, scoring=None, solver='liblinear', tol=0.0001,\n",
       "           verbose=0)"
      ]
     },
     "execution_count": 88,
     "metadata": {},
     "output_type": "execute_result"
    }
   ],
   "source": [
    "# Model Description\n",
    "best_model['model']"
   ]
  },
  {
   "cell_type": "markdown",
   "metadata": {},
   "source": [
    "### Confusion Matrix and Classification Report"
   ]
  },
  {
   "cell_type": "code",
   "execution_count": 99,
   "metadata": {
    "scrolled": false
   },
   "outputs": [
    {
     "name": "stdout",
     "output_type": "stream",
     "text": [
      "[[ 638  289]\n",
      " [ 105 1847]]\n"
     ]
    }
   ],
   "source": [
    "print(best_model['confusion'])"
   ]
  },
  {
   "cell_type": "code",
   "execution_count": 100,
   "metadata": {},
   "outputs": [
    {
     "name": "stdout",
     "output_type": "stream",
     "text": [
      "              precision    recall  f1-score   support\n",
      "\n",
      "  Bad Review       0.86      0.69      0.76       927\n",
      " Good Review       0.86      0.95      0.90      1952\n",
      "\n",
      "   micro avg       0.86      0.86      0.86      2879\n",
      "   macro avg       0.86      0.82      0.83      2879\n",
      "weighted avg       0.86      0.86      0.86      2879\n",
      "\n"
     ]
    }
   ],
   "source": [
    "print(best_model['report'])"
   ]
  },
  {
   "cell_type": "markdown",
   "metadata": {},
   "source": [
    "As expected, the tables above clearly show how the model is more likely to predict a bad review as good one than biceversa: There were 289 mislabeled negative reviews, almost three times as many as mislabeled good reviews. This explains the low recall score on bad reviews. \n",
    "\n",
    "This is due to a class imbalance: Out of the 6717 reviews used to train the model, two thirds were positive reviews.\n",
    "\n",
    "However, in this case the class imbalance isn't severe. I can improve Bad reviews recall by simply adjusting the probability threshold (which is 50% by default)."
   ]
  },
  {
   "cell_type": "markdown",
   "metadata": {},
   "source": [
    "### Accuracy by user rating"
   ]
  },
  {
   "cell_type": "markdown",
   "metadata": {},
   "source": [
    "The Sentiment Analysis charts in the EDA section clearly showed an overlap of sentiment scores between different user ratings (1,2,3,4 & 5 stars). This demonstrated how subjective the assigment of ratings can be regardless of the content of the review. \n",
    "\n",
    "In other words, two user could write extremely similar reviews and rate them differently. The analysis below shows the accuracy of predictions by rating. "
   ]
  },
  {
   "cell_type": "code",
   "execution_count": 103,
   "metadata": {},
   "outputs": [],
   "source": [
    "# Analysing model predictions\n",
    "y_test_hat = model['model'].predict(f_Xtest)\n",
    "predictions = pd.DataFrame()\n",
    "predictions['Stars'] = reviews.stars.loc[y_test.index]\n",
    "predictions['Content'] = reviews.content.loc[y_test.index]\n",
    "predictions['Labels'] = y_test\n",
    "predictions['Predicted'] = model['model'].predict(Xtest_std_spa)\n",
    "predictions['Result'] = (y_test == y_test_hat)"
   ]
  },
  {
   "cell_type": "code",
   "execution_count": 92,
   "metadata": {},
   "outputs": [
    {
     "data": {
      "image/png": "[encoded data removed]",
      "text/plain": [
       "<Figure size 504x360 with 1 Axes>"
      ]
     },
     "metadata": {
      "needs_background": "light"
     },
     "output_type": "display_data"
    }
   ],
   "source": [
    "# Looking at prediction accuracy by number of stars.\n",
    "acc_per_star = predictions.groupby('Stars').agg({'Labels':'count','Result':'sum'}\n",
    "                                  ).apply(lambda x: x['Result']/x['Labels'], axis = 1)\n",
    "fig, ax = plt.subplots(figsize = (7,5))\n",
    "\n",
    "sns.barplot(x = acc_per_star.index, y = acc_per_star.values )\n",
    "for p in ax.patches:\n",
    "    ax.annotate(str(np.round(p.get_height(),decimals = 3)), (p.get_x() + 0.25, p.get_height() * 1.01))"
   ]
  },
  {
   "cell_type": "markdown",
   "metadata": {},
   "source": [
    "From the chart above it can clearly be seen that:\n",
    "- The model is better at predicting positive reviews (4 and 5 stars). \n",
    "- There is a significant drop in accuracy for 3 star reviews. \n",
    "\n",
    "3 and 4 stars reviews can often be very similar in terms of sentiument and language used. As previously mentioned, the model tends to label reviews as positive(good) more often fue to the class imbalance. That is why accuracy is not very good for 3 star reviews but above average for 4 star reviews. "
   ]
  },
  {
   "cell_type": "markdown",
   "metadata": {},
   "source": [
    "**Features**"
   ]
  },
  {
   "cell_type": "code",
   "execution_count": 117,
   "metadata": {},
   "outputs": [],
   "source": [
    "coefficient_df = pd.DataFrame(model['model'].coef_.reshape(-1,1), index = Xtrain_std.columns,columns = ['coefficient']).reset_index()\n",
    "coefficient_df.columns = ['feature','coefficient']"
   ]
  },
  {
   "cell_type": "code",
   "execution_count": 118,
   "metadata": {},
   "outputs": [
    {
     "data": {
      "image/png": "[encoded data removed]",
      "text/plain": [
       "<Figure size 432x432 with 1 Axes>"
      ]
     },
     "metadata": {
      "needs_background": "light"
     },
     "output_type": "display_data"
    }
   ],
   "source": [
    "plt.figure(figsize=(6,6));\n",
    "sns.barplot(x = 'coefficient', y = 'feature', \n",
    "            data = coefficient_df.sort_values(by= 'coefficient', ascending=False)[:15]);"
   ]
  },
  {
   "cell_type": "code",
   "execution_count": 119,
   "metadata": {},
   "outputs": [
    {
     "data": {
      "image/png": "[encoded data removed]",
      "text/plain": [
       "<Figure size 432x432 with 1 Axes>"
      ]
     },
     "metadata": {
      "needs_background": "light"
     },
     "output_type": "display_data"
    }
   ],
   "source": [
    "plt.figure(figsize=(6,6));\n",
    "sns.barplot(x = 'coefficient', y = 'feature',\n",
    "            data = coefficient_df.sort_values(by= 'coefficient', ascending=True)[:15]);\n"
   ]
  },
  {
   "cell_type": "code",
   "execution_count": 120,
   "metadata": {},
   "outputs": [],
   "source": [
    "is_0 = coefficient_df.coefficient.apply(lambda x: np.isclose(x,0))"
   ]
  },
  {
   "cell_type": "markdown",
   "metadata": {},
   "source": [
    "## Adjusting Probability Threshold"
   ]
  },
  {
   "cell_type": "code",
   "execution_count": 141,
   "metadata": {},
   "outputs": [
    {
     "data": {
      "text/html": [
       "<div>\n",
       "<style scoped>\n",
       "    .dataframe tbody tr th:only-of-type {\n",
       "        vertical-align: middle;\n",
       "    }\n",
       "\n",
       "    .dataframe tbody tr th {\n",
       "        vertical-align: top;\n",
       "    }\n",
       "\n",
       "    .dataframe thead th {\n",
       "        text-align: right;\n",
       "    }\n",
       "</style>\n",
       "<table border=\"1\" class=\"dataframe\">\n",
       "  <thead>\n",
       "    <tr style=\"text-align: right;\">\n",
       "      <th></th>\n",
       "      <th>tp</th>\n",
       "      <th>fn</th>\n",
       "      <th>fp</th>\n",
       "      <th>tn</th>\n",
       "      <th>True_Positive_Rate</th>\n",
       "      <th>False_Positive_Rate</th>\n",
       "      <th>Precision</th>\n",
       "    </tr>\n",
       "  </thead>\n",
       "  <tbody>\n",
       "    <tr>\n",
       "      <th>0.00</th>\n",
       "      <td>927</td>\n",
       "      <td>0</td>\n",
       "      <td>1952</td>\n",
       "      <td>0</td>\n",
       "      <td>1.000000</td>\n",
       "      <td>1.000000</td>\n",
       "      <td>0.321987</td>\n",
       "    </tr>\n",
       "    <tr>\n",
       "      <th>0.05</th>\n",
       "      <td>925</td>\n",
       "      <td>2</td>\n",
       "      <td>1675</td>\n",
       "      <td>277</td>\n",
       "      <td>0.997843</td>\n",
       "      <td>0.858094</td>\n",
       "      <td>0.355769</td>\n",
       "    </tr>\n",
       "    <tr>\n",
       "      <th>0.10</th>\n",
       "      <td>920</td>\n",
       "      <td>7</td>\n",
       "      <td>1171</td>\n",
       "      <td>781</td>\n",
       "      <td>0.992449</td>\n",
       "      <td>0.599898</td>\n",
       "      <td>0.439981</td>\n",
       "    </tr>\n",
       "    <tr>\n",
       "      <th>0.15</th>\n",
       "      <td>901</td>\n",
       "      <td>26</td>\n",
       "      <td>834</td>\n",
       "      <td>1118</td>\n",
       "      <td>0.971953</td>\n",
       "      <td>0.427254</td>\n",
       "      <td>0.519308</td>\n",
       "    </tr>\n",
       "    <tr>\n",
       "      <th>0.20</th>\n",
       "      <td>871</td>\n",
       "      <td>56</td>\n",
       "      <td>602</td>\n",
       "      <td>1350</td>\n",
       "      <td>0.939590</td>\n",
       "      <td>0.308402</td>\n",
       "      <td>0.591310</td>\n",
       "    </tr>\n",
       "    <tr>\n",
       "      <th>0.25</th>\n",
       "      <td>835</td>\n",
       "      <td>92</td>\n",
       "      <td>435</td>\n",
       "      <td>1517</td>\n",
       "      <td>0.900755</td>\n",
       "      <td>0.222848</td>\n",
       "      <td>0.657480</td>\n",
       "    </tr>\n",
       "    <tr>\n",
       "      <th>0.30</th>\n",
       "      <td>808</td>\n",
       "      <td>119</td>\n",
       "      <td>317</td>\n",
       "      <td>1635</td>\n",
       "      <td>0.871629</td>\n",
       "      <td>0.162398</td>\n",
       "      <td>0.718222</td>\n",
       "    </tr>\n",
       "    <tr>\n",
       "      <th>0.35</th>\n",
       "      <td>782</td>\n",
       "      <td>145</td>\n",
       "      <td>247</td>\n",
       "      <td>1705</td>\n",
       "      <td>0.843581</td>\n",
       "      <td>0.126537</td>\n",
       "      <td>0.759961</td>\n",
       "    </tr>\n",
       "    <tr>\n",
       "      <th>0.40</th>\n",
       "      <td>740</td>\n",
       "      <td>187</td>\n",
       "      <td>179</td>\n",
       "      <td>1773</td>\n",
       "      <td>0.798274</td>\n",
       "      <td>0.091701</td>\n",
       "      <td>0.805223</td>\n",
       "    </tr>\n",
       "    <tr>\n",
       "      <th>0.45</th>\n",
       "      <td>694</td>\n",
       "      <td>233</td>\n",
       "      <td>131</td>\n",
       "      <td>1821</td>\n",
       "      <td>0.748652</td>\n",
       "      <td>0.067111</td>\n",
       "      <td>0.841212</td>\n",
       "    </tr>\n",
       "    <tr>\n",
       "      <th>0.50</th>\n",
       "      <td>638</td>\n",
       "      <td>289</td>\n",
       "      <td>105</td>\n",
       "      <td>1847</td>\n",
       "      <td>0.688242</td>\n",
       "      <td>0.053791</td>\n",
       "      <td>0.858681</td>\n",
       "    </tr>\n",
       "    <tr>\n",
       "      <th>0.55</th>\n",
       "      <td>577</td>\n",
       "      <td>350</td>\n",
       "      <td>80</td>\n",
       "      <td>1872</td>\n",
       "      <td>0.622438</td>\n",
       "      <td>0.040984</td>\n",
       "      <td>0.878234</td>\n",
       "    </tr>\n",
       "    <tr>\n",
       "      <th>0.60</th>\n",
       "      <td>511</td>\n",
       "      <td>416</td>\n",
       "      <td>60</td>\n",
       "      <td>1892</td>\n",
       "      <td>0.551241</td>\n",
       "      <td>0.030738</td>\n",
       "      <td>0.894921</td>\n",
       "    </tr>\n",
       "    <tr>\n",
       "      <th>0.65</th>\n",
       "      <td>451</td>\n",
       "      <td>476</td>\n",
       "      <td>45</td>\n",
       "      <td>1907</td>\n",
       "      <td>0.486516</td>\n",
       "      <td>0.023053</td>\n",
       "      <td>0.909274</td>\n",
       "    </tr>\n",
       "    <tr>\n",
       "      <th>0.70</th>\n",
       "      <td>377</td>\n",
       "      <td>550</td>\n",
       "      <td>29</td>\n",
       "      <td>1923</td>\n",
       "      <td>0.406688</td>\n",
       "      <td>0.014857</td>\n",
       "      <td>0.928571</td>\n",
       "    </tr>\n",
       "    <tr>\n",
       "      <th>0.75</th>\n",
       "      <td>301</td>\n",
       "      <td>626</td>\n",
       "      <td>14</td>\n",
       "      <td>1938</td>\n",
       "      <td>0.324703</td>\n",
       "      <td>0.007172</td>\n",
       "      <td>0.955556</td>\n",
       "    </tr>\n",
       "    <tr>\n",
       "      <th>0.80</th>\n",
       "      <td>236</td>\n",
       "      <td>691</td>\n",
       "      <td>10</td>\n",
       "      <td>1942</td>\n",
       "      <td>0.254585</td>\n",
       "      <td>0.005123</td>\n",
       "      <td>0.959350</td>\n",
       "    </tr>\n",
       "    <tr>\n",
       "      <th>0.85</th>\n",
       "      <td>167</td>\n",
       "      <td>760</td>\n",
       "      <td>5</td>\n",
       "      <td>1947</td>\n",
       "      <td>0.180151</td>\n",
       "      <td>0.002561</td>\n",
       "      <td>0.970930</td>\n",
       "    </tr>\n",
       "    <tr>\n",
       "      <th>0.90</th>\n",
       "      <td>80</td>\n",
       "      <td>847</td>\n",
       "      <td>2</td>\n",
       "      <td>1950</td>\n",
       "      <td>0.086300</td>\n",
       "      <td>0.001025</td>\n",
       "      <td>0.975610</td>\n",
       "    </tr>\n",
       "    <tr>\n",
       "      <th>0.95</th>\n",
       "      <td>21</td>\n",
       "      <td>906</td>\n",
       "      <td>0</td>\n",
       "      <td>1952</td>\n",
       "      <td>0.022654</td>\n",
       "      <td>0.000000</td>\n",
       "      <td>1.000000</td>\n",
       "    </tr>\n",
       "    <tr>\n",
       "      <th>1.00</th>\n",
       "      <td>0</td>\n",
       "      <td>927</td>\n",
       "      <td>0</td>\n",
       "      <td>1952</td>\n",
       "      <td>0.000000</td>\n",
       "      <td>0.000000</td>\n",
       "      <td>NaN</td>\n",
       "    </tr>\n",
       "  </tbody>\n",
       "</table>\n",
       "</div>"
      ],
      "text/plain": [
       "       tp   fn    fp    tn  True_Positive_Rate  False_Positive_Rate  Precision\n",
       "0.00  927    0  1952     0            1.000000             1.000000   0.321987\n",
       "0.05  925    2  1675   277            0.997843             0.858094   0.355769\n",
       "0.10  920    7  1171   781            0.992449             0.599898   0.439981\n",
       "0.15  901   26   834  1118            0.971953             0.427254   0.519308\n",
       "0.20  871   56   602  1350            0.939590             0.308402   0.591310\n",
       "0.25  835   92   435  1517            0.900755             0.222848   0.657480\n",
       "0.30  808  119   317  1635            0.871629             0.162398   0.718222\n",
       "0.35  782  145   247  1705            0.843581             0.126537   0.759961\n",
       "0.40  740  187   179  1773            0.798274             0.091701   0.805223\n",
       "0.45  694  233   131  1821            0.748652             0.067111   0.841212\n",
       "0.50  638  289   105  1847            0.688242             0.053791   0.858681\n",
       "0.55  577  350    80  1872            0.622438             0.040984   0.878234\n",
       "0.60  511  416    60  1892            0.551241             0.030738   0.894921\n",
       "0.65  451  476    45  1907            0.486516             0.023053   0.909274\n",
       "0.70  377  550    29  1923            0.406688             0.014857   0.928571\n",
       "0.75  301  626    14  1938            0.324703             0.007172   0.955556\n",
       "0.80  236  691    10  1942            0.254585             0.005123   0.959350\n",
       "0.85  167  760     5  1947            0.180151             0.002561   0.970930\n",
       "0.90   80  847     2  1950            0.086300             0.001025   0.975610\n",
       "0.95   21  906     0  1952            0.022654             0.000000   1.000000\n",
       "1.00    0  927     0  1952            0.000000             0.000000        NaN"
      ]
     },
     "execution_count": 141,
     "metadata": {},
     "output_type": "execute_result"
    }
   ],
   "source": [
    "#calculating tp,fp,tn,fn and related metrics for different probability thresholds\n",
    "probabilities = pd.DataFrame(best_model['model'].predict_proba(Xtest_std_spa), columns = ['Bad','Good'])\n",
    "\n",
    "prob = []\n",
    "tp = []\n",
    "fn = []\n",
    "fp = []\n",
    "tn = []\n",
    "confu = []\n",
    "    \n",
    "for p in np.linspace(0,1,21):\n",
    "    y_hat = probabilities.Bad.apply(lambda x : 'Bad Review' if x>p else 'Good Review')\n",
    "    conf = confusion_matrix(y_test,y_hat)\n",
    "    prob.append(p)\n",
    "    tp.append(conf[0][0])\n",
    "    fn.append(conf[0][1])\n",
    "    fp.append(conf[1][0])\n",
    "    tn.append(conf[1][1])\n",
    "    confu.append(conf)\n",
    "\n",
    "thresholds = pd.DataFrame({'tp':tp,'fn':fn,'fp':fp,'tn':tn},index = prob)\n",
    "thresholds['True_Positive_Rate'] = thresholds.apply(lambda x: x['tp']/(x['fn']+x['tp']),axis = 1)\n",
    "thresholds['False_Positive_Rate'] = thresholds.apply(lambda x: x['fp']/(x['tn']+x['fp']),axis = 1)\n",
    "thresholds['Precision'] = thresholds.apply(lambda x: x['tp']/(x['tp']+x['fp']),axis = 1)\n",
    "thresholds"
   ]
  },
  {
   "cell_type": "markdown",
   "metadata": {},
   "source": [
    "## Impact of setting threshold to 0.35"
   ]
  },
  {
   "cell_type": "code",
   "execution_count": 142,
   "metadata": {},
   "outputs": [],
   "source": [
    "from ipywidgets import *\n",
    "\n",
    "from pprint import pprint\n",
    "\n",
    "from sklearn.linear_model import LogisticRegression\n",
    "from sklearn.metrics import (roc_curve, auc, f1_score,\n",
    "                             precision_recall_curve, average_precision_score)"
   ]
  },
  {
   "cell_type": "code",
   "execution_count": 146,
   "metadata": {},
   "outputs": [],
   "source": [
    "ratio = 0.35000000000000003\n",
    "npRatio = int(np.round(ratio,decimals = 2)*100)"
   ]
  },
  {
   "cell_type": "code",
   "execution_count": 147,
   "metadata": {},
   "outputs": [
    {
     "data": {
      "image/png": "[encoded data removed]",
      "text/plain": [
       "<Figure size 576x432 with 1 Axes>"
      ]
     },
     "metadata": {
      "needs_background": "light"
     },
     "output_type": "display_data"
    }
   ],
   "source": [
    "import scikitplot as skplt\n",
    "from matplotlib.colors import ListedColormap\n",
    "cmap = ListedColormap(sns.color_palette(\"husl\", 3))\n",
    "\n",
    "skplt.metrics.plot_roc(y_test, best_model['model'].predict_proba(Xtest_std_spa), plot_micro=True, plot_macro=True, \n",
    "                       title_fontsize=20, text_fontsize=16, figsize=(8,6), cmap=cmap)\n",
    "\n",
    "plt.scatter(thresholds.loc[0.5,'False_Positive_Rate'], thresholds.loc[0.5,'True_Positive_Rate'], s = 200,c = 'blue')\n",
    "plt.scatter(thresholds.loc[ratio,'False_Positive_Rate'], thresholds.loc[ratio,'True_Positive_Rate'], s = 200, c = 'red')\n",
    "\n",
    "plt.text(thresholds.loc[ratio,'False_Positive_Rate']+0.01, thresholds.loc[ratio,'True_Positive_Rate']-0.05,\n",
    "         'p={}%'.format(npRatio),\n",
    "         fontsize=12)\n",
    "plt.text(thresholds.loc[0.5,'False_Positive_Rate']+0.01, thresholds.loc[0.5,'True_Positive_Rate']-0.05, \n",
    "         'p=50%',\n",
    "         fontsize=12)\n",
    "\n",
    "plt.show()\n",
    "\n"
   ]
  },
  {
   "cell_type": "code",
   "execution_count": 148,
   "metadata": {},
   "outputs": [],
   "source": [
    "def plot_f1_lines(figsize=(8,6),fontsize=16):\n",
    "    '''Create f1-score level lines to be added to the precison-recall plot'''\n",
    "\n",
    "    fig, ax = plt.subplots(figsize=figsize)\n",
    "    \n",
    "    # add lines of constant F1 scores\n",
    "    \n",
    "    for const in np.linspace(0.2,0.9,8):\n",
    "        x_vals = np.linspace(0.001, 0.999, 100)\n",
    "        y_vals = 1./(2./const-1./x_vals)\n",
    "        ax.plot(x_vals[y_vals > 0], y_vals[y_vals > 0],\n",
    "                 color='lightblue', ls='--', alpha=0.9)\n",
    "        ax.set_ylim([0, 1])\n",
    "        ax.annotate('f1={0:0.1f}'.format(const),\n",
    "                     xy=(x_vals[-10], y_vals[-2]+0.0), fontsize=fontsize)\n",
    "\n",
    "    return fig, ax"
   ]
  },
  {
   "cell_type": "code",
   "execution_count": 149,
   "metadata": {},
   "outputs": [
    {
     "data": {
      "image/png": "[encoded data removed]",
      "text/plain": [
       "<Figure size 576x432 with 1 Axes>"
      ]
     },
     "metadata": {
      "needs_background": "light"
     },
     "output_type": "display_data"
    }
   ],
   "source": [
    "fig, ax = plot_f1_lines()\n",
    "skplt.metrics.plot_precision_recall(y_test, best_model['model'].predict_proba(Xtest_std_spa),\n",
    "                       plot_micro=True, \n",
    "                       title_fontsize=20, text_fontsize=16, cmap=cmap, ax=ax)\n",
    "ax.legend(loc=[1.1,0])\n",
    "\n",
    "plt.scatter(thresholds.loc[0.5,'True_Positive_Rate'], thresholds.loc[0.5,'Precision'], s = 200,c = 'blue')\n",
    "plt.scatter(thresholds.loc[ratio,'True_Positive_Rate'], thresholds.loc[ratio,'Precision'], s = 200, c = 'red')\n",
    "\n",
    "plt.text(thresholds.loc[ratio,'True_Positive_Rate']-0.1, thresholds.loc[ratio,'Precision']-0.05,\n",
    "         'p={}%'.format(npRatio), fontsize=12)\n",
    "plt.text(thresholds.loc[0.5,'True_Positive_Rate']-0.1, thresholds.loc[0.5,'Precision']-0.05, 'p=50%', fontsize=12)\n",
    "\n",
    "plt.show()\n"
   ]
  },
  {
   "cell_type": "code",
   "execution_count": null,
   "metadata": {},
   "outputs": [],
   "source": []
  }
 ],
 "metadata": {
  "kernelspec": {
   "display_name": "Python 3",
   "language": "python",
   "name": "python3"
  },
  "language_info": {
   "codemirror_mode": {
    "name": "ipython",
    "version": 3
   },
   "file_extension": ".py",
   "mimetype": "text/x-python",
   "name": "python",
   "nbconvert_exporter": "python",
   "pygments_lexer": "ipython3",
   "version": "3.7.6"
  }
 },
 "nbformat": 4,
 "nbformat_minor": 2
}
