{
 "cells": [
  {
   "cell_type": "markdown",
   "metadata": {},
   "source": [
    "<h1><center>Cruise Reviews - Trip Advisor - Models</center></h1>"
   ]
  },
  {
   "cell_type": "markdown",
   "metadata": {},
   "source": [
    "![title](Screen.png)"
   ]
  },
  {
   "cell_type": "markdown",
   "metadata": {},
   "source": [
    "## Importing Libraries & Defining functions"
   ]
  },
  {
   "cell_type": "code",
   "execution_count": 48,
   "metadata": {},
   "outputs": [],
   "source": [
    "import pandas as pd\n",
    "import numpy as np\n",
    "import seaborn as sns\n",
    "import matplotlib.pyplot as plt\n",
    "import warnings\n",
    "import pickle\n",
    "from datetime import datetime\n",
    "from scipy import sparse\n",
    "\n",
    "\n",
    "# Preprocessing\n",
    "from sklearn.preprocessing import label_binarize, StandardScaler\n",
    "from sklearn.model_selection import train_test_split\n",
    "from sklearn.feature_extraction.text import TfidfVectorizer\n",
    "\n",
    "#Model Assestment\n",
    "from sklearn.model_selection import cross_val_score, GridSearchCV\n",
    "from sklearn.metrics import confusion_matrix,classification_report,precision_score, recall_score, roc_curve, auc, precision_recall_curve, average_precision_score\n",
    "from sklearn.preprocessing import label_binarize\n",
    "\n",
    "#Models\n",
    "from sklearn import naive_bayes\n",
    "from sklearn.neighbors import KNeighborsClassifier\n",
    "from sklearn.linear_model import LogisticRegressionCV\n",
    "from sklearn.tree import DecisionTreeClassifier\n",
    "from sklearn.ensemble import BaggingClassifier, RandomForestClassifier, GradientBoostingClassifier, AdaBoostClassifier\n",
    "from sklearn.svm import SVC, LinearSVC\n",
    "from sklearn.neural_network import MLPClassifier\n",
    "\n",
    "warnings.filterwarnings('ignore')\n",
    "#Add settings for SNS"
   ]
  },
  {
   "cell_type": "code",
   "execution_count": 2,
   "metadata": {},
   "outputs": [],
   "source": [
    "def save_pickle(element,file):\n",
    "    with open(file, 'wb') as handle:\n",
    "        pickle.dump(element, handle, protocol=pickle.HIGHEST_PROTOCOL)\n",
    "        \n",
    "def load_pickle(file):\n",
    "    with open(file, 'rb') as handle:\n",
    "        return pickle.load(handle)"
   ]
  },
  {
   "cell_type": "markdown",
   "metadata": {},
   "source": [
    "## Loading Data"
   ]
  },
  {
   "cell_type": "code",
   "execution_count": 3,
   "metadata": {
    "scrolled": true
   },
   "outputs": [],
   "source": [
    "# Reviews Content\n",
    "reviews = pd.read_csv('reviews_step_5.csv', index_col=0)"
   ]
  },
  {
   "cell_type": "code",
   "execution_count": 4,
   "metadata": {},
   "outputs": [],
   "source": [
    "word_type_df = load_pickle('word_type.pkl')"
   ]
  },
  {
   "cell_type": "markdown",
   "metadata": {},
   "source": [
    "## Assesing Models"
   ]
  },
  {
   "cell_type": "markdown",
   "metadata": {},
   "source": [
    "### Model Scorer"
   ]
  },
  {
   "cell_type": "code",
   "execution_count": 19,
   "metadata": {},
   "outputs": [],
   "source": [
    "# Resetting results\n",
    "model_results = {}"
   ]
  },
  {
   "cell_type": "code",
   "execution_count": 20,
   "metadata": {},
   "outputs": [],
   "source": [
    "## pre-setting random state\n",
    "random_state = 14\n",
    "\n",
    "##Estimating Baseline\n",
    "baseline = reviews.stars_grouped.value_counts(normalize = True)[0]\n",
    "\n",
    "\n",
    "\n",
    "def grid(model_name,model_type,param_dict,Xtr,ytr,Xte,yte,scoring='roc_auc'):\n",
    "    \n",
    "    start = datetime.now()\n",
    "    \n",
    "    #Fitting grid\n",
    "    grid = GridSearchCV(model_type,param_dict,n_jobs = -1,scoring=scoring,verbose =2,cv = 5).fit(Xtr,ytr)\n",
    "    grid_time = datetime.now()\n",
    "    print('Time\\nGrid fitting took {}'.format(grid_time - start))\n",
    "    \n",
    "    #Extracting best model and predictions\n",
    "    model = grid.best_estimator_\n",
    "    yte_hat = model.predict(Xte)\n",
    "    \n",
    "    # binarising for roc_auc\n",
    "    yte_bin = label_binarize(yte, classes=['Good Review','Bad Review'])\n",
    "    yte_hat_bin = label_binarize(yte_hat, classes=['Good Review','Bad Review'])\n",
    "    \n",
    "    # cross validating for accuracy\n",
    "    scores = cross_val_score(model,Xtr,ytr,cv = 5,scoring = 'accuracy')\n",
    "    cv_time = datetime.now()\n",
    "    print('CV took {}'.format(cv_time - grid_time))\n",
    "\n",
    "    # additional calculations\n",
    "    fpr, tpr, threshold = roc_curve(yte_bin, yte_hat_bin,pos_label = 1)\n",
    "    roc_auc = auc(fpr, tpr)\n",
    "    \n",
    "    # storing results  \n",
    "    model_results[model_name] = {\n",
    "        'model': model,\n",
    "        'accuracy train' : model.score(Xtr,ytr),\n",
    "        'accuracy test' : model.score(Xte,yte),\n",
    "        'accuracy cv' : np.mean(scores),\n",
    "        'confusion' : confusion_matrix(yte,yte_hat,model.classes_),\n",
    "        'report': classification_report(yte,yte_hat, labels = model.classes_),\n",
    "        'precision': precision_score(yte,yte_hat, labels = model.classes_,pos_label ='Bad Review'),\n",
    "        'recall': recall_score(yte,yte_hat, labels = model.classes_,pos_label ='Bad Review'),\n",
    "         'AUC': roc_auc,\n",
    "         'AUC CV':grid.best_score_\n",
    "    }    \n",
    "\n",
    "    #printing results\n",
    "    print('\\nModel Scores')\n",
    "    print('Accuracy on train data: {}'.format(model_results[model_name]['accuracy train']))\n",
    "    print('Accuracy on test data: {}'.format(model_results[model_name]['accuracy test']))\n",
    "    print('Accuracy on CV: {}'.format(model_results[model_name]['accuracy cv']))\n",
    "    print('Baseline: {}\\n'.format(baseline))\n",
    "    \n",
    "    print('AUC CV: {}'.format(model_results[model_name]['AUC CV'])) \n",
    "    print('\\nConfusion Matrix')\n",
    "    print(model_results[model_name]['confusion'])    \n",
    "    print('\\nClassification Report')\n",
    "    print(model_results[model_name]['report'])\n",
    "    \n",
    "    print('Best Estimator Parameters'.format(model_name))\n",
    "    print(model.get_params())\n",
    "    finish = datetime.now()\n",
    "    return grid"
   ]
  },
  {
   "cell_type": "markdown",
   "metadata": {},
   "source": [
    "## Different Log Reg Versions"
   ]
  },
  {
   "cell_type": "code",
   "execution_count": 21,
   "metadata": {},
   "outputs": [],
   "source": [
    "Cs = 10"
   ]
  },
  {
   "cell_type": "markdown",
   "metadata": {},
   "source": [
    "### Bag of words - Adj - 0%"
   ]
  },
  {
   "cell_type": "code",
   "execution_count": 22,
   "metadata": {
    "collapsed": true
   },
   "outputs": [
    {
     "name": "stdout",
     "output_type": "stream",
     "text": [
      "Fitting 5 folds for each of 2 candidates, totalling 10 fits\n"
     ]
    },
    {
     "name": "stderr",
     "output_type": "stream",
     "text": [
      "[Parallel(n_jobs=-1)]: Using backend LokyBackend with 8 concurrent workers.\n",
      "[Parallel(n_jobs=-1)]: Done   7 out of  10 | elapsed:   19.2s remaining:    8.2s\n",
      "[Parallel(n_jobs=-1)]: Done  10 out of  10 | elapsed:   20.9s finished\n"
     ]
    },
    {
     "name": "stdout",
     "output_type": "stream",
     "text": [
      "Time\n",
      "Grid fitting took 0:00:33.684793\n",
      "CV took 0:00:49.796678\n",
      "\n",
      "Model Scores\n",
      "Accuracy on train data: 0.9373232097662647\n",
      "Accuracy on test data: 0.8211184439041334\n",
      "Accuracy on CV: 0.8280482129560685\n",
      "Baseline: 0.6779908295122968\n",
      "\n",
      "AUC CV: 0.892520096438924\n",
      "\n",
      "Confusion Matrix\n",
      "[[ 572  355]\n",
      " [ 160 1792]]\n",
      "\n",
      "Classification Report\n",
      "              precision    recall  f1-score   support\n",
      "\n",
      "  Bad Review       0.78      0.62      0.69       927\n",
      " Good Review       0.83      0.92      0.87      1952\n",
      "\n",
      "    accuracy                           0.82      2879\n",
      "   macro avg       0.81      0.77      0.78      2879\n",
      "weighted avg       0.82      0.82      0.81      2879\n",
      "\n",
      "Best Estimator Parameters\n",
      "{'Cs': 10, 'class_weight': None, 'cv': None, 'dual': False, 'fit_intercept': True, 'intercept_scaling': 1.0, 'l1_ratios': None, 'max_iter': 100, 'multi_class': 'auto', 'n_jobs': None, 'penalty': 'l2', 'random_state': 14, 'refit': True, 'scoring': None, 'solver': 'liblinear', 'tol': 0.0001, 'verbose': 0}\n"
     ]
    }
   ],
   "source": [
    "#Settings\n",
    "name = 'BOW - ADJ 0% - LogReg'\n",
    "per = 0\n",
    "with_mean = False\n",
    "\n",
    "#X with adj only\n",
    "adj_X = word_type_df.apply(lambda x: x['ADJ'], axis = 1)\n",
    "\n",
    "#Defining target\n",
    "adj_y = reviews.stars_grouped\n",
    "\n",
    "#Train_Test\n",
    "adj_Xtrain, adj_Xtest,adj_ytrain, adj_ytest = train_test_split(adj_X,adj_y,test_size = 0.3, stratify = adj_y, random_state = 14)\n",
    "\n",
    "#TFID vectoriser\n",
    "adj_tvec = TfidfVectorizer(strip_accents='unicode', ngram_range=(1,1),stop_words = 'english',max_df=0.5, min_df=per)\n",
    "adj_train_matrix = adj_tvec.fit_transform(adj_Xtrain)\n",
    "adj_test_matrix = adj_tvec.transform(adj_Xtest)\n",
    "\n",
    "# Keeping mean to work with Sparse Matrix\n",
    "scaler = StandardScaler(with_mean = with_mean)\n",
    "adj_Xtrain_std = scaler.fit_transform(adj_train_matrix)\n",
    "adj_Xtest_std = scaler.transform(adj_test_matrix)\n",
    "\n",
    "\n",
    "#logistic regression parameter dictionaty\n",
    "log_dict = {\n",
    "    'Cs':[Cs],\n",
    "    'penalty':['l1','l2'],\n",
    "    'solver': ['liblinear']}\n",
    "\n",
    "#logistic regression parameter dictionaty\n",
    "log_grid = grid(\n",
    "    name,LogisticRegressionCV(random_state = random_state),log_dict, \n",
    "    adj_Xtrain_std,adj_ytrain,\n",
    "    adj_Xtest_std,adj_ytest,\n",
    "    scoring = 'roc_auc')"
   ]
  },
  {
   "cell_type": "markdown",
   "metadata": {},
   "source": [
    "### Bag of words - Adj - 2%"
   ]
  },
  {
   "cell_type": "code",
   "execution_count": 23,
   "metadata": {
    "collapsed": true
   },
   "outputs": [
    {
     "name": "stdout",
     "output_type": "stream",
     "text": [
      "Fitting 5 folds for each of 2 candidates, totalling 10 fits\n"
     ]
    },
    {
     "name": "stderr",
     "output_type": "stream",
     "text": [
      "[Parallel(n_jobs=-1)]: Using backend LokyBackend with 8 concurrent workers.\n",
      "[Parallel(n_jobs=-1)]: Done   7 out of  10 | elapsed:    0.9s remaining:    0.4s\n",
      "[Parallel(n_jobs=-1)]: Done  10 out of  10 | elapsed:    1.2s finished\n"
     ]
    },
    {
     "name": "stdout",
     "output_type": "stream",
     "text": [
      "Time\n",
      "Grid fitting took 0:00:01.719801\n",
      "CV took 0:00:02.061007\n",
      "\n",
      "Model Scores\n",
      "Accuracy on train data: 0.8354920351347328\n",
      "Accuracy on test data: 0.8245918721778396\n",
      "Accuracy on CV: 0.8219434767577918\n",
      "Baseline: 0.6779908295122968\n",
      "\n",
      "AUC CV: 0.8800418191956055\n",
      "\n",
      "Confusion Matrix\n",
      "[[ 576  351]\n",
      " [ 154 1798]]\n",
      "\n",
      "Classification Report\n",
      "              precision    recall  f1-score   support\n",
      "\n",
      "  Bad Review       0.79      0.62      0.70       927\n",
      " Good Review       0.84      0.92      0.88      1952\n",
      "\n",
      "    accuracy                           0.82      2879\n",
      "   macro avg       0.81      0.77      0.79      2879\n",
      "weighted avg       0.82      0.82      0.82      2879\n",
      "\n",
      "Best Estimator Parameters\n",
      "{'Cs': 10, 'class_weight': None, 'cv': None, 'dual': False, 'fit_intercept': True, 'intercept_scaling': 1.0, 'l1_ratios': None, 'max_iter': 100, 'multi_class': 'auto', 'n_jobs': None, 'penalty': 'l2', 'random_state': 14, 'refit': True, 'scoring': None, 'solver': 'liblinear', 'tol': 0.0001, 'verbose': 0}\n"
     ]
    }
   ],
   "source": [
    "#Settings\n",
    "name = 'BOW - ADJ 2% - LogReg'\n",
    "per = 0.02\n",
    "with_mean = False\n",
    "\n",
    "#X with adj only\n",
    "adj_X = word_type_df.apply(lambda x: x['ADJ'], axis = 1)\n",
    "\n",
    "#Defining target\n",
    "adj_y = reviews.stars_grouped\n",
    "\n",
    "#Train_Test\n",
    "adj_Xtrain, adj_Xtest,adj_ytrain, adj_ytest = train_test_split(adj_X,adj_y,test_size = 0.3, stratify = adj_y,\n",
    "                                                               random_state = random_state)\n",
    "\n",
    "#TFID vectoriser\n",
    "adj_tvec = TfidfVectorizer(strip_accents='unicode', ngram_range=(1,1),\n",
    "                           stop_words = 'english',max_df=0.5, min_df=per)\n",
    "adj_train_matrix = adj_tvec.fit_transform(adj_Xtrain)\n",
    "adj_test_matrix = adj_tvec.transform(adj_Xtest)\n",
    "\n",
    "# Keeping mean to work with Sparse Matrix\n",
    "scaler = StandardScaler(with_mean = with_mean)\n",
    "adj_Xtrain_std = scaler.fit_transform(adj_train_matrix)\n",
    "adj_Xtest_std = scaler.transform(adj_test_matrix)\n",
    "\n",
    "\n",
    "#logistic regression parameter dictionaty\n",
    "log_dict = {\n",
    "    'Cs':[Cs],\n",
    "    'penalty':['l1','l2'],\n",
    "    'solver': ['liblinear']}\n",
    "\n",
    "#logistic regression parameter dictionaty\n",
    "log_grid = grid(\n",
    "    name,LogisticRegressionCV(random_state = random_state),log_dict, \n",
    "    adj_Xtrain_std,adj_ytrain,\n",
    "    adj_Xtest_std,adj_ytest,\n",
    "    scoring = 'roc_auc')"
   ]
  },
  {
   "cell_type": "markdown",
   "metadata": {},
   "source": [
    "### Bag of words - Nouns - 0%"
   ]
  },
  {
   "cell_type": "code",
   "execution_count": 24,
   "metadata": {
    "collapsed": true
   },
   "outputs": [
    {
     "name": "stdout",
     "output_type": "stream",
     "text": [
      "Fitting 5 folds for each of 2 candidates, totalling 10 fits\n"
     ]
    },
    {
     "name": "stderr",
     "output_type": "stream",
     "text": [
      "[Parallel(n_jobs=-1)]: Using backend LokyBackend with 8 concurrent workers.\n",
      "[Parallel(n_jobs=-1)]: Done   7 out of  10 | elapsed:   13.9s remaining:    6.0s\n",
      "[Parallel(n_jobs=-1)]: Done  10 out of  10 | elapsed:   14.9s finished\n"
     ]
    },
    {
     "name": "stdout",
     "output_type": "stream",
     "text": [
      "Time\n",
      "Grid fitting took 0:00:17.001488\n",
      "CV took 0:00:08.757150\n",
      "\n",
      "Model Scores\n",
      "Accuracy on train data: 0.970522554711925\n",
      "Accuracy on test data: 0.783605418548107\n",
      "Accuracy on CV: 0.7792148663262773\n",
      "Baseline: 0.6779908295122968\n",
      "\n",
      "AUC CV: 0.8288468183521172\n",
      "\n",
      "Confusion Matrix\n",
      "[[ 503  424]\n",
      " [ 199 1753]]\n",
      "\n",
      "Classification Report\n",
      "              precision    recall  f1-score   support\n",
      "\n",
      "  Bad Review       0.72      0.54      0.62       927\n",
      " Good Review       0.81      0.90      0.85      1952\n",
      "\n",
      "    accuracy                           0.78      2879\n",
      "   macro avg       0.76      0.72      0.73      2879\n",
      "weighted avg       0.78      0.78      0.77      2879\n",
      "\n",
      "Best Estimator Parameters\n",
      "{'Cs': 10, 'class_weight': None, 'cv': None, 'dual': False, 'fit_intercept': True, 'intercept_scaling': 1.0, 'l1_ratios': None, 'max_iter': 100, 'multi_class': 'auto', 'n_jobs': None, 'penalty': 'l1', 'random_state': 14, 'refit': True, 'scoring': None, 'solver': 'liblinear', 'tol': 0.0001, 'verbose': 0}\n"
     ]
    }
   ],
   "source": [
    "#Settings\n",
    "name = 'BOW - NOUN 0% - LR'\n",
    "per = 0.00\n",
    "with_mean = False\n",
    "\n",
    "#X with noun only\n",
    "noun_X = word_type_df.apply(lambda x: x['NOUN'], axis = 1)\n",
    "\n",
    "#Defining target\n",
    "noun_y = reviews.stars_grouped\n",
    "\n",
    "#Train_Test\n",
    "noun_Xtrain, noun_Xtest,noun_ytrain, noun_ytest = train_test_split(noun_X,noun_y,test_size = 0.3, stratify = noun_y,\n",
    "                                                                   random_state = random_state)\n",
    "\n",
    "#TFID vectoriser\n",
    "noun_tvec = TfidfVectorizer(strip_accents='unicode', ngram_range=(1,1),\n",
    "                            stop_words = 'english',max_df=0.5, min_df=per)\n",
    "noun_train_matrix = noun_tvec.fit_transform(noun_Xtrain)\n",
    "noun_test_matrix = noun_tvec.transform(noun_Xtest)\n",
    "\n",
    "# Keeping mean to work with Sparse Matrix\n",
    "scaler = StandardScaler(with_mean = with_mean)\n",
    "noun_Xtrain_std = scaler.fit_transform(noun_train_matrix)\n",
    "noun_Xtest_std = scaler.transform(noun_test_matrix)\n",
    "\n",
    "\n",
    "#logistic regression parameter dictionaty\n",
    "log_dict = {\n",
    "    'Cs':[Cs],\n",
    "    'penalty':['l1','l2'],\n",
    "    'solver': ['liblinear']}\n",
    "\n",
    "#logistic regression parameter dictionaty\n",
    "log_grid = grid(\n",
    "    name,LogisticRegressionCV(random_state = random_state),log_dict, \n",
    "    noun_Xtrain_std,noun_ytrain,\n",
    "    noun_Xtest_std,noun_ytest,\n",
    "    scoring = 'roc_auc')"
   ]
  },
  {
   "cell_type": "markdown",
   "metadata": {},
   "source": [
    "### Bag of words - Nouns - 2%"
   ]
  },
  {
   "cell_type": "code",
   "execution_count": 25,
   "metadata": {
    "collapsed": true
   },
   "outputs": [
    {
     "name": "stdout",
     "output_type": "stream",
     "text": [
      "Fitting 5 folds for each of 2 candidates, totalling 10 fits\n"
     ]
    },
    {
     "name": "stderr",
     "output_type": "stream",
     "text": [
      "[Parallel(n_jobs=-1)]: Using backend LokyBackend with 8 concurrent workers.\n",
      "[Parallel(n_jobs=-1)]: Done   7 out of  10 | elapsed:    3.1s remaining:    1.3s\n",
      "[Parallel(n_jobs=-1)]: Done  10 out of  10 | elapsed:    3.8s finished\n"
     ]
    },
    {
     "name": "stdout",
     "output_type": "stream",
     "text": [
      "Time\n",
      "Grid fitting took 0:00:04.960221\n",
      "CV took 0:00:04.629904\n",
      "\n",
      "Model Scores\n",
      "Accuracy on train data: 0.7851719517641804\n",
      "Accuracy on test data: 0.7537339353942341\n",
      "Accuracy on CV: 0.7595643637201717\n",
      "Baseline: 0.6779908295122968\n",
      "\n",
      "AUC CV: 0.7931115357988665\n",
      "\n",
      "Confusion Matrix\n",
      "[[ 405  522]\n",
      " [ 187 1765]]\n",
      "\n",
      "Classification Report\n",
      "              precision    recall  f1-score   support\n",
      "\n",
      "  Bad Review       0.68      0.44      0.53       927\n",
      " Good Review       0.77      0.90      0.83      1952\n",
      "\n",
      "    accuracy                           0.75      2879\n",
      "   macro avg       0.73      0.67      0.68      2879\n",
      "weighted avg       0.74      0.75      0.74      2879\n",
      "\n",
      "Best Estimator Parameters\n",
      "{'Cs': 10, 'class_weight': None, 'cv': None, 'dual': False, 'fit_intercept': True, 'intercept_scaling': 1.0, 'l1_ratios': None, 'max_iter': 100, 'multi_class': 'auto', 'n_jobs': None, 'penalty': 'l1', 'random_state': 14, 'refit': True, 'scoring': None, 'solver': 'liblinear', 'tol': 0.0001, 'verbose': 0}\n"
     ]
    }
   ],
   "source": [
    "name = 'BOW - NOUN 2% - LR'\n",
    "per = 0.02\n",
    "with_mean = False\n",
    "\n",
    "#X with noun only\n",
    "noun_X = word_type_df.apply(lambda x: x['NOUN'], axis = 1)\n",
    "\n",
    "#Defining target\n",
    "noun_y = reviews.stars_grouped\n",
    "\n",
    "#Train_Test\n",
    "noun_Xtrain, noun_Xtest,noun_ytrain, noun_ytest = train_test_split(noun_X,noun_y,test_size = 0.3, stratify = noun_y,\n",
    "                                                                   random_state = random_state)\n",
    "\n",
    "#TFID vectoriser\n",
    "noun_tvec = TfidfVectorizer(strip_accents='unicode', ngram_range=(1,1),\n",
    "                            stop_words = 'english',max_df=0.5, min_df=per)\n",
    "noun_train_matrix = noun_tvec.fit_transform(noun_Xtrain)\n",
    "noun_test_matrix = noun_tvec.transform(noun_Xtest)\n",
    "\n",
    "# Keeping mean to work with Sparse Matrix\n",
    "scaler = StandardScaler(with_mean = with_mean)\n",
    "noun_Xtrain_std = scaler.fit_transform(noun_train_matrix)\n",
    "noun_Xtest_std = scaler.transform(noun_test_matrix)\n",
    "\n",
    "\n",
    "#logistic regression parameter dictionaty\n",
    "log_dict = {\n",
    "    'Cs':[Cs],\n",
    "    'penalty':['l1','l2'],\n",
    "    'solver': ['liblinear']}\n",
    "\n",
    "#logistic regression parameter dictionaty\n",
    "log_grid = grid(\n",
    "    name,LogisticRegressionCV(random_state = random_state),log_dict, \n",
    "    noun_Xtrain_std,noun_ytrain,\n",
    "    noun_Xtest_std,noun_ytest,\n",
    "    scoring = 'roc_auc')"
   ]
  },
  {
   "cell_type": "markdown",
   "metadata": {},
   "source": [
    "### Bag of words - Verbs - 0%"
   ]
  },
  {
   "cell_type": "code",
   "execution_count": 26,
   "metadata": {
    "collapsed": true
   },
   "outputs": [
    {
     "name": "stdout",
     "output_type": "stream",
     "text": [
      "Fitting 5 folds for each of 2 candidates, totalling 10 fits\n"
     ]
    },
    {
     "name": "stderr",
     "output_type": "stream",
     "text": [
      "[Parallel(n_jobs=-1)]: Using backend LokyBackend with 8 concurrent workers.\n",
      "[Parallel(n_jobs=-1)]: Done   7 out of  10 | elapsed:   13.5s remaining:    5.8s\n",
      "[Parallel(n_jobs=-1)]: Done  10 out of  10 | elapsed:   15.2s finished\n"
     ]
    },
    {
     "name": "stdout",
     "output_type": "stream",
     "text": [
      "Time\n",
      "Grid fitting took 0:02:34.389144\n",
      "CV took 0:00:09.158313\n",
      "\n",
      "Model Scores\n",
      "Accuracy on train data: 0.9423849933005806\n",
      "Accuracy on test data: 0.7908996179228899\n",
      "Accuracy on CV: 0.7885957389284828\n",
      "Baseline: 0.6779908295122968\n",
      "\n",
      "AUC CV: 0.8360108928905557\n",
      "\n",
      "Confusion Matrix\n",
      "[[ 506  421]\n",
      " [ 181 1771]]\n",
      "\n",
      "Classification Report\n",
      "              precision    recall  f1-score   support\n",
      "\n",
      "  Bad Review       0.74      0.55      0.63       927\n",
      " Good Review       0.81      0.91      0.85      1952\n",
      "\n",
      "    accuracy                           0.79      2879\n",
      "   macro avg       0.77      0.73      0.74      2879\n",
      "weighted avg       0.78      0.79      0.78      2879\n",
      "\n",
      "Best Estimator Parameters\n",
      "{'Cs': 10, 'class_weight': None, 'cv': None, 'dual': False, 'fit_intercept': True, 'intercept_scaling': 1.0, 'l1_ratios': None, 'max_iter': 100, 'multi_class': 'auto', 'n_jobs': None, 'penalty': 'l1', 'random_state': 14, 'refit': True, 'scoring': None, 'solver': 'liblinear', 'tol': 0.0001, 'verbose': 0}\n"
     ]
    }
   ],
   "source": [
    "name = 'BOW - VERB 0% - LR'\n",
    "per = 0\n",
    "with_mean = False\n",
    "\n",
    "#X with verb only\n",
    "verb_X = word_type_df.apply(lambda x: x['VERB'], axis = 1)\n",
    "\n",
    "#Defining target\n",
    "verb_y = reviews.stars_grouped\n",
    "\n",
    "#Train_Test\n",
    "verb_Xtrain, verb_Xtest,verb_ytrain, verb_ytest = train_test_split(verb_X,verb_y,test_size = 0.3, stratify = verb_y, random_state = random_state)\n",
    "\n",
    "#TFID vectoriser\n",
    "verb_tvec = TfidfVectorizer(strip_accents='unicode', ngram_range=(1,1),stop_words = 'english',max_df=0.5, min_df=per)\n",
    "verb_train_matrix = verb_tvec.fit_transform(verb_Xtrain)\n",
    "verb_test_matrix = verb_tvec.transform(verb_Xtest)\n",
    "\n",
    "# Keeping mean to work with Sparse Matrix\n",
    "scaler = StandardScaler(with_mean = with_mean)\n",
    "verb_Xtrain_std = scaler.fit_transform(verb_train_matrix)\n",
    "verb_Xtest_std = scaler.transform(verb_test_matrix)\n",
    "\n",
    "\n",
    "#logistic regression parameter dictionaty\n",
    "log_dict = {\n",
    "    'Cs':[Cs],\n",
    "    'penalty':['l1','l2'],\n",
    "    'solver': ['liblinear']}\n",
    "\n",
    "#logistic regression parameter dictionaty\n",
    "log_grid = grid(\n",
    "    name,LogisticRegressionCV(random_state = random_state),log_dict, \n",
    "    verb_Xtrain_std,verb_ytrain,\n",
    "    verb_Xtest_std,verb_ytest,\n",
    "    scoring = 'roc_auc')"
   ]
  },
  {
   "cell_type": "markdown",
   "metadata": {},
   "source": [
    "### Bag of words - Verbs - 2%"
   ]
  },
  {
   "cell_type": "code",
   "execution_count": 27,
   "metadata": {
    "collapsed": true
   },
   "outputs": [
    {
     "name": "stdout",
     "output_type": "stream",
     "text": [
      "Fitting 5 folds for each of 2 candidates, totalling 10 fits\n"
     ]
    },
    {
     "name": "stderr",
     "output_type": "stream",
     "text": [
      "[Parallel(n_jobs=-1)]: Using backend LokyBackend with 8 concurrent workers.\n",
      "[Parallel(n_jobs=-1)]: Done   7 out of  10 | elapsed:    0.9s remaining:    0.4s\n",
      "[Parallel(n_jobs=-1)]: Done  10 out of  10 | elapsed:    1.3s finished\n"
     ]
    },
    {
     "name": "stdout",
     "output_type": "stream",
     "text": [
      "Time\n",
      "Grid fitting took 0:00:01.819546\n",
      "CV took 0:00:01.843729\n",
      "\n",
      "Model Scores\n",
      "Accuracy on train data: 0.7949977668602054\n",
      "Accuracy on test data: 0.7787426189649184\n",
      "Accuracy on CV: 0.7784742536255008\n",
      "Baseline: 0.6779908295122968\n",
      "\n",
      "AUC CV: 0.813833073425269\n",
      "\n",
      "Confusion Matrix\n",
      "[[ 507  420]\n",
      " [ 217 1735]]\n",
      "\n",
      "Classification Report\n",
      "              precision    recall  f1-score   support\n",
      "\n",
      "  Bad Review       0.70      0.55      0.61       927\n",
      " Good Review       0.81      0.89      0.84      1952\n",
      "\n",
      "    accuracy                           0.78      2879\n",
      "   macro avg       0.75      0.72      0.73      2879\n",
      "weighted avg       0.77      0.78      0.77      2879\n",
      "\n",
      "Best Estimator Parameters\n",
      "{'Cs': 10, 'class_weight': None, 'cv': None, 'dual': False, 'fit_intercept': True, 'intercept_scaling': 1.0, 'l1_ratios': None, 'max_iter': 100, 'multi_class': 'auto', 'n_jobs': None, 'penalty': 'l1', 'random_state': 14, 'refit': True, 'scoring': None, 'solver': 'liblinear', 'tol': 0.0001, 'verbose': 0}\n"
     ]
    }
   ],
   "source": [
    "name = 'BOW - VERB 2% - LR'\n",
    "per = 0.02\n",
    "with_mean = False\n",
    "\n",
    "#X with verb only\n",
    "verb_X = word_type_df.apply(lambda x: x['VERB'], axis = 1)\n",
    "\n",
    "#Defining target\n",
    "verb_y = reviews.stars_grouped\n",
    "\n",
    "#Train_Test\n",
    "verb_Xtrain, verb_Xtest,verb_ytrain, verb_ytest = train_test_split(verb_X,verb_y,test_size = 0.3, stratify = verb_y, random_state = random_state)\n",
    "\n",
    "#TFID vectoriser\n",
    "verb_tvec = TfidfVectorizer(strip_accents='unicode', ngram_range=(1,1),stop_words = 'english',max_df=0.5, min_df=per)\n",
    "verb_train_matrix = verb_tvec.fit_transform(verb_Xtrain)\n",
    "verb_test_matrix = verb_tvec.transform(verb_Xtest)\n",
    "\n",
    "# Keeping mean to work with Sparse Matrix\n",
    "scaler = StandardScaler(with_mean = with_mean)\n",
    "verb_Xtrain_std = scaler.fit_transform(verb_train_matrix)\n",
    "verb_Xtest_std = scaler.transform(verb_test_matrix)\n",
    "\n",
    "\n",
    "#logistic regression parameter dictionaty\n",
    "log_dict = {\n",
    "    'Cs':[Cs],\n",
    "    'penalty':['l1','l2'],\n",
    "    'solver': ['liblinear']}\n",
    "\n",
    "#logistic regression parameter dictionaty\n",
    "log_grid = grid(\n",
    "    name,LogisticRegressionCV(random_state = random_state),log_dict, \n",
    "    verb_Xtrain_std,verb_ytrain,\n",
    "    verb_Xtest_std,verb_ytest,\n",
    "    scoring = 'roc_auc')"
   ]
  },
  {
   "cell_type": "markdown",
   "metadata": {},
   "source": [
    "### Bag of words - Adverbs - 0%"
   ]
  },
  {
   "cell_type": "code",
   "execution_count": 28,
   "metadata": {
    "collapsed": true
   },
   "outputs": [
    {
     "name": "stdout",
     "output_type": "stream",
     "text": [
      "Fitting 5 folds for each of 2 candidates, totalling 10 fits\n"
     ]
    },
    {
     "name": "stderr",
     "output_type": "stream",
     "text": [
      "[Parallel(n_jobs=-1)]: Using backend LokyBackend with 8 concurrent workers.\n",
      "[Parallel(n_jobs=-1)]: Done   7 out of  10 | elapsed:    2.7s remaining:    1.1s\n",
      "[Parallel(n_jobs=-1)]: Done  10 out of  10 | elapsed:    3.0s finished\n"
     ]
    },
    {
     "name": "stdout",
     "output_type": "stream",
     "text": [
      "Time\n",
      "Grid fitting took 0:00:03.325724\n",
      "CV took 0:00:01.277336\n",
      "\n",
      "Model Scores\n",
      "Accuracy on train data: 0.7947000148875987\n",
      "Accuracy on test data: 0.7360194511983328\n",
      "Accuracy on CV: 0.7315770928624615\n",
      "Baseline: 0.6779908295122968\n",
      "\n",
      "AUC CV: 0.724359060889496\n",
      "\n",
      "Confusion Matrix\n",
      "[[ 348  579]\n",
      " [ 181 1771]]\n",
      "\n",
      "Classification Report\n",
      "              precision    recall  f1-score   support\n",
      "\n",
      "  Bad Review       0.66      0.38      0.48       927\n",
      " Good Review       0.75      0.91      0.82      1952\n",
      "\n",
      "    accuracy                           0.74      2879\n",
      "   macro avg       0.71      0.64      0.65      2879\n",
      "weighted avg       0.72      0.74      0.71      2879\n",
      "\n",
      "Best Estimator Parameters\n",
      "{'Cs': 10, 'class_weight': None, 'cv': None, 'dual': False, 'fit_intercept': True, 'intercept_scaling': 1.0, 'l1_ratios': None, 'max_iter': 100, 'multi_class': 'auto', 'n_jobs': None, 'penalty': 'l1', 'random_state': 14, 'refit': True, 'scoring': None, 'solver': 'liblinear', 'tol': 0.0001, 'verbose': 0}\n"
     ]
    }
   ],
   "source": [
    "name = 'BOW - ADV 0% - LR'\n",
    "per = 0\n",
    "with_mean = False\n",
    "\n",
    "#X with adv only\n",
    "adv_X = word_type_df.apply(lambda x: x['ADV'], axis = 1)\n",
    "\n",
    "#Defining target\n",
    "adv_y = reviews.stars_grouped\n",
    "\n",
    "#Train_Test\n",
    "adv_Xtrain, adv_Xtest,adv_ytrain, adv_ytest = train_test_split(adv_X,adv_y,test_size = 0.3, stratify = adv_y,\n",
    "                                                               random_state = random_state)\n",
    "\n",
    "#TFID vectoriser\n",
    "adv_tvec = TfidfVectorizer(strip_accents='unicode', ngram_range=(1,1),\n",
    "                           stop_words = 'english',max_df=0.5, min_df=per)\n",
    "adv_train_matrix = adv_tvec.fit_transform(adv_Xtrain)\n",
    "adv_test_matrix = adv_tvec.transform(adv_Xtest)\n",
    "\n",
    "# Keeping mean to work with Sparse Matrix\n",
    "scaler = StandardScaler(with_mean = with_mean)\n",
    "adv_Xtrain_std = scaler.fit_transform(adv_train_matrix)\n",
    "adv_Xtest_std = scaler.transform(adv_test_matrix)\n",
    "\n",
    "\n",
    "#logistic regression parameter dictionaty\n",
    "log_dict = {\n",
    "    'Cs':[Cs],\n",
    "    'penalty':['l1','l2'],\n",
    "    'solver': ['liblinear']}\n",
    "\n",
    "#logistic regression parameter dictionaty\n",
    "log_grid = grid(\n",
    "    'BOW - ADV 0% - LR',LogisticRegressionCV(random_state = random_state),log_dict, \n",
    "    adv_Xtrain_std,adv_ytrain,\n",
    "    adv_Xtest_std,adv_ytest,\n",
    "    scoring = 'roc_auc')"
   ]
  },
  {
   "cell_type": "markdown",
   "metadata": {},
   "source": [
    "### Bag of words - Adverbs - 2%"
   ]
  },
  {
   "cell_type": "code",
   "execution_count": 29,
   "metadata": {
    "collapsed": true
   },
   "outputs": [
    {
     "name": "stdout",
     "output_type": "stream",
     "text": [
      "Fitting 5 folds for each of 2 candidates, totalling 10 fits\n"
     ]
    },
    {
     "name": "stderr",
     "output_type": "stream",
     "text": [
      "[Parallel(n_jobs=-1)]: Using backend LokyBackend with 8 concurrent workers.\n",
      "[Parallel(n_jobs=-1)]: Done   7 out of  10 | elapsed:    0.4s remaining:    0.2s\n",
      "[Parallel(n_jobs=-1)]: Done  10 out of  10 | elapsed:    0.6s finished\n"
     ]
    },
    {
     "name": "stdout",
     "output_type": "stream",
     "text": [
      "Time\n",
      "Grid fitting took 0:00:00.810633\n",
      "CV took 0:00:00.888480\n",
      "\n",
      "Model Scores\n",
      "Accuracy on train data: 0.710436206639869\n",
      "Accuracy on test data: 0.7085793678360541\n",
      "Accuracy on CV: 0.7040330372655391\n",
      "Baseline: 0.6779908295122968\n",
      "\n",
      "AUC CV: 0.6739526174301901\n",
      "\n",
      "Confusion Matrix\n",
      "[[ 255  672]\n",
      " [ 167 1785]]\n",
      "\n",
      "Classification Report\n",
      "              precision    recall  f1-score   support\n",
      "\n",
      "  Bad Review       0.60      0.28      0.38       927\n",
      " Good Review       0.73      0.91      0.81      1952\n",
      "\n",
      "    accuracy                           0.71      2879\n",
      "   macro avg       0.67      0.59      0.59      2879\n",
      "weighted avg       0.69      0.71      0.67      2879\n",
      "\n",
      "Best Estimator Parameters\n",
      "{'Cs': 10, 'class_weight': None, 'cv': None, 'dual': False, 'fit_intercept': True, 'intercept_scaling': 1.0, 'l1_ratios': None, 'max_iter': 100, 'multi_class': 'auto', 'n_jobs': None, 'penalty': 'l1', 'random_state': 14, 'refit': True, 'scoring': None, 'solver': 'liblinear', 'tol': 0.0001, 'verbose': 0}\n"
     ]
    }
   ],
   "source": [
    "name = 'BOW - ADV 2% - LR'\n",
    "per = 0.02\n",
    "with_mean = False\n",
    "\n",
    "#X with adv only\n",
    "adv_X = word_type_df.apply(lambda x: x['ADV'], axis = 1)\n",
    "\n",
    "#Defining target\n",
    "adv_y = reviews.stars_grouped\n",
    "\n",
    "#Train_Test\n",
    "adv_Xtrain, adv_Xtest,adv_ytrain, adv_ytest = train_test_split(adv_X,adv_y,test_size = 0.3, stratify = adv_y,\n",
    "                                                               random_state = random_state)\n",
    "\n",
    "#TFID vectoriser\n",
    "adv_tvec = TfidfVectorizer(strip_accents='unicode', ngram_range=(1,1),\n",
    "                           stop_words = 'english',max_df=0.5, min_df=per) ## HERE\n",
    "adv_train_matrix = adv_tvec.fit_transform(adv_Xtrain)\n",
    "adv_test_matrix = adv_tvec.transform(adv_Xtest)\n",
    "\n",
    "# Keeping mean to work with Sparse Matrix\n",
    "scaler = StandardScaler(with_mean = with_mean) ## Here\n",
    "adv_Xtrain_std = scaler.fit_transform(adv_train_matrix)\n",
    "adv_Xtest_std = scaler.transform(adv_test_matrix)\n",
    "\n",
    "\n",
    "#logistic regression parameter dictionaty\n",
    "log_dict = {\n",
    "    'Cs':[Cs], ## HERE\n",
    "    'penalty':['l1','l2'],\n",
    "    'solver': ['liblinear']}\n",
    "\n",
    "#logistic regression parameter dictionaty\n",
    "log_grid = grid(\n",
    "    name,LogisticRegressionCV(random_state = random_state),log_dict, ## Here\n",
    "    adv_Xtrain_std,adv_ytrain,\n",
    "    adv_Xtest_std,adv_ytest,\n",
    "    scoring = 'roc_auc')"
   ]
  },
  {
   "cell_type": "markdown",
   "metadata": {},
   "source": [
    "### Bag of words - ADJ + VERB - 2%"
   ]
  },
  {
   "cell_type": "code",
   "execution_count": 41,
   "metadata": {},
   "outputs": [
    {
     "name": "stdout",
     "output_type": "stream",
     "text": [
      "Fitting 5 folds for each of 2 candidates, totalling 10 fits\n"
     ]
    },
    {
     "name": "stderr",
     "output_type": "stream",
     "text": [
      "[Parallel(n_jobs=-1)]: Using backend LokyBackend with 8 concurrent workers.\n",
      "[Parallel(n_jobs=-1)]: Done   7 out of  10 | elapsed:    2.0s remaining:    0.8s\n",
      "[Parallel(n_jobs=-1)]: Done  10 out of  10 | elapsed:    2.6s finished\n"
     ]
    },
    {
     "name": "stdout",
     "output_type": "stream",
     "text": [
      "Time\n",
      "Grid fitting took 0:00:03.509571\n",
      "CV took 0:00:03.114408\n",
      "\n",
      "Model Scores\n",
      "Accuracy on train data: 0.8637784725323805\n",
      "Accuracy on test data: 0.8478638416116707\n",
      "Accuracy on CV: 0.8466587109527355\n",
      "Baseline: 0.6779908295122968\n",
      "\n",
      "AUC CV: 0.9042865021375237\n",
      "\n",
      "Confusion Matrix\n",
      "[[ 608  319]\n",
      " [ 119 1833]]\n",
      "\n",
      "Classification Report\n",
      "              precision    recall  f1-score   support\n",
      "\n",
      "  Bad Review       0.84      0.66      0.74       927\n",
      " Good Review       0.85      0.94      0.89      1952\n",
      "\n",
      "    accuracy                           0.85      2879\n",
      "   macro avg       0.84      0.80      0.81      2879\n",
      "weighted avg       0.85      0.85      0.84      2879\n",
      "\n",
      "Best Estimator Parameters\n",
      "{'Cs': 10, 'class_weight': None, 'cv': None, 'dual': False, 'fit_intercept': True, 'intercept_scaling': 1.0, 'l1_ratios': None, 'max_iter': 100, 'multi_class': 'auto', 'n_jobs': None, 'penalty': 'l2', 'random_state': 14, 'refit': True, 'scoring': None, 'solver': 'liblinear', 'tol': 0.0001, 'verbose': 0}\n"
     ]
    }
   ],
   "source": [
    "name = 'BOW - ADJ + VERB 2% - LR'\n",
    "per = 0.02\n",
    "with_mean = False\n",
    "\n",
    "#X with adv only\n",
    "adv_X = word_type_df.apply(lambda x: x['ADJ']+' '+x['VERB'], axis = 1)\n",
    "\n",
    "#Defining target\n",
    "adv_y = reviews.stars_grouped\n",
    "\n",
    "#Train_Test\n",
    "adv_Xtrain, adv_Xtest,adv_ytrain, adv_ytest = train_test_split(adv_X,adv_y,test_size = 0.3, stratify = adv_y,\n",
    "                                                               random_state = random_state)\n",
    "\n",
    "#TFID vectoriser\n",
    "adv_tvec = TfidfVectorizer(strip_accents='unicode', ngram_range=(1,1),\n",
    "                           stop_words = 'english',max_df=0.5, min_df=per) ## HERE\n",
    "adv_train_matrix = adv_tvec.fit_transform(adv_Xtrain)\n",
    "adv_test_matrix = adv_tvec.transform(adv_Xtest)\n",
    "\n",
    "# Keeping mean to work with Sparse Matrix\n",
    "scaler = StandardScaler(with_mean = with_mean) ## Here\n",
    "adv_Xtrain_std = scaler.fit_transform(adv_train_matrix)\n",
    "adv_Xtest_std = scaler.transform(adv_test_matrix)\n",
    "\n",
    "\n",
    "#logistic regression parameter dictionaty\n",
    "log_dict = {\n",
    "    'Cs':[Cs], ## HERE\n",
    "    'penalty':['l1','l2'],\n",
    "    'solver': ['liblinear']}\n",
    "\n",
    "#logistic regression parameter dictionaty\n",
    "log_grid = grid(\n",
    "    name,LogisticRegressionCV(random_state = random_state),log_dict, ## Here\n",
    "    adv_Xtrain_std,adv_ytrain,\n",
    "    adv_Xtest_std,adv_ytest,\n",
    "    scoring = 'roc_auc')"
   ]
  },
  {
   "cell_type": "markdown",
   "metadata": {},
   "source": [
    "### Bag of words - ADJ + VERB + NOUN - 2%"
   ]
  },
  {
   "cell_type": "code",
   "execution_count": 42,
   "metadata": {},
   "outputs": [
    {
     "name": "stdout",
     "output_type": "stream",
     "text": [
      "Fitting 5 folds for each of 2 candidates, totalling 10 fits\n"
     ]
    },
    {
     "name": "stderr",
     "output_type": "stream",
     "text": [
      "[Parallel(n_jobs=-1)]: Using backend LokyBackend with 8 concurrent workers.\n",
      "[Parallel(n_jobs=-1)]: Done   7 out of  10 | elapsed:    5.9s remaining:    2.5s\n",
      "[Parallel(n_jobs=-1)]: Done  10 out of  10 | elapsed:    7.6s finished\n"
     ]
    },
    {
     "name": "stdout",
     "output_type": "stream",
     "text": [
      "Time\n",
      "Grid fitting took 0:00:09.141926\n",
      "CV took 0:00:07.537243\n",
      "\n",
      "Model Scores\n",
      "Accuracy on train data: 0.880303707012059\n",
      "Accuracy on test data: 0.8568947551233067\n",
      "Accuracy on CV: 0.8563356513491472\n",
      "Baseline: 0.6779908295122968\n",
      "\n",
      "AUC CV: 0.9127998365966565\n",
      "\n",
      "Confusion Matrix\n",
      "[[ 634  293]\n",
      " [ 119 1833]]\n",
      "\n",
      "Classification Report\n",
      "              precision    recall  f1-score   support\n",
      "\n",
      "  Bad Review       0.84      0.68      0.75       927\n",
      " Good Review       0.86      0.94      0.90      1952\n",
      "\n",
      "    accuracy                           0.86      2879\n",
      "   macro avg       0.85      0.81      0.83      2879\n",
      "weighted avg       0.86      0.86      0.85      2879\n",
      "\n",
      "Best Estimator Parameters\n",
      "{'Cs': 10, 'class_weight': None, 'cv': None, 'dual': False, 'fit_intercept': True, 'intercept_scaling': 1.0, 'l1_ratios': None, 'max_iter': 100, 'multi_class': 'auto', 'n_jobs': None, 'penalty': 'l2', 'random_state': 14, 'refit': True, 'scoring': None, 'solver': 'liblinear', 'tol': 0.0001, 'verbose': 0}\n"
     ]
    }
   ],
   "source": [
    "name = 'BOW - ADJ + VERB + NOUN 2% - LR'\n",
    "per = 0.02\n",
    "with_mean = False\n",
    "\n",
    "#X with adv only\n",
    "adv_X = word_type_df.apply(lambda x: x['ADJ']+' '+x['VERB']+' '+x['NOUN'], axis = 1)\n",
    "\n",
    "#Defining target\n",
    "adv_y = reviews.stars_grouped\n",
    "\n",
    "#Train_Test\n",
    "adv_Xtrain, adv_Xtest,adv_ytrain, adv_ytest = train_test_split(adv_X,adv_y,test_size = 0.3, stratify = adv_y,\n",
    "                                                               random_state = random_state)\n",
    "\n",
    "#TFID vectoriser\n",
    "adv_tvec = TfidfVectorizer(strip_accents='unicode', ngram_range=(1,1),\n",
    "                           stop_words = 'english',max_df=0.5, min_df=per) ## HERE\n",
    "adv_train_matrix = adv_tvec.fit_transform(adv_Xtrain)\n",
    "adv_test_matrix = adv_tvec.transform(adv_Xtest)\n",
    "\n",
    "# Keeping mean to work with Sparse Matrix\n",
    "scaler = StandardScaler(with_mean = with_mean) ## Here\n",
    "adv_Xtrain_std = scaler.fit_transform(adv_train_matrix)\n",
    "adv_Xtest_std = scaler.transform(adv_test_matrix)\n",
    "\n",
    "\n",
    "#logistic regression parameter dictionaty\n",
    "log_dict = {\n",
    "    'Cs':[Cs], ## HERE\n",
    "    'penalty':['l1','l2'],\n",
    "    'solver': ['liblinear']}\n",
    "\n",
    "#logistic regression parameter dictionaty\n",
    "log_grid = grid(\n",
    "    name,LogisticRegressionCV(random_state = random_state),log_dict, ## Here\n",
    "    adv_Xtrain_std,adv_ytrain,\n",
    "    adv_Xtest_std,adv_ytest,\n",
    "    scoring = 'roc_auc')"
   ]
  },
  {
   "cell_type": "markdown",
   "metadata": {},
   "source": [
    "### Bag of words - 4 types - 0%"
   ]
  },
  {
   "cell_type": "code",
   "execution_count": 61,
   "metadata": {},
   "outputs": [
    {
     "name": "stdout",
     "output_type": "stream",
     "text": [
      "Fitting 5 folds for each of 2 candidates, totalling 10 fits\n"
     ]
    },
    {
     "name": "stderr",
     "output_type": "stream",
     "text": [
      "[Parallel(n_jobs=-1)]: Using backend LokyBackend with 8 concurrent workers.\n",
      "[Parallel(n_jobs=-1)]: Done   7 out of  10 | elapsed:   19.9s remaining:    8.5s\n",
      "[Parallel(n_jobs=-1)]: Done  10 out of  10 | elapsed:   23.3s finished\n"
     ]
    },
    {
     "name": "stdout",
     "output_type": "stream",
     "text": [
      "Time\n",
      "Grid fitting took 0:00:26.618199\n",
      "CV took 0:00:13.876082\n",
      "\n",
      "Model Scores\n",
      "Accuracy on train data: 0.9915140687807057\n",
      "Accuracy on test data: 0.8523792983674887\n",
      "Accuracy on CV: 0.850378616636528\n",
      "Baseline: 0.6779908295122968\n",
      "\n",
      "AUC CV: 0.9136506960776092\n",
      "\n",
      "Confusion Matrix\n",
      "[[ 653  274]\n",
      " [ 151 1801]]\n",
      "\n",
      "Classification Report\n",
      "              precision    recall  f1-score   support\n",
      "\n",
      "  Bad Review       0.81      0.70      0.75       927\n",
      " Good Review       0.87      0.92      0.89      1952\n",
      "\n",
      "    accuracy                           0.85      2879\n",
      "   macro avg       0.84      0.81      0.82      2879\n",
      "weighted avg       0.85      0.85      0.85      2879\n",
      "\n",
      "Best Estimator Parameters\n",
      "{'Cs': 10, 'class_weight': None, 'cv': None, 'dual': False, 'fit_intercept': True, 'intercept_scaling': 1.0, 'l1_ratios': None, 'max_iter': 100, 'multi_class': 'auto', 'n_jobs': None, 'penalty': 'l1', 'random_state': 14, 'refit': True, 'scoring': None, 'solver': 'liblinear', 'tol': 0.0001, 'verbose': 0}\n"
     ]
    }
   ],
   "source": [
    "name = 'BOW - 4types 0% - LR'\n",
    "per = 0\n",
    "with_mean = False\n",
    "\n",
    "#X with adv only\n",
    "adv_X = word_type_df.apply(lambda x: x['ADJ']+' '+x['VERB']+' '+x['NOUN']+' '+x['ADV'], axis = 1)\n",
    "\n",
    "#Defining target\n",
    "adv_y = reviews.stars_grouped\n",
    "\n",
    "#Train_Test\n",
    "adv_Xtrain, adv_Xtest,adv_ytrain, adv_ytest = train_test_split(adv_X,adv_y,test_size = 0.3, stratify = adv_y,\n",
    "                                                               random_state = random_state)\n",
    "\n",
    "#TFID vectoriser\n",
    "adv_tvec = TfidfVectorizer(strip_accents='unicode', ngram_range=(1,1),\n",
    "                           stop_words = 'english',max_df=0.5, min_df=per) ## HERE\n",
    "adv_train_matrix = adv_tvec.fit_transform(adv_Xtrain)\n",
    "adv_test_matrix = adv_tvec.transform(adv_Xtest)\n",
    "\n",
    "# Keeping mean to work with Sparse Matrix\n",
    "scaler = StandardScaler(with_mean = with_mean) ## Here\n",
    "adv_Xtrain_std = scaler.fit_transform(adv_train_matrix)\n",
    "adv_Xtest_std = scaler.transform(adv_test_matrix)\n",
    "\n",
    "\n",
    "#logistic regression parameter dictionaty\n",
    "log_dict = {\n",
    "    'Cs':[Cs], ## HERE\n",
    "    'penalty':['l1','l2'],\n",
    "    'solver': ['liblinear']}\n",
    "\n",
    "#logistic regression parameter dictionaty\n",
    "log_grid = grid(\n",
    "    name,LogisticRegressionCV(random_state = random_state),log_dict, ## Here\n",
    "    adv_Xtrain_std,adv_ytrain,\n",
    "    adv_Xtest_std,adv_ytest,\n",
    "    scoring = 'roc_auc')"
   ]
  },
  {
   "cell_type": "markdown",
   "metadata": {},
   "source": [
    "### Bag of words - 4 types - 2%"
   ]
  },
  {
   "cell_type": "code",
   "execution_count": 44,
   "metadata": {},
   "outputs": [
    {
     "name": "stdout",
     "output_type": "stream",
     "text": [
      "Fitting 5 folds for each of 2 candidates, totalling 10 fits\n"
     ]
    },
    {
     "name": "stderr",
     "output_type": "stream",
     "text": [
      "[Parallel(n_jobs=-1)]: Using backend LokyBackend with 8 concurrent workers.\n",
      "[Parallel(n_jobs=-1)]: Done   7 out of  10 | elapsed:    6.2s remaining:    2.7s\n",
      "[Parallel(n_jobs=-1)]: Done  10 out of  10 | elapsed:    8.2s finished\n"
     ]
    },
    {
     "name": "stdout",
     "output_type": "stream",
     "text": [
      "Time\n",
      "Grid fitting took 0:00:10.092704\n",
      "CV took 0:00:08.752285\n",
      "\n",
      "Model Scores\n",
      "Accuracy on train data: 0.8811969629298794\n",
      "Accuracy on test data: 0.8586314692601598\n",
      "Accuracy on CV: 0.8546966413147536\n",
      "Baseline: 0.6779908295122968\n",
      "\n",
      "AUC CV: 0.9142510398218475\n",
      "\n",
      "Confusion Matrix\n",
      "[[ 639  288]\n",
      " [ 119 1833]]\n",
      "\n",
      "Classification Report\n",
      "              precision    recall  f1-score   support\n",
      "\n",
      "  Bad Review       0.84      0.69      0.76       927\n",
      " Good Review       0.86      0.94      0.90      1952\n",
      "\n",
      "    accuracy                           0.86      2879\n",
      "   macro avg       0.85      0.81      0.83      2879\n",
      "weighted avg       0.86      0.86      0.85      2879\n",
      "\n",
      "Best Estimator Parameters\n",
      "{'Cs': 10, 'class_weight': None, 'cv': None, 'dual': False, 'fit_intercept': True, 'intercept_scaling': 1.0, 'l1_ratios': None, 'max_iter': 100, 'multi_class': 'auto', 'n_jobs': None, 'penalty': 'l2', 'random_state': 14, 'refit': True, 'scoring': None, 'solver': 'liblinear', 'tol': 0.0001, 'verbose': 0}\n"
     ]
    }
   ],
   "source": [
    "name = 'BOW - 4types 2% - LR'\n",
    "per = 0.02\n",
    "with_mean = False\n",
    "\n",
    "#X with adv only\n",
    "adv_X = word_type_df.apply(lambda x: x['ADJ']+' '+x['VERB']+' '+x['NOUN']+' '+x['ADV'], axis = 1)\n",
    "\n",
    "#Defining target\n",
    "adv_y = reviews.stars_grouped\n",
    "\n",
    "#Train_Test\n",
    "adv_Xtrain, adv_Xtest,adv_ytrain, adv_ytest = train_test_split(adv_X,adv_y,test_size = 0.3, stratify = adv_y,\n",
    "                                                               random_state = random_state)\n",
    "\n",
    "#TFID vectoriser\n",
    "adv_tvec = TfidfVectorizer(strip_accents='unicode', ngram_range=(1,1),\n",
    "                           stop_words = 'english',max_df=0.5, min_df=per) ## HERE\n",
    "adv_train_matrix = adv_tvec.fit_transform(adv_Xtrain)\n",
    "adv_test_matrix = adv_tvec.transform(adv_Xtest)\n",
    "\n",
    "# Keeping mean to work with Sparse Matrix\n",
    "scaler = StandardScaler(with_mean = with_mean) ## Here\n",
    "adv_Xtrain_std = scaler.fit_transform(adv_train_matrix)\n",
    "adv_Xtest_std = scaler.transform(adv_test_matrix)\n",
    "\n",
    "\n",
    "#logistic regression parameter dictionaty\n",
    "log_dict = {\n",
    "    'Cs':[Cs], ## HERE\n",
    "    'penalty':['l1','l2'],\n",
    "    'solver': ['liblinear']}\n",
    "\n",
    "#logistic regression parameter dictionaty\n",
    "log_grid = grid(\n",
    "    name,LogisticRegressionCV(random_state = random_state),log_dict, ## Here\n",
    "    adv_Xtrain_std,adv_ytrain,\n",
    "    adv_Xtest_std,adv_ytest,\n",
    "    scoring = 'roc_auc')"
   ]
  },
  {
   "cell_type": "markdown",
   "metadata": {},
   "source": [
    "### Sentiment Analyis (All) + Word Count - All"
   ]
  },
  {
   "cell_type": "code",
   "execution_count": 34,
   "metadata": {
    "collapsed": true
   },
   "outputs": [
    {
     "name": "stdout",
     "output_type": "stream",
     "text": [
      "Fitting 5 folds for each of 2 candidates, totalling 10 fits\n"
     ]
    },
    {
     "name": "stderr",
     "output_type": "stream",
     "text": [
      "[Parallel(n_jobs=-1)]: Using backend LokyBackend with 8 concurrent workers.\n",
      "[Parallel(n_jobs=-1)]: Done   7 out of  10 | elapsed:    0.7s remaining:    0.3s\n",
      "[Parallel(n_jobs=-1)]: Done  10 out of  10 | elapsed:    0.8s finished\n"
     ]
    },
    {
     "name": "stdout",
     "output_type": "stream",
     "text": [
      "Time\n",
      "Grid fitting took 0:00:01.265191\n",
      "CV took 0:00:01.784051\n",
      "\n",
      "Model Scores\n",
      "Accuracy on train data: 0.8308768795593271\n",
      "Accuracy on test data: 0.8301493574157693\n",
      "Accuracy on CV: 0.8308763695351559\n",
      "Baseline: 0.6779908295122968\n",
      "\n",
      "AUC CV: 0.8915803506322388\n",
      "\n",
      "Confusion Matrix\n",
      "[[ 625  302]\n",
      " [ 187 1765]]\n",
      "\n",
      "Classification Report\n",
      "              precision    recall  f1-score   support\n",
      "\n",
      "  Bad Review       0.77      0.67      0.72       927\n",
      " Good Review       0.85      0.90      0.88      1952\n",
      "\n",
      "    accuracy                           0.83      2879\n",
      "   macro avg       0.81      0.79      0.80      2879\n",
      "weighted avg       0.83      0.83      0.83      2879\n",
      "\n",
      "Best Estimator Parameters\n",
      "{'Cs': 10, 'class_weight': None, 'cv': None, 'dual': False, 'fit_intercept': True, 'intercept_scaling': 1.0, 'l1_ratios': None, 'max_iter': 100, 'multi_class': 'auto', 'n_jobs': None, 'penalty': 'l1', 'random_state': 14, 'refit': True, 'scoring': None, 'solver': 'liblinear', 'tol': 0.0001, 'verbose': 0}\n"
     ]
    }
   ],
   "source": [
    "name = 'SENT + WCount - LR'\n",
    "with_mean = False\n",
    "\n",
    "# Defining predictors\n",
    "Xsent = reviews[['vader_content_compound', \n",
    "                        'vader_content_neg',\n",
    "                        'vader_content_neu', \n",
    "                        'vader_content_pos',\n",
    "                        'word_count']]\n",
    "\n",
    "\n",
    "#Defining target\n",
    "ysent = reviews.stars_grouped\n",
    "\n",
    "#Train_Test\n",
    "Xsent_train, Xsent_test,ysent_train, ysent_test = train_test_split(Xsent,ysent,test_size = 0.3, stratify = ysent,\n",
    "                                                                   random_state = random_state)\n",
    "\n",
    "# Keeping mean to work with Sparse Matrix\n",
    "scaler = StandardScaler(with_mean = with_mean)\n",
    "Xsent_train_std = pd.DataFrame(scaler.fit_transform(Xsent_train),columns = Xsent_train.columns, index = Xsent_train.index)\n",
    "Xsent_test_std = pd.DataFrame(scaler.transform(Xsent_test),columns = Xsent_test.columns, index = Xsent_test.index)\n",
    "\n",
    "#logistic regression parameter dictionaty\n",
    "log_dict = {\n",
    "    'Cs':[10],\n",
    "    'penalty':['l1','l2'],\n",
    "    'solver': ['liblinear']}\n",
    "\n",
    "#logistic regression parameter dictionaty\n",
    "log_grid = grid(\n",
    "    name,LogisticRegressionCV(random_state = random_state),log_dict, \n",
    "    Xsent_train_std,ysent_train,\n",
    "    Xsent_test_std,ysent_test,\n",
    "    scoring = 'roc_auc')\n",
    "\n"
   ]
  },
  {
   "cell_type": "markdown",
   "metadata": {},
   "source": [
    "### Sentiment Analyis (All) - No Word Count"
   ]
  },
  {
   "cell_type": "code",
   "execution_count": 35,
   "metadata": {
    "collapsed": true
   },
   "outputs": [
    {
     "name": "stdout",
     "output_type": "stream",
     "text": [
      "Fitting 5 folds for each of 2 candidates, totalling 10 fits\n"
     ]
    },
    {
     "name": "stderr",
     "output_type": "stream",
     "text": [
      "[Parallel(n_jobs=-1)]: Using backend LokyBackend with 8 concurrent workers.\n",
      "[Parallel(n_jobs=-1)]: Done   7 out of  10 | elapsed:    0.9s remaining:    0.4s\n",
      "[Parallel(n_jobs=-1)]: Done  10 out of  10 | elapsed:    0.9s finished\n"
     ]
    },
    {
     "name": "stdout",
     "output_type": "stream",
     "text": [
      "Time\n",
      "Grid fitting took 0:00:01.168885\n",
      "CV took 0:00:00.983709\n",
      "\n",
      "Model Scores\n",
      "Accuracy on train data: 0.8325145154086646\n",
      "Accuracy on test data: 0.8325807572073637\n",
      "Accuracy on CV: 0.8310262870971172\n",
      "Baseline: 0.6779908295122968\n",
      "\n",
      "AUC CV: 0.8912354285436488\n",
      "\n",
      "Confusion Matrix\n",
      "[[ 629  298]\n",
      " [ 184 1768]]\n",
      "\n",
      "Classification Report\n",
      "              precision    recall  f1-score   support\n",
      "\n",
      "  Bad Review       0.77      0.68      0.72       927\n",
      " Good Review       0.86      0.91      0.88      1952\n",
      "\n",
      "    accuracy                           0.83      2879\n",
      "   macro avg       0.81      0.79      0.80      2879\n",
      "weighted avg       0.83      0.83      0.83      2879\n",
      "\n",
      "Best Estimator Parameters\n",
      "{'Cs': 10, 'class_weight': None, 'cv': None, 'dual': False, 'fit_intercept': True, 'intercept_scaling': 1.0, 'l1_ratios': None, 'max_iter': 100, 'multi_class': 'auto', 'n_jobs': None, 'penalty': 'l2', 'random_state': 14, 'refit': True, 'scoring': None, 'solver': 'liblinear', 'tol': 0.0001, 'verbose': 0}\n"
     ]
    }
   ],
   "source": [
    "name = 'SENT -No WCount - LR'\n",
    "with_mean = False\n",
    "\n",
    "# Defining predictors\n",
    "Xsent = reviews[['vader_content_compound', \n",
    "                        'vader_content_neg',\n",
    "                        'vader_content_neu', \n",
    "                        'vader_content_pos']]\n",
    "\n",
    "\n",
    "#Defining target\n",
    "ysent = reviews.stars_grouped\n",
    "\n",
    "#Train_Test\n",
    "Xsent_train, Xsent_test,ysent_train, ysent_test = train_test_split(Xsent,ysent,test_size = 0.3, stratify = ysent,\n",
    "                                                                   random_state = random_state)\n",
    "\n",
    "# Keeping mean to work with Sparse Matrix\n",
    "scaler = StandardScaler(with_mean = with_mean)\n",
    "Xsent_train_std = pd.DataFrame(scaler.fit_transform(Xsent_train),columns = Xsent_train.columns, index = Xsent_train.index)\n",
    "Xsent_test_std = pd.DataFrame(scaler.transform(Xsent_test),columns = Xsent_test.columns, index = Xsent_test.index)\n",
    "\n",
    "#logistic regression parameter dictionaty\n",
    "log_dict = {\n",
    "    'Cs':[10],\n",
    "    'penalty':['l1','l2'],\n",
    "    'solver': ['liblinear']}\n",
    "\n",
    "#logistic regression parameter dictionaty\n",
    "log_grid = grid(\n",
    "    name,LogisticRegressionCV(random_state = random_state),log_dict, \n",
    "    Xsent_train_std,ysent_train,\n",
    "    Xsent_test_std,ysent_test,\n",
    "    scoring = 'roc_auc')\n",
    "\n"
   ]
  },
  {
   "cell_type": "markdown",
   "metadata": {},
   "source": [
    "### Sentiment Analyis (no compound) - No Word Count"
   ]
  },
  {
   "cell_type": "code",
   "execution_count": 45,
   "metadata": {},
   "outputs": [
    {
     "name": "stdout",
     "output_type": "stream",
     "text": [
      "Fitting 5 folds for each of 2 candidates, totalling 10 fits\n"
     ]
    },
    {
     "name": "stderr",
     "output_type": "stream",
     "text": [
      "[Parallel(n_jobs=-1)]: Using backend LokyBackend with 8 concurrent workers.\n",
      "[Parallel(n_jobs=-1)]: Done   7 out of  10 | elapsed:    0.5s remaining:    0.2s\n",
      "[Parallel(n_jobs=-1)]: Done  10 out of  10 | elapsed:    0.6s finished\n"
     ]
    },
    {
     "name": "stdout",
     "output_type": "stream",
     "text": [
      "Time\n",
      "Grid fitting took 0:00:00.884466\n",
      "CV took 0:00:00.926395\n",
      "\n",
      "Model Scores\n",
      "Accuracy on train data: 0.8307280035730237\n",
      "Accuracy on test data: 0.8301493574157693\n",
      "Accuracy on CV: 0.8311749858171116\n",
      "Baseline: 0.6779908295122968\n",
      "\n",
      "AUC CV: 0.891125666333639\n",
      "\n",
      "Confusion Matrix\n",
      "[[ 608  319]\n",
      " [ 170 1782]]\n",
      "\n",
      "Classification Report\n",
      "              precision    recall  f1-score   support\n",
      "\n",
      "  Bad Review       0.78      0.66      0.71       927\n",
      " Good Review       0.85      0.91      0.88      1952\n",
      "\n",
      "    accuracy                           0.83      2879\n",
      "   macro avg       0.81      0.78      0.80      2879\n",
      "weighted avg       0.83      0.83      0.83      2879\n",
      "\n",
      "Best Estimator Parameters\n",
      "{'Cs': 10, 'class_weight': None, 'cv': None, 'dual': False, 'fit_intercept': True, 'intercept_scaling': 1.0, 'l1_ratios': None, 'max_iter': 100, 'multi_class': 'auto', 'n_jobs': None, 'penalty': 'l2', 'random_state': 14, 'refit': True, 'scoring': None, 'solver': 'liblinear', 'tol': 0.0001, 'verbose': 0}\n"
     ]
    }
   ],
   "source": [
    "name = 'SENT -No Coumpound or WCount - LR'\n",
    "with_mean = False\n",
    "\n",
    "# Defining predictors\n",
    "Xsent = reviews[['vader_content_neg',\n",
    "                        'vader_content_neu', \n",
    "                        'vader_content_pos']]\n",
    "\n",
    "#Defining target\n",
    "ysent = reviews.stars_grouped\n",
    "\n",
    "#Train_Test\n",
    "Xsent_train, Xsent_test,ysent_train, ysent_test = train_test_split(Xsent,ysent,test_size = 0.3, stratify = ysent,\n",
    "                                                                   random_state = random_state)\n",
    "\n",
    "# Keeping mean to work with Sparse Matrix\n",
    "scaler = StandardScaler(with_mean = with_mean)\n",
    "Xsent_train_std = pd.DataFrame(scaler.fit_transform(Xsent_train),columns = Xsent_train.columns, index = Xsent_train.index)\n",
    "Xsent_test_std = pd.DataFrame(scaler.transform(Xsent_test),columns = Xsent_test.columns, index = Xsent_test.index)\n",
    "\n",
    "#logistic regression parameter dictionaty\n",
    "log_dict = {\n",
    "    'Cs':[10],\n",
    "    'penalty':['l1','l2'],\n",
    "    'solver': ['liblinear']}\n",
    "\n",
    "#logistic regression parameter dictionaty\n",
    "log_grid = grid(\n",
    "    name,LogisticRegressionCV(random_state = random_state),log_dict, \n",
    "    Xsent_train_std,ysent_train,\n",
    "    Xsent_test_std,ysent_test,\n",
    "    scoring = 'roc_auc')\n",
    "\n"
   ]
  },
  {
   "cell_type": "markdown",
   "metadata": {},
   "source": [
    "### Sentiment Analyisis -  4 Tpes - 2%"
   ]
  },
  {
   "cell_type": "code",
   "execution_count": 93,
   "metadata": {},
   "outputs": [
    {
     "name": "stdout",
     "output_type": "stream",
     "text": [
      "Fitting 5 folds for each of 2 candidates, totalling 10 fits\n"
     ]
    },
    {
     "name": "stderr",
     "output_type": "stream",
     "text": [
      "[Parallel(n_jobs=-1)]: Using backend LokyBackend with 8 concurrent workers.\n",
      "[Parallel(n_jobs=-1)]: Done   7 out of  10 | elapsed:   11.8s remaining:    5.1s\n",
      "[Parallel(n_jobs=-1)]: Done  10 out of  10 | elapsed:   12.3s finished\n"
     ]
    },
    {
     "name": "stdout",
     "output_type": "stream",
     "text": [
      "Time\n",
      "Grid fitting took 0:00:13.884465\n",
      "CV took 0:00:06.197489\n",
      "\n",
      "Model Scores\n",
      "Accuracy on train data: 0.8877475063272294\n",
      "Accuracy on test data: 0.8634942688433483\n",
      "Accuracy on CV: 0.8637780112044819\n",
      "Baseline: 0.6779908295122968\n",
      "\n",
      "AUC CV: 0.9266940036152104\n",
      "\n",
      "Confusion Matrix\n",
      "[[ 642  285]\n",
      " [ 108 1844]]\n",
      "\n",
      "Classification Report\n",
      "              precision    recall  f1-score   support\n",
      "\n",
      "  Bad Review       0.86      0.69      0.77       927\n",
      " Good Review       0.87      0.94      0.90      1952\n",
      "\n",
      "    accuracy                           0.86      2879\n",
      "   macro avg       0.86      0.82      0.83      2879\n",
      "weighted avg       0.86      0.86      0.86      2879\n",
      "\n",
      "Best Estimator Parameters\n",
      "{'Cs': 10, 'class_weight': None, 'cv': 5, 'dual': False, 'fit_intercept': True, 'intercept_scaling': 1.0, 'l1_ratios': None, 'max_iter': 100, 'multi_class': 'auto', 'n_jobs': None, 'penalty': 'l2', 'random_state': 14, 'refit': True, 'scoring': None, 'solver': 'liblinear', 'tol': 0.0001, 'verbose': 0}\n"
     ]
    }
   ],
   "source": [
    "name = 'SENT + 4 types - 2%'\n",
    "with_mean = False\n",
    "per = 0.02\n",
    "\n",
    "# Defining X,Y and BOW\n",
    "BOW_X = word_type_df.apply(lambda x: x['ADJ']+' '+x['VERB']+' '+x['NOUN']+' '+x['ADV'], axis = 1)\n",
    "\n",
    "y = reviews.stars_grouped\n",
    "\n",
    "Xsent = reviews[['vader_content_neg',\n",
    "                        'vader_content_neu', \n",
    "                        'vader_content_pos']]\n",
    "\n",
    "\n",
    "#Train_Test\n",
    "Xsent_train, Xsent_test,BOW_train,BOW_test, y_train, y_test = train_test_split(Xsent,BOW_X,y,test_size = 0.3, \n",
    "                                                                                     stratify = ysent,\n",
    "                                                                                   random_state = random_state)\n",
    "BOW_tvec = TfidfVectorizer(strip_accents='unicode', ngram_range=(1,1),\n",
    "                           stop_words = 'english',max_df=0.5, min_df=per) ## HERE\n",
    "\n",
    "BOW_train_df = pd.DataFrame(BOW_tvec.fit_transform(BOW_train).toarray(),\n",
    "                            columns= list(map(lambda x : 'tfid - '+ x, list(BOW_tvec.get_feature_names()))),\n",
    "                            index = BOW_train.index)\n",
    "BOW_test_df = pd.DataFrame(BOW_tvec.transform(BOW_test).toarray(),\n",
    "                            columns= list(map(lambda x : 'tfid - '+ x, list(BOW_tvec.get_feature_names()))),\n",
    "                            index = BOW_test.index)\n",
    "\n",
    "\n",
    "\n",
    "Xtrain = pd.concat([Xsent_train,BOW_train_df], axis=1)\n",
    "Xtest = pd.concat([Xsent_test,BOW_test_df], axis=1)\n",
    "\n",
    "\n",
    "# Keeping mean to work with Sparse Matrix\n",
    "scaler = StandardScaler(with_mean = with_mean)\n",
    "Xtrain_std = pd.DataFrame(scaler.fit_transform(Xtrain),columns = Xtrain.columns, index = Xtrain.index)\n",
    "Xtest_std = pd.DataFrame(scaler.transform(Xtest),columns = Xtest.columns, index = Xtest.index)\n",
    "\n",
    "#Spar\n",
    "Xtrain_std_spa = sparse.csr_matrix(Xtrain_std.values)\n",
    "Xtest_std_spa = sparse.csr_matrix(Xtest_std.values)\n",
    "\n",
    "#logistic regression parameter dictionaty\n",
    "log_dict = {\n",
    "    'Cs':[10],\n",
    "    'penalty':['l1','l2'],\n",
    "    'solver': ['liblinear']}\n",
    "\n",
    "#logistic regression parameter dictionaty\n",
    "log_grid = grid(\n",
    "    name,LogisticRegressionCV(random_state = random_state,cv = 5),log_dict, \n",
    "    Xtrain_std_spa,y_train,\n",
    "    Xtest_std_spa,y_test,\n",
    "    scoring = 'roc_auc')\n"
   ]
  },
  {
   "cell_type": "markdown",
   "metadata": {},
   "source": [
    "### Sentiment Analyisis -  4 Tpes - 0%"
   ]
  },
  {
   "cell_type": "code",
   "execution_count": 92,
   "metadata": {
    "scrolled": true
   },
   "outputs": [],
   "source": [
    "name = 'SENT + 4 types - 0%'\n",
    "with_mean = False\n",
    "per = 0\n",
    "\n",
    "# Defining X,Y and BOW\n",
    "BOW_X = word_type_df.apply(lambda x: x['ADJ']+' '+x['VERB']+' '+x['NOUN']+' '+x['ADV'], axis = 1)\n",
    "\n",
    "y = reviews.stars_grouped\n",
    "\n",
    "Xsent = reviews[['vader_content_neg',\n",
    "                        'vader_content_neu', \n",
    "                        'vader_content_pos']]\n",
    "\n",
    "\n",
    "#Train_Test\n",
    "Xsent_train, Xsent_test,BOW_train,BOW_test, y_train, y_test = train_test_split(Xsent,BOW_X,y,test_size = 0.3, \n",
    "                                                                                     stratify = ysent,\n",
    "                                                                                   random_state = random_state)\n",
    "BOW_tvec = TfidfVectorizer(strip_accents='unicode', ngram_range=(1,1),\n",
    "                           stop_words = 'english',max_df=0.5, min_df=per) ## HERE\n",
    "\n",
    "BOW_train_df = pd.DataFrame(BOW_tvec.fit_transform(BOW_train).toarray(),\n",
    "                            columns= list(map(lambda x : 'tfid - '+ x, list(BOW_tvec.get_feature_names()))),\n",
    "                            index = BOW_train.index)\n",
    "BOW_test_df = pd.DataFrame(BOW_tvec.transform(BOW_test).toarray(),\n",
    "                            columns= list(map(lambda x : 'tfid - '+ x, list(BOW_tvec.get_feature_names()))),\n",
    "                            index = BOW_test.index)\n",
    "\n",
    "\n",
    "\n",
    "Xtrain = pd.concat([Xsent_train,BOW_train_df], axis=1)\n",
    "Xtest = pd.concat([Xsent_test,BOW_test_df], axis=1)\n",
    "\n",
    "\n",
    "# Keeping mean to work with Sparse Matrix\n",
    "scaler = StandardScaler(with_mean = with_mean)\n",
    "Xtrain_std = pd.DataFrame(scaler.fit_transform(Xtrain),columns = Xtrain.columns, index = Xtrain.index)\n",
    "Xtest_std = pd.DataFrame(scaler.transform(Xtest),columns = Xtest.columns, index = Xtest.index)\n",
    "\n",
    "#Spar\n",
    "Xtrain_std_spa = sparse.csr_matrix(Xtrain_std.values)\n",
    "Xtest_std_spa = sparse.csr_matrix(Xtest_std.values)\n",
    "\n",
    "# #logistic regression parameter dictionaty\n",
    "# log_dict = {\n",
    "#     'Cs':[10],\n",
    "#     'penalty':['l1','l2'],\n",
    "#     'solver': ['liblinear']}\n",
    "\n",
    "# #logistic regression parameter dictionaty\n",
    "# log_grid = grid(\n",
    "#     name,LogisticRegressionCV(random_state = random_state),log_dict, \n",
    "#     Xtrain_std_spa,y_train,\n",
    "#     Xtest_std_spa,y_test,\n",
    "#     scoring = 'roc_auc')\n"
   ]
  },
  {
   "cell_type": "markdown",
   "metadata": {},
   "source": [
    "### Sentiment Analyisis -  ADJ,ADV,NOUN Types - 2%"
   ]
  },
  {
   "cell_type": "code",
   "execution_count": 55,
   "metadata": {},
   "outputs": [
    {
     "name": "stdout",
     "output_type": "stream",
     "text": [
      "Fitting 5 folds for each of 2 candidates, totalling 10 fits\n"
     ]
    },
    {
     "name": "stderr",
     "output_type": "stream",
     "text": [
      "[Parallel(n_jobs=-1)]: Using backend LokyBackend with 8 concurrent workers.\n",
      "[Parallel(n_jobs=-1)]: Done   7 out of  10 | elapsed:   11.0s remaining:    4.7s\n",
      "[Parallel(n_jobs=-1)]: Done  10 out of  10 | elapsed:   11.3s finished\n"
     ]
    },
    {
     "name": "stdout",
     "output_type": "stream",
     "text": [
      "Time\n",
      "Grid fitting took 0:00:12.682521\n",
      "CV took 0:00:05.294917\n",
      "\n",
      "Model Scores\n",
      "Accuracy on train data: 0.8861098704778919\n",
      "Accuracy on test data: 0.8631469260159778\n",
      "Accuracy on CV: 0.865118072545474\n",
      "Baseline: 0.6779908295122968\n",
      "\n",
      "AUC CV: 0.9257989275226697\n",
      "\n",
      "Confusion Matrix\n",
      "[[ 638  289]\n",
      " [ 105 1847]]\n",
      "\n",
      "Classification Report\n",
      "              precision    recall  f1-score   support\n",
      "\n",
      "  Bad Review       0.86      0.69      0.76       927\n",
      " Good Review       0.86      0.95      0.90      1952\n",
      "\n",
      "    accuracy                           0.86      2879\n",
      "   macro avg       0.86      0.82      0.83      2879\n",
      "weighted avg       0.86      0.86      0.86      2879\n",
      "\n",
      "Best Estimator Parameters\n",
      "{'Cs': 10, 'class_weight': None, 'cv': None, 'dual': False, 'fit_intercept': True, 'intercept_scaling': 1.0, 'l1_ratios': None, 'max_iter': 100, 'multi_class': 'auto', 'n_jobs': None, 'penalty': 'l2', 'random_state': 14, 'refit': True, 'scoring': None, 'solver': 'liblinear', 'tol': 0.0001, 'verbose': 0}\n"
     ]
    }
   ],
   "source": [
    "name = 'SENT + ADJ, ADV, NOUN - 2%'\n",
    "with_mean = False\n",
    "per = 0.02\n",
    "\n",
    "# Defining X,Y and BOW\n",
    "BOW_X = word_type_df.apply(lambda x: x['ADJ']+' '+x['VERB']+' '+x['NOUN'], axis = 1)\n",
    "\n",
    "y = reviews.stars_grouped\n",
    "\n",
    "Xsent = reviews[['vader_content_neg',\n",
    "                        'vader_content_neu', \n",
    "                        'vader_content_pos']]\n",
    "\n",
    "\n",
    "#Train_Test\n",
    "Xsent_train, Xsent_test,BOW_train,BOW_test, y_train, y_test = train_test_split(Xsent,BOW_X,y,test_size = 0.3, \n",
    "                                                                                     stratify = ysent,\n",
    "                                                                                   random_state = random_state)\n",
    "BOW_tvec = TfidfVectorizer(strip_accents='unicode', ngram_range=(1,1),\n",
    "                           stop_words = 'english',max_df=0.5, min_df=per) ## HERE\n",
    "\n",
    "BOW_train_df = pd.DataFrame(BOW_tvec.fit_transform(BOW_train).toarray(),\n",
    "                            columns= list(map(lambda x : 'tfid - '+ x, list(BOW_tvec.get_feature_names()))),\n",
    "                            index = BOW_train.index)\n",
    "BOW_test_df = pd.DataFrame(BOW_tvec.transform(BOW_test).toarray(),\n",
    "                            columns= list(map(lambda x : 'tfid - '+ x, list(BOW_tvec.get_feature_names()))),\n",
    "                            index = BOW_test.index)\n",
    "\n",
    "\n",
    "\n",
    "Xtrain = pd.concat([Xsent_train,BOW_train_df], axis=1)\n",
    "Xtest = pd.concat([Xsent_test,BOW_test_df], axis=1)\n",
    "\n",
    "\n",
    "# Keeping mean to work with Sparse Matrix\n",
    "scaler = StandardScaler(with_mean = with_mean)\n",
    "Xtrain_std = pd.DataFrame(scaler.fit_transform(Xtrain),columns = Xtrain.columns, index = Xtrain.index)\n",
    "Xtest_std = pd.DataFrame(scaler.transform(Xtest),columns = Xtest.columns, index = Xtest.index)\n",
    "\n",
    "#Spar\n",
    "Xtrain_std_spa = sparse.csr_matrix(Xtrain_std.values)\n",
    "Xtest_std_spa = sparse.csr_matrix(Xtest_std.values)\n",
    "\n",
    "#logistic regression parameter dictionaty\n",
    "log_dict = {\n",
    "    'Cs':[10],\n",
    "    'penalty':['l1','l2'],\n",
    "    'solver': ['liblinear']}\n",
    "\n",
    "#logistic regression parameter dictionaty\n",
    "log_grid = grid(\n",
    "    name,LogisticRegressionCV(random_state = random_state),log_dict, \n",
    "    Xtrain_std_spa,y_train,\n",
    "    Xtest_std_spa,y_test,\n",
    "    scoring = 'roc_auc')\n"
   ]
  },
  {
   "cell_type": "markdown",
   "metadata": {},
   "source": [
    "### Sentiment Analyisis -  ADJ,ADV,NOUN Types - With Mean True"
   ]
  },
  {
   "cell_type": "code",
   "execution_count": 73,
   "metadata": {},
   "outputs": [
    {
     "name": "stdout",
     "output_type": "stream",
     "text": [
      "Fitting 5 folds for each of 2 candidates, totalling 10 fits\n"
     ]
    },
    {
     "name": "stderr",
     "output_type": "stream",
     "text": [
      "[Parallel(n_jobs=-1)]: Using backend LokyBackend with 8 concurrent workers.\n",
      "[Parallel(n_jobs=-1)]: Done   7 out of  10 | elapsed:  2.5min remaining:  1.1min\n",
      "[Parallel(n_jobs=-1)]: Done  10 out of  10 | elapsed:  3.1min finished\n"
     ]
    },
    {
     "name": "stdout",
     "output_type": "stream",
     "text": [
      "Time\n",
      "Grid fitting took 0:03:22.606899\n",
      "CV took 0:04:01.441688\n",
      "\n",
      "Model Scores\n",
      "Accuracy on train data: 0.8941491737382761\n",
      "Accuracy on test data: 0.8631469260159778\n",
      "Accuracy on CV: 0.8666062785873843\n",
      "Baseline: 0.6779908295122968\n",
      "\n",
      "AUC CV: 0.9256510689337215\n",
      "\n",
      "Confusion Matrix\n",
      "[[ 679  248]\n",
      " [ 146 1806]]\n",
      "\n",
      "Classification Report\n",
      "              precision    recall  f1-score   support\n",
      "\n",
      "  Bad Review       0.82      0.73      0.78       927\n",
      " Good Review       0.88      0.93      0.90      1952\n",
      "\n",
      "    accuracy                           0.86      2879\n",
      "   macro avg       0.85      0.83      0.84      2879\n",
      "weighted avg       0.86      0.86      0.86      2879\n",
      "\n",
      "Best Estimator Parameters\n",
      "{'Cs': 10, 'class_weight': None, 'cv': None, 'dual': False, 'fit_intercept': True, 'intercept_scaling': 1.0, 'l1_ratios': None, 'max_iter': 100, 'multi_class': 'auto', 'n_jobs': None, 'penalty': 'l1', 'random_state': 14, 'refit': True, 'scoring': None, 'solver': 'liblinear', 'tol': 0.0001, 'verbose': 0}\n"
     ]
    }
   ],
   "source": [
    "name = 'SENT + ADJ, ADV, NOUN, ADV - 2% - Mean True'\n",
    "with_mean = True\n",
    "per = 0.02\n",
    "\n",
    "# Defining X,Y and BOW\n",
    "BOW_X = word_type_df.apply(lambda x: x['ADJ']+' '+x['VERB']+' '+x['NOUN']+' '+x['ADV'], axis = 1)\n",
    "\n",
    "y = reviews.stars_grouped\n",
    "\n",
    "Xsent = reviews[['vader_content_neg',\n",
    "                        'vader_content_neu', \n",
    "                        'vader_content_pos']]\n",
    "\n",
    "\n",
    "#Train_Test\n",
    "Xsent_train, Xsent_test,BOW_train,BOW_test, y_train, y_test = train_test_split(Xsent,BOW_X,y,test_size = 0.3, \n",
    "                                                                                     stratify = ysent,\n",
    "                                                                                   random_state = random_state)\n",
    "BOW_tvec = TfidfVectorizer(strip_accents='unicode', ngram_range=(1,1),\n",
    "                           stop_words = 'english',max_df=0.5, min_df=per) ## HERE\n",
    "\n",
    "BOW_train_df = pd.DataFrame(BOW_tvec.fit_transform(BOW_train).toarray(),\n",
    "                            columns= list(map(lambda x : 'tfid - '+ x, list(BOW_tvec.get_feature_names()))),\n",
    "                            index = BOW_train.index)\n",
    "BOW_test_df = pd.DataFrame(BOW_tvec.transform(BOW_test).toarray(),\n",
    "                            columns= list(map(lambda x : 'tfid - '+ x, list(BOW_tvec.get_feature_names()))),\n",
    "                            index = BOW_test.index)\n",
    "\n",
    "\n",
    "\n",
    "Xtrain = pd.concat([Xsent_train,BOW_train_df], axis=1)\n",
    "Xtest = pd.concat([Xsent_test,BOW_test_df], axis=1)\n",
    "\n",
    "\n",
    "# Keeping mean to work with Sparse Matrix\n",
    "scaler = StandardScaler(with_mean = with_mean)\n",
    "Xtrain_std = pd.DataFrame(scaler.fit_transform(Xtrain),columns = Xtrain.columns, index = Xtrain.index)\n",
    "Xtest_std = pd.DataFrame(scaler.transform(Xtest),columns = Xtest.columns, index = Xtest.index)\n",
    "\n",
    "#Spar\n",
    "Xtrain_std_spa = sparse.csr_matrix(Xtrain_std.values)\n",
    "Xtest_std_spa = sparse.csr_matrix(Xtest_std.values)\n",
    "\n",
    "#logistic regression parameter dictionaty\n",
    "log_dict = {\n",
    "    'Cs':[10],\n",
    "    'penalty':['l1','l2'],\n",
    "    'solver': ['liblinear']}\n",
    "\n",
    "#logistic regression parameter dictionaty\n",
    "log_grid = grid(\n",
    "    name,LogisticRegressionCV(random_state = random_state),log_dict, \n",
    "    Xtrain_std_spa,y_train,\n",
    "    Xtest_std_spa,y_test,\n",
    "    scoring = 'roc_auc')\n"
   ]
  },
  {
   "cell_type": "code",
   "execution_count": 80,
   "metadata": {},
   "outputs": [
    {
     "name": "stdout",
     "output_type": "stream",
     "text": [
      "(6717, 638) (2879, 638)\n"
     ]
    }
   ],
   "source": [
    "#Joining data with tfid matrices\n",
    "Xtrain = pd.concat([Xtrain,train_tfid_df], axis=1)\n",
    "Xtest = pd.concat([Xtest,test_tfid_df], axis=1)\n",
    "print(Xtrain.shape,Xtest.shape)"
   ]
  },
  {
   "cell_type": "code",
   "execution_count": 39,
   "metadata": {},
   "outputs": [],
   "source": [
    "save_pickle(model_results,'model_results_versions.pkl')"
   ]
  },
  {
   "cell_type": "markdown",
   "metadata": {},
   "source": [
    "## Comparing Results"
   ]
  },
  {
   "cell_type": "code",
   "execution_count": 107,
   "metadata": {},
   "outputs": [],
   "source": [
    "model_results = load_pickle('model_results_versions.pkl')"
   ]
  },
  {
   "cell_type": "code",
   "execution_count": 87,
   "metadata": {
    "scrolled": true
   },
   "outputs": [
    {
     "data": {
      "text/html": [
       "<div>\n",
       "<style scoped>\n",
       "    .dataframe tbody tr th:only-of-type {\n",
       "        vertical-align: middle;\n",
       "    }\n",
       "\n",
       "    .dataframe tbody tr th {\n",
       "        vertical-align: top;\n",
       "    }\n",
       "\n",
       "    .dataframe thead th {\n",
       "        text-align: right;\n",
       "    }\n",
       "</style>\n",
       "<table border=\"1\" class=\"dataframe\">\n",
       "  <thead>\n",
       "    <tr style=\"text-align: right;\">\n",
       "      <th></th>\n",
       "      <th>Model Name</th>\n",
       "      <th>AUC CV</th>\n",
       "      <th>Accuracy CV</th>\n",
       "      <th>Accuracy Test</th>\n",
       "      <th>Features</th>\n",
       "    </tr>\n",
       "  </thead>\n",
       "  <tbody>\n",
       "    <tr>\n",
       "      <th>17</th>\n",
       "      <td>SENT + 4 types - 2%</td>\n",
       "      <td>0.926694</td>\n",
       "      <td>0.863778</td>\n",
       "      <td>0.863494</td>\n",
       "      <td>672</td>\n",
       "    </tr>\n",
       "    <tr>\n",
       "      <th>19</th>\n",
       "      <td>SENT + ADJ, ADV, NOUN - 2%</td>\n",
       "      <td>0.925799</td>\n",
       "      <td>0.865118</td>\n",
       "      <td>0.863147</td>\n",
       "      <td>636</td>\n",
       "    </tr>\n",
       "    <tr>\n",
       "      <th>20</th>\n",
       "      <td>SENT + ADJ, ADV, NOUN - 2% - Mean True</td>\n",
       "      <td>0.925717</td>\n",
       "      <td>0.868839</td>\n",
       "      <td>0.864536</td>\n",
       "      <td>636</td>\n",
       "    </tr>\n",
       "    <tr>\n",
       "      <th>21</th>\n",
       "      <td>SENT + ADJ, ADV, NOUN, ADV - 2% - Mean True</td>\n",
       "      <td>0.925651</td>\n",
       "      <td>0.866606</td>\n",
       "      <td>0.863147</td>\n",
       "      <td>672</td>\n",
       "    </tr>\n",
       "    <tr>\n",
       "      <th>18</th>\n",
       "      <td>SENT + 4 types - 0%</td>\n",
       "      <td>0.921946</td>\n",
       "      <td>0.861544</td>\n",
       "      <td>0.859326</td>\n",
       "      <td>21025</td>\n",
       "    </tr>\n",
       "    <tr>\n",
       "      <th>16</th>\n",
       "      <td>SENT + 4 types</td>\n",
       "      <td>0.921946</td>\n",
       "      <td>0.861544</td>\n",
       "      <td>0.859326</td>\n",
       "      <td>21025</td>\n",
       "    </tr>\n",
       "    <tr>\n",
       "      <th>15</th>\n",
       "      <td>BOW - 4types 2% - LR</td>\n",
       "      <td>0.914251</td>\n",
       "      <td>0.854697</td>\n",
       "      <td>0.858631</td>\n",
       "      <td>669</td>\n",
       "    </tr>\n",
       "    <tr>\n",
       "      <th>14</th>\n",
       "      <td>BOW - 4types 0% - LR</td>\n",
       "      <td>0.913651</td>\n",
       "      <td>0.850379</td>\n",
       "      <td>0.852379</td>\n",
       "      <td>21022</td>\n",
       "    </tr>\n",
       "    <tr>\n",
       "      <th>10</th>\n",
       "      <td>BOW - ADJ + VERB + NOUN 0% - LR</td>\n",
       "      <td>0.913651</td>\n",
       "      <td>0.850379</td>\n",
       "      <td>0.852379</td>\n",
       "      <td>21022</td>\n",
       "    </tr>\n",
       "    <tr>\n",
       "      <th>9</th>\n",
       "      <td>BOW - ADJ + VERB + NOUN 2% - LR</td>\n",
       "      <td>0.912800</td>\n",
       "      <td>0.856336</td>\n",
       "      <td>0.856895</td>\n",
       "      <td>633</td>\n",
       "    </tr>\n",
       "    <tr>\n",
       "      <th>8</th>\n",
       "      <td>BOW - ADJ + VERB 2% - LR</td>\n",
       "      <td>0.904287</td>\n",
       "      <td>0.846659</td>\n",
       "      <td>0.847864</td>\n",
       "      <td>329</td>\n",
       "    </tr>\n",
       "    <tr>\n",
       "      <th>0</th>\n",
       "      <td>BOW - ADJ 0% - LogReg</td>\n",
       "      <td>0.892520</td>\n",
       "      <td>0.828048</td>\n",
       "      <td>0.821118</td>\n",
       "      <td>4699</td>\n",
       "    </tr>\n",
       "    <tr>\n",
       "      <th>11</th>\n",
       "      <td>SENT + WCount - LR</td>\n",
       "      <td>0.891580</td>\n",
       "      <td>0.830876</td>\n",
       "      <td>0.830149</td>\n",
       "      <td>5</td>\n",
       "    </tr>\n",
       "    <tr>\n",
       "      <th>12</th>\n",
       "      <td>SENT -No WCount - LR</td>\n",
       "      <td>0.891235</td>\n",
       "      <td>0.831026</td>\n",
       "      <td>0.832581</td>\n",
       "      <td>4</td>\n",
       "    </tr>\n",
       "    <tr>\n",
       "      <th>13</th>\n",
       "      <td>SENT -No Coumpound or WCount - LR</td>\n",
       "      <td>0.891126</td>\n",
       "      <td>0.831175</td>\n",
       "      <td>0.830149</td>\n",
       "      <td>3</td>\n",
       "    </tr>\n",
       "    <tr>\n",
       "      <th>1</th>\n",
       "      <td>BOW - ADJ 2% - LogReg</td>\n",
       "      <td>0.880042</td>\n",
       "      <td>0.821943</td>\n",
       "      <td>0.824592</td>\n",
       "      <td>140</td>\n",
       "    </tr>\n",
       "    <tr>\n",
       "      <th>4</th>\n",
       "      <td>BOW - VERB 0% - LR</td>\n",
       "      <td>0.836011</td>\n",
       "      <td>0.788596</td>\n",
       "      <td>0.790900</td>\n",
       "      <td>7260</td>\n",
       "    </tr>\n",
       "    <tr>\n",
       "      <th>2</th>\n",
       "      <td>BOW - NOUN 0% - LR</td>\n",
       "      <td>0.828847</td>\n",
       "      <td>0.779215</td>\n",
       "      <td>0.783605</td>\n",
       "      <td>12424</td>\n",
       "    </tr>\n",
       "    <tr>\n",
       "      <th>5</th>\n",
       "      <td>BOW - VERB 2% - LR</td>\n",
       "      <td>0.813833</td>\n",
       "      <td>0.778474</td>\n",
       "      <td>0.778743</td>\n",
       "      <td>179</td>\n",
       "    </tr>\n",
       "    <tr>\n",
       "      <th>3</th>\n",
       "      <td>BOW - NOUN 2% - LR</td>\n",
       "      <td>0.793112</td>\n",
       "      <td>0.759564</td>\n",
       "      <td>0.753734</td>\n",
       "      <td>294</td>\n",
       "    </tr>\n",
       "    <tr>\n",
       "      <th>6</th>\n",
       "      <td>BOW - ADV 0% - LR</td>\n",
       "      <td>0.724359</td>\n",
       "      <td>0.731577</td>\n",
       "      <td>0.736019</td>\n",
       "      <td>1212</td>\n",
       "    </tr>\n",
       "    <tr>\n",
       "      <th>7</th>\n",
       "      <td>BOW - ADV 2% - LR</td>\n",
       "      <td>0.673953</td>\n",
       "      <td>0.704033</td>\n",
       "      <td>0.708579</td>\n",
       "      <td>43</td>\n",
       "    </tr>\n",
       "  </tbody>\n",
       "</table>\n",
       "</div>"
      ],
      "text/plain": [
       "                                     Model Name    AUC CV  Accuracy CV  \\\n",
       "17                          SENT + 4 types - 2%  0.926694     0.863778   \n",
       "19                   SENT + ADJ, ADV, NOUN - 2%  0.925799     0.865118   \n",
       "20       SENT + ADJ, ADV, NOUN - 2% - Mean True  0.925717     0.868839   \n",
       "21  SENT + ADJ, ADV, NOUN, ADV - 2% - Mean True  0.925651     0.866606   \n",
       "18                          SENT + 4 types - 0%  0.921946     0.861544   \n",
       "16                               SENT + 4 types  0.921946     0.861544   \n",
       "15                         BOW - 4types 2% - LR  0.914251     0.854697   \n",
       "14                         BOW - 4types 0% - LR  0.913651     0.850379   \n",
       "10              BOW - ADJ + VERB + NOUN 0% - LR  0.913651     0.850379   \n",
       "9               BOW - ADJ + VERB + NOUN 2% - LR  0.912800     0.856336   \n",
       "8                      BOW - ADJ + VERB 2% - LR  0.904287     0.846659   \n",
       "0                         BOW - ADJ 0% - LogReg  0.892520     0.828048   \n",
       "11                           SENT + WCount - LR  0.891580     0.830876   \n",
       "12                         SENT -No WCount - LR  0.891235     0.831026   \n",
       "13            SENT -No Coumpound or WCount - LR  0.891126     0.831175   \n",
       "1                         BOW - ADJ 2% - LogReg  0.880042     0.821943   \n",
       "4                            BOW - VERB 0% - LR  0.836011     0.788596   \n",
       "2                            BOW - NOUN 0% - LR  0.828847     0.779215   \n",
       "5                            BOW - VERB 2% - LR  0.813833     0.778474   \n",
       "3                            BOW - NOUN 2% - LR  0.793112     0.759564   \n",
       "6                             BOW - ADV 0% - LR  0.724359     0.731577   \n",
       "7                             BOW - ADV 2% - LR  0.673953     0.704033   \n",
       "\n",
       "    Accuracy Test  Features  \n",
       "17       0.863494       672  \n",
       "19       0.863147       636  \n",
       "20       0.864536       636  \n",
       "21       0.863147       672  \n",
       "18       0.859326     21025  \n",
       "16       0.859326     21025  \n",
       "15       0.858631       669  \n",
       "14       0.852379     21022  \n",
       "10       0.852379     21022  \n",
       "9        0.856895       633  \n",
       "8        0.847864       329  \n",
       "0        0.821118      4699  \n",
       "11       0.830149         5  \n",
       "12       0.832581         4  \n",
       "13       0.830149         3  \n",
       "1        0.824592       140  \n",
       "4        0.790900      7260  \n",
       "2        0.783605     12424  \n",
       "5        0.778743       179  \n",
       "3        0.753734       294  \n",
       "6        0.736019      1212  \n",
       "7        0.708579        43  "
      ]
     },
     "execution_count": 87,
     "metadata": {},
     "output_type": "execute_result"
    }
   ],
   "source": [
    "model_resultsumm= {\n",
    "    'Model Name': [x for x in model_results.keys()],\n",
    "    'AUC CV': [model_results[x]['AUC CV'] for x in model_results.keys()],\n",
    "    'Accuracy CV': [model_results[x]['accuracy cv'] for x in model_results.keys()],\n",
    "    'Accuracy Test': [model_results[x]['accuracy test'] for x in model_results.keys()],\n",
    "    'Features': [len(model_results[x]['model'].coef_[0]) for x in model_results.keys()]\n",
    "}\n",
    "\n",
    "resultsDF = pd.DataFrame(model_resultsumm)\n",
    "\n",
    "resultsDF.sort_values(by = 'AUC CV', ascending = False)\n",
    "\n"
   ]
  },
  {
   "cell_type": "code",
   "execution_count": 68,
   "metadata": {},
   "outputs": [
    {
     "data": {
      "text/html": [
       "<div>\n",
       "<style scoped>\n",
       "    .dataframe tbody tr th:only-of-type {\n",
       "        vertical-align: middle;\n",
       "    }\n",
       "\n",
       "    .dataframe tbody tr th {\n",
       "        vertical-align: top;\n",
       "    }\n",
       "\n",
       "    .dataframe thead th {\n",
       "        text-align: right;\n",
       "    }\n",
       "</style>\n",
       "<table border=\"1\" class=\"dataframe\">\n",
       "  <thead>\n",
       "    <tr style=\"text-align: right;\">\n",
       "      <th></th>\n",
       "      <th>Model Name</th>\n",
       "      <th>AUC CV</th>\n",
       "      <th>Accuracy CV</th>\n",
       "      <th>Accuracy Test</th>\n",
       "      <th>Features</th>\n",
       "    </tr>\n",
       "  </thead>\n",
       "  <tbody>\n",
       "    <tr>\n",
       "      <th>17</th>\n",
       "      <td>SENT + 4 types - 2%</td>\n",
       "      <td>0.926694</td>\n",
       "      <td>0.863778</td>\n",
       "      <td>0.863494</td>\n",
       "      <td>672</td>\n",
       "    </tr>\n",
       "    <tr>\n",
       "      <th>19</th>\n",
       "      <td>SENT + ADJ, ADV, NOUN - 2%</td>\n",
       "      <td>0.925799</td>\n",
       "      <td>0.865118</td>\n",
       "      <td>0.863147</td>\n",
       "      <td>636</td>\n",
       "    </tr>\n",
       "    <tr>\n",
       "      <th>18</th>\n",
       "      <td>SENT + 4 types - 0%</td>\n",
       "      <td>0.921946</td>\n",
       "      <td>0.861544</td>\n",
       "      <td>0.859326</td>\n",
       "      <td>21025</td>\n",
       "    </tr>\n",
       "    <tr>\n",
       "      <th>15</th>\n",
       "      <td>BOW - 4types 2% - LR</td>\n",
       "      <td>0.914251</td>\n",
       "      <td>0.854697</td>\n",
       "      <td>0.858631</td>\n",
       "      <td>669</td>\n",
       "    </tr>\n",
       "    <tr>\n",
       "      <th>14</th>\n",
       "      <td>BOW - 4types 0% - LR</td>\n",
       "      <td>0.913651</td>\n",
       "      <td>0.850379</td>\n",
       "      <td>0.852379</td>\n",
       "      <td>21022</td>\n",
       "    </tr>\n",
       "    <tr>\n",
       "      <th>9</th>\n",
       "      <td>BOW - ADJ + VERB + NOUN 2% - LR</td>\n",
       "      <td>0.912800</td>\n",
       "      <td>0.856336</td>\n",
       "      <td>0.856895</td>\n",
       "      <td>633</td>\n",
       "    </tr>\n",
       "    <tr>\n",
       "      <th>8</th>\n",
       "      <td>BOW - ADJ + VERB 2% - LR</td>\n",
       "      <td>0.904287</td>\n",
       "      <td>0.846659</td>\n",
       "      <td>0.847864</td>\n",
       "      <td>329</td>\n",
       "    </tr>\n",
       "    <tr>\n",
       "      <th>0</th>\n",
       "      <td>BOW - ADJ 0% - LogReg</td>\n",
       "      <td>0.892520</td>\n",
       "      <td>0.828048</td>\n",
       "      <td>0.821118</td>\n",
       "      <td>4699</td>\n",
       "    </tr>\n",
       "    <tr>\n",
       "      <th>11</th>\n",
       "      <td>SENT + WCount - LR</td>\n",
       "      <td>0.891580</td>\n",
       "      <td>0.830876</td>\n",
       "      <td>0.830149</td>\n",
       "      <td>5</td>\n",
       "    </tr>\n",
       "    <tr>\n",
       "      <th>12</th>\n",
       "      <td>SENT -No WCount - LR</td>\n",
       "      <td>0.891235</td>\n",
       "      <td>0.831026</td>\n",
       "      <td>0.832581</td>\n",
       "      <td>4</td>\n",
       "    </tr>\n",
       "    <tr>\n",
       "      <th>13</th>\n",
       "      <td>SENT -No Coumpound or WCount - LR</td>\n",
       "      <td>0.891126</td>\n",
       "      <td>0.831175</td>\n",
       "      <td>0.830149</td>\n",
       "      <td>3</td>\n",
       "    </tr>\n",
       "    <tr>\n",
       "      <th>1</th>\n",
       "      <td>BOW - ADJ 2% - LogReg</td>\n",
       "      <td>0.880042</td>\n",
       "      <td>0.821943</td>\n",
       "      <td>0.824592</td>\n",
       "      <td>140</td>\n",
       "    </tr>\n",
       "    <tr>\n",
       "      <th>4</th>\n",
       "      <td>BOW - VERB 0% - LR</td>\n",
       "      <td>0.836011</td>\n",
       "      <td>0.788596</td>\n",
       "      <td>0.790900</td>\n",
       "      <td>7260</td>\n",
       "    </tr>\n",
       "    <tr>\n",
       "      <th>2</th>\n",
       "      <td>BOW - NOUN 0% - LR</td>\n",
       "      <td>0.828847</td>\n",
       "      <td>0.779215</td>\n",
       "      <td>0.783605</td>\n",
       "      <td>12424</td>\n",
       "    </tr>\n",
       "    <tr>\n",
       "      <th>5</th>\n",
       "      <td>BOW - VERB 2% - LR</td>\n",
       "      <td>0.813833</td>\n",
       "      <td>0.778474</td>\n",
       "      <td>0.778743</td>\n",
       "      <td>179</td>\n",
       "    </tr>\n",
       "    <tr>\n",
       "      <th>3</th>\n",
       "      <td>BOW - NOUN 2% - LR</td>\n",
       "      <td>0.793112</td>\n",
       "      <td>0.759564</td>\n",
       "      <td>0.753734</td>\n",
       "      <td>294</td>\n",
       "    </tr>\n",
       "    <tr>\n",
       "      <th>6</th>\n",
       "      <td>BOW - ADV 0% - LR</td>\n",
       "      <td>0.724359</td>\n",
       "      <td>0.731577</td>\n",
       "      <td>0.736019</td>\n",
       "      <td>1212</td>\n",
       "    </tr>\n",
       "    <tr>\n",
       "      <th>7</th>\n",
       "      <td>BOW - ADV 2% - LR</td>\n",
       "      <td>0.673953</td>\n",
       "      <td>0.704033</td>\n",
       "      <td>0.708579</td>\n",
       "      <td>43</td>\n",
       "    </tr>\n",
       "  </tbody>\n",
       "</table>\n",
       "</div>"
      ],
      "text/plain": [
       "                           Model Name    AUC CV  Accuracy CV  Accuracy Test  \\\n",
       "17                SENT + 4 types - 2%  0.926694     0.863778       0.863494   \n",
       "19         SENT + ADJ, ADV, NOUN - 2%  0.925799     0.865118       0.863147   \n",
       "18                SENT + 4 types - 0%  0.921946     0.861544       0.859326   \n",
       "15               BOW - 4types 2% - LR  0.914251     0.854697       0.858631   \n",
       "14               BOW - 4types 0% - LR  0.913651     0.850379       0.852379   \n",
       "9     BOW - ADJ + VERB + NOUN 2% - LR  0.912800     0.856336       0.856895   \n",
       "8            BOW - ADJ + VERB 2% - LR  0.904287     0.846659       0.847864   \n",
       "0               BOW - ADJ 0% - LogReg  0.892520     0.828048       0.821118   \n",
       "11                 SENT + WCount - LR  0.891580     0.830876       0.830149   \n",
       "12               SENT -No WCount - LR  0.891235     0.831026       0.832581   \n",
       "13  SENT -No Coumpound or WCount - LR  0.891126     0.831175       0.830149   \n",
       "1               BOW - ADJ 2% - LogReg  0.880042     0.821943       0.824592   \n",
       "4                  BOW - VERB 0% - LR  0.836011     0.788596       0.790900   \n",
       "2                  BOW - NOUN 0% - LR  0.828847     0.779215       0.783605   \n",
       "5                  BOW - VERB 2% - LR  0.813833     0.778474       0.778743   \n",
       "3                  BOW - NOUN 2% - LR  0.793112     0.759564       0.753734   \n",
       "6                   BOW - ADV 0% - LR  0.724359     0.731577       0.736019   \n",
       "7                   BOW - ADV 2% - LR  0.673953     0.704033       0.708579   \n",
       "\n",
       "    Features  \n",
       "17       672  \n",
       "19       636  \n",
       "18     21025  \n",
       "15       669  \n",
       "14     21022  \n",
       "9        633  \n",
       "8        329  \n",
       "0       4699  \n",
       "11         5  \n",
       "12         4  \n",
       "13         3  \n",
       "1        140  \n",
       "4       7260  \n",
       "2      12424  \n",
       "5        179  \n",
       "3        294  \n",
       "6       1212  \n",
       "7         43  "
      ]
     },
     "execution_count": 68,
     "metadata": {},
     "output_type": "execute_result"
    }
   ],
   "source": [
    "resultsDF.drop(16, inplace= True)\n",
    "resultsDF.drop(10, inplace= True)\n",
    "\n",
    "resultsDF.sort_values(by = 'AUC CV', ascending = False)"
   ]
  },
  {
   "cell_type": "code",
   "execution_count": 69,
   "metadata": {},
   "outputs": [
    {
     "data": {
      "image/png": "[encoded data removed]",
      "text/plain": [
       "<Figure size 288x504 with 1 Axes>"
      ]
     },
     "metadata": {
      "needs_background": "light"
     },
     "output_type": "display_data"
    }
   ],
   "source": [
    "fig, ax = plt.subplots(figsize = (4,7));\n",
    "resultsDF.set_index('Model Name')[['AUC CV','Accuracy Test']].sort_values(by = 'AUC CV').plot(kind = 'barh', ax = ax);\n",
    "ax.legend(loc = 'lower left');"
   ]
  },
  {
   "cell_type": "code",
   "execution_count": 37,
   "metadata": {},
   "outputs": [
    {
     "data": {
      "image/png": "[encoded data removed]",
      "text/plain": [
       "<Figure size 432x288 with 1 Axes>"
      ]
     },
     "metadata": {
      "needs_background": "light"
     },
     "output_type": "display_data"
    }
   ],
   "source": [
    "model_resultsumm= {\n",
    "    'Model Name': [x for x in model_results.keys()],\n",
    "    'AUC CV': [model_results[x]['AUC CV'] for x in model_results.keys()],\n",
    "    'Accuracy on Test': [model_results[x]['accuracy test'] for x in model_results.keys()]}\n",
    "\n",
    "resultsDF = pd.DataFrame(model_resultsumm\n",
    "                        ).sort_values(by = 'AUC CV', ascending = False\n",
    "                                     ).set_index('Model Name').plot.barh()\n"
   ]
  },
  {
   "cell_type": "markdown",
   "metadata": {},
   "source": [
    "## Model Analysis"
   ]
  },
  {
   "cell_type": "markdown",
   "metadata": {},
   "source": [
    "When standarising, usually the mean is removed and values are scaled to unit variance. However, when dealing with sparse matrices with a large number of 0 values it is best practice to keep the mean in the values in order to avoid changing all those zeroes to another value. This is because centering them entails building a dense matrix which in common use cases is likely to be too large to fit in memory.\n",
    "\n",
    "Therefore, in order to save time when training the models, I did not center values. However, I have retrained the best model with centering in order to simplify interpreting its coefficients. "
   ]
  },
  {
   "cell_type": "code",
   "execution_count": 162,
   "metadata": {},
   "outputs": [],
   "source": [
    "#'SENT + ADJ, ADV, NOUN, ADV - 2% - Mean True'\n",
    "#'SENT + 4 types - 2%'\n",
    "model = model_results['SENT + 4 types - 2%']"
   ]
  },
  {
   "cell_type": "code",
   "execution_count": 163,
   "metadata": {},
   "outputs": [
    {
     "data": {
      "text/plain": [
       "LogisticRegressionCV(Cs=10, class_weight=None, cv=5, dual=False,\n",
       "                     fit_intercept=True, intercept_scaling=1.0, l1_ratios=None,\n",
       "                     max_iter=100, multi_class='auto', n_jobs=None,\n",
       "                     penalty='l2', random_state=14, refit=True, scoring=None,\n",
       "                     solver='liblinear', tol=0.0001, verbose=0)"
      ]
     },
     "execution_count": 163,
     "metadata": {},
     "output_type": "execute_result"
    }
   ],
   "source": [
    "model['model']"
   ]
  },
  {
   "cell_type": "code",
   "execution_count": 164,
   "metadata": {
    "scrolled": false
   },
   "outputs": [
    {
     "name": "stdout",
     "output_type": "stream",
     "text": [
      "[[ 642  285]\n",
      " [ 108 1844]]\n",
      "              precision    recall  f1-score   support\n",
      "\n",
      "  Bad Review       0.86      0.69      0.77       927\n",
      " Good Review       0.87      0.94      0.90      1952\n",
      "\n",
      "    accuracy                           0.86      2879\n",
      "   macro avg       0.86      0.82      0.83      2879\n",
      "weighted avg       0.86      0.86      0.86      2879\n",
      "\n"
     ]
    }
   ],
   "source": [
    "print(model['confusion'])\n",
    "print(model['report'])"
   ]
  },
  {
   "cell_type": "code",
   "execution_count": 165,
   "metadata": {},
   "outputs": [],
   "source": [
    "predictions = pd.DataFrame()\n",
    "predictions['Stars'] = reviews.stars.loc[y_test.index]\n",
    "predictions['Content'] = reviews.content.loc[y_test.index]\n",
    "predictions['Labels'] = y_test\n",
    "predictions['Predicted'] = model['model'].predict(Xtest_std_spa)\n",
    "predictions['Result'] = (y_test == y_test_hat)"
   ]
  },
  {
   "cell_type": "code",
   "execution_count": 166,
   "metadata": {},
   "outputs": [
    {
     "data": {
      "image/png": "[encoded data removed]",
      "text/plain": [
       "<Figure size 504x360 with 1 Axes>"
      ]
     },
     "metadata": {
      "needs_background": "light"
     },
     "output_type": "display_data"
    }
   ],
   "source": [
    "acc_per_star = predictions.groupby('Stars').agg({'Labels':'count','Result':'sum'}\n",
    "                                  ).apply(lambda x: x['Result']/x['Labels'], axis = 1)\n",
    "fig, ax = plt.subplots(figsize = (7,5))\n",
    "\n",
    "sns.barplot(x = acc_per_star.index, y = acc_per_star.values )\n",
    "for p in ax.patches:\n",
    "    ax.annotate(str(np.round(p.get_height(),decimals = 3)), (p.get_x() + 0.25, p.get_height() * 1.01))"
   ]
  },
  {
   "cell_type": "code",
   "execution_count": 178,
   "metadata": {},
   "outputs": [
    {
     "name": "stdout",
     "output_type": "stream",
     "text": [
      "The Divina is a very large ship with over 4,000 people capacity. We sailed to the Caribbean and made the mistake of going during spring break and the kids came with parents free so half the ship was kids. They were everywhere, in the bars, the restaurants so it made it difficult to find a place to sit. It is a gorgeous ship with Crystal stairs and lots of glitz. The food was very good and the entertainment was first class. We enjoyed a balcony cabin with adjoined our friends cabin so we could share a lot of time together. We will go on this ship again, just not during a spring break.\n",
      "\n",
      "The Edge has many great qualities and features. It also has a few downsides, at least per our cruise in late November 2019. The stateroom design of 3rd deck cabin (porthole window) is very good-big king size bed that was very comfortable and nice bed linens; the bath is equally terrific-big shower and well laid out- the magnetic door is a big improvement as well avoiding the clicking sound on previous class ships; the thermostat not so much-it was a good 3-4 degrees off- no off button-if set to 74 it was about 78 and so on- 4 room lighting options on thermostat a bit overdone; really nice large HD tv on wall- channel selection still sparse (no CNN); extra wall outlet by bed a big plus and outlet box on dresser a nice addition; our cabin attendant Gavin was excellent; The Eden bar room is beautiful but hardly a bar ( 8 bar stools)-best time to go there is during the day before entertainment starts; the entertainment at best was weird- we walked out after a few minutes as did others – I don’t know who the target audience is but certainly not the majority of passengers we spoke to; the chairs at the upper level window face back in towards the room, not the view so that itself is bizarre – I feel bad for the staff that has to work that room at night- way too artsy;The Martini bar on deck 3 is again hardly a bar- a semi circle at end of room with apx 12 seats – it is more like sitting in someone’s living room than a bar- no more frozen bar counter in previous class ship either; awkward to order a drink standing up and the bartender show gets old after a few sessions ; in that Grand Plaza / deck 3 room the entertainment has apx 30 table seats behind speakers that are not omnidirectional so good luck with sound if seated back there – it may actually be a plus as the musical entertainment was weak to mediocre at best – the acoustics in that room are not very good- if there is a lull you can actually hear the thumping base from The Club which is quite a distance away; “Those Crazy Kids” due were awful- can’t sing a lick-you’d do better at Karaoke ; other musicians seemed to be going through the motions with little interaction – that’s fine for the nursing home set but not what you’d expect on their newest ship; the rigid 45 minutes sets are boring- many of the musicians are reading their Ipads to sing their songs as they don’t know them by heart giving a real dull experience; when there might be some good audience response and participation it quickly ends as the schedule must be adhered to- suggest building flexibility to the schedules – put a disclaimer in to the audience – tell them “if management decides a show will be extended without notice as everyone is having a lot of fun we will do so” ;The Hard Days night Beatles tribute band was pretty good and fun; the Blues / Jazz quartet were ok ; suggestion – gets some mixture of ages for entertainers, particularly ones that don’t need electronic readers to sing the songs as they know them by heart ; On the comedy side it was 50/50 – Dave Burleigh was very good, talented, entertaining; Chris James was the opposite ( regular show – did not go to his late night show as regular show was so bad) – it was like he was a comedian to grammar school kids – really stretching to be funny based on his personal stories ( the pre-show 5 minute video of cruise director was very strange also ;All four of the regular dining rooms were very nice and staff very nice- the food was good to very good- the strip steaks still not a lot of improvement; at lunch in the Cosmopolitan I had a steak and my wife had a cheeseburger- we were served 2 different types of French Fries which is bizarre since payment is not a factor- I had very nice steak fries and she had the tasteless coated fries that they also serve at the Mast Grill on all of their class ships – just charge me $10 more and do yourself a favor and give everyone steak fries- you can simplify your ordering and storage too; the Oceanview café was generally good- food temperature always an issue- selection of more exotic foods ( Indian, Asian) gets equal billing so choice for North American diets limited a bit ( no black forest ham every day); the bakery as always was outstanding; It appears Celebrity Edge class decided to move away from customers who enjoy bars and conversation with fellow passengers  – when compared to Solstice class ships the following bars are no longer : the Passport bar which is off to side, not in Grand Flyer and seating all around bar-gone; the Sky Lounge at front of ship- seating all around there too and fabulous views on sailaways- gone ( Celebrity obviously wants the wealthier clientele as suite guests take up most of the front of the ship now); the Ensemble lounge with seating 2/3 around- gone; the Martini bar off to side with apx 20 seats around for plenty of conversation- gone; even the pool par has 2 less seats on each end; on the Edge website they list Café Al Bacio and Il Secondo Bacio as “bars” – check again- they are coffee shops with no bar seating and plenty of people sleeping in their chairs; one of the better places to have a drink is actually the Magic Carpet ( if you can find a seat and it is open) – bartenders there were excellent as they were at pool bar and casino bar- but it seems only open on sailaways if tendering ; The Casino bar only option to watch sports as the Rooftop Garden big screen is wasted during NFL games and shows flowers instead ( we were told on first day the 4:25 NFL game would be on there and we and about 20 other people waiting 20 minutes after being told first it would be on, then “they are programming it to be on” and then as the staff person was leaving she admitted she had been told it wouldn’t be on- what a shame as it is a very nice area ;The guest relations area redesign is very good; elevators are quiet and smooth; embarkation and disembarkation were both a breeze; the consolidation of 2 info ship channels ( view from the bridge and moving map/music) in to one is ok but shipboard announcements don’t come through on channel 1 or any other channel so you have to open the cabin door which is not what you would expect from a new ship; internet coverage generally pretty good; the larger hot tubs were also a plus; Suggestion- it is great to give kudos to great staff but as most adults on the ship are over 50 the name tags on staff almost make it impossible as they are dark apx 8 pt font letter on a dark background- alert –we can’t read their names so they can’t get the credit they deserve ; In summary won’t return to Edge class – will gladly go back to Solstice and Millenium class ships where they allow more fun\n",
      "\n",
      "This was our 7th cruise, but first with NCL. To be honest we will return to \"our\" line, but also to be honest we were satisfied with this trip as it was a great way to see Hawaii--arguably the best way as it visits 4 islands if you count Oahu as it begins and ends in Honolulu. We went early--as we often do--to enjoy the city of embarkation and we would highly recommend doing so. We booked everything through NCL and they handled almost everything flawlessly. we were met at the airport gate by Dexter who escorted us to baggage claim and then onto our transfer bus for the short trip to the Hilton Hawaiian Village.  After three days we headed to the port. Embarkation went very smoothly and we must say the terminal itself is as nice as any we have visited. The ship is attractive and our cabin was fine. Public areas were clean. There are many dining options. This was our first time to experience Freestyle dining and although it is not our preferred way we can see how some might like it better than more traditional lines/ships. We found the quantity sufficient, but both service and quality were inconsistent--something we have never experienced on our previous cruises with another line. Entertainment was excellent. Ports were all good. Onboard shops were OK. This ship has fewer amenities than many ships, but as we chose it for the itinerary--only ship doing regular Hawaii cruises--that was not a big deal for us.Although we would probably recommend another line overall IF the itinerary doesn't matter so much, we would definitely recommend this as the best way to see a lot of Hawaii in a short time at a reasonable price.\n",
      "\n",
      "This was an 11 day cruise , the longest my wife and I have taken. We were in an Aqua Class stateroom. The Good: I cannot say enough good about the staff, they are all first rate and very attentive. The ship was immaculate at all times.  Meals were also at least very good especially those in the Blu restaurant. We enjoyed many of the onboard shows as well especially those by the ensemble cast. We liked them much better than the specialty performers.The Bad: The room was much smaller than our previous cruises for the same class.  Celebrity has turned into one of those places where they have their hand in your pocket for everything. $7.50 for a beer, their internet package was extremely slow and spotty, they even wanted to charge $99.00 for their ship tour. We took a snorkeling excursion and it didn’t include fins. Room service is no longer included, they charge quite a bit for it now. And finally they tack on a gratuity charge automatically now. Maybe this is normal in the industry now, I have not checked but I can tell you that I will be checking on my next cruise and there is a good chance it won’t be on Celebrity.\n",
      "\n",
      "We boarded in Vancouver & that process was smooth & well managed.  Our room (with an obstructed view) was nice with lots of storage for our clothing, big bathroom & well located close to the elevators.  Food was good, service was average, our room steward was awesome, friendly, helpful & always cheerful.  The shows were good, we really enjoyed the cooking segments we were able to see while at sea.  The port tours were plentiful even though we didn't take advantage of a lot of them. (we are Alaskan residents who had been to these ports before so didn't spend the $$ to see what we'd already seen!). Others we talked with really enjoyed their tours.  Disappointed in the buffet lines for lunch, same food every day, little variety, desserts were not to my liking, but that's just me! The ice cream was good when the server was there to serve it up! Disappointed in the fact that I had to pay for soft drinks!!! Other cruise we took, there was a 24 hour soda fountain, so we expected the same...nope. It was $2.59 for a Diet Coke!!! (I bought a 12 pack in Juneau at the grocery store for the remainder of our trip!).The one shore excursion we did was reasonably priced, had an awesome bus driver & thoroughly enjoyed that one.  The day in Glacier Bay was spectacular, couldn't have asked for better weather, view, etc.\n",
      "\n",
      "Travelled on the 6/7/19,and set sail from Palma.the check-in at the port was quite rapid ,then went for a drink and a bite to eat on board whilst waiting for our luggage to reach our cabin.2 hours. Our cabin number was 7132,a delux balcony cabin at the stern of the ship.the first thing we noticed on entering the cabin was the scuffed furniture and the dirty state of the coffee table,a greasy mirror and off-white towels.The balcony was a good size with 2 chairs 2 sunbeds and a table with a lovely view at the very rear of the ship.We ate mostly at the Islands restaurant which is buffet style and by and large was pretty good,alth'o lunch times seemed better than dinner for quality and selection.With self serve beer and wine at lunch and dinner.Breakfast was good.The shows in the theatre were very loud and amateurish.One visit was enough for us.The resident band,HighWaves were very poor with little musical talent.The Venue where they performed often was nearly almost empty.The entertainment people would run quizzes on an evening where the prizes would be a luggage strap,a notebook,all very holiday camp.Something we noticed from day 3 was deposits of soot left on our balcony with caused the soles of our feet to go jet black,we noticed this carbon was coming from the exhausts of the ship as we saw it float down on some occasions.Ive kept a sample of this Soot ,and took photos of balcony.staff were excellent.\n",
      "\n",
      "We have made 3 cruises. The others have been Celebrity. We were excited about the idea of going in this MSC cruise to Báltic sea, a newer and bigger one. The issues that were not as expected were:1) food (not as good as expected, less than average)2) paid amenities (nothing free on board)3) crowded (queues to get food and to find available tables for lunch and breakfast)4) nowhere to be quiet (i.e. A coffee shop or bar)5) no juices or water available for free at dinner. 6) expensiveConclusion: I’d choose smaller ships with higher standards. I’m not looking for such a big shopping center on a ship when I’m really trying to rest.\n",
      "\n",
      "This cruise line wants to be the best but has a long way to go. Attention to detail was sadly lacking. Breakfast to the cabin was incorrect 6 out of 8 times.Service in the main Restaurant very slow.Advice on sights to be viewed inaccurate in their daily magazine.On a positive side the ship was state of the art and impressive. Room stewards were excellent and the astronomy presenter and asrodome was outstanding.Overall excellent ship let down by average service and lack of attention to detail.\n",
      "\n",
      "The staff was friendly, the food was great but we missed not having an adult pool, found the ship awkward to navigate finding specific areas and missed a promenade area that we have enjoyed on larger ships.\n",
      "\n",
      "The Pride of America cruise around islands of Hawaii was the first cruise we decided to ever take. We celebrated my best friends 50th birthday while on board this was another reason we decided to cruise with all 4 of us sharing a room & cruising for the first time. Our statement was for all 4 with a balcony.  Room is small for 4 adults & 7 suitcases.  We complained every single day/night about our toilet. Especially when both females have bowel problems we can't help after having gallbladder removed.  Then to have husbands going around the ship looking for a working male toilet (everywhere they went male toilets were roped off not in order).  All staff were fantastic. After speaking to several in different areas they don't get treated very well off heirachy & a lot is expected of them.  We had purchased drinks package for husbands. I do not drink anything except water so for me didn't warrant. The birthday girl only had occasional alcoholic drink but drank mainly soft drink or water. We had a 3 speciality dining package too we used for the following restaurants: La Cucina Italian - not traditional Italian meals a lot of seafood(which 3 out of 4 of us DO NOT EAT) 1 husband didn't eat anything except bread, olive oil & balsamic vinegar. Teppanyaki - GREAT night we were very lucky as we were informed this was the last night of having 3 chefs & bookings would be down to minimum due to only having 2 chefs left. Others had quit. 3rd speciality dinner was Moderna- Brazilian steaks. DELICIOUS. WOW. They start you off with the salad obviously to fill you up on this 1st because we really didn't have staff bring hardly any of the so called meats come out for us to try. The staff serve the meat on skewers to you at the table & you just say yes or no & they put a bit of meat on your plate. Only meats we had come to our table at all was: chicken wrapped in bacon, lamb, fillet mignon & then cinnamon pineapple DELICIOUS YUMM You have to try this, all once & that's it but we know there were more choices of meat as our waiter informed us. Aloha Cafe full buffet breakfast every day was delicious & plentiful everything you could possibly want PLUS MORE. Dinner was just the same & the DESSERT OPTIONS: HEAVENNNN The dining in the Liberty dining room was gorgeous & YUMMM especially the broccoli soup & steak. Had lunch once at Cadillac Diner & couldn't even get inside to eat had to eat on balcony. Professional photos are taken at all ports & if you want while on ship. We had them taken but didn't realise HOW EXPENSIVE they would be for 5 photos & USB $365 + TAX & that wasn't all the photos they took just really really scrutinized the best photos. Couldn't but buy them but seriously expensive. I purchased separately before I left a HAPPY BIRTHDAY package as we were celebrating my best friends 50th on the ship. They decorated the room & left the cake which we didn't even eat it wasn't refrigerated & we couldn't fit it in the room fridge as it is so tiny & there is already alcohol in there. We didn't book any tours with them as the are SO EXPENSIVE. BOOKED all tours on the day of arrival at port outside & they were fantastic tours too.  The islands were beautiful. Hired a car for Maui again celebrated friends birthday on 1 of those days. Entertainment on cruise GREAT for daytime: origami making, hula lessons, games, etc.. if you are going to stay on ship but for night time not alot that really interested. Went to the comedy show (adults only) 1 night. Went to play Australian Bingo 1 nigh. tCANNOT SAY ENOUGH ABOUT THE ISLANDS. Napali Coastline beautiful.\n",
      "\n"
     ]
    }
   ],
   "source": [
    "for x in range(10):\n",
    "    print(predictions[(~predictions['Result'])&(predictions.Stars == 3)]['Content'].iloc[x])\n",
    "    print('')"
   ]
  },
  {
   "cell_type": "code",
   "execution_count": 168,
   "metadata": {},
   "outputs": [
    {
     "data": {
      "text/html": [
       "<div>\n",
       "<style scoped>\n",
       "    .dataframe tbody tr th:only-of-type {\n",
       "        vertical-align: middle;\n",
       "    }\n",
       "\n",
       "    .dataframe tbody tr th {\n",
       "        vertical-align: top;\n",
       "    }\n",
       "\n",
       "    .dataframe thead th {\n",
       "        text-align: right;\n",
       "    }\n",
       "</style>\n",
       "<table border=\"1\" class=\"dataframe\">\n",
       "  <thead>\n",
       "    <tr style=\"text-align: right;\">\n",
       "      <th></th>\n",
       "      <th>stars</th>\n",
       "      <th>content</th>\n",
       "      <th>stars_grouped</th>\n",
       "    </tr>\n",
       "  </thead>\n",
       "  <tbody>\n",
       "    <tr>\n",
       "      <th>9560</th>\n",
       "      <td>3</td>\n",
       "      <td>The Divina is a very large ship with over 4,00...</td>\n",
       "      <td>Bad Review</td>\n",
       "    </tr>\n",
       "    <tr>\n",
       "      <th>451</th>\n",
       "      <td>5</td>\n",
       "      <td>Fantastic experience perfect fabulous food and...</td>\n",
       "      <td>Good Review</td>\n",
       "    </tr>\n",
       "    <tr>\n",
       "      <th>9567</th>\n",
       "      <td>5</td>\n",
       "      <td>What a fantastic experience. I traveled with m...</td>\n",
       "      <td>Good Review</td>\n",
       "    </tr>\n",
       "    <tr>\n",
       "      <th>7087</th>\n",
       "      <td>4</td>\n",
       "      <td>I was looking forward to this next gen ship gi...</td>\n",
       "      <td>Good Review</td>\n",
       "    </tr>\n",
       "    <tr>\n",
       "      <th>7372</th>\n",
       "      <td>5</td>\n",
       "      <td>Everything was just excellent - attitude, pass...</td>\n",
       "      <td>Good Review</td>\n",
       "    </tr>\n",
       "  </tbody>\n",
       "</table>\n",
       "</div>"
      ],
      "text/plain": [
       "      stars                                            content stars_grouped\n",
       "9560      3  The Divina is a very large ship with over 4,00...    Bad Review\n",
       "451       5  Fantastic experience perfect fabulous food and...   Good Review\n",
       "9567      5  What a fantastic experience. I traveled with m...   Good Review\n",
       "7087      4  I was looking forward to this next gen ship gi...   Good Review\n",
       "7372      5  Everything was just excellent - attitude, pass...   Good Review"
      ]
     },
     "execution_count": 168,
     "metadata": {},
     "output_type": "execute_result"
    }
   ],
   "source": [
    "test_indexes = list(Xtest.index)\n",
    "test_analysis = reviews[['stars','content','stars_grouped']].loc[test_indexes]\n",
    "test_analysis.head()"
   ]
  },
  {
   "cell_type": "markdown",
   "metadata": {},
   "source": [
    "**Features**"
   ]
  },
  {
   "cell_type": "code",
   "execution_count": 169,
   "metadata": {},
   "outputs": [],
   "source": [
    "coefficient_df = pd.DataFrame(model['model'].coef_.reshape(-1,1), index = Xtrain_std.columns,columns = ['coefficient']).reset_index()\n",
    "coefficient_df.columns = ['feature','coefficient']"
   ]
  },
  {
   "cell_type": "code",
   "execution_count": 170,
   "metadata": {},
   "outputs": [
    {
     "data": {
      "image/png": "[encoded data removed]",
      "text/plain": [
       "<Figure size 432x432 with 1 Axes>"
      ]
     },
     "metadata": {
      "needs_background": "light"
     },
     "output_type": "display_data"
    }
   ],
   "source": [
    "plt.figure(figsize=(6,6));\n",
    "sns.barplot(x = 'coefficient', y = 'feature', \n",
    "            data = coefficient_df.sort_values(by= 'coefficient', ascending=False)[:15]);"
   ]
  },
  {
   "cell_type": "code",
   "execution_count": 171,
   "metadata": {},
   "outputs": [
    {
     "data": {
      "image/png": "[encoded data removed]",
      "text/plain": [
       "<Figure size 432x432 with 1 Axes>"
      ]
     },
     "metadata": {
      "needs_background": "light"
     },
     "output_type": "display_data"
    }
   ],
   "source": [
    "plt.figure(figsize=(6,6));\n",
    "sns.barplot(x = 'coefficient', y = 'feature',\n",
    "            data = coefficient_df.sort_values(by= 'coefficient', ascending=True)[:15]);\n"
   ]
  },
  {
   "cell_type": "code",
   "execution_count": 172,
   "metadata": {},
   "outputs": [],
   "source": [
    "is_0 = coefficient_df.coefficient.apply(lambda x: np.isclose(x,0))"
   ]
  },
  {
   "cell_type": "code",
   "execution_count": 173,
   "metadata": {},
   "outputs": [
    {
     "data": {
      "text/html": [
       "<div>\n",
       "<style scoped>\n",
       "    .dataframe tbody tr th:only-of-type {\n",
       "        vertical-align: middle;\n",
       "    }\n",
       "\n",
       "    .dataframe tbody tr th {\n",
       "        vertical-align: top;\n",
       "    }\n",
       "\n",
       "    .dataframe thead th {\n",
       "        text-align: right;\n",
       "    }\n",
       "</style>\n",
       "<table border=\"1\" class=\"dataframe\">\n",
       "  <thead>\n",
       "    <tr style=\"text-align: right;\">\n",
       "      <th></th>\n",
       "      <th>feature</th>\n",
       "      <th>coefficient</th>\n",
       "    </tr>\n",
       "  </thead>\n",
       "  <tbody>\n",
       "    <tr>\n",
       "      <th>1</th>\n",
       "      <td>vader_content_neu</td>\n",
       "      <td>0.076075</td>\n",
       "    </tr>\n",
       "  </tbody>\n",
       "</table>\n",
       "</div>"
      ],
      "text/plain": [
       "             feature  coefficient\n",
       "1  vader_content_neu     0.076075"
      ]
     },
     "execution_count": 173,
     "metadata": {},
     "output_type": "execute_result"
    }
   ],
   "source": [
    "coefficient_df[coefficient_df.feature == 'vader_content_neu']"
   ]
  },
  {
   "cell_type": "markdown",
   "metadata": {},
   "source": [
    "## ROC"
   ]
  },
  {
   "cell_type": "code",
   "execution_count": 220,
   "metadata": {},
   "outputs": [],
   "source": [
    "probabilities = pd.DataFrame(model.predict_proba(Xtest_std_spa), columns = ['Bad','Good'])\n",
    "\n",
    "prob = []\n",
    "tp = []\n",
    "fn = []\n",
    "fp = []\n",
    "tn = []\n",
    "confu = []\n",
    "    \n",
    "for p in np.linspace(0,1,21):\n",
    "    y_hat = probabilities.Bad.apply(lambda x : 'Bad Review' if x>p else 'Good Review')\n",
    "    conf = confusion_matrix(y_test,y_hat)\n",
    "    prob.append(p)\n",
    "    tp.append(conf[0][0])\n",
    "    fn.append(conf[0][1])\n",
    "    fp.append(conf[1][0])\n",
    "    tn.append(conf[1][1])\n",
    "    confu.append(conf)\n",
    "\n",
    "thresholds = pd.DataFrame({'tp':tp,'fn':fn,'fp':fp,'tn':tn},index = prob)\n",
    "thresholds['True_Positive_Rate'] = thresholds.apply(lambda x: x['tp']/(x['fn']+x['tp']),axis = 1)\n",
    "thresholds['False_Positive_Rate'] = thresholds.apply(lambda x: x['fp']/(x['tn']+x['fp']),axis = 1)\n",
    "thresholds['Precision'] = thresholds.apply(lambda x: x['tp']/(x['tp']+x['fp']),axis = 1)"
   ]
  },
  {
   "cell_type": "code",
   "execution_count": 213,
   "metadata": {},
   "outputs": [],
   "source": [
    "from ipywidgets import *\n",
    "\n",
    "from pprint import pprint\n",
    "\n",
    "from sklearn.linear_model import LogisticRegression\n",
    "from sklearn.metrics import (roc_curve, auc, f1_score,\n",
    "                             precision_recall_curve, average_precision_score)"
   ]
  },
  {
   "cell_type": "code",
   "execution_count": 223,
   "metadata": {},
   "outputs": [
    {
     "data": {
      "text/plain": [
       "35"
      ]
     },
     "execution_count": 223,
     "metadata": {},
     "output_type": "execute_result"
    }
   ],
   "source": [
    "ratio = 0.35000000000000003\n",
    "npRatio = int(np.round(ratio,decimals = 2)*100)\n",
    "npRatio"
   ]
  },
  {
   "cell_type": "code",
   "execution_count": 224,
   "metadata": {},
   "outputs": [
    {
     "data": {
      "image/png": "[encoded data removed]",
      "text/plain": [
       "<Figure size 576x432 with 1 Axes>"
      ]
     },
     "metadata": {
      "needs_background": "light"
     },
     "output_type": "display_data"
    }
   ],
   "source": [
    "import scikitplot as skplt\n",
    "from matplotlib.colors import ListedColormap\n",
    "cmap = ListedColormap(sns.color_palette(\"husl\", 3))\n",
    "\n",
    "skplt.metrics.plot_roc(y_test, model.predict_proba(Xtest_std_spa), plot_micro=True, plot_macro=True, \n",
    "                       title_fontsize=20, text_fontsize=16, figsize=(8,6), cmap=cmap)\n",
    "\n",
    "plt.scatter(thresholds.loc[0.5,'False_Positive_Rate'], thresholds.loc[0.5,'True_Positive_Rate'], s = 200,c = 'blue')\n",
    "plt.scatter(thresholds.loc[ratio,'False_Positive_Rate'], thresholds.loc[ratio,'True_Positive_Rate'], s = 200, c = 'red')\n",
    "\n",
    "plt.text(thresholds.loc[ratio,'False_Positive_Rate']+0.01, thresholds.loc[ratio,'True_Positive_Rate']-0.05,\n",
    "         'p={}%'.format(npRatio),\n",
    "         fontsize=12)\n",
    "plt.text(thresholds.loc[0.5,'False_Positive_Rate']+0.01, thresholds.loc[0.5,'True_Positive_Rate']-0.05, \n",
    "         'p=50%',\n",
    "         fontsize=12)\n",
    "\n",
    "plt.show()\n",
    "\n"
   ]
  },
  {
   "cell_type": "code",
   "execution_count": 225,
   "metadata": {},
   "outputs": [],
   "source": [
    "def plot_f1_lines(figsize=(8,6),fontsize=16):\n",
    "    '''Create f1-score level lines to be added to the precison-recall plot'''\n",
    "\n",
    "    fig, ax = plt.subplots(figsize=figsize)\n",
    "    \n",
    "    # add lines of constant F1 scores\n",
    "    \n",
    "    for const in np.linspace(0.2,0.9,8):\n",
    "        x_vals = np.linspace(0.001, 0.999, 100)\n",
    "        y_vals = 1./(2./const-1./x_vals)\n",
    "        ax.plot(x_vals[y_vals > 0], y_vals[y_vals > 0],\n",
    "                 color='lightblue', ls='--', alpha=0.9)\n",
    "        ax.set_ylim([0, 1])\n",
    "        ax.annotate('f1={0:0.1f}'.format(const),\n",
    "                     xy=(x_vals[-10], y_vals[-2]+0.0), fontsize=fontsize)\n",
    "\n",
    "    return fig, ax"
   ]
  },
  {
   "cell_type": "code",
   "execution_count": 226,
   "metadata": {},
   "outputs": [
    {
     "data": {
      "image/png": "[encoded data removed]",
      "text/plain": [
       "<Figure size 576x432 with 1 Axes>"
      ]
     },
     "metadata": {
      "needs_background": "light"
     },
     "output_type": "display_data"
    }
   ],
   "source": [
    "fig, ax = plot_f1_lines()\n",
    "skplt.metrics.plot_precision_recall(y_test, model.predict_proba(Xtest_std_spa),\n",
    "                       plot_micro=True, \n",
    "                       title_fontsize=20, text_fontsize=16, cmap=cmap, ax=ax)\n",
    "ax.legend(loc=[1.1,0])\n",
    "\n",
    "plt.scatter(thresholds.loc[0.5,'True_Positive_Rate'], thresholds.loc[0.5,'Precision'], s = 200,c = 'blue')\n",
    "plt.scatter(thresholds.loc[ratio,'True_Positive_Rate'], thresholds.loc[ratio,'Precision'], s = 200, c = 'red')\n",
    "\n",
    "plt.text(thresholds.loc[ratio,'True_Positive_Rate']-0.1, thresholds.loc[ratio,'Precision']-0.05,\n",
    "         'p={}%'.format(npRatio), fontsize=12)\n",
    "plt.text(thresholds.loc[0.5,'True_Positive_Rate']-0.1, thresholds.loc[0.5,'Precision']-0.05, 'p=50%', fontsize=12)\n",
    "\n",
    "plt.show()\n"
   ]
  },
  {
   "cell_type": "code",
   "execution_count": 227,
   "metadata": {},
   "outputs": [
    {
     "name": "stdout",
     "output_type": "stream",
     "text": [
      "0.0\n",
      "[[ 927    0]\n",
      " [1952    0]]\n",
      "0.05\n",
      "[[ 925    2]\n",
      " [1653  299]]\n",
      "0.1\n",
      "[[ 918    9]\n",
      " [1164  788]]\n",
      "0.15000000000000002\n",
      "[[ 900   27]\n",
      " [ 830 1122]]\n",
      "0.2\n",
      "[[ 866   61]\n",
      " [ 591 1361]]\n",
      "0.25\n",
      "[[ 837   90]\n",
      " [ 432 1520]]\n",
      "0.30000000000000004\n",
      "[[ 810  117]\n",
      " [ 323 1629]]\n",
      "0.35000000000000003\n",
      "[[ 780  147]\n",
      " [ 244 1708]]\n",
      "0.4\n",
      "[[ 742  185]\n",
      " [ 176 1776]]\n",
      "0.45\n",
      "[[ 698  229]\n",
      " [ 135 1817]]\n",
      "0.5\n",
      "[[ 642  285]\n",
      " [ 108 1844]]\n",
      "0.55\n",
      "[[ 581  346]\n",
      " [  81 1871]]\n",
      "0.6000000000000001\n",
      "[[ 513  414]\n",
      " [  60 1892]]\n",
      "0.65\n",
      "[[ 453  474]\n",
      " [  49 1903]]\n",
      "0.7000000000000001\n",
      "[[ 382  545]\n",
      " [  30 1922]]\n",
      "0.75\n",
      "[[ 303  624]\n",
      " [  19 1933]]\n",
      "0.8\n",
      "[[ 246  681]\n",
      " [  12 1940]]\n",
      "0.8500000000000001\n",
      "[[ 165  762]\n",
      " [   6 1946]]\n",
      "0.9\n",
      "[[  87  840]\n",
      " [   1 1951]]\n",
      "0.9500000000000001\n",
      "[[  18  909]\n",
      " [   1 1951]]\n",
      "1.0\n",
      "[[   0  927]\n",
      " [   0 1952]]\n"
     ]
    }
   ],
   "source": [
    "for x,y in zip(prob,confu):\n",
    "    print(x)\n",
    "    print(y)"
   ]
  },
  {
   "cell_type": "markdown",
   "metadata": {},
   "source": [
    "## Decision Trees"
   ]
  },
  {
   "cell_type": "code",
   "execution_count": 198,
   "metadata": {},
   "outputs": [
    {
     "ename": "SyntaxError",
     "evalue": "invalid syntax (<ipython-input-198-6dc2deeb55da>, line 5)",
     "output_type": "error",
     "traceback": [
      "\u001b[0;36m  File \u001b[0;32m\"<ipython-input-198-6dc2deeb55da>\"\u001b[0;36m, line \u001b[0;32m5\u001b[0m\n\u001b[0;31m    ''}\u001b[0m\n\u001b[0m      ^\u001b[0m\n\u001b[0;31mSyntaxError\u001b[0m\u001b[0;31m:\u001b[0m invalid syntax\n"
     ]
    }
   ],
   "source": [
    "# Decision Tree Grid Dictionary\n",
    "dtree_dict = {\n",
    "    'max_depth':[3,4,5,6,7,8,9,10],\n",
    "    'criterion':['gini','entropy'],\n",
    "    ''}\n",
    "\n",
    "#Decision Tree regression parameter dictionaty\n",
    "dtree_grid = grid(\n",
    "    'Combined - DecisionTreeClassifier',DecisionTreeClassifier(random_state = random_state),dtree_dict, \n",
    "    Xtrain_std,ytrain,Xtest_std,ytest,scoring = 'roc_auc')"
   ]
  },
  {
   "cell_type": "code",
   "execution_count": 231,
   "metadata": {},
   "outputs": [
    {
     "name": "stdout",
     "output_type": "stream",
     "text": [
      "              precision    recall  f1-score   support\n",
      "\n",
      "  Bad Review       0.76      0.84      0.80       927\n",
      " Good Review       0.92      0.88      0.90      1952\n",
      "\n",
      "    accuracy                           0.86      2879\n",
      "   macro avg       0.84      0.86      0.85      2879\n",
      "weighted avg       0.87      0.86      0.87      2879\n",
      "\n"
     ]
    }
   ],
   "source": [
    "y_test\n",
    "y_hat2 = probabilities.Bad.apply(lambda x : 'Bad Review' if x>0.35 else 'Good Review')\n",
    "print(classification_report(y_test,y_hat2))"
   ]
  },
  {
   "cell_type": "code",
   "execution_count": null,
   "metadata": {},
   "outputs": [],
   "source": []
  }
 ],
 "metadata": {
  "kernelspec": {
   "display_name": "Python 3",
   "language": "python",
   "name": "python3"
  },
  "language_info": {
   "codemirror_mode": {
    "name": "ipython",
    "version": 3
   },
   "file_extension": ".py",
   "mimetype": "text/x-python",
   "name": "python",
   "nbconvert_exporter": "python",
   "pygments_lexer": "ipython3",
   "version": "3.7.6"
  }
 },
 "nbformat": 4,
 "nbformat_minor": 2
}
