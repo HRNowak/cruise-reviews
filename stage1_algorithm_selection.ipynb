{
 "cells": [
  {
   "cell_type": "markdown",
   "metadata": {},
   "source": [
    "<h1><center>Cruise Reviews - Trip Advisor - Models</center></h1>"
   ]
  },
  {
   "cell_type": "markdown",
   "metadata": {},
   "source": [
    "![title](Screen.png)"
   ]
  },
  {
   "cell_type": "markdown",
   "metadata": {},
   "source": [
    "## Importing Libraries & Defining functions"
   ]
  },
  {
   "cell_type": "code",
   "execution_count": 17,
   "metadata": {},
   "outputs": [],
   "source": [
    "import pandas as pd\n",
    "import numpy as np\n",
    "import seaborn as sns\n",
    "import matplotlib.pyplot as plt\n",
    "import warnings\n",
    "import pickle\n",
    "from datetime import datetime\n",
    "\n",
    "# Preprocessing\n",
    "from sklearn.preprocessing import label_binarize, StandardScaler\n",
    "from sklearn.model_selection import train_test_split\n",
    "from sklearn.feature_extraction.text import TfidfVectorizer\n",
    "\n",
    "#Model Assestment\n",
    "from sklearn.model_selection import cross_val_score, GridSearchCV\n",
    "from sklearn.metrics import confusion_matrix,classification_report,precision_score, recall_score, roc_curve, auc, precision_recall_curve, average_precision_score\n",
    "from sklearn.preprocessing import label_binarize\n",
    "\n",
    "#Models\n",
    "from sklearn import naive_bayes\n",
    "from sklearn.neighbors import KNeighborsClassifier\n",
    "from sklearn.linear_model import LogisticRegressionCV\n",
    "from sklearn.tree import DecisionTreeClassifier\n",
    "from sklearn.ensemble import BaggingClassifier, RandomForestClassifier, GradientBoostingClassifier, AdaBoostClassifier\n",
    "from sklearn.svm import SVC, LinearSVC\n",
    "from sklearn.neural_network import MLPClassifier\n",
    "\n",
    "warnings.filterwarnings('ignore')\n",
    "#Add settings for SNS"
   ]
  },
  {
   "cell_type": "code",
   "execution_count": 18,
   "metadata": {},
   "outputs": [],
   "source": [
    "def save_pickle(element,file):\n",
    "    with open(file, 'wb') as handle:\n",
    "        pickle.dump(element, handle, protocol=pickle.HIGHEST_PROTOCOL)\n",
    "        \n",
    "def load_pickle(file):\n",
    "    with open(file, 'rb') as handle:\n",
    "        return pickle.load(handle)"
   ]
  },
  {
   "cell_type": "markdown",
   "metadata": {},
   "source": [
    "## Loading Data"
   ]
  },
  {
   "cell_type": "code",
   "execution_count": 19,
   "metadata": {},
   "outputs": [
    {
     "name": "stdout",
     "output_type": "stream",
     "text": [
      "(9596, 31)\n"
     ]
    },
    {
     "data": {
      "text/html": [
       "<div>\n",
       "<style scoped>\n",
       "    .dataframe tbody tr th:only-of-type {\n",
       "        vertical-align: middle;\n",
       "    }\n",
       "\n",
       "    .dataframe tbody tr th {\n",
       "        vertical-align: top;\n",
       "    }\n",
       "\n",
       "    .dataframe thead th {\n",
       "        text-align: right;\n",
       "    }\n",
       "</style>\n",
       "<table border=\"1\" class=\"dataframe\">\n",
       "  <thead>\n",
       "    <tr style=\"text-align: right;\">\n",
       "      <th></th>\n",
       "      <th>Unnamed: 0.1</th>\n",
       "      <th>ship_link</th>\n",
       "      <th>links</th>\n",
       "      <th>user_date</th>\n",
       "      <th>user_link</th>\n",
       "      <th>user_contributions</th>\n",
       "      <th>user_helpful_votes</th>\n",
       "      <th>stars</th>\n",
       "      <th>title</th>\n",
       "      <th>content</th>\n",
       "      <th>...</th>\n",
       "      <th>vader_title_compound</th>\n",
       "      <th>vader_title_neg</th>\n",
       "      <th>vader_title_neu</th>\n",
       "      <th>vader_title_pos</th>\n",
       "      <th>vader_content_compound</th>\n",
       "      <th>vader_content_neg</th>\n",
       "      <th>vader_content_neu</th>\n",
       "      <th>vader_content_pos</th>\n",
       "      <th>stars_grouped</th>\n",
       "      <th>word_count</th>\n",
       "    </tr>\n",
       "  </thead>\n",
       "  <tbody>\n",
       "    <tr>\n",
       "      <th>0</th>\n",
       "      <td>0</td>\n",
       "      <td>/Cruise_Review-d15691636-Reviews-MSC_Meraviglia</td>\n",
       "      <td>/ShowUserReviews-g1-d15691636-r743487186-MSC_M...</td>\n",
       "      <td>Tony K|Yesterday</td>\n",
       "      <td>/Profile/L9746OCtonyk</td>\n",
       "      <td>62</td>\n",
       "      <td>5</td>\n",
       "      <td>4</td>\n",
       "      <td>MSC Meraviglia Yacht Club</td>\n",
       "      <td>We sailed on the MSC Meraviglia for the first ...</td>\n",
       "      <td>...</td>\n",
       "      <td>0.000</td>\n",
       "      <td>0.0</td>\n",
       "      <td>1.000</td>\n",
       "      <td>0.000</td>\n",
       "      <td>0.9979</td>\n",
       "      <td>0.066</td>\n",
       "      <td>0.780</td>\n",
       "      <td>0.154</td>\n",
       "      <td>Good Review</td>\n",
       "      <td>820</td>\n",
       "    </tr>\n",
       "    <tr>\n",
       "      <th>1</th>\n",
       "      <td>1</td>\n",
       "      <td>/Cruise_Review-d15691636-Reviews-MSC_Meraviglia</td>\n",
       "      <td>/ShowUserReviews-g1-d15691636-r743427041-MSC_M...</td>\n",
       "      <td>ann b|Yesterday</td>\n",
       "      <td>/Profile/bhayden</td>\n",
       "      <td>10</td>\n",
       "      <td>11</td>\n",
       "      <td>1</td>\n",
       "      <td>never again</td>\n",
       "      <td>This ship is a huge nightmare.  I am in decent...</td>\n",
       "      <td>...</td>\n",
       "      <td>0.000</td>\n",
       "      <td>0.0</td>\n",
       "      <td>1.000</td>\n",
       "      <td>0.000</td>\n",
       "      <td>0.8902</td>\n",
       "      <td>0.108</td>\n",
       "      <td>0.728</td>\n",
       "      <td>0.165</td>\n",
       "      <td>Bad Review</td>\n",
       "      <td>159</td>\n",
       "    </tr>\n",
       "    <tr>\n",
       "      <th>2</th>\n",
       "      <td>2</td>\n",
       "      <td>/Cruise_Review-d15691636-Reviews-MSC_Meraviglia</td>\n",
       "      <td>/ShowUserReviews-g1-d15691636-r743305803-MSC_M...</td>\n",
       "      <td>Lsabina11|5 Feb</td>\n",
       "      <td>/Profile/Lsabina11</td>\n",
       "      <td>289</td>\n",
       "      <td>57</td>\n",
       "      <td>5</td>\n",
       "      <td>Awesome experience at great value</td>\n",
       "      <td>Four of us just came back from a MSC Meravigli...</td>\n",
       "      <td>...</td>\n",
       "      <td>0.891</td>\n",
       "      <td>0.0</td>\n",
       "      <td>0.159</td>\n",
       "      <td>0.841</td>\n",
       "      <td>0.9969</td>\n",
       "      <td>0.053</td>\n",
       "      <td>0.652</td>\n",
       "      <td>0.295</td>\n",
       "      <td>Good Review</td>\n",
       "      <td>219</td>\n",
       "    </tr>\n",
       "  </tbody>\n",
       "</table>\n",
       "<p>3 rows × 31 columns</p>\n",
       "</div>"
      ],
      "text/plain": [
       "   Unnamed: 0.1                                        ship_link  \\\n",
       "0             0  /Cruise_Review-d15691636-Reviews-MSC_Meraviglia   \n",
       "1             1  /Cruise_Review-d15691636-Reviews-MSC_Meraviglia   \n",
       "2             2  /Cruise_Review-d15691636-Reviews-MSC_Meraviglia   \n",
       "\n",
       "                                               links         user_date  \\\n",
       "0  /ShowUserReviews-g1-d15691636-r743487186-MSC_M...  Tony K|Yesterday   \n",
       "1  /ShowUserReviews-g1-d15691636-r743427041-MSC_M...   ann b|Yesterday   \n",
       "2  /ShowUserReviews-g1-d15691636-r743305803-MSC_M...   Lsabina11|5 Feb   \n",
       "\n",
       "               user_link  user_contributions  user_helpful_votes  stars  \\\n",
       "0  /Profile/L9746OCtonyk                  62                   5      4   \n",
       "1       /Profile/bhayden                  10                  11      1   \n",
       "2     /Profile/Lsabina11                 289                  57      5   \n",
       "\n",
       "                               title  \\\n",
       "0          MSC Meraviglia Yacht Club   \n",
       "1                        never again   \n",
       "2  Awesome experience at great value   \n",
       "\n",
       "                                             content  ...  \\\n",
       "0  We sailed on the MSC Meraviglia for the first ...  ...   \n",
       "1  This ship is a huge nightmare.  I am in decent...  ...   \n",
       "2  Four of us just came back from a MSC Meravigli...  ...   \n",
       "\n",
       "  vader_title_compound vader_title_neg vader_title_neu vader_title_pos  \\\n",
       "0                0.000             0.0           1.000           0.000   \n",
       "1                0.000             0.0           1.000           0.000   \n",
       "2                0.891             0.0           0.159           0.841   \n",
       "\n",
       "   vader_content_compound vader_content_neg vader_content_neu  \\\n",
       "0                  0.9979             0.066             0.780   \n",
       "1                  0.8902             0.108             0.728   \n",
       "2                  0.9969             0.053             0.652   \n",
       "\n",
       "  vader_content_pos stars_grouped word_count  \n",
       "0             0.154   Good Review        820  \n",
       "1             0.165    Bad Review        159  \n",
       "2             0.295   Good Review        219  \n",
       "\n",
       "[3 rows x 31 columns]"
      ]
     },
     "execution_count": 19,
     "metadata": {},
     "output_type": "execute_result"
    }
   ],
   "source": [
    "# Reviews Content\n",
    "reviews = pd.read_csv('reviews_step_5.csv', index_col=0)\n",
    "print(reviews.shape)\n",
    "reviews.head(3)"
   ]
  },
  {
   "cell_type": "markdown",
   "metadata": {},
   "source": [
    "## Preparing Features and Target"
   ]
  },
  {
   "cell_type": "code",
   "execution_count": 20,
   "metadata": {},
   "outputs": [
    {
     "name": "stdout",
     "output_type": "stream",
     "text": [
      "Size of X: (9596, 5)\n",
      "Size of C: (9596,)\n",
      "Size of y: (9596,)\n"
     ]
    }
   ],
   "source": [
    "# Defining predictors\n",
    "X = reviews[['vader_content_compound', \n",
    "                        'vader_content_neg',\n",
    "                        'vader_content_neu', \n",
    "                        'vader_content_pos',\n",
    "                        'word_count']]\n",
    "\n",
    "#Separating content for train test split and subsequent tdif vectorisation\n",
    "C = reviews.content\n",
    "\n",
    "#Defining target\n",
    "y = reviews.stars_grouped\n",
    "\n",
    "print('Size of X: {}'.format(X.shape))\n",
    "print('Size of C: {}'.format(C.shape))\n",
    "print('Size of y: {}'.format(y.shape))"
   ]
  },
  {
   "cell_type": "markdown",
   "metadata": {},
   "source": [
    "## Train and Test Split"
   ]
  },
  {
   "cell_type": "code",
   "execution_count": 21,
   "metadata": {},
   "outputs": [],
   "source": [
    "Xtrain, Xtest,Ctrain,Ctest, ytrain, ytest = train_test_split(X,C,y,test_size = 0.3, stratify = y, random_state = 14)"
   ]
  },
  {
   "cell_type": "code",
   "execution_count": 22,
   "metadata": {},
   "outputs": [
    {
     "name": "stdout",
     "output_type": "stream",
     "text": [
      "6717 2879 6717 2879 6717 2879\n"
     ]
    }
   ],
   "source": [
    "print(len(Xtrain),len(Xtest),len(Ctrain),len(Ctest),len(ytrain),len(ytest))"
   ]
  },
  {
   "cell_type": "markdown",
   "metadata": {},
   "source": [
    "## TFID Vectorising"
   ]
  },
  {
   "cell_type": "code",
   "execution_count": 23,
   "metadata": {},
   "outputs": [],
   "source": [
    "#Instantiating Vectoriser\n",
    "content_tvec = TfidfVectorizer(strip_accents='unicode', ngram_range=(1,1),stop_words = 'english',max_df=0.4, min_df=0.05)\n",
    "\n",
    "#Fitting tfid based on Ctrain Data and transforming both train and test data.\n",
    "train_matrix = content_tvec.fit_transform(Ctrain)\n",
    "test_matrix = content_tvec.transform(Ctest)\n",
    "\n",
    "#Saving Train TFID into DataFrame\n",
    "train_tfid_df = pd.DataFrame(train_matrix.toarray(),\n",
    "                            columns= list(map(lambda x : 'tfid - '+ x, list(content_tvec.get_feature_names()))),\n",
    "                            index = Ctrain.index)\n",
    "\n",
    "#Saving Test TFID into DataFrame\n",
    "test_tfid_df = pd.DataFrame(test_matrix.toarray(),\n",
    "                            columns=list(map(lambda x : 'tfid - '+ x, list(content_tvec.get_feature_names()))), \n",
    "                            index = Ctest.index)"
   ]
  },
  {
   "cell_type": "code",
   "execution_count": 24,
   "metadata": {},
   "outputs": [
    {
     "name": "stdout",
     "output_type": "stream",
     "text": [
      "(6717, 310) (2879, 310)\n"
     ]
    }
   ],
   "source": [
    "#Joining data with tfid matrices\n",
    "Xtrain = pd.concat([Xtrain,train_tfid_df], axis=1)\n",
    "Xtest = pd.concat([Xtest,test_tfid_df], axis=1)\n",
    "print(Xtrain.shape,Xtest.shape)"
   ]
  },
  {
   "cell_type": "markdown",
   "metadata": {},
   "source": [
    "## Standardising"
   ]
  },
  {
   "cell_type": "code",
   "execution_count": 25,
   "metadata": {},
   "outputs": [],
   "source": [
    "# Keeping mean to work with Sparse Matrix\n",
    "scaler = StandardScaler(with_mean = False)\n",
    "Xtrain_std = pd.DataFrame(scaler.fit_transform(Xtrain),columns = Xtrain.columns, index = Xtrain.index)\n",
    "Xtest_std = pd.DataFrame(scaler.transform(Xtest),columns = Xtest.columns, index = Xtest.index)"
   ]
  },
  {
   "cell_type": "code",
   "execution_count": 26,
   "metadata": {},
   "outputs": [],
   "source": [
    "from scipy import sparse\n",
    "X_std = pd.DataFrame(scaler.fit_transform(X),columns = X.columns, index = X.index)\n",
    "\n",
    "Xtrain_std_spa = sparse.csr_matrix(Xtrain_std.values)\n",
    "Xtest_std_spa = sparse.csr_matrix(Xtest_std.values)"
   ]
  },
  {
   "cell_type": "markdown",
   "metadata": {},
   "source": [
    "## Assesing Models"
   ]
  },
  {
   "cell_type": "markdown",
   "metadata": {},
   "source": [
    "### Estimating Baseline"
   ]
  },
  {
   "cell_type": "code",
   "execution_count": 28,
   "metadata": {},
   "outputs": [
    {
     "data": {
      "text/plain": [
       "0.6779812416257258"
      ]
     },
     "execution_count": 28,
     "metadata": {},
     "output_type": "execute_result"
    }
   ],
   "source": [
    "##Estimating Baseline\n",
    "baseline = ytrain.value_counts(normalize = True)[0]\n",
    "baseline"
   ]
  },
  {
   "cell_type": "markdown",
   "metadata": {},
   "source": [
    "### Model Scorer"
   ]
  },
  {
   "cell_type": "code",
   "execution_count": 29,
   "metadata": {},
   "outputs": [],
   "source": [
    "random_state = 14"
   ]
  },
  {
   "cell_type": "code",
   "execution_count": 30,
   "metadata": {},
   "outputs": [],
   "source": [
    "model_results = {}\n",
    "\n",
    "def grid(model_name,model_type,param_dict,Xtr,ytr,Xte,yte,scoring='roc_auc'):\n",
    "    \n",
    "    start = datetime.now()\n",
    "    \n",
    "    #Fitting grid\n",
    "    grid = GridSearchCV(model_type,param_dict,n_jobs = -1,scoring=scoring,verbose =2,cv = 5).fit(Xtr,ytr)\n",
    "    grid_time = datetime.now()\n",
    "    print('Time\\nGrid fitting took {}'.format(grid_time - start))\n",
    "    \n",
    "    #Extracting best model and predictions\n",
    "    model = grid.best_estimator_\n",
    "    yte_hat = model.predict(Xte)\n",
    "    \n",
    "    # binarising for roc_auc\n",
    "    yte_bin = label_binarize(yte, classes=['Good Review','Bad Review'])\n",
    "    yte_hat_bin = label_binarize(yte_hat, classes=['Good Review','Bad Review'])\n",
    "    \n",
    "    # cross validating for accuracy\n",
    "    scores = cross_val_score(model,Xtr,ytr,cv = 5,scoring = 'accuracy')\n",
    "    cv_time = datetime.now()\n",
    "    print('CV took {}'.format(cv_time - grid_time))\n",
    "\n",
    "    # additional calculations\n",
    "    fpr, tpr, threshold = roc_curve(yte_bin, yte_hat_bin,pos_label = 1)\n",
    "    roc_auc = auc(fpr, tpr)\n",
    "    \n",
    "    # storing results  \n",
    "    model_results[model_name] = {\n",
    "        'model': model,\n",
    "        'accuracy train' : model.score(Xtr,ytr),\n",
    "        'accuracy test' : model.score(Xte,yte),\n",
    "        'accuracy cv' : np.mean(scores),\n",
    "        'confusion' : confusion_matrix(yte,yte_hat,model.classes_),\n",
    "        'report': classification_report(yte,yte_hat, labels = model.classes_),\n",
    "        'precision': precision_score(yte,yte_hat, labels = model.classes_,pos_label ='Bad Review'),\n",
    "        'recall': recall_score(yte,yte_hat, labels = model.classes_,pos_label ='Bad Review'),\n",
    "         'AUC': roc_auc,\n",
    "         'AUC CV':grid.best_score_\n",
    "    }    \n",
    "\n",
    "    #printing results\n",
    "    print('\\nModel Scores')\n",
    "    print('Accuracy on train data: {}'.format(model_results[model_name]['accuracy train']))\n",
    "    print('Accuracy on test data: {}'.format(model_results[model_name]['accuracy test']))\n",
    "    print('Accuracy on CV: {}'.format(model_results[model_name]['accuracy cv']))\n",
    "    print('Baseline: {}\\n'.format(baseline))\n",
    "    \n",
    "    print('AUC CV: {}'.format(model_results[model_name]['AUC CV'])) \n",
    "    print('\\nConfusion Matrix')\n",
    "    print(model_results[model_name]['confusion'])    \n",
    "    print('\\nClassification Report')\n",
    "    print(model_results[model_name]['report'])\n",
    "    \n",
    "    print('Best Estimator Parameters'.format(model_name))\n",
    "    print(model.get_params())\n",
    "    finish = datetime.now()\n",
    "    return grid"
   ]
  },
  {
   "cell_type": "markdown",
   "metadata": {},
   "source": [
    "## KNN"
   ]
  },
  {
   "cell_type": "code",
   "execution_count": 31,
   "metadata": {},
   "outputs": [
    {
     "name": "stdout",
     "output_type": "stream",
     "text": [
      "Fitting 5 folds for each of 18 candidates, totalling 90 fits\n"
     ]
    },
    {
     "name": "stderr",
     "output_type": "stream",
     "text": [
      "[Parallel(n_jobs=-1)]: Using backend LokyBackend with 8 concurrent workers.\n"
     ]
    },
    {
     "ename": "KeyboardInterrupt",
     "evalue": "",
     "output_type": "error",
     "traceback": [
      "\u001b[0;31m---------------------------------------------------------------------------\u001b[0m",
      "\u001b[0;31mKeyboardInterrupt\u001b[0m                         Traceback (most recent call last)",
      "\u001b[0;32m<ipython-input-31-6526c09d9949>\u001b[0m in \u001b[0;36m<module>\u001b[0;34m\u001b[0m\n\u001b[1;32m      6\u001b[0m \u001b[0;34m\u001b[0m\u001b[0m\n\u001b[1;32m      7\u001b[0m kneigh_grid = grid('Combined - KNeighborsClassifier',KNeighborsClassifier(),kneigh_dict,\n\u001b[0;32m----> 8\u001b[0;31m                    Xtrain_std_spa,ytrain,Xtest_std_spa,ytest)\n\u001b[0m",
      "\u001b[0;32m<ipython-input-30-88e3740e3131>\u001b[0m in \u001b[0;36mgrid\u001b[0;34m(model_name, model_type, param_dict, Xtr, ytr, Xte, yte, scoring)\u001b[0m\n\u001b[1;32m      6\u001b[0m \u001b[0;34m\u001b[0m\u001b[0m\n\u001b[1;32m      7\u001b[0m     \u001b[0;31m#Fitting grid\u001b[0m\u001b[0;34m\u001b[0m\u001b[0;34m\u001b[0m\u001b[0;34m\u001b[0m\u001b[0m\n\u001b[0;32m----> 8\u001b[0;31m     \u001b[0mgrid\u001b[0m \u001b[0;34m=\u001b[0m \u001b[0mGridSearchCV\u001b[0m\u001b[0;34m(\u001b[0m\u001b[0mmodel_type\u001b[0m\u001b[0;34m,\u001b[0m\u001b[0mparam_dict\u001b[0m\u001b[0;34m,\u001b[0m\u001b[0mn_jobs\u001b[0m \u001b[0;34m=\u001b[0m \u001b[0;34m-\u001b[0m\u001b[0;36m1\u001b[0m\u001b[0;34m,\u001b[0m\u001b[0mscoring\u001b[0m\u001b[0;34m=\u001b[0m\u001b[0mscoring\u001b[0m\u001b[0;34m,\u001b[0m\u001b[0mverbose\u001b[0m \u001b[0;34m=\u001b[0m\u001b[0;36m2\u001b[0m\u001b[0;34m,\u001b[0m\u001b[0mcv\u001b[0m \u001b[0;34m=\u001b[0m \u001b[0;36m5\u001b[0m\u001b[0;34m)\u001b[0m\u001b[0;34m.\u001b[0m\u001b[0mfit\u001b[0m\u001b[0;34m(\u001b[0m\u001b[0mXtr\u001b[0m\u001b[0;34m,\u001b[0m\u001b[0mytr\u001b[0m\u001b[0;34m)\u001b[0m\u001b[0;34m\u001b[0m\u001b[0;34m\u001b[0m\u001b[0m\n\u001b[0m\u001b[1;32m      9\u001b[0m     \u001b[0mgrid_time\u001b[0m \u001b[0;34m=\u001b[0m \u001b[0mdatetime\u001b[0m\u001b[0;34m.\u001b[0m\u001b[0mnow\u001b[0m\u001b[0;34m(\u001b[0m\u001b[0;34m)\u001b[0m\u001b[0;34m\u001b[0m\u001b[0;34m\u001b[0m\u001b[0m\n\u001b[1;32m     10\u001b[0m     \u001b[0mprint\u001b[0m\u001b[0;34m(\u001b[0m\u001b[0;34m'Time\\nGrid fitting took {}'\u001b[0m\u001b[0;34m.\u001b[0m\u001b[0mformat\u001b[0m\u001b[0;34m(\u001b[0m\u001b[0mgrid_time\u001b[0m \u001b[0;34m-\u001b[0m \u001b[0mstart\u001b[0m\u001b[0;34m)\u001b[0m\u001b[0;34m)\u001b[0m\u001b[0;34m\u001b[0m\u001b[0;34m\u001b[0m\u001b[0m\n",
      "\u001b[0;32m~/opt/anaconda3/lib/python3.7/site-packages/sklearn/model_selection/_search.py\u001b[0m in \u001b[0;36mfit\u001b[0;34m(self, X, y, groups, **fit_params)\u001b[0m\n\u001b[1;32m    708\u001b[0m                 \u001b[0;32mreturn\u001b[0m \u001b[0mresults\u001b[0m\u001b[0;34m\u001b[0m\u001b[0;34m\u001b[0m\u001b[0m\n\u001b[1;32m    709\u001b[0m \u001b[0;34m\u001b[0m\u001b[0m\n\u001b[0;32m--> 710\u001b[0;31m             \u001b[0mself\u001b[0m\u001b[0;34m.\u001b[0m\u001b[0m_run_search\u001b[0m\u001b[0;34m(\u001b[0m\u001b[0mevaluate_candidates\u001b[0m\u001b[0;34m)\u001b[0m\u001b[0;34m\u001b[0m\u001b[0;34m\u001b[0m\u001b[0m\n\u001b[0m\u001b[1;32m    711\u001b[0m \u001b[0;34m\u001b[0m\u001b[0m\n\u001b[1;32m    712\u001b[0m         \u001b[0;31m# For multi-metric evaluation, store the best_index_, best_params_ and\u001b[0m\u001b[0;34m\u001b[0m\u001b[0;34m\u001b[0m\u001b[0;34m\u001b[0m\u001b[0m\n",
      "\u001b[0;32m~/opt/anaconda3/lib/python3.7/site-packages/sklearn/model_selection/_search.py\u001b[0m in \u001b[0;36m_run_search\u001b[0;34m(self, evaluate_candidates)\u001b[0m\n\u001b[1;32m   1149\u001b[0m     \u001b[0;32mdef\u001b[0m \u001b[0m_run_search\u001b[0m\u001b[0;34m(\u001b[0m\u001b[0mself\u001b[0m\u001b[0;34m,\u001b[0m \u001b[0mevaluate_candidates\u001b[0m\u001b[0;34m)\u001b[0m\u001b[0;34m:\u001b[0m\u001b[0;34m\u001b[0m\u001b[0;34m\u001b[0m\u001b[0m\n\u001b[1;32m   1150\u001b[0m         \u001b[0;34m\"\"\"Search all candidates in param_grid\"\"\"\u001b[0m\u001b[0;34m\u001b[0m\u001b[0;34m\u001b[0m\u001b[0m\n\u001b[0;32m-> 1151\u001b[0;31m         \u001b[0mevaluate_candidates\u001b[0m\u001b[0;34m(\u001b[0m\u001b[0mParameterGrid\u001b[0m\u001b[0;34m(\u001b[0m\u001b[0mself\u001b[0m\u001b[0;34m.\u001b[0m\u001b[0mparam_grid\u001b[0m\u001b[0;34m)\u001b[0m\u001b[0;34m)\u001b[0m\u001b[0;34m\u001b[0m\u001b[0;34m\u001b[0m\u001b[0m\n\u001b[0m\u001b[1;32m   1152\u001b[0m \u001b[0;34m\u001b[0m\u001b[0m\n\u001b[1;32m   1153\u001b[0m \u001b[0;34m\u001b[0m\u001b[0m\n",
      "\u001b[0;32m~/opt/anaconda3/lib/python3.7/site-packages/sklearn/model_selection/_search.py\u001b[0m in \u001b[0;36mevaluate_candidates\u001b[0;34m(candidate_params)\u001b[0m\n\u001b[1;32m    687\u001b[0m                                \u001b[0;32mfor\u001b[0m \u001b[0mparameters\u001b[0m\u001b[0;34m,\u001b[0m \u001b[0;34m(\u001b[0m\u001b[0mtrain\u001b[0m\u001b[0;34m,\u001b[0m \u001b[0mtest\u001b[0m\u001b[0;34m)\u001b[0m\u001b[0;34m\u001b[0m\u001b[0;34m\u001b[0m\u001b[0m\n\u001b[1;32m    688\u001b[0m                                in product(candidate_params,\n\u001b[0;32m--> 689\u001b[0;31m                                           cv.split(X, y, groups)))\n\u001b[0m\u001b[1;32m    690\u001b[0m \u001b[0;34m\u001b[0m\u001b[0m\n\u001b[1;32m    691\u001b[0m                 \u001b[0;32mif\u001b[0m \u001b[0mlen\u001b[0m\u001b[0;34m(\u001b[0m\u001b[0mout\u001b[0m\u001b[0;34m)\u001b[0m \u001b[0;34m<\u001b[0m \u001b[0;36m1\u001b[0m\u001b[0;34m:\u001b[0m\u001b[0;34m\u001b[0m\u001b[0;34m\u001b[0m\u001b[0m\n",
      "\u001b[0;32m~/opt/anaconda3/lib/python3.7/site-packages/joblib/parallel.py\u001b[0m in \u001b[0;36m__call__\u001b[0;34m(self, iterable)\u001b[0m\n\u001b[1;32m   1015\u001b[0m \u001b[0;34m\u001b[0m\u001b[0m\n\u001b[1;32m   1016\u001b[0m             \u001b[0;32mwith\u001b[0m \u001b[0mself\u001b[0m\u001b[0;34m.\u001b[0m\u001b[0m_backend\u001b[0m\u001b[0;34m.\u001b[0m\u001b[0mretrieval_context\u001b[0m\u001b[0;34m(\u001b[0m\u001b[0;34m)\u001b[0m\u001b[0;34m:\u001b[0m\u001b[0;34m\u001b[0m\u001b[0;34m\u001b[0m\u001b[0m\n\u001b[0;32m-> 1017\u001b[0;31m                 \u001b[0mself\u001b[0m\u001b[0;34m.\u001b[0m\u001b[0mretrieve\u001b[0m\u001b[0;34m(\u001b[0m\u001b[0;34m)\u001b[0m\u001b[0;34m\u001b[0m\u001b[0;34m\u001b[0m\u001b[0m\n\u001b[0m\u001b[1;32m   1018\u001b[0m             \u001b[0;31m# Make sure that we get a last message telling us we are done\u001b[0m\u001b[0;34m\u001b[0m\u001b[0;34m\u001b[0m\u001b[0;34m\u001b[0m\u001b[0m\n\u001b[1;32m   1019\u001b[0m             \u001b[0melapsed_time\u001b[0m \u001b[0;34m=\u001b[0m \u001b[0mtime\u001b[0m\u001b[0;34m.\u001b[0m\u001b[0mtime\u001b[0m\u001b[0;34m(\u001b[0m\u001b[0;34m)\u001b[0m \u001b[0;34m-\u001b[0m \u001b[0mself\u001b[0m\u001b[0;34m.\u001b[0m\u001b[0m_start_time\u001b[0m\u001b[0;34m\u001b[0m\u001b[0;34m\u001b[0m\u001b[0m\n",
      "\u001b[0;32m~/opt/anaconda3/lib/python3.7/site-packages/joblib/parallel.py\u001b[0m in \u001b[0;36mretrieve\u001b[0;34m(self)\u001b[0m\n\u001b[1;32m    907\u001b[0m             \u001b[0;32mtry\u001b[0m\u001b[0;34m:\u001b[0m\u001b[0;34m\u001b[0m\u001b[0;34m\u001b[0m\u001b[0m\n\u001b[1;32m    908\u001b[0m                 \u001b[0;32mif\u001b[0m \u001b[0mgetattr\u001b[0m\u001b[0;34m(\u001b[0m\u001b[0mself\u001b[0m\u001b[0;34m.\u001b[0m\u001b[0m_backend\u001b[0m\u001b[0;34m,\u001b[0m \u001b[0;34m'supports_timeout'\u001b[0m\u001b[0;34m,\u001b[0m \u001b[0;32mFalse\u001b[0m\u001b[0;34m)\u001b[0m\u001b[0;34m:\u001b[0m\u001b[0;34m\u001b[0m\u001b[0;34m\u001b[0m\u001b[0m\n\u001b[0;32m--> 909\u001b[0;31m                     \u001b[0mself\u001b[0m\u001b[0;34m.\u001b[0m\u001b[0m_output\u001b[0m\u001b[0;34m.\u001b[0m\u001b[0mextend\u001b[0m\u001b[0;34m(\u001b[0m\u001b[0mjob\u001b[0m\u001b[0;34m.\u001b[0m\u001b[0mget\u001b[0m\u001b[0;34m(\u001b[0m\u001b[0mtimeout\u001b[0m\u001b[0;34m=\u001b[0m\u001b[0mself\u001b[0m\u001b[0;34m.\u001b[0m\u001b[0mtimeout\u001b[0m\u001b[0;34m)\u001b[0m\u001b[0;34m)\u001b[0m\u001b[0;34m\u001b[0m\u001b[0;34m\u001b[0m\u001b[0m\n\u001b[0m\u001b[1;32m    910\u001b[0m                 \u001b[0;32melse\u001b[0m\u001b[0;34m:\u001b[0m\u001b[0;34m\u001b[0m\u001b[0;34m\u001b[0m\u001b[0m\n\u001b[1;32m    911\u001b[0m                     \u001b[0mself\u001b[0m\u001b[0;34m.\u001b[0m\u001b[0m_output\u001b[0m\u001b[0;34m.\u001b[0m\u001b[0mextend\u001b[0m\u001b[0;34m(\u001b[0m\u001b[0mjob\u001b[0m\u001b[0;34m.\u001b[0m\u001b[0mget\u001b[0m\u001b[0;34m(\u001b[0m\u001b[0;34m)\u001b[0m\u001b[0;34m)\u001b[0m\u001b[0;34m\u001b[0m\u001b[0;34m\u001b[0m\u001b[0m\n",
      "\u001b[0;32m~/opt/anaconda3/lib/python3.7/site-packages/joblib/_parallel_backends.py\u001b[0m in \u001b[0;36mwrap_future_result\u001b[0;34m(future, timeout)\u001b[0m\n\u001b[1;32m    560\u001b[0m         AsyncResults.get from multiprocessing.\"\"\"\n\u001b[1;32m    561\u001b[0m         \u001b[0;32mtry\u001b[0m\u001b[0;34m:\u001b[0m\u001b[0;34m\u001b[0m\u001b[0;34m\u001b[0m\u001b[0m\n\u001b[0;32m--> 562\u001b[0;31m             \u001b[0;32mreturn\u001b[0m \u001b[0mfuture\u001b[0m\u001b[0;34m.\u001b[0m\u001b[0mresult\u001b[0m\u001b[0;34m(\u001b[0m\u001b[0mtimeout\u001b[0m\u001b[0;34m=\u001b[0m\u001b[0mtimeout\u001b[0m\u001b[0;34m)\u001b[0m\u001b[0;34m\u001b[0m\u001b[0;34m\u001b[0m\u001b[0m\n\u001b[0m\u001b[1;32m    563\u001b[0m         \u001b[0;32mexcept\u001b[0m \u001b[0mLokyTimeoutError\u001b[0m\u001b[0;34m:\u001b[0m\u001b[0;34m\u001b[0m\u001b[0;34m\u001b[0m\u001b[0m\n\u001b[1;32m    564\u001b[0m             \u001b[0;32mraise\u001b[0m \u001b[0mTimeoutError\u001b[0m\u001b[0;34m(\u001b[0m\u001b[0;34m)\u001b[0m\u001b[0;34m\u001b[0m\u001b[0;34m\u001b[0m\u001b[0m\n",
      "\u001b[0;32m~/opt/anaconda3/lib/python3.7/concurrent/futures/_base.py\u001b[0m in \u001b[0;36mresult\u001b[0;34m(self, timeout)\u001b[0m\n\u001b[1;32m    428\u001b[0m                 \u001b[0;32mreturn\u001b[0m \u001b[0mself\u001b[0m\u001b[0;34m.\u001b[0m\u001b[0m__get_result\u001b[0m\u001b[0;34m(\u001b[0m\u001b[0;34m)\u001b[0m\u001b[0;34m\u001b[0m\u001b[0;34m\u001b[0m\u001b[0m\n\u001b[1;32m    429\u001b[0m \u001b[0;34m\u001b[0m\u001b[0m\n\u001b[0;32m--> 430\u001b[0;31m             \u001b[0mself\u001b[0m\u001b[0;34m.\u001b[0m\u001b[0m_condition\u001b[0m\u001b[0;34m.\u001b[0m\u001b[0mwait\u001b[0m\u001b[0;34m(\u001b[0m\u001b[0mtimeout\u001b[0m\u001b[0;34m)\u001b[0m\u001b[0;34m\u001b[0m\u001b[0;34m\u001b[0m\u001b[0m\n\u001b[0m\u001b[1;32m    431\u001b[0m \u001b[0;34m\u001b[0m\u001b[0m\n\u001b[1;32m    432\u001b[0m             \u001b[0;32mif\u001b[0m \u001b[0mself\u001b[0m\u001b[0;34m.\u001b[0m\u001b[0m_state\u001b[0m \u001b[0;32min\u001b[0m \u001b[0;34m[\u001b[0m\u001b[0mCANCELLED\u001b[0m\u001b[0;34m,\u001b[0m \u001b[0mCANCELLED_AND_NOTIFIED\u001b[0m\u001b[0;34m]\u001b[0m\u001b[0;34m:\u001b[0m\u001b[0;34m\u001b[0m\u001b[0;34m\u001b[0m\u001b[0m\n",
      "\u001b[0;32m~/opt/anaconda3/lib/python3.7/threading.py\u001b[0m in \u001b[0;36mwait\u001b[0;34m(self, timeout)\u001b[0m\n\u001b[1;32m    294\u001b[0m         \u001b[0;32mtry\u001b[0m\u001b[0;34m:\u001b[0m    \u001b[0;31m# restore state no matter what (e.g., KeyboardInterrupt)\u001b[0m\u001b[0;34m\u001b[0m\u001b[0;34m\u001b[0m\u001b[0m\n\u001b[1;32m    295\u001b[0m             \u001b[0;32mif\u001b[0m \u001b[0mtimeout\u001b[0m \u001b[0;32mis\u001b[0m \u001b[0;32mNone\u001b[0m\u001b[0;34m:\u001b[0m\u001b[0;34m\u001b[0m\u001b[0;34m\u001b[0m\u001b[0m\n\u001b[0;32m--> 296\u001b[0;31m                 \u001b[0mwaiter\u001b[0m\u001b[0;34m.\u001b[0m\u001b[0macquire\u001b[0m\u001b[0;34m(\u001b[0m\u001b[0;34m)\u001b[0m\u001b[0;34m\u001b[0m\u001b[0;34m\u001b[0m\u001b[0m\n\u001b[0m\u001b[1;32m    297\u001b[0m                 \u001b[0mgotit\u001b[0m \u001b[0;34m=\u001b[0m \u001b[0;32mTrue\u001b[0m\u001b[0;34m\u001b[0m\u001b[0;34m\u001b[0m\u001b[0m\n\u001b[1;32m    298\u001b[0m             \u001b[0;32melse\u001b[0m\u001b[0;34m:\u001b[0m\u001b[0;34m\u001b[0m\u001b[0;34m\u001b[0m\u001b[0m\n",
      "\u001b[0;31mKeyboardInterrupt\u001b[0m: "
     ]
    }
   ],
   "source": [
    "kneigh_dict = {\n",
    "    'n_neighbors':[10,20,30],\n",
    "    'weights':['uniform','distance'],\n",
    "    'metric': ['euclidean','manhattan','cosine']  \n",
    "}\n",
    "\n",
    "kneigh_grid = grid('Combined - KNeighborsClassifier',KNeighborsClassifier(),kneigh_dict,\n",
    "                   Xtrain_std_spa,ytrain,Xtest_std_spa,ytest)\n"
   ]
  },
  {
   "cell_type": "markdown",
   "metadata": {},
   "source": [
    "## Logistic Regression"
   ]
  },
  {
   "cell_type": "code",
   "execution_count": 28,
   "metadata": {},
   "outputs": [
    {
     "name": "stdout",
     "output_type": "stream",
     "text": [
      "Fitting 5 folds for each of 2 candidates, totalling 10 fits\n"
     ]
    },
    {
     "name": "stderr",
     "output_type": "stream",
     "text": [
      "[Parallel(n_jobs=-1)]: Using backend LokyBackend with 8 concurrent workers.\n",
      "[Parallel(n_jobs=-1)]: Done   7 out of  10 | elapsed:  3.7min remaining:  1.6min\n"
     ]
    },
    {
     "ename": "KeyboardInterrupt",
     "evalue": "",
     "output_type": "error",
     "traceback": [
      "\u001b[0;31m---------------------------------------------------------------------------\u001b[0m",
      "\u001b[0;31mKeyboardInterrupt\u001b[0m                         Traceback (most recent call last)",
      "\u001b[0;32m<ipython-input-28-921e5d9f6a49>\u001b[0m in \u001b[0;36m<module>\u001b[0;34m\u001b[0m\n\u001b[1;32m     10\u001b[0m     \u001b[0mXtrain_std_spa\u001b[0m\u001b[0;34m,\u001b[0m\u001b[0mytrain\u001b[0m\u001b[0;34m,\u001b[0m\u001b[0;34m\u001b[0m\u001b[0;34m\u001b[0m\u001b[0m\n\u001b[1;32m     11\u001b[0m     \u001b[0mXtest_std_spa\u001b[0m\u001b[0;34m,\u001b[0m\u001b[0mytest\u001b[0m\u001b[0;34m,\u001b[0m\u001b[0;34m\u001b[0m\u001b[0;34m\u001b[0m\u001b[0m\n\u001b[0;32m---> 12\u001b[0;31m     scoring = 'roc_auc')\n\u001b[0m",
      "\u001b[0;32m<ipython-input-19-88e3740e3131>\u001b[0m in \u001b[0;36mgrid\u001b[0;34m(model_name, model_type, param_dict, Xtr, ytr, Xte, yte, scoring)\u001b[0m\n\u001b[1;32m      6\u001b[0m \u001b[0;34m\u001b[0m\u001b[0m\n\u001b[1;32m      7\u001b[0m     \u001b[0;31m#Fitting grid\u001b[0m\u001b[0;34m\u001b[0m\u001b[0;34m\u001b[0m\u001b[0;34m\u001b[0m\u001b[0m\n\u001b[0;32m----> 8\u001b[0;31m     \u001b[0mgrid\u001b[0m \u001b[0;34m=\u001b[0m \u001b[0mGridSearchCV\u001b[0m\u001b[0;34m(\u001b[0m\u001b[0mmodel_type\u001b[0m\u001b[0;34m,\u001b[0m\u001b[0mparam_dict\u001b[0m\u001b[0;34m,\u001b[0m\u001b[0mn_jobs\u001b[0m \u001b[0;34m=\u001b[0m \u001b[0;34m-\u001b[0m\u001b[0;36m1\u001b[0m\u001b[0;34m,\u001b[0m\u001b[0mscoring\u001b[0m\u001b[0;34m=\u001b[0m\u001b[0mscoring\u001b[0m\u001b[0;34m,\u001b[0m\u001b[0mverbose\u001b[0m \u001b[0;34m=\u001b[0m\u001b[0;36m2\u001b[0m\u001b[0;34m,\u001b[0m\u001b[0mcv\u001b[0m \u001b[0;34m=\u001b[0m \u001b[0;36m5\u001b[0m\u001b[0;34m)\u001b[0m\u001b[0;34m.\u001b[0m\u001b[0mfit\u001b[0m\u001b[0;34m(\u001b[0m\u001b[0mXtr\u001b[0m\u001b[0;34m,\u001b[0m\u001b[0mytr\u001b[0m\u001b[0;34m)\u001b[0m\u001b[0;34m\u001b[0m\u001b[0;34m\u001b[0m\u001b[0m\n\u001b[0m\u001b[1;32m      9\u001b[0m     \u001b[0mgrid_time\u001b[0m \u001b[0;34m=\u001b[0m \u001b[0mdatetime\u001b[0m\u001b[0;34m.\u001b[0m\u001b[0mnow\u001b[0m\u001b[0;34m(\u001b[0m\u001b[0;34m)\u001b[0m\u001b[0;34m\u001b[0m\u001b[0;34m\u001b[0m\u001b[0m\n\u001b[1;32m     10\u001b[0m     \u001b[0mprint\u001b[0m\u001b[0;34m(\u001b[0m\u001b[0;34m'Time\\nGrid fitting took {}'\u001b[0m\u001b[0;34m.\u001b[0m\u001b[0mformat\u001b[0m\u001b[0;34m(\u001b[0m\u001b[0mgrid_time\u001b[0m \u001b[0;34m-\u001b[0m \u001b[0mstart\u001b[0m\u001b[0;34m)\u001b[0m\u001b[0;34m)\u001b[0m\u001b[0;34m\u001b[0m\u001b[0;34m\u001b[0m\u001b[0m\n",
      "\u001b[0;32m~/opt/anaconda3/envs/textacy/lib/python3.6/site-packages/sklearn/model_selection/_search.py\u001b[0m in \u001b[0;36mfit\u001b[0;34m(self, X, y, groups, **fit_params)\u001b[0m\n\u001b[1;32m    720\u001b[0m                 \u001b[0;32mreturn\u001b[0m \u001b[0mresults_container\u001b[0m\u001b[0;34m[\u001b[0m\u001b[0;36m0\u001b[0m\u001b[0;34m]\u001b[0m\u001b[0;34m\u001b[0m\u001b[0;34m\u001b[0m\u001b[0m\n\u001b[1;32m    721\u001b[0m \u001b[0;34m\u001b[0m\u001b[0m\n\u001b[0;32m--> 722\u001b[0;31m             \u001b[0mself\u001b[0m\u001b[0;34m.\u001b[0m\u001b[0m_run_search\u001b[0m\u001b[0;34m(\u001b[0m\u001b[0mevaluate_candidates\u001b[0m\u001b[0;34m)\u001b[0m\u001b[0;34m\u001b[0m\u001b[0;34m\u001b[0m\u001b[0m\n\u001b[0m\u001b[1;32m    723\u001b[0m \u001b[0;34m\u001b[0m\u001b[0m\n\u001b[1;32m    724\u001b[0m         \u001b[0mresults\u001b[0m \u001b[0;34m=\u001b[0m \u001b[0mresults_container\u001b[0m\u001b[0;34m[\u001b[0m\u001b[0;36m0\u001b[0m\u001b[0;34m]\u001b[0m\u001b[0;34m\u001b[0m\u001b[0;34m\u001b[0m\u001b[0m\n",
      "\u001b[0;32m~/opt/anaconda3/envs/textacy/lib/python3.6/site-packages/sklearn/model_selection/_search.py\u001b[0m in \u001b[0;36m_run_search\u001b[0;34m(self, evaluate_candidates)\u001b[0m\n\u001b[1;32m   1189\u001b[0m     \u001b[0;32mdef\u001b[0m \u001b[0m_run_search\u001b[0m\u001b[0;34m(\u001b[0m\u001b[0mself\u001b[0m\u001b[0;34m,\u001b[0m \u001b[0mevaluate_candidates\u001b[0m\u001b[0;34m)\u001b[0m\u001b[0;34m:\u001b[0m\u001b[0;34m\u001b[0m\u001b[0;34m\u001b[0m\u001b[0m\n\u001b[1;32m   1190\u001b[0m         \u001b[0;34m\"\"\"Search all candidates in param_grid\"\"\"\u001b[0m\u001b[0;34m\u001b[0m\u001b[0;34m\u001b[0m\u001b[0m\n\u001b[0;32m-> 1191\u001b[0;31m         \u001b[0mevaluate_candidates\u001b[0m\u001b[0;34m(\u001b[0m\u001b[0mParameterGrid\u001b[0m\u001b[0;34m(\u001b[0m\u001b[0mself\u001b[0m\u001b[0;34m.\u001b[0m\u001b[0mparam_grid\u001b[0m\u001b[0;34m)\u001b[0m\u001b[0;34m)\u001b[0m\u001b[0;34m\u001b[0m\u001b[0;34m\u001b[0m\u001b[0m\n\u001b[0m\u001b[1;32m   1192\u001b[0m \u001b[0;34m\u001b[0m\u001b[0m\n\u001b[1;32m   1193\u001b[0m \u001b[0;34m\u001b[0m\u001b[0m\n",
      "\u001b[0;32m~/opt/anaconda3/envs/textacy/lib/python3.6/site-packages/sklearn/model_selection/_search.py\u001b[0m in \u001b[0;36mevaluate_candidates\u001b[0;34m(candidate_params)\u001b[0m\n\u001b[1;32m    709\u001b[0m                                \u001b[0;32mfor\u001b[0m \u001b[0mparameters\u001b[0m\u001b[0;34m,\u001b[0m \u001b[0;34m(\u001b[0m\u001b[0mtrain\u001b[0m\u001b[0;34m,\u001b[0m \u001b[0mtest\u001b[0m\u001b[0;34m)\u001b[0m\u001b[0;34m\u001b[0m\u001b[0;34m\u001b[0m\u001b[0m\n\u001b[1;32m    710\u001b[0m                                in product(candidate_params,\n\u001b[0;32m--> 711\u001b[0;31m                                           cv.split(X, y, groups)))\n\u001b[0m\u001b[1;32m    712\u001b[0m \u001b[0;34m\u001b[0m\u001b[0m\n\u001b[1;32m    713\u001b[0m                 \u001b[0mall_candidate_params\u001b[0m\u001b[0;34m.\u001b[0m\u001b[0mextend\u001b[0m\u001b[0;34m(\u001b[0m\u001b[0mcandidate_params\u001b[0m\u001b[0;34m)\u001b[0m\u001b[0;34m\u001b[0m\u001b[0;34m\u001b[0m\u001b[0m\n",
      "\u001b[0;32m~/opt/anaconda3/envs/textacy/lib/python3.6/site-packages/sklearn/externals/joblib/parallel.py\u001b[0m in \u001b[0;36m__call__\u001b[0;34m(self, iterable)\u001b[0m\n\u001b[1;32m    928\u001b[0m \u001b[0;34m\u001b[0m\u001b[0m\n\u001b[1;32m    929\u001b[0m             \u001b[0;32mwith\u001b[0m \u001b[0mself\u001b[0m\u001b[0;34m.\u001b[0m\u001b[0m_backend\u001b[0m\u001b[0;34m.\u001b[0m\u001b[0mretrieval_context\u001b[0m\u001b[0;34m(\u001b[0m\u001b[0;34m)\u001b[0m\u001b[0;34m:\u001b[0m\u001b[0;34m\u001b[0m\u001b[0;34m\u001b[0m\u001b[0m\n\u001b[0;32m--> 930\u001b[0;31m                 \u001b[0mself\u001b[0m\u001b[0;34m.\u001b[0m\u001b[0mretrieve\u001b[0m\u001b[0;34m(\u001b[0m\u001b[0;34m)\u001b[0m\u001b[0;34m\u001b[0m\u001b[0;34m\u001b[0m\u001b[0m\n\u001b[0m\u001b[1;32m    931\u001b[0m             \u001b[0;31m# Make sure that we get a last message telling us we are done\u001b[0m\u001b[0;34m\u001b[0m\u001b[0;34m\u001b[0m\u001b[0;34m\u001b[0m\u001b[0m\n\u001b[1;32m    932\u001b[0m             \u001b[0melapsed_time\u001b[0m \u001b[0;34m=\u001b[0m \u001b[0mtime\u001b[0m\u001b[0;34m.\u001b[0m\u001b[0mtime\u001b[0m\u001b[0;34m(\u001b[0m\u001b[0;34m)\u001b[0m \u001b[0;34m-\u001b[0m \u001b[0mself\u001b[0m\u001b[0;34m.\u001b[0m\u001b[0m_start_time\u001b[0m\u001b[0;34m\u001b[0m\u001b[0;34m\u001b[0m\u001b[0m\n",
      "\u001b[0;32m~/opt/anaconda3/envs/textacy/lib/python3.6/site-packages/sklearn/externals/joblib/parallel.py\u001b[0m in \u001b[0;36mretrieve\u001b[0;34m(self)\u001b[0m\n\u001b[1;32m    831\u001b[0m             \u001b[0;32mtry\u001b[0m\u001b[0;34m:\u001b[0m\u001b[0;34m\u001b[0m\u001b[0;34m\u001b[0m\u001b[0m\n\u001b[1;32m    832\u001b[0m                 \u001b[0;32mif\u001b[0m \u001b[0mgetattr\u001b[0m\u001b[0;34m(\u001b[0m\u001b[0mself\u001b[0m\u001b[0;34m.\u001b[0m\u001b[0m_backend\u001b[0m\u001b[0;34m,\u001b[0m \u001b[0;34m'supports_timeout'\u001b[0m\u001b[0;34m,\u001b[0m \u001b[0;32mFalse\u001b[0m\u001b[0;34m)\u001b[0m\u001b[0;34m:\u001b[0m\u001b[0;34m\u001b[0m\u001b[0;34m\u001b[0m\u001b[0m\n\u001b[0;32m--> 833\u001b[0;31m                     \u001b[0mself\u001b[0m\u001b[0;34m.\u001b[0m\u001b[0m_output\u001b[0m\u001b[0;34m.\u001b[0m\u001b[0mextend\u001b[0m\u001b[0;34m(\u001b[0m\u001b[0mjob\u001b[0m\u001b[0;34m.\u001b[0m\u001b[0mget\u001b[0m\u001b[0;34m(\u001b[0m\u001b[0mtimeout\u001b[0m\u001b[0;34m=\u001b[0m\u001b[0mself\u001b[0m\u001b[0;34m.\u001b[0m\u001b[0mtimeout\u001b[0m\u001b[0;34m)\u001b[0m\u001b[0;34m)\u001b[0m\u001b[0;34m\u001b[0m\u001b[0;34m\u001b[0m\u001b[0m\n\u001b[0m\u001b[1;32m    834\u001b[0m                 \u001b[0;32melse\u001b[0m\u001b[0;34m:\u001b[0m\u001b[0;34m\u001b[0m\u001b[0;34m\u001b[0m\u001b[0m\n\u001b[1;32m    835\u001b[0m                     \u001b[0mself\u001b[0m\u001b[0;34m.\u001b[0m\u001b[0m_output\u001b[0m\u001b[0;34m.\u001b[0m\u001b[0mextend\u001b[0m\u001b[0;34m(\u001b[0m\u001b[0mjob\u001b[0m\u001b[0;34m.\u001b[0m\u001b[0mget\u001b[0m\u001b[0;34m(\u001b[0m\u001b[0;34m)\u001b[0m\u001b[0;34m)\u001b[0m\u001b[0;34m\u001b[0m\u001b[0;34m\u001b[0m\u001b[0m\n",
      "\u001b[0;32m~/opt/anaconda3/envs/textacy/lib/python3.6/site-packages/sklearn/externals/joblib/_parallel_backends.py\u001b[0m in \u001b[0;36mwrap_future_result\u001b[0;34m(future, timeout)\u001b[0m\n\u001b[1;32m    519\u001b[0m         AsyncResults.get from multiprocessing.\"\"\"\n\u001b[1;32m    520\u001b[0m         \u001b[0;32mtry\u001b[0m\u001b[0;34m:\u001b[0m\u001b[0;34m\u001b[0m\u001b[0;34m\u001b[0m\u001b[0m\n\u001b[0;32m--> 521\u001b[0;31m             \u001b[0;32mreturn\u001b[0m \u001b[0mfuture\u001b[0m\u001b[0;34m.\u001b[0m\u001b[0mresult\u001b[0m\u001b[0;34m(\u001b[0m\u001b[0mtimeout\u001b[0m\u001b[0;34m=\u001b[0m\u001b[0mtimeout\u001b[0m\u001b[0;34m)\u001b[0m\u001b[0;34m\u001b[0m\u001b[0;34m\u001b[0m\u001b[0m\n\u001b[0m\u001b[1;32m    522\u001b[0m         \u001b[0;32mexcept\u001b[0m \u001b[0mLokyTimeoutError\u001b[0m\u001b[0;34m:\u001b[0m\u001b[0;34m\u001b[0m\u001b[0;34m\u001b[0m\u001b[0m\n\u001b[1;32m    523\u001b[0m             \u001b[0;32mraise\u001b[0m \u001b[0mTimeoutError\u001b[0m\u001b[0;34m(\u001b[0m\u001b[0;34m)\u001b[0m\u001b[0;34m\u001b[0m\u001b[0;34m\u001b[0m\u001b[0m\n",
      "\u001b[0;32m~/opt/anaconda3/envs/textacy/lib/python3.6/concurrent/futures/_base.py\u001b[0m in \u001b[0;36mresult\u001b[0;34m(self, timeout)\u001b[0m\n\u001b[1;32m    425\u001b[0m                 \u001b[0;32mreturn\u001b[0m \u001b[0mself\u001b[0m\u001b[0;34m.\u001b[0m\u001b[0m__get_result\u001b[0m\u001b[0;34m(\u001b[0m\u001b[0;34m)\u001b[0m\u001b[0;34m\u001b[0m\u001b[0;34m\u001b[0m\u001b[0m\n\u001b[1;32m    426\u001b[0m \u001b[0;34m\u001b[0m\u001b[0m\n\u001b[0;32m--> 427\u001b[0;31m             \u001b[0mself\u001b[0m\u001b[0;34m.\u001b[0m\u001b[0m_condition\u001b[0m\u001b[0;34m.\u001b[0m\u001b[0mwait\u001b[0m\u001b[0;34m(\u001b[0m\u001b[0mtimeout\u001b[0m\u001b[0;34m)\u001b[0m\u001b[0;34m\u001b[0m\u001b[0;34m\u001b[0m\u001b[0m\n\u001b[0m\u001b[1;32m    428\u001b[0m \u001b[0;34m\u001b[0m\u001b[0m\n\u001b[1;32m    429\u001b[0m             \u001b[0;32mif\u001b[0m \u001b[0mself\u001b[0m\u001b[0;34m.\u001b[0m\u001b[0m_state\u001b[0m \u001b[0;32min\u001b[0m \u001b[0;34m[\u001b[0m\u001b[0mCANCELLED\u001b[0m\u001b[0;34m,\u001b[0m \u001b[0mCANCELLED_AND_NOTIFIED\u001b[0m\u001b[0;34m]\u001b[0m\u001b[0;34m:\u001b[0m\u001b[0;34m\u001b[0m\u001b[0;34m\u001b[0m\u001b[0m\n",
      "\u001b[0;32m~/opt/anaconda3/envs/textacy/lib/python3.6/threading.py\u001b[0m in \u001b[0;36mwait\u001b[0;34m(self, timeout)\u001b[0m\n\u001b[1;32m    293\u001b[0m         \u001b[0;32mtry\u001b[0m\u001b[0;34m:\u001b[0m    \u001b[0;31m# restore state no matter what (e.g., KeyboardInterrupt)\u001b[0m\u001b[0;34m\u001b[0m\u001b[0;34m\u001b[0m\u001b[0m\n\u001b[1;32m    294\u001b[0m             \u001b[0;32mif\u001b[0m \u001b[0mtimeout\u001b[0m \u001b[0;32mis\u001b[0m \u001b[0;32mNone\u001b[0m\u001b[0;34m:\u001b[0m\u001b[0;34m\u001b[0m\u001b[0;34m\u001b[0m\u001b[0m\n\u001b[0;32m--> 295\u001b[0;31m                 \u001b[0mwaiter\u001b[0m\u001b[0;34m.\u001b[0m\u001b[0macquire\u001b[0m\u001b[0;34m(\u001b[0m\u001b[0;34m)\u001b[0m\u001b[0;34m\u001b[0m\u001b[0;34m\u001b[0m\u001b[0m\n\u001b[0m\u001b[1;32m    296\u001b[0m                 \u001b[0mgotit\u001b[0m \u001b[0;34m=\u001b[0m \u001b[0;32mTrue\u001b[0m\u001b[0;34m\u001b[0m\u001b[0;34m\u001b[0m\u001b[0m\n\u001b[1;32m    297\u001b[0m             \u001b[0;32melse\u001b[0m\u001b[0;34m:\u001b[0m\u001b[0;34m\u001b[0m\u001b[0;34m\u001b[0m\u001b[0m\n",
      "\u001b[0;31mKeyboardInterrupt\u001b[0m: "
     ]
    }
   ],
   "source": [
    "#logistic regression parameter dictionaty\n",
    "log_dict = {\n",
    "    'Cs':[10],\n",
    "    'penalty':['l1','l2'],\n",
    "    'solver': ['liblinear']}\n",
    "\n",
    "#logistic regression parameter dictionaty\n",
    "log_grid = grid(\n",
    "    'Combined - LogisticRegression - 2Grams',LogisticRegressionCV(random_state = random_state),log_dict, \n",
    "    Xtrain_std_spa,ytrain,\n",
    "    Xtest_std_spa,ytest,\n",
    "    scoring = 'roc_auc')"
   ]
  },
  {
   "cell_type": "markdown",
   "metadata": {},
   "source": [
    "## Decision Trees"
   ]
  },
  {
   "cell_type": "code",
   "execution_count": 32,
   "metadata": {},
   "outputs": [
    {
     "name": "stdout",
     "output_type": "stream",
     "text": [
      "Fitting 5 folds for each of 16 candidates, totalling 80 fits\n"
     ]
    },
    {
     "name": "stderr",
     "output_type": "stream",
     "text": [
      "[Parallel(n_jobs=-1)]: Using backend LokyBackend with 8 concurrent workers.\n",
      "[Parallel(n_jobs=-1)]: Done  25 tasks      | elapsed:    2.4s\n",
      "[Parallel(n_jobs=-1)]: Done  80 out of  80 | elapsed:    3.8s finished\n"
     ]
    },
    {
     "name": "stdout",
     "output_type": "stream",
     "text": [
      "Time\n",
      "Grid fitting took 0:00:03.992931\n",
      "CV took 0:00:00.721087\n",
      "\n",
      "Model Scores\n",
      "Accuracy on train data: 0.8262617239839214\n",
      "Accuracy on test data: 0.8197290725946509\n",
      "Accuracy on CV: 0.8220928403006772\n",
      "Baseline: 0.6779812416257258\n",
      "\n",
      "AUC CV: 0.8811046360610199\n",
      "\n",
      "Confusion Matrix\n",
      "[[ 667  260]\n",
      " [ 259 1693]]\n",
      "\n",
      "Classification Report\n",
      "              precision    recall  f1-score   support\n",
      "\n",
      "  Bad Review       0.72      0.72      0.72       927\n",
      " Good Review       0.87      0.87      0.87      1952\n",
      "\n",
      "    accuracy                           0.82      2879\n",
      "   macro avg       0.79      0.79      0.79      2879\n",
      "weighted avg       0.82      0.82      0.82      2879\n",
      "\n",
      "Best Estimator Parameters\n",
      "{'ccp_alpha': 0.0, 'class_weight': None, 'criterion': 'entropy', 'max_depth': 4, 'max_features': None, 'max_leaf_nodes': None, 'min_impurity_decrease': 0.0, 'min_impurity_split': None, 'min_samples_leaf': 1, 'min_samples_split': 2, 'min_weight_fraction_leaf': 0.0, 'presort': 'deprecated', 'random_state': 14, 'splitter': 'best'}\n"
     ]
    }
   ],
   "source": [
    "### Decision Tree Grid Dictionary\n",
    "dtree_dict = {\n",
    "    'max_depth':[2,3,4,6],\n",
    "    'criterion':['gini','entropy'],\n",
    "    'splitter': ['best','random']}\n",
    "\n",
    "#Decision Tree regression parameter dictionaty\n",
    "dtree_grid = grid(\n",
    "    'Combined - DecisionTreeClassifier',DecisionTreeClassifier(random_state = random_state),dtree_dict, \n",
    "    Xtrain_std,ytrain,Xtest_std,ytest,scoring = 'roc_auc')"
   ]
  },
  {
   "cell_type": "markdown",
   "metadata": {},
   "source": [
    "## Naive Bayes"
   ]
  },
  {
   "cell_type": "code",
   "execution_count": null,
   "metadata": {},
   "outputs": [],
   "source": [
    "#Decision Tree regression parameter dictionaty\n",
    "bayes_g_dict = {\n",
    "    'var_smoothing':np.logspace(-20,-1,22)}\n",
    "\n",
    "#Decision Tree regression parameter dictionaty\n",
    "bayes_g_grid = grid(\n",
    "    'Combined - NaiveBayes',naive_bayes.GaussianNB(),bayes_g_dict, \n",
    "    Xtrain_std,ytrain,\n",
    "    Xtest_std,ytest,\n",
    "    scoring = 'roc_auc')"
   ]
  },
  {
   "cell_type": "markdown",
   "metadata": {},
   "source": [
    "## Bagging"
   ]
  },
  {
   "cell_type": "code",
   "execution_count": 24,
   "metadata": {},
   "outputs": [
    {
     "name": "stdout",
     "output_type": "stream",
     "text": [
      "Fitting 5 folds for each of 12 candidates, totalling 60 fits\n"
     ]
    },
    {
     "name": "stderr",
     "output_type": "stream",
     "text": [
      "[Parallel(n_jobs=-1)]: Using backend LokyBackend with 8 concurrent workers.\n",
      "Exception in thread QueueManagerThread:\n",
      "Traceback (most recent call last):\n",
      "  File \"/Users/hernan/opt/anaconda3/envs/textacy/lib/python3.6/threading.py\", line 916, in _bootstrap_inner\n",
      "    self.run()\n",
      "  File \"/Users/hernan/opt/anaconda3/envs/textacy/lib/python3.6/threading.py\", line 864, in run\n",
      "    self._target(*self._args, **self._kwargs)\n",
      "  File \"/Users/hernan/opt/anaconda3/envs/textacy/lib/python3.6/site-packages/sklearn/externals/joblib/externals/loky/process_executor.py\", line 747, in _queue_management_worker\n",
      "    recursive_terminate(p)\n",
      "  File \"/Users/hernan/opt/anaconda3/envs/textacy/lib/python3.6/site-packages/sklearn/externals/joblib/externals/loky/backend/utils.py\", line 28, in recursive_terminate\n",
      "    _recursive_terminate_without_psutil(process)\n",
      "  File \"/Users/hernan/opt/anaconda3/envs/textacy/lib/python3.6/site-packages/sklearn/externals/joblib/externals/loky/backend/utils.py\", line 53, in _recursive_terminate_without_psutil\n",
      "    _recursive_terminate(process.pid)\n",
      "  File \"/Users/hernan/opt/anaconda3/envs/textacy/lib/python3.6/site-packages/sklearn/externals/joblib/externals/loky/backend/utils.py\", line 94, in _recursive_terminate\n",
      "    stderr=None\n",
      "  File \"/Users/hernan/opt/anaconda3/envs/textacy/lib/python3.6/subprocess.py\", line 356, in check_output\n",
      "    **kwargs).stdout\n",
      "  File \"/Users/hernan/opt/anaconda3/envs/textacy/lib/python3.6/subprocess.py\", line 438, in run\n",
      "    output=stdout, stderr=stderr)\n",
      "subprocess.CalledProcessError: Command '['pgrep', '-P', '3498']' died with <Signals.SIGINT: 2>.\n",
      "\n"
     ]
    },
    {
     "ename": "KeyboardInterrupt",
     "evalue": "",
     "output_type": "error",
     "traceback": [
      "\u001b[0;31m---------------------------------------------------------------------------\u001b[0m",
      "\u001b[0;31mKeyboardInterrupt\u001b[0m                         Traceback (most recent call last)",
      "\u001b[0;32m~/opt/anaconda3/envs/textacy/lib/python3.6/site-packages/sklearn/externals/joblib/parallel.py\u001b[0m in \u001b[0;36mretrieve\u001b[0;34m(self)\u001b[0m\n\u001b[1;32m    832\u001b[0m                 \u001b[0;32mif\u001b[0m \u001b[0mgetattr\u001b[0m\u001b[0;34m(\u001b[0m\u001b[0mself\u001b[0m\u001b[0;34m.\u001b[0m\u001b[0m_backend\u001b[0m\u001b[0;34m,\u001b[0m \u001b[0;34m'supports_timeout'\u001b[0m\u001b[0;34m,\u001b[0m \u001b[0;32mFalse\u001b[0m\u001b[0;34m)\u001b[0m\u001b[0;34m:\u001b[0m\u001b[0;34m\u001b[0m\u001b[0;34m\u001b[0m\u001b[0m\n\u001b[0;32m--> 833\u001b[0;31m                     \u001b[0mself\u001b[0m\u001b[0;34m.\u001b[0m\u001b[0m_output\u001b[0m\u001b[0;34m.\u001b[0m\u001b[0mextend\u001b[0m\u001b[0;34m(\u001b[0m\u001b[0mjob\u001b[0m\u001b[0;34m.\u001b[0m\u001b[0mget\u001b[0m\u001b[0;34m(\u001b[0m\u001b[0mtimeout\u001b[0m\u001b[0;34m=\u001b[0m\u001b[0mself\u001b[0m\u001b[0;34m.\u001b[0m\u001b[0mtimeout\u001b[0m\u001b[0;34m)\u001b[0m\u001b[0;34m)\u001b[0m\u001b[0;34m\u001b[0m\u001b[0;34m\u001b[0m\u001b[0m\n\u001b[0m\u001b[1;32m    834\u001b[0m                 \u001b[0;32melse\u001b[0m\u001b[0;34m:\u001b[0m\u001b[0;34m\u001b[0m\u001b[0;34m\u001b[0m\u001b[0m\n",
      "\u001b[0;32m~/opt/anaconda3/envs/textacy/lib/python3.6/site-packages/sklearn/externals/joblib/_parallel_backends.py\u001b[0m in \u001b[0;36mwrap_future_result\u001b[0;34m(future, timeout)\u001b[0m\n\u001b[1;32m    520\u001b[0m         \u001b[0;32mtry\u001b[0m\u001b[0;34m:\u001b[0m\u001b[0;34m\u001b[0m\u001b[0;34m\u001b[0m\u001b[0m\n\u001b[0;32m--> 521\u001b[0;31m             \u001b[0;32mreturn\u001b[0m \u001b[0mfuture\u001b[0m\u001b[0;34m.\u001b[0m\u001b[0mresult\u001b[0m\u001b[0;34m(\u001b[0m\u001b[0mtimeout\u001b[0m\u001b[0;34m=\u001b[0m\u001b[0mtimeout\u001b[0m\u001b[0;34m)\u001b[0m\u001b[0;34m\u001b[0m\u001b[0;34m\u001b[0m\u001b[0m\n\u001b[0m\u001b[1;32m    522\u001b[0m         \u001b[0;32mexcept\u001b[0m \u001b[0mLokyTimeoutError\u001b[0m\u001b[0;34m:\u001b[0m\u001b[0;34m\u001b[0m\u001b[0;34m\u001b[0m\u001b[0m\n",
      "\u001b[0;32m~/opt/anaconda3/envs/textacy/lib/python3.6/concurrent/futures/_base.py\u001b[0m in \u001b[0;36mresult\u001b[0;34m(self, timeout)\u001b[0m\n\u001b[1;32m    426\u001b[0m \u001b[0;34m\u001b[0m\u001b[0m\n\u001b[0;32m--> 427\u001b[0;31m             \u001b[0mself\u001b[0m\u001b[0;34m.\u001b[0m\u001b[0m_condition\u001b[0m\u001b[0;34m.\u001b[0m\u001b[0mwait\u001b[0m\u001b[0;34m(\u001b[0m\u001b[0mtimeout\u001b[0m\u001b[0;34m)\u001b[0m\u001b[0;34m\u001b[0m\u001b[0;34m\u001b[0m\u001b[0m\n\u001b[0m\u001b[1;32m    428\u001b[0m \u001b[0;34m\u001b[0m\u001b[0m\n",
      "\u001b[0;32m~/opt/anaconda3/envs/textacy/lib/python3.6/threading.py\u001b[0m in \u001b[0;36mwait\u001b[0;34m(self, timeout)\u001b[0m\n\u001b[1;32m    294\u001b[0m             \u001b[0;32mif\u001b[0m \u001b[0mtimeout\u001b[0m \u001b[0;32mis\u001b[0m \u001b[0;32mNone\u001b[0m\u001b[0;34m:\u001b[0m\u001b[0;34m\u001b[0m\u001b[0;34m\u001b[0m\u001b[0m\n\u001b[0;32m--> 295\u001b[0;31m                 \u001b[0mwaiter\u001b[0m\u001b[0;34m.\u001b[0m\u001b[0macquire\u001b[0m\u001b[0;34m(\u001b[0m\u001b[0;34m)\u001b[0m\u001b[0;34m\u001b[0m\u001b[0;34m\u001b[0m\u001b[0m\n\u001b[0m\u001b[1;32m    296\u001b[0m                 \u001b[0mgotit\u001b[0m \u001b[0;34m=\u001b[0m \u001b[0;32mTrue\u001b[0m\u001b[0;34m\u001b[0m\u001b[0;34m\u001b[0m\u001b[0m\n",
      "\u001b[0;31mKeyboardInterrupt\u001b[0m: ",
      "\nDuring handling of the above exception, another exception occurred:\n",
      "\u001b[0;31mKeyboardInterrupt\u001b[0m                         Traceback (most recent call last)",
      "\u001b[0;32m<ipython-input-24-93d37ad4685e>\u001b[0m in \u001b[0;36m<module>\u001b[0;34m\u001b[0m\n\u001b[1;32m      9\u001b[0m                 \u001b[0mXtrain_std_spa\u001b[0m\u001b[0;34m,\u001b[0m\u001b[0mytrain\u001b[0m\u001b[0;34m,\u001b[0m\u001b[0;34m\u001b[0m\u001b[0;34m\u001b[0m\u001b[0m\n\u001b[1;32m     10\u001b[0m                 \u001b[0mXtest_std_spa\u001b[0m\u001b[0;34m,\u001b[0m\u001b[0mytest\u001b[0m\u001b[0;34m,\u001b[0m\u001b[0;34m\u001b[0m\u001b[0;34m\u001b[0m\u001b[0m\n\u001b[0;32m---> 11\u001b[0;31m                 scoring = 'roc_auc')\n\u001b[0m",
      "\u001b[0;32m<ipython-input-18-88e3740e3131>\u001b[0m in \u001b[0;36mgrid\u001b[0;34m(model_name, model_type, param_dict, Xtr, ytr, Xte, yte, scoring)\u001b[0m\n\u001b[1;32m      6\u001b[0m \u001b[0;34m\u001b[0m\u001b[0m\n\u001b[1;32m      7\u001b[0m     \u001b[0;31m#Fitting grid\u001b[0m\u001b[0;34m\u001b[0m\u001b[0;34m\u001b[0m\u001b[0;34m\u001b[0m\u001b[0m\n\u001b[0;32m----> 8\u001b[0;31m     \u001b[0mgrid\u001b[0m \u001b[0;34m=\u001b[0m \u001b[0mGridSearchCV\u001b[0m\u001b[0;34m(\u001b[0m\u001b[0mmodel_type\u001b[0m\u001b[0;34m,\u001b[0m\u001b[0mparam_dict\u001b[0m\u001b[0;34m,\u001b[0m\u001b[0mn_jobs\u001b[0m \u001b[0;34m=\u001b[0m \u001b[0;34m-\u001b[0m\u001b[0;36m1\u001b[0m\u001b[0;34m,\u001b[0m\u001b[0mscoring\u001b[0m\u001b[0;34m=\u001b[0m\u001b[0mscoring\u001b[0m\u001b[0;34m,\u001b[0m\u001b[0mverbose\u001b[0m \u001b[0;34m=\u001b[0m\u001b[0;36m2\u001b[0m\u001b[0;34m,\u001b[0m\u001b[0mcv\u001b[0m \u001b[0;34m=\u001b[0m \u001b[0;36m5\u001b[0m\u001b[0;34m)\u001b[0m\u001b[0;34m.\u001b[0m\u001b[0mfit\u001b[0m\u001b[0;34m(\u001b[0m\u001b[0mXtr\u001b[0m\u001b[0;34m,\u001b[0m\u001b[0mytr\u001b[0m\u001b[0;34m)\u001b[0m\u001b[0;34m\u001b[0m\u001b[0;34m\u001b[0m\u001b[0m\n\u001b[0m\u001b[1;32m      9\u001b[0m     \u001b[0mgrid_time\u001b[0m \u001b[0;34m=\u001b[0m \u001b[0mdatetime\u001b[0m\u001b[0;34m.\u001b[0m\u001b[0mnow\u001b[0m\u001b[0;34m(\u001b[0m\u001b[0;34m)\u001b[0m\u001b[0;34m\u001b[0m\u001b[0;34m\u001b[0m\u001b[0m\n\u001b[1;32m     10\u001b[0m     \u001b[0mprint\u001b[0m\u001b[0;34m(\u001b[0m\u001b[0;34m'Time\\nGrid fitting took {}'\u001b[0m\u001b[0;34m.\u001b[0m\u001b[0mformat\u001b[0m\u001b[0;34m(\u001b[0m\u001b[0mgrid_time\u001b[0m \u001b[0;34m-\u001b[0m \u001b[0mstart\u001b[0m\u001b[0;34m)\u001b[0m\u001b[0;34m)\u001b[0m\u001b[0;34m\u001b[0m\u001b[0;34m\u001b[0m\u001b[0m\n",
      "\u001b[0;32m~/opt/anaconda3/envs/textacy/lib/python3.6/site-packages/sklearn/model_selection/_search.py\u001b[0m in \u001b[0;36mfit\u001b[0;34m(self, X, y, groups, **fit_params)\u001b[0m\n\u001b[1;32m    720\u001b[0m                 \u001b[0;32mreturn\u001b[0m \u001b[0mresults_container\u001b[0m\u001b[0;34m[\u001b[0m\u001b[0;36m0\u001b[0m\u001b[0;34m]\u001b[0m\u001b[0;34m\u001b[0m\u001b[0;34m\u001b[0m\u001b[0m\n\u001b[1;32m    721\u001b[0m \u001b[0;34m\u001b[0m\u001b[0m\n\u001b[0;32m--> 722\u001b[0;31m             \u001b[0mself\u001b[0m\u001b[0;34m.\u001b[0m\u001b[0m_run_search\u001b[0m\u001b[0;34m(\u001b[0m\u001b[0mevaluate_candidates\u001b[0m\u001b[0;34m)\u001b[0m\u001b[0;34m\u001b[0m\u001b[0;34m\u001b[0m\u001b[0m\n\u001b[0m\u001b[1;32m    723\u001b[0m \u001b[0;34m\u001b[0m\u001b[0m\n\u001b[1;32m    724\u001b[0m         \u001b[0mresults\u001b[0m \u001b[0;34m=\u001b[0m \u001b[0mresults_container\u001b[0m\u001b[0;34m[\u001b[0m\u001b[0;36m0\u001b[0m\u001b[0;34m]\u001b[0m\u001b[0;34m\u001b[0m\u001b[0;34m\u001b[0m\u001b[0m\n",
      "\u001b[0;32m~/opt/anaconda3/envs/textacy/lib/python3.6/site-packages/sklearn/model_selection/_search.py\u001b[0m in \u001b[0;36m_run_search\u001b[0;34m(self, evaluate_candidates)\u001b[0m\n\u001b[1;32m   1189\u001b[0m     \u001b[0;32mdef\u001b[0m \u001b[0m_run_search\u001b[0m\u001b[0;34m(\u001b[0m\u001b[0mself\u001b[0m\u001b[0;34m,\u001b[0m \u001b[0mevaluate_candidates\u001b[0m\u001b[0;34m)\u001b[0m\u001b[0;34m:\u001b[0m\u001b[0;34m\u001b[0m\u001b[0;34m\u001b[0m\u001b[0m\n\u001b[1;32m   1190\u001b[0m         \u001b[0;34m\"\"\"Search all candidates in param_grid\"\"\"\u001b[0m\u001b[0;34m\u001b[0m\u001b[0;34m\u001b[0m\u001b[0m\n\u001b[0;32m-> 1191\u001b[0;31m         \u001b[0mevaluate_candidates\u001b[0m\u001b[0;34m(\u001b[0m\u001b[0mParameterGrid\u001b[0m\u001b[0;34m(\u001b[0m\u001b[0mself\u001b[0m\u001b[0;34m.\u001b[0m\u001b[0mparam_grid\u001b[0m\u001b[0;34m)\u001b[0m\u001b[0;34m)\u001b[0m\u001b[0;34m\u001b[0m\u001b[0;34m\u001b[0m\u001b[0m\n\u001b[0m\u001b[1;32m   1192\u001b[0m \u001b[0;34m\u001b[0m\u001b[0m\n\u001b[1;32m   1193\u001b[0m \u001b[0;34m\u001b[0m\u001b[0m\n",
      "\u001b[0;32m~/opt/anaconda3/envs/textacy/lib/python3.6/site-packages/sklearn/model_selection/_search.py\u001b[0m in \u001b[0;36mevaluate_candidates\u001b[0;34m(candidate_params)\u001b[0m\n\u001b[1;32m    709\u001b[0m                                \u001b[0;32mfor\u001b[0m \u001b[0mparameters\u001b[0m\u001b[0;34m,\u001b[0m \u001b[0;34m(\u001b[0m\u001b[0mtrain\u001b[0m\u001b[0;34m,\u001b[0m \u001b[0mtest\u001b[0m\u001b[0;34m)\u001b[0m\u001b[0;34m\u001b[0m\u001b[0;34m\u001b[0m\u001b[0m\n\u001b[1;32m    710\u001b[0m                                in product(candidate_params,\n\u001b[0;32m--> 711\u001b[0;31m                                           cv.split(X, y, groups)))\n\u001b[0m\u001b[1;32m    712\u001b[0m \u001b[0;34m\u001b[0m\u001b[0m\n\u001b[1;32m    713\u001b[0m                 \u001b[0mall_candidate_params\u001b[0m\u001b[0;34m.\u001b[0m\u001b[0mextend\u001b[0m\u001b[0;34m(\u001b[0m\u001b[0mcandidate_params\u001b[0m\u001b[0;34m)\u001b[0m\u001b[0;34m\u001b[0m\u001b[0;34m\u001b[0m\u001b[0m\n",
      "\u001b[0;32m~/opt/anaconda3/envs/textacy/lib/python3.6/site-packages/sklearn/externals/joblib/parallel.py\u001b[0m in \u001b[0;36m__call__\u001b[0;34m(self, iterable)\u001b[0m\n\u001b[1;32m    928\u001b[0m \u001b[0;34m\u001b[0m\u001b[0m\n\u001b[1;32m    929\u001b[0m             \u001b[0;32mwith\u001b[0m \u001b[0mself\u001b[0m\u001b[0;34m.\u001b[0m\u001b[0m_backend\u001b[0m\u001b[0;34m.\u001b[0m\u001b[0mretrieval_context\u001b[0m\u001b[0;34m(\u001b[0m\u001b[0;34m)\u001b[0m\u001b[0;34m:\u001b[0m\u001b[0;34m\u001b[0m\u001b[0;34m\u001b[0m\u001b[0m\n\u001b[0;32m--> 930\u001b[0;31m                 \u001b[0mself\u001b[0m\u001b[0;34m.\u001b[0m\u001b[0mretrieve\u001b[0m\u001b[0;34m(\u001b[0m\u001b[0;34m)\u001b[0m\u001b[0;34m\u001b[0m\u001b[0;34m\u001b[0m\u001b[0m\n\u001b[0m\u001b[1;32m    931\u001b[0m             \u001b[0;31m# Make sure that we get a last message telling us we are done\u001b[0m\u001b[0;34m\u001b[0m\u001b[0;34m\u001b[0m\u001b[0;34m\u001b[0m\u001b[0m\n\u001b[1;32m    932\u001b[0m             \u001b[0melapsed_time\u001b[0m \u001b[0;34m=\u001b[0m \u001b[0mtime\u001b[0m\u001b[0;34m.\u001b[0m\u001b[0mtime\u001b[0m\u001b[0;34m(\u001b[0m\u001b[0;34m)\u001b[0m \u001b[0;34m-\u001b[0m \u001b[0mself\u001b[0m\u001b[0;34m.\u001b[0m\u001b[0m_start_time\u001b[0m\u001b[0;34m\u001b[0m\u001b[0;34m\u001b[0m\u001b[0m\n",
      "\u001b[0;32m~/opt/anaconda3/envs/textacy/lib/python3.6/site-packages/sklearn/externals/joblib/parallel.py\u001b[0m in \u001b[0;36mretrieve\u001b[0;34m(self)\u001b[0m\n\u001b[1;32m    853\u001b[0m                     \u001b[0;31m# scheduling.\u001b[0m\u001b[0;34m\u001b[0m\u001b[0;34m\u001b[0m\u001b[0;34m\u001b[0m\u001b[0m\n\u001b[1;32m    854\u001b[0m                     \u001b[0mensure_ready\u001b[0m \u001b[0;34m=\u001b[0m \u001b[0mself\u001b[0m\u001b[0;34m.\u001b[0m\u001b[0m_managed_backend\u001b[0m\u001b[0;34m\u001b[0m\u001b[0;34m\u001b[0m\u001b[0m\n\u001b[0;32m--> 855\u001b[0;31m                     \u001b[0mbackend\u001b[0m\u001b[0;34m.\u001b[0m\u001b[0mabort_everything\u001b[0m\u001b[0;34m(\u001b[0m\u001b[0mensure_ready\u001b[0m\u001b[0;34m=\u001b[0m\u001b[0mensure_ready\u001b[0m\u001b[0;34m)\u001b[0m\u001b[0;34m\u001b[0m\u001b[0;34m\u001b[0m\u001b[0m\n\u001b[0m\u001b[1;32m    856\u001b[0m \u001b[0;34m\u001b[0m\u001b[0m\n\u001b[1;32m    857\u001b[0m                 \u001b[0;32mif\u001b[0m \u001b[0misinstance\u001b[0m\u001b[0;34m(\u001b[0m\u001b[0mexception\u001b[0m\u001b[0;34m,\u001b[0m \u001b[0mTransportableException\u001b[0m\u001b[0;34m)\u001b[0m\u001b[0;34m:\u001b[0m\u001b[0;34m\u001b[0m\u001b[0;34m\u001b[0m\u001b[0m\n",
      "\u001b[0;32m~/opt/anaconda3/envs/textacy/lib/python3.6/site-packages/sklearn/externals/joblib/_parallel_backends.py\u001b[0m in \u001b[0;36mabort_everything\u001b[0;34m(self, ensure_ready)\u001b[0m\n\u001b[1;32m    536\u001b[0m         \"\"\"Shutdown the workers and restart a new one with the same parameters\n\u001b[1;32m    537\u001b[0m         \"\"\"\n\u001b[0;32m--> 538\u001b[0;31m         \u001b[0mself\u001b[0m\u001b[0;34m.\u001b[0m\u001b[0m_workers\u001b[0m\u001b[0;34m.\u001b[0m\u001b[0mshutdown\u001b[0m\u001b[0;34m(\u001b[0m\u001b[0mkill_workers\u001b[0m\u001b[0;34m=\u001b[0m\u001b[0;32mTrue\u001b[0m\u001b[0;34m)\u001b[0m\u001b[0;34m\u001b[0m\u001b[0;34m\u001b[0m\u001b[0m\n\u001b[0m\u001b[1;32m    539\u001b[0m         \u001b[0mdelete_folder\u001b[0m\u001b[0;34m(\u001b[0m\u001b[0mself\u001b[0m\u001b[0;34m.\u001b[0m\u001b[0m_workers\u001b[0m\u001b[0;34m.\u001b[0m\u001b[0m_temp_folder\u001b[0m\u001b[0;34m)\u001b[0m\u001b[0;34m\u001b[0m\u001b[0;34m\u001b[0m\u001b[0m\n\u001b[1;32m    540\u001b[0m         \u001b[0mself\u001b[0m\u001b[0;34m.\u001b[0m\u001b[0m_workers\u001b[0m \u001b[0;34m=\u001b[0m \u001b[0;32mNone\u001b[0m\u001b[0;34m\u001b[0m\u001b[0;34m\u001b[0m\u001b[0m\n",
      "\u001b[0;32m~/opt/anaconda3/envs/textacy/lib/python3.6/site-packages/sklearn/externals/joblib/externals/loky/process_executor.py\u001b[0m in \u001b[0;36mshutdown\u001b[0;34m(self, wait, kill_workers)\u001b[0m\n\u001b[1;32m   1094\u001b[0m                     \u001b[0;32mpass\u001b[0m\u001b[0;34m\u001b[0m\u001b[0;34m\u001b[0m\u001b[0m\n\u001b[1;32m   1095\u001b[0m             \u001b[0;32mif\u001b[0m \u001b[0mwait\u001b[0m\u001b[0;34m:\u001b[0m\u001b[0;34m\u001b[0m\u001b[0;34m\u001b[0m\u001b[0m\n\u001b[0;32m-> 1096\u001b[0;31m                 \u001b[0mqmt\u001b[0m\u001b[0;34m.\u001b[0m\u001b[0mjoin\u001b[0m\u001b[0;34m(\u001b[0m\u001b[0;34m)\u001b[0m\u001b[0;34m\u001b[0m\u001b[0;34m\u001b[0m\u001b[0m\n\u001b[0m\u001b[1;32m   1097\u001b[0m \u001b[0;34m\u001b[0m\u001b[0m\n\u001b[1;32m   1098\u001b[0m         \u001b[0mcq\u001b[0m \u001b[0;34m=\u001b[0m \u001b[0mself\u001b[0m\u001b[0;34m.\u001b[0m\u001b[0m_call_queue\u001b[0m\u001b[0;34m\u001b[0m\u001b[0;34m\u001b[0m\u001b[0m\n",
      "\u001b[0;32m~/opt/anaconda3/envs/textacy/lib/python3.6/threading.py\u001b[0m in \u001b[0;36mjoin\u001b[0;34m(self, timeout)\u001b[0m\n\u001b[1;32m   1054\u001b[0m \u001b[0;34m\u001b[0m\u001b[0m\n\u001b[1;32m   1055\u001b[0m         \u001b[0;32mif\u001b[0m \u001b[0mtimeout\u001b[0m \u001b[0;32mis\u001b[0m \u001b[0;32mNone\u001b[0m\u001b[0;34m:\u001b[0m\u001b[0;34m\u001b[0m\u001b[0;34m\u001b[0m\u001b[0m\n\u001b[0;32m-> 1056\u001b[0;31m             \u001b[0mself\u001b[0m\u001b[0;34m.\u001b[0m\u001b[0m_wait_for_tstate_lock\u001b[0m\u001b[0;34m(\u001b[0m\u001b[0;34m)\u001b[0m\u001b[0;34m\u001b[0m\u001b[0;34m\u001b[0m\u001b[0m\n\u001b[0m\u001b[1;32m   1057\u001b[0m         \u001b[0;32melse\u001b[0m\u001b[0;34m:\u001b[0m\u001b[0;34m\u001b[0m\u001b[0;34m\u001b[0m\u001b[0m\n\u001b[1;32m   1058\u001b[0m             \u001b[0;31m# the behavior of a negative timeout isn't documented, but\u001b[0m\u001b[0;34m\u001b[0m\u001b[0;34m\u001b[0m\u001b[0;34m\u001b[0m\u001b[0m\n",
      "\u001b[0;32m~/opt/anaconda3/envs/textacy/lib/python3.6/threading.py\u001b[0m in \u001b[0;36m_wait_for_tstate_lock\u001b[0;34m(self, block, timeout)\u001b[0m\n\u001b[1;32m   1070\u001b[0m         \u001b[0;32mif\u001b[0m \u001b[0mlock\u001b[0m \u001b[0;32mis\u001b[0m \u001b[0;32mNone\u001b[0m\u001b[0;34m:\u001b[0m  \u001b[0;31m# already determined that the C code is done\u001b[0m\u001b[0;34m\u001b[0m\u001b[0;34m\u001b[0m\u001b[0m\n\u001b[1;32m   1071\u001b[0m             \u001b[0;32massert\u001b[0m \u001b[0mself\u001b[0m\u001b[0;34m.\u001b[0m\u001b[0m_is_stopped\u001b[0m\u001b[0;34m\u001b[0m\u001b[0;34m\u001b[0m\u001b[0m\n\u001b[0;32m-> 1072\u001b[0;31m         \u001b[0;32melif\u001b[0m \u001b[0mlock\u001b[0m\u001b[0;34m.\u001b[0m\u001b[0macquire\u001b[0m\u001b[0;34m(\u001b[0m\u001b[0mblock\u001b[0m\u001b[0;34m,\u001b[0m \u001b[0mtimeout\u001b[0m\u001b[0;34m)\u001b[0m\u001b[0;34m:\u001b[0m\u001b[0;34m\u001b[0m\u001b[0;34m\u001b[0m\u001b[0m\n\u001b[0m\u001b[1;32m   1073\u001b[0m             \u001b[0mlock\u001b[0m\u001b[0;34m.\u001b[0m\u001b[0mrelease\u001b[0m\u001b[0;34m(\u001b[0m\u001b[0;34m)\u001b[0m\u001b[0;34m\u001b[0m\u001b[0;34m\u001b[0m\u001b[0m\n\u001b[1;32m   1074\u001b[0m             \u001b[0mself\u001b[0m\u001b[0;34m.\u001b[0m\u001b[0m_stop\u001b[0m\u001b[0;34m(\u001b[0m\u001b[0;34m)\u001b[0m\u001b[0;34m\u001b[0m\u001b[0;34m\u001b[0m\u001b[0m\n",
      "\u001b[0;31mKeyboardInterrupt\u001b[0m: "
     ]
    }
   ],
   "source": [
    "bag_dict = {\n",
    "    'base_estimator':[DecisionTreeClassifier(max_depth=4),\n",
    "                      DecisionTreeClassifier(max_depth=30),\n",
    "                      DecisionTreeClassifier(max_depth=50)],\n",
    "    'n_estimators' : [200,220],\n",
    "    'max_samples':[0.8,1]}\n",
    "\n",
    "bag_grid = grid('Combined - BaggingClassifier',BaggingClassifier(random_state=random_state),bag_dict, \n",
    "                Xtrain_std_spa,ytrain,\n",
    "                Xtest_std_spa,ytest,\n",
    "                scoring = 'roc_auc')"
   ]
  },
  {
   "cell_type": "markdown",
   "metadata": {},
   "source": [
    "## Random Forest"
   ]
  },
  {
   "cell_type": "code",
   "execution_count": 36,
   "metadata": {},
   "outputs": [
    {
     "name": "stdout",
     "output_type": "stream",
     "text": [
      "Fitting 5 folds for each of 50 candidates, totalling 250 fits\n"
     ]
    },
    {
     "name": "stderr",
     "output_type": "stream",
     "text": [
      "[Parallel(n_jobs=-1)]: Using backend LokyBackend with 8 concurrent workers.\n",
      "[Parallel(n_jobs=-1)]: Done  25 tasks      | elapsed:    1.7s\n",
      "[Parallel(n_jobs=-1)]: Done 146 tasks      | elapsed:    5.5s\n",
      "[Parallel(n_jobs=-1)]: Done 250 out of 250 | elapsed:    9.6s finished\n"
     ]
    },
    {
     "name": "stdout",
     "output_type": "stream",
     "text": [
      "Time\n",
      "Grid fitting took 0:00:09.927570\n",
      "CV took 0:00:01.219431\n",
      "\n",
      "Model Scores\n",
      "Accuracy on train data: 0.9004019651630192\n",
      "Accuracy on test data: 0.8430010420284821\n",
      "Accuracy on CV: 0.8378789171774278\n",
      "Baseline: 0.6779812416257258\n",
      "\n",
      "AUC CV: 0.895977154645591\n",
      "\n",
      "Confusion Matrix\n",
      "[[ 618  309]\n",
      " [ 143 1809]]\n",
      "\n",
      "Classification Report\n",
      "              precision    recall  f1-score   support\n",
      "\n",
      "  Bad Review       0.81      0.67      0.73       927\n",
      " Good Review       0.85      0.93      0.89      1952\n",
      "\n",
      "   micro avg       0.84      0.84      0.84      2879\n",
      "   macro avg       0.83      0.80      0.81      2879\n",
      "weighted avg       0.84      0.84      0.84      2879\n",
      "\n",
      "Best Estimator Parameters\n",
      "{'bootstrap': True, 'class_weight': None, 'criterion': 'entropy', 'max_depth': 50, 'max_features': 'auto', 'max_leaf_nodes': None, 'min_impurity_decrease': 0.001, 'min_impurity_split': None, 'min_samples_leaf': 1, 'min_samples_split': 2, 'min_weight_fraction_leaf': 0.0, 'n_estimators': 10, 'n_jobs': None, 'oob_score': False, 'random_state': 14, 'verbose': 0, 'warm_start': False}\n"
     ]
    }
   ],
   "source": [
    "rforest_dict = {\n",
    "    'min_impurity_decrease':[0.0,0.001,0.005,0.01,0.05],\n",
    "    'criterion': ['gini','entropy'],\n",
    "    'max_depth': [10,30,50,100,120]}\n",
    "\n",
    "rforest_grid = grid('Combined - RandomForest',RandomForestClassifier(random_state=random_state),rforest_dict,\n",
    "                    Xtrain_std_spa,ytrain, Xtest_std_spa, ytest)"
   ]
  },
  {
   "cell_type": "markdown",
   "metadata": {},
   "source": [
    "## Ada Boost"
   ]
  },
  {
   "cell_type": "code",
   "execution_count": 49,
   "metadata": {},
   "outputs": [
    {
     "name": "stdout",
     "output_type": "stream",
     "text": [
      "Fitting 5 folds for each of 18 candidates, totalling 90 fits\n"
     ]
    },
    {
     "name": "stderr",
     "output_type": "stream",
     "text": [
      "[Parallel(n_jobs=-1)]: Using backend LokyBackend with 8 concurrent workers.\n",
      "[Parallel(n_jobs=-1)]: Done  25 tasks      | elapsed:  1.0min\n",
      "[Parallel(n_jobs=-1)]: Done  90 out of  90 | elapsed:  7.7min finished\n"
     ]
    },
    {
     "name": "stdout",
     "output_type": "stream",
     "text": [
      "Time\n",
      "Grid fitting took 0:08:35.574034\n",
      "CV took 0:03:36.653776\n",
      "\n",
      "Model Scores\n",
      "Accuracy on train data: 1.0\n",
      "Accuracy on test data: 0.8433483848558527\n",
      "Accuracy on CV: 0.8430852548861608\n",
      "Baseline: 0.6779812416257258\n",
      "\n",
      "AUC CV: 0.9027218761672566\n",
      "\n",
      "Confusion Matrix\n",
      "[[ 621  306]\n",
      " [ 145 1807]]\n",
      "\n",
      "Classification Report\n",
      "              precision    recall  f1-score   support\n",
      "\n",
      "  Bad Review       0.81      0.67      0.73       927\n",
      " Good Review       0.86      0.93      0.89      1952\n",
      "\n",
      "   micro avg       0.84      0.84      0.84      2879\n",
      "   macro avg       0.83      0.80      0.81      2879\n",
      "weighted avg       0.84      0.84      0.84      2879\n",
      "\n",
      "Best Estimator Parameters\n",
      "{'algorithm': 'SAMME.R', 'base_estimator__class_weight': None, 'base_estimator__criterion': 'gini', 'base_estimator__max_depth': 20, 'base_estimator__max_features': None, 'base_estimator__max_leaf_nodes': None, 'base_estimator__min_impurity_decrease': 0.0, 'base_estimator__min_impurity_split': None, 'base_estimator__min_samples_leaf': 1, 'base_estimator__min_samples_split': 2, 'base_estimator__min_weight_fraction_leaf': 0.0, 'base_estimator__presort': False, 'base_estimator__random_state': None, 'base_estimator__splitter': 'best', 'base_estimator': DecisionTreeClassifier(class_weight=None, criterion='gini', max_depth=20,\n",
      "            max_features=None, max_leaf_nodes=None,\n",
      "            min_impurity_decrease=0.0, min_impurity_split=None,\n",
      "            min_samples_leaf=1, min_samples_split=2,\n",
      "            min_weight_fraction_leaf=0.0, presort=False, random_state=None,\n",
      "            splitter='best'), 'learning_rate': 0.9, 'n_estimators': 120, 'random_state': 14}\n"
     ]
    }
   ],
   "source": [
    "\n",
    "ada_dict = {\n",
    "    'base_estimator':[DecisionTreeClassifier(max_depth=5),\n",
    "                     DecisionTreeClassifier(max_depth=10),\n",
    "                     DecisionTreeClassifier(max_depth=20)],\n",
    "    'n_estimators' : [80,120],\n",
    "    'learning_rate':[.5,.9,1]}\n",
    "\n",
    "ada_grid = grid('Combined - AdaBoostClassifier',AdaBoostClassifier(random_state=random_state),ada_dict,\n",
    "               Xtrain_std_spa,ytrain, Xtest_std_spa, ytest)\n"
   ]
  },
  {
   "cell_type": "markdown",
   "metadata": {},
   "source": [
    "## Gradient Boosting Classifier"
   ]
  },
  {
   "cell_type": "code",
   "execution_count": 46,
   "metadata": {},
   "outputs": [
    {
     "name": "stdout",
     "output_type": "stream",
     "text": [
      "Fitting 5 folds for each of 24 candidates, totalling 120 fits\n"
     ]
    },
    {
     "name": "stderr",
     "output_type": "stream",
     "text": [
      "[Parallel(n_jobs=-1)]: Using backend LokyBackend with 8 concurrent workers.\n",
      "[Parallel(n_jobs=-1)]: Done  25 tasks      | elapsed:  2.6min\n",
      "[Parallel(n_jobs=-1)]: Done 120 out of 120 | elapsed: 10.9min finished\n"
     ]
    },
    {
     "name": "stdout",
     "output_type": "stream",
     "text": [
      "Time\n",
      "Grid fitting took 0:11:36.254775\n",
      "CV took 0:02:56.445169\n",
      "\n",
      "Model Scores\n",
      "Accuracy on train data: 1.0\n",
      "Accuracy on test data: 0.8513372698853768\n",
      "Accuracy on CV: 0.8478515942776591\n",
      "Baseline: 0.6779812416257258\n",
      "\n",
      "AUC CV: 0.9089918524528298\n",
      "\n",
      "Confusion Matrix\n",
      "[[ 653  274]\n",
      " [ 154 1798]]\n",
      "\n",
      "Classification Report\n",
      "              precision    recall  f1-score   support\n",
      "\n",
      "  Bad Review       0.81      0.70      0.75       927\n",
      " Good Review       0.87      0.92      0.89      1952\n",
      "\n",
      "   micro avg       0.85      0.85      0.85      2879\n",
      "   macro avg       0.84      0.81      0.82      2879\n",
      "weighted avg       0.85      0.85      0.85      2879\n",
      "\n",
      "Best Estimator Parameters\n",
      "{'criterion': 'mse', 'init': None, 'learning_rate': 0.1, 'loss': 'exponential', 'max_depth': 10, 'max_features': None, 'max_leaf_nodes': None, 'min_impurity_decrease': 0.0, 'min_impurity_split': None, 'min_samples_leaf': 1, 'min_samples_split': 2, 'min_weight_fraction_leaf': 0.0, 'n_estimators': 200, 'n_iter_no_change': None, 'presort': 'auto', 'random_state': 14, 'subsample': 1.0, 'tol': 0.0001, 'validation_fraction': 0.1, 'verbose': 0, 'warm_start': False}\n"
     ]
    }
   ],
   "source": [
    "gboost_dict = {\n",
    "    'n_estimators':[50,100,150,200],\n",
    "    'loss' : ['exponential'],\n",
    "    'learning_rate':[0.1,0.5,1],\n",
    "    'criterion': ['mse'],\n",
    "    'max_depth': [10,20]}\n",
    "\n",
    "gboost_grid = grid('Combined - Gradient Boosting',GradientBoostingClassifier(random_state=random_state)\n",
    "                   ,gboost_dict, Xtrain_std_spa,ytrain, Xtest_std_spa, ytest)\n"
   ]
  },
  {
   "cell_type": "markdown",
   "metadata": {},
   "source": [
    "## Support Vector Machines"
   ]
  },
  {
   "cell_type": "code",
   "execution_count": 62,
   "metadata": {},
   "outputs": [
    {
     "name": "stdout",
     "output_type": "stream",
     "text": [
      "Fitting 5 folds for each of 22 candidates, totalling 110 fits\n"
     ]
    },
    {
     "name": "stderr",
     "output_type": "stream",
     "text": [
      "[Parallel(n_jobs=-1)]: Using backend LokyBackend with 8 concurrent workers.\n",
      "[Parallel(n_jobs=-1)]: Done  25 tasks      | elapsed:    2.0s\n",
      "[Parallel(n_jobs=-1)]: Done 110 out of 110 | elapsed:   17.4s finished\n"
     ]
    },
    {
     "name": "stdout",
     "output_type": "stream",
     "text": [
      "Time\n",
      "Grid fitting took 0:00:17.488792\n",
      "CV took 0:00:00.290309\n",
      "\n",
      "Model Scores\n",
      "Accuracy on train data: 0.8794104510942385\n",
      "Accuracy on test data: 0.8523792983674887\n",
      "Accuracy on CV: 0.8497850088931044\n",
      "Baseline: 0.6779812416257258\n",
      "\n",
      "AUC CV: 0.9143506655866503\n",
      "\n",
      "Confusion Matrix\n",
      "[[ 668  259]\n",
      " [ 166 1786]]\n",
      "\n",
      "Classification Report\n",
      "              precision    recall  f1-score   support\n",
      "\n",
      "  Bad Review       0.80      0.72      0.76       927\n",
      " Good Review       0.87      0.91      0.89      1952\n",
      "\n",
      "   micro avg       0.85      0.85      0.85      2879\n",
      "   macro avg       0.84      0.82      0.83      2879\n",
      "weighted avg       0.85      0.85      0.85      2879\n",
      "\n",
      "Best Estimator Parameters\n",
      "{'C': 0.01, 'class_weight': None, 'dual': True, 'fit_intercept': False, 'intercept_scaling': 1, 'loss': 'hinge', 'max_iter': 1000, 'multi_class': 'ovr', 'penalty': 'l2', 'random_state': 14, 'tol': 0.0001, 'verbose': 0}\n"
     ]
    }
   ],
   "source": [
    "# Linear SVM\n",
    "svm_linear_dict = {'C': np.logspace(-2, 2, 11),\n",
    "                  'fit_intercept': [True, False],\n",
    "                  'loss':['hinge'],\n",
    "                 'penalty':['l2']}\n",
    "\n",
    "\n",
    "# Linear\n",
    "gboost_svm_lin = grid('Combined - SVM - Linear',LinearSVC(random_state=random_state)\n",
    "                   ,svm_linear_dict, Xtrain_std_spa,ytrain, Xtest_std_spa, ytest)\n",
    "\n",
    "    "
   ]
  },
  {
   "cell_type": "code",
   "execution_count": 64,
   "metadata": {},
   "outputs": [
    {
     "name": "stdout",
     "output_type": "stream",
     "text": [
      "Fitting 5 folds for each of 100 candidates, totalling 500 fits\n"
     ]
    },
    {
     "name": "stderr",
     "output_type": "stream",
     "text": [
      "[Parallel(n_jobs=-1)]: Using backend LokyBackend with 8 concurrent workers.\n",
      "[Parallel(n_jobs=-1)]: Done  25 tasks      | elapsed:  1.2min\n",
      "[Parallel(n_jobs=-1)]: Done 146 tasks      | elapsed:  6.9min\n",
      "[Parallel(n_jobs=-1)]: Done 349 tasks      | elapsed: 16.0min\n",
      "[Parallel(n_jobs=-1)]: Done 500 out of 500 | elapsed: 22.8min finished\n"
     ]
    },
    {
     "name": "stdout",
     "output_type": "stream",
     "text": [
      "Time\n",
      "Grid fitting took 0:22:53.709743\n",
      "CV took 0:00:24.716442\n",
      "\n",
      "Model Scores\n",
      "Accuracy on train data: 0.9114187881494715\n",
      "Accuracy on test data: 0.8544633553317124\n",
      "Accuracy on CV: 0.8515700573651334\n",
      "Baseline: 0.6779812416257258\n",
      "\n",
      "AUC CV: 0.9170442922941925\n",
      "\n",
      "Confusion Matrix\n",
      "[[ 624  303]\n",
      " [ 116 1836]]\n",
      "\n",
      "Classification Report\n",
      "              precision    recall  f1-score   support\n",
      "\n",
      "  Bad Review       0.84      0.67      0.75       927\n",
      " Good Review       0.86      0.94      0.90      1952\n",
      "\n",
      "   micro avg       0.85      0.85      0.85      2879\n",
      "   macro avg       0.85      0.81      0.82      2879\n",
      "weighted avg       0.85      0.85      0.85      2879\n",
      "\n",
      "Best Estimator Parameters\n",
      "{'C': 0.5994842503189409, 'cache_size': 200, 'class_weight': None, 'coef0': 0.0, 'decision_function_shape': 'ovr', 'degree': 3, 'gamma': 0.0021544346900318843, 'kernel': 'rbf', 'max_iter': -1, 'probability': False, 'random_state': 14, 'shrinking': True, 'tol': 0.001, 'verbose': False}\n"
     ]
    }
   ],
   "source": [
    "#rbf \n",
    "rbf_dict = {\n",
    "    'kernel':['rbf'],\n",
    "    'gamma' : np.logspace(-5, 2, 10),\n",
    "    'C' : np.logspace(-3, 2, 10),}\n",
    "\n",
    "svm_rbf_grid = grid('Combined - SVM - RBF',SVC(random_state=random_state)\n",
    "                   ,rbf_dict, Xtrain_std_spa,ytrain, Xtest_std_spa, ytest)"
   ]
  },
  {
   "cell_type": "code",
   "execution_count": 67,
   "metadata": {},
   "outputs": [
    {
     "name": "stdout",
     "output_type": "stream",
     "text": [
      "Fitting 5 folds for each of 200 candidates, totalling 1000 fits\n"
     ]
    },
    {
     "name": "stderr",
     "output_type": "stream",
     "text": [
      "[Parallel(n_jobs=-1)]: Using backend LokyBackend with 8 concurrent workers.\n",
      "[Parallel(n_jobs=-1)]: Done  25 tasks      | elapsed:  1.1min\n",
      "[Parallel(n_jobs=-1)]: Done 146 tasks      | elapsed:  5.7min\n",
      "[Parallel(n_jobs=-1)]: Done 349 tasks      | elapsed: 13.1min\n",
      "[Parallel(n_jobs=-1)]: Done 632 tasks      | elapsed: 24.9min\n",
      "[Parallel(n_jobs=-1)]: Done 1000 out of 1000 | elapsed: 39.7min finished\n"
     ]
    },
    {
     "name": "stdout",
     "output_type": "stream",
     "text": [
      "Time\n",
      "Grid fitting took 0:39:49.321398\n",
      "CV took 0:00:28.006334\n",
      "\n",
      "Model Scores\n",
      "Accuracy on train data: 0.9017418490397499\n",
      "Accuracy on test data: 0.8534213268496006\n",
      "Accuracy on CV: 0.8488898232188044\n",
      "Baseline: 0.6779812416257258\n",
      "\n",
      "AUC CV: 0.9175931149900948\n",
      "\n",
      "Confusion Matrix\n",
      "[[ 608  319]\n",
      " [ 103 1849]]\n",
      "\n",
      "Classification Report\n",
      "              precision    recall  f1-score   support\n",
      "\n",
      "  Bad Review       0.86      0.66      0.74       927\n",
      " Good Review       0.85      0.95      0.90      1952\n",
      "\n",
      "   micro avg       0.85      0.85      0.85      2879\n",
      "   macro avg       0.85      0.80      0.82      2879\n",
      "weighted avg       0.85      0.85      0.85      2879\n",
      "\n",
      "Best Estimator Parameters\n",
      "{'C': 0.01291549665014884, 'cache_size': 200, 'class_weight': None, 'coef0': 0.0, 'decision_function_shape': 'ovr', 'degree': 2, 'gamma': 0.01291549665014884, 'kernel': 'poly', 'max_iter': -1, 'probability': False, 'random_state': 14, 'shrinking': True, 'tol': 0.001, 'verbose': False}\n"
     ]
    }
   ],
   "source": [
    "#poly \n",
    "poly_dict = {\n",
    "    'kernel':['poly'],\n",
    "    'gamma' : np.logspace(-5, 2, 10),\n",
    "    'degree' : [2,3],\n",
    "    'C' : np.logspace(-3, 2, 10),}\n",
    "\n",
    "svm_poly_grid = grid('Combined - SVM - Poly',SVC(random_state=random_state)\n",
    "                   ,poly_dict, Xtrain_std_spa,ytrain, Xtest_std_spa, ytest)"
   ]
  },
  {
   "cell_type": "code",
   "execution_count": 70,
   "metadata": {},
   "outputs": [
    {
     "name": "stdout",
     "output_type": "stream",
     "text": [
      "Fitting 5 folds for each of 100 candidates, totalling 500 fits\n"
     ]
    },
    {
     "name": "stderr",
     "output_type": "stream",
     "text": [
      "[Parallel(n_jobs=-1)]: Using backend LokyBackend with 8 concurrent workers.\n",
      "[Parallel(n_jobs=-1)]: Done  25 tasks      | elapsed:  1.2min\n",
      "[Parallel(n_jobs=-1)]: Done 146 tasks      | elapsed:  5.4min\n",
      "[Parallel(n_jobs=-1)]: Done 349 tasks      | elapsed: 12.0min\n",
      "[Parallel(n_jobs=-1)]: Done 500 out of 500 | elapsed: 16.6min finished\n"
     ]
    },
    {
     "name": "stdout",
     "output_type": "stream",
     "text": [
      "Time\n",
      "Grid fitting took 0:16:43.184222\n",
      "CV took 0:00:27.123060\n",
      "\n",
      "Model Scores\n",
      "Accuracy on train data: 0.8661604883132351\n",
      "Accuracy on test data: 0.8506425842306357\n",
      "Accuracy on CV: 0.8499329308304656\n",
      "Baseline: 0.6779812416257258\n",
      "\n",
      "AUC CV: 0.9168459926929702\n",
      "\n",
      "Confusion Matrix\n",
      "[[ 603  324]\n",
      " [ 106 1846]]\n",
      "\n",
      "Classification Report\n",
      "              precision    recall  f1-score   support\n",
      "\n",
      "  Bad Review       0.85      0.65      0.74       927\n",
      " Good Review       0.85      0.95      0.90      1952\n",
      "\n",
      "   micro avg       0.85      0.85      0.85      2879\n",
      "   macro avg       0.85      0.80      0.82      2879\n",
      "weighted avg       0.85      0.85      0.84      2879\n",
      "\n",
      "Best Estimator Parameters\n",
      "{'C': 7.742636826811277, 'cache_size': 200, 'class_weight': None, 'coef0': 0.0, 'decision_function_shape': 'ovr', 'degree': 3, 'gamma': 5.994842503189409e-05, 'kernel': 'sigmoid', 'max_iter': -1, 'probability': False, 'random_state': 14, 'shrinking': True, 'tol': 0.001, 'verbose': False}\n"
     ]
    }
   ],
   "source": [
    "sigmoid_dict = {\n",
    "    'kernel':['sigmoid'],\n",
    "    'gamma' : np.logspace(-5, 2, 10),\n",
    "    'C' : np.logspace(-3, 2, 10)}\n",
    "\n",
    "sig_poly_grid = grid('Combined - SVM - Sigmoid',SVC(random_state=random_state)\n",
    "                   ,sigmoid_dict, Xtrain_std_spa,ytrain, Xtest_std_spa, ytest)"
   ]
  },
  {
   "cell_type": "markdown",
   "metadata": {},
   "source": [
    "## Neural Networks - Multi-Layer-Perceptron"
   ]
  },
  {
   "cell_type": "code",
   "execution_count": 23,
   "metadata": {},
   "outputs": [
    {
     "name": "stdout",
     "output_type": "stream",
     "text": [
      "Fitting 5 folds for each of 240 candidates, totalling 1200 fits\n"
     ]
    },
    {
     "name": "stderr",
     "output_type": "stream",
     "text": [
      "[Parallel(n_jobs=-1)]: Using backend LokyBackend with 8 concurrent workers.\n",
      "[Parallel(n_jobs=-1)]: Done  25 tasks      | elapsed:    6.9s\n",
      "[Parallel(n_jobs=-1)]: Done 146 tasks      | elapsed:   39.5s\n",
      "[Parallel(n_jobs=-1)]: Done 349 tasks      | elapsed:  2.4min\n",
      "[Parallel(n_jobs=-1)]: Done 632 tasks      | elapsed:  5.7min\n",
      "[Parallel(n_jobs=-1)]: Done 997 tasks      | elapsed:  9.5min\n",
      "[Parallel(n_jobs=-1)]: Done 1200 out of 1200 | elapsed: 11.9min finished\n"
     ]
    },
    {
     "name": "stdout",
     "output_type": "stream",
     "text": [
      "Time\n",
      "Grid fitting took 0:11:59.248844\n",
      "CV took 0:00:24.993539\n",
      "\n",
      "Model Scores\n",
      "Accuracy on train data: 0.8700312639571237\n",
      "Accuracy on test data: 0.8541160125043418\n",
      "Accuracy on CV: 0.854099818774498\n",
      "Baseline: 0.6779812416257258\n",
      "\n",
      "AUC CV: 0.9193207834692809\n",
      "\n",
      "Confusion Matrix\n",
      "[[ 623  304]\n",
      " [ 116 1836]]\n",
      "\n",
      "Classification Report\n",
      "              precision    recall  f1-score   support\n",
      "\n",
      "  Bad Review       0.84      0.67      0.75       927\n",
      " Good Review       0.86      0.94      0.90      1952\n",
      "\n",
      "   micro avg       0.85      0.85      0.85      2879\n",
      "   macro avg       0.85      0.81      0.82      2879\n",
      "weighted avg       0.85      0.85      0.85      2879\n",
      "\n",
      "Best Estimator Parameters\n",
      "{'activation': 'logistic', 'alpha': 100.0, 'batch_size': 'auto', 'beta_1': 0.9, 'beta_2': 0.999, 'early_stopping': True, 'epsilon': 1e-08, 'hidden_layer_sizes': (80, 80), 'learning_rate': 'constant', 'learning_rate_init': 0.001, 'max_iter': 200, 'momentum': 0.9, 'n_iter_no_change': 10, 'nesterovs_momentum': True, 'power_t': 0.5, 'random_state': 14, 'shuffle': True, 'solver': 'lbfgs', 'tol': 0.0001, 'validation_fraction': 0.1, 'verbose': False, 'warm_start': False}\n"
     ]
    }
   ],
   "source": [
    "MLP_dict = {'hidden_layer_sizes' : [(20,20),(40,40),(60,60),(80,80),(20,20,20),(60,60,60)],\n",
    "       'activation' : ['identity', 'logistic', 'tanh', 'relu'],\n",
    "       'alpha': np.logspace(-5,4,10)}\n",
    "\n",
    "mlp_grid = grid('Combined - MLP',MLPClassifier(solver='lbfgs',\n",
    "                    random_state=random_state,\n",
    "                    batch_size='auto',early_stopping = True, n_iter_no_change=10), \n",
    "                MLP_dict,Xtrain_std_spa,ytrain, Xtest_std_spa, ytest)"
   ]
  },
  {
   "cell_type": "code",
   "execution_count": null,
   "metadata": {},
   "outputs": [],
   "source": []
  },
  {
   "cell_type": "code",
   "execution_count": null,
   "metadata": {},
   "outputs": [],
   "source": []
  },
  {
   "cell_type": "code",
   "execution_count": 54,
   "metadata": {},
   "outputs": [],
   "source": [
    "save_pickle(model_results,'model_results.pkl')"
   ]
  },
  {
   "cell_type": "markdown",
   "metadata": {},
   "source": [
    "## Comparing Results"
   ]
  },
  {
   "cell_type": "code",
   "execution_count": 11,
   "metadata": {},
   "outputs": [],
   "source": [
    "model_results = load_pickle('model_results.pkl')"
   ]
  },
  {
   "cell_type": "code",
   "execution_count": 12,
   "metadata": {},
   "outputs": [
    {
     "data": {
      "text/plain": [
       "dict_keys(['Combined - LogisticRegression', 'Combined - KNeighborsClassifier', 'Combined - DecisionTreeClassifier', 'Combined - NaiveBayes', 'Combined - BaggingClassifier', 'Combined - RandomForest', 'Combined - Gradient Boosting', 'Combined - AdaBoostClassifier', 'Combined - SVM - Linear', 'Combined - SVM - RBF', 'Combined - SVM - Poly', 'Combined - SVM - Sigmoid', 'Combined - MLP'])"
      ]
     },
     "execution_count": 12,
     "metadata": {},
     "output_type": "execute_result"
    }
   ],
   "source": [
    "model_results.keys()"
   ]
  },
  {
   "cell_type": "code",
   "execution_count": 33,
   "metadata": {},
   "outputs": [
    {
     "data": {
      "text/html": [
       "<div>\n",
       "<style scoped>\n",
       "    .dataframe tbody tr th:only-of-type {\n",
       "        vertical-align: middle;\n",
       "    }\n",
       "\n",
       "    .dataframe tbody tr th {\n",
       "        vertical-align: top;\n",
       "    }\n",
       "\n",
       "    .dataframe thead th {\n",
       "        text-align: right;\n",
       "    }\n",
       "</style>\n",
       "<table border=\"1\" class=\"dataframe\">\n",
       "  <thead>\n",
       "    <tr style=\"text-align: right;\">\n",
       "      <th></th>\n",
       "      <th>Model Name</th>\n",
       "      <th>AUC CV</th>\n",
       "      <th>Accuracy CV</th>\n",
       "      <th>Accuracy on Test</th>\n",
       "    </tr>\n",
       "  </thead>\n",
       "  <tbody>\n",
       "    <tr>\n",
       "      <th>0</th>\n",
       "      <td>Combined - DecisionTreeClassifier</td>\n",
       "      <td>0.881105</td>\n",
       "      <td>0.822093</td>\n",
       "      <td>0.819729</td>\n",
       "    </tr>\n",
       "  </tbody>\n",
       "</table>\n",
       "</div>"
      ],
      "text/plain": [
       "                          Model Name    AUC CV  Accuracy CV  Accuracy on Test\n",
       "0  Combined - DecisionTreeClassifier  0.881105     0.822093          0.819729"
      ]
     },
     "execution_count": 33,
     "metadata": {},
     "output_type": "execute_result"
    }
   ],
   "source": [
    "model_resultsumm= {\n",
    "    'Model Name': [x for x in model_results.keys()],\n",
    "    'AUC CV': [model_results[x]['AUC CV'] for x in model_results.keys()],\n",
    "    'Accuracy CV': [model_results[x]['accuracy cv'] for x in model_results.keys()],\n",
    "    'Accuracy on Test': [model_results[x]['accuracy test'] for x in model_results.keys()]\n",
    "}\n",
    "\n",
    "resultsDF = pd.DataFrame(model_resultsumm).sort_values(by = 'AUC CV', ascending = True)\n",
    "resultsDF\n",
    "\n",
    "#fig, ax = plt.subplots(figsize = (5,8));\n",
    "#resultsDF.set_index('Model Name').plot(kind= 'barh', ax = ax);"
   ]
  },
  {
   "cell_type": "code",
   "execution_count": 34,
   "metadata": {},
   "outputs": [],
   "source": [
    "dtree = model_results['Combined - DecisionTreeClassifier']['model']"
   ]
  },
  {
   "cell_type": "code",
   "execution_count": 35,
   "metadata": {},
   "outputs": [],
   "source": [
    "import warnings\n",
    "import numpy as np\n",
    "import scipy.stats as stats\n",
    "from sklearn.tree import DecisionTreeRegressor\n",
    "from six import StringIO\n",
    "from sklearn.tree import export_graphviz\n",
    "import pydotplus\n",
    "\n",
    "from ipywidgets import *\n",
    "from IPython.display import display\n",
    "from IPython.display import Image\n",
    "import seaborn as sns\n",
    "import matplotlib.pyplot as plt\n",
    "\n",
    "plt.rc(\"figure\", figsize=(9, 7))\n",
    "sns.set(font_scale=1.5)\n",
    "\n",
    "%matplotlib inline\n",
    "%config InlineBackend.figure_format = 'retina'\n",
    "\n",
    "warnings.simplefilter('ignore')"
   ]
  },
  {
   "cell_type": "code",
   "execution_count": 42,
   "metadata": {},
   "outputs": [
    {
     "data": {
      "image/png": "[encoded data removed]",
      "text/plain": [
       "<IPython.core.display.Image object>"
      ]
     },
     "execution_count": 42,
     "metadata": {},
     "output_type": "execute_result"
    }
   ],
   "source": [
    "dot_data = StringIO()\n",
    "export_graphviz(dtree,\n",
    "                out_file=dot_data,\n",
    "                max_depth=2,\n",
    "                filled=True,\n",
    "                rounded=True,\n",
    "                special_characters=True,\n",
    "                feature_names=Xtrain_std.columns\n",
    "                )\n",
    "\n",
    "graph = pydotplus.graph_from_dot_data(dot_data.getvalue())\n",
    "\n",
    "Image(graph.create_png())"
   ]
  },
  {
   "cell_type": "code",
   "execution_count": 41,
   "metadata": {},
   "outputs": [
    {
     "data": {
      "text/html": [
       "<div>\n",
       "<style scoped>\n",
       "    .dataframe tbody tr th:only-of-type {\n",
       "        vertical-align: middle;\n",
       "    }\n",
       "\n",
       "    .dataframe tbody tr th {\n",
       "        vertical-align: top;\n",
       "    }\n",
       "\n",
       "    .dataframe thead th {\n",
       "        text-align: right;\n",
       "    }\n",
       "</style>\n",
       "<table border=\"1\" class=\"dataframe\">\n",
       "  <thead>\n",
       "    <tr style=\"text-align: right;\">\n",
       "      <th></th>\n",
       "      <th>Feature</th>\n",
       "      <th>Importance</th>\n",
       "    </tr>\n",
       "  </thead>\n",
       "  <tbody>\n",
       "    <tr>\n",
       "      <th>3</th>\n",
       "      <td>vader_content_pos</td>\n",
       "      <td>0.592845</td>\n",
       "    </tr>\n",
       "    <tr>\n",
       "      <th>1</th>\n",
       "      <td>vader_content_neg</td>\n",
       "      <td>0.325404</td>\n",
       "    </tr>\n",
       "    <tr>\n",
       "      <th>0</th>\n",
       "      <td>vader_content_compound</td>\n",
       "      <td>0.048850</td>\n",
       "    </tr>\n",
       "    <tr>\n",
       "      <th>22</th>\n",
       "      <td>tfid - average</td>\n",
       "      <td>0.012563</td>\n",
       "    </tr>\n",
       "    <tr>\n",
       "      <th>2</th>\n",
       "      <td>vader_content_neu</td>\n",
       "      <td>0.009330</td>\n",
       "    </tr>\n",
       "    <tr>\n",
       "      <th>198</th>\n",
       "      <td>tfid - ok</td>\n",
       "      <td>0.008025</td>\n",
       "    </tr>\n",
       "    <tr>\n",
       "      <th>297</th>\n",
       "      <td>tfid - wasn</td>\n",
       "      <td>0.002984</td>\n",
       "    </tr>\n",
       "    <tr>\n",
       "      <th>206</th>\n",
       "      <td>tfid - package</td>\n",
       "      <td>0.000000</td>\n",
       "    </tr>\n",
       "    <tr>\n",
       "      <th>212</th>\n",
       "      <td>tfid - person</td>\n",
       "      <td>0.000000</td>\n",
       "    </tr>\n",
       "    <tr>\n",
       "      <th>211</th>\n",
       "      <td>tfid - perfect</td>\n",
       "      <td>0.000000</td>\n",
       "    </tr>\n",
       "  </tbody>\n",
       "</table>\n",
       "</div>"
      ],
      "text/plain": [
       "                    Feature  Importance\n",
       "3         vader_content_pos    0.592845\n",
       "1         vader_content_neg    0.325404\n",
       "0    vader_content_compound    0.048850\n",
       "22           tfid - average    0.012563\n",
       "2         vader_content_neu    0.009330\n",
       "198               tfid - ok    0.008025\n",
       "297             tfid - wasn    0.002984\n",
       "206          tfid - package    0.000000\n",
       "212           tfid - person    0.000000\n",
       "211          tfid - perfect    0.000000"
      ]
     },
     "execution_count": 41,
     "metadata": {},
     "output_type": "execute_result"
    }
   ],
   "source": [
    "pd.DataFrame(list(zip(Xtrain_std.columns, dtree.feature_importances_)), \n",
    "             columns=['Feature', 'Importance']\n",
    "            ).sort_values(by='Importance', ascending=False)[:10]"
   ]
  },
  {
   "cell_type": "code",
   "execution_count": 41,
   "metadata": {},
   "outputs": [
    {
     "data": {
      "image/png": "[encoded data removed]",
      "text/plain": [
       "<Figure size 288x504 with 1 Axes>"
      ]
     },
     "metadata": {
      "needs_background": "light"
     },
     "output_type": "display_data"
    }
   ],
   "source": [
    "fig, ax = plt.subplots(figsize = (4,7));\n",
    "resultsDF.set_index('Model Name')[['AUC CV','Accuracy on Test']].plot(kind = 'barh', ax = ax);\n",
    "ax.legend(loc = 'lower left');"
   ]
  },
  {
   "cell_type": "markdown",
   "metadata": {},
   "source": [
    "## Model Analysis"
   ]
  },
  {
   "cell_type": "code",
   "execution_count": 1,
   "metadata": {},
   "outputs": [
    {
     "ename": "NameError",
     "evalue": "name 'pd' is not defined",
     "output_type": "error",
     "traceback": [
      "\u001b[0;31m---------------------------------------------------------------------------\u001b[0m",
      "\u001b[0;31mNameError\u001b[0m                                 Traceback (most recent call last)",
      "\u001b[0;32m<ipython-input-1-5f78116000f4>\u001b[0m in \u001b[0;36m<module>\u001b[0;34m\u001b[0m\n\u001b[0;32m----> 1\u001b[0;31m \u001b[0mcoefficient_df\u001b[0m \u001b[0;34m=\u001b[0m \u001b[0mpd\u001b[0m\u001b[0;34m.\u001b[0m\u001b[0mDataFrame\u001b[0m\u001b[0;34m(\u001b[0m\u001b[0mmodel_results\u001b[0m\u001b[0;34m[\u001b[0m\u001b[0;34m'Combined - LogisticRegression'\u001b[0m\u001b[0;34m]\u001b[0m\u001b[0;34m[\u001b[0m\u001b[0;34m'model'\u001b[0m\u001b[0;34m]\u001b[0m\u001b[0;34m.\u001b[0m\u001b[0mcoef_\u001b[0m\u001b[0;34m.\u001b[0m\u001b[0mreshape\u001b[0m\u001b[0;34m(\u001b[0m\u001b[0;34m-\u001b[0m\u001b[0;36m1\u001b[0m\u001b[0;34m,\u001b[0m\u001b[0;36m1\u001b[0m\u001b[0;34m)\u001b[0m\u001b[0;34m,\u001b[0m \u001b[0mindex\u001b[0m \u001b[0;34m=\u001b[0m \u001b[0mXtrain_std\u001b[0m\u001b[0;34m.\u001b[0m\u001b[0mcolumns\u001b[0m\u001b[0;34m,\u001b[0m\u001b[0mcolumns\u001b[0m \u001b[0;34m=\u001b[0m \u001b[0;34m[\u001b[0m\u001b[0;34m'coefficient'\u001b[0m\u001b[0;34m]\u001b[0m\u001b[0;34m)\u001b[0m\u001b[0;34m\u001b[0m\u001b[0;34m\u001b[0m\u001b[0m\n\u001b[0m\u001b[1;32m      2\u001b[0m \u001b[0mis_0\u001b[0m \u001b[0;34m=\u001b[0m \u001b[0mcoefficient_df\u001b[0m\u001b[0;34m.\u001b[0m\u001b[0mcoefficient\u001b[0m\u001b[0;34m.\u001b[0m\u001b[0mapply\u001b[0m\u001b[0;34m(\u001b[0m\u001b[0;32mlambda\u001b[0m \u001b[0mx\u001b[0m\u001b[0;34m:\u001b[0m \u001b[0mnp\u001b[0m\u001b[0;34m.\u001b[0m\u001b[0misclose\u001b[0m\u001b[0;34m(\u001b[0m\u001b[0mx\u001b[0m\u001b[0;34m,\u001b[0m\u001b[0;36m0\u001b[0m\u001b[0;34m)\u001b[0m\u001b[0;34m)\u001b[0m\u001b[0;34m\u001b[0m\u001b[0;34m\u001b[0m\u001b[0m\n",
      "\u001b[0;31mNameError\u001b[0m: name 'pd' is not defined"
     ]
    }
   ],
   "source": [
    "coefficient_df = pd.DataFrame(model_results['Combined - LogisticRegression']['model'].coef_.reshape(-1,1), index = Xtrain_std.columns,columns = ['coefficient'])\n",
    "is_0 = coefficient_df.coefficient.apply(lambda x: np.isclose(x,0))"
   ]
  },
  {
   "cell_type": "code",
   "execution_count": 59,
   "metadata": {},
   "outputs": [],
   "source": [
    "is_0 = coefficient_df.coefficient.apply(lambda x: np.isclose(x,0))"
   ]
  },
  {
   "cell_type": "code",
   "execution_count": 74,
   "metadata": {},
   "outputs": [
    {
     "data": {
      "text/html": [
       "<div>\n",
       "<style scoped>\n",
       "    .dataframe tbody tr th:only-of-type {\n",
       "        vertical-align: middle;\n",
       "    }\n",
       "\n",
       "    .dataframe tbody tr th {\n",
       "        vertical-align: top;\n",
       "    }\n",
       "\n",
       "    .dataframe thead th {\n",
       "        text-align: right;\n",
       "    }\n",
       "</style>\n",
       "<table border=\"1\" class=\"dataframe\">\n",
       "  <thead>\n",
       "    <tr style=\"text-align: right;\">\n",
       "      <th></th>\n",
       "      <th>coefficient</th>\n",
       "    </tr>\n",
       "  </thead>\n",
       "  <tbody>\n",
       "    <tr>\n",
       "      <th>vader_content_pos</th>\n",
       "      <td>1.058893</td>\n",
       "    </tr>\n",
       "    <tr>\n",
       "      <th>tfid - loved</th>\n",
       "      <td>0.255614</td>\n",
       "    </tr>\n",
       "    <tr>\n",
       "      <th>tfid - perfect</th>\n",
       "      <td>0.229823</td>\n",
       "    </tr>\n",
       "    <tr>\n",
       "      <th>tfid - enjoyed</th>\n",
       "      <td>0.215362</td>\n",
       "    </tr>\n",
       "    <tr>\n",
       "      <th>tfid - plenty</th>\n",
       "      <td>0.213059</td>\n",
       "    </tr>\n",
       "    <tr>\n",
       "      <th>tfid - excellent</th>\n",
       "      <td>0.140848</td>\n",
       "    </tr>\n",
       "    <tr>\n",
       "      <th>tfid - amazing</th>\n",
       "      <td>0.125651</td>\n",
       "    </tr>\n",
       "    <tr>\n",
       "      <th>tfid - fantastic</th>\n",
       "      <td>0.125537</td>\n",
       "    </tr>\n",
       "    <tr>\n",
       "      <th>tfid - included</th>\n",
       "      <td>0.109600</td>\n",
       "    </tr>\n",
       "    <tr>\n",
       "      <th>tfid - wonderful</th>\n",
       "      <td>0.107034</td>\n",
       "    </tr>\n",
       "    <tr>\n",
       "      <th>tfid - lots</th>\n",
       "      <td>0.106569</td>\n",
       "    </tr>\n",
       "    <tr>\n",
       "      <th>tfid - bit</th>\n",
       "      <td>0.105881</td>\n",
       "    </tr>\n",
       "    <tr>\n",
       "      <th>tfid - class</th>\n",
       "      <td>0.103578</td>\n",
       "    </tr>\n",
       "    <tr>\n",
       "      <th>tfid - lunch</th>\n",
       "      <td>0.103128</td>\n",
       "    </tr>\n",
       "    <tr>\n",
       "      <th>tfid - highly</th>\n",
       "      <td>0.100179</td>\n",
       "    </tr>\n",
       "    <tr>\n",
       "      <th>tfid - year</th>\n",
       "      <td>0.099731</td>\n",
       "    </tr>\n",
       "    <tr>\n",
       "      <th>tfid - board</th>\n",
       "      <td>0.090575</td>\n",
       "    </tr>\n",
       "    <tr>\n",
       "      <th>tfid - excursions</th>\n",
       "      <td>0.072695</td>\n",
       "    </tr>\n",
       "    <tr>\n",
       "      <th>tfid - check</th>\n",
       "      <td>0.072411</td>\n",
       "    </tr>\n",
       "    <tr>\n",
       "      <th>tfid - getting</th>\n",
       "      <td>0.071067</td>\n",
       "    </tr>\n",
       "    <tr>\n",
       "      <th>tfid - port</th>\n",
       "      <td>0.065842</td>\n",
       "    </tr>\n",
       "    <tr>\n",
       "      <th>tfid - inside</th>\n",
       "      <td>0.065156</td>\n",
       "    </tr>\n",
       "    <tr>\n",
       "      <th>tfid - tours</th>\n",
       "      <td>0.062995</td>\n",
       "    </tr>\n",
       "    <tr>\n",
       "      <th>vader_content_compound</th>\n",
       "      <td>0.062976</td>\n",
       "    </tr>\n",
       "    <tr>\n",
       "      <th>tfid - went</th>\n",
       "      <td>0.061900</td>\n",
       "    </tr>\n",
       "    <tr>\n",
       "      <th>tfid - worth</th>\n",
       "      <td>0.059707</td>\n",
       "    </tr>\n",
       "    <tr>\n",
       "      <th>tfid - wife</th>\n",
       "      <td>0.059528</td>\n",
       "    </tr>\n",
       "    <tr>\n",
       "      <th>tfid - kept</th>\n",
       "      <td>0.052851</td>\n",
       "    </tr>\n",
       "    <tr>\n",
       "      <th>tfid - high</th>\n",
       "      <td>0.048063</td>\n",
       "    </tr>\n",
       "    <tr>\n",
       "      <th>tfid - stop</th>\n",
       "      <td>0.043645</td>\n",
       "    </tr>\n",
       "    <tr>\n",
       "      <th>tfid - space</th>\n",
       "      <td>0.042598</td>\n",
       "    </tr>\n",
       "    <tr>\n",
       "      <th>tfid - crew</th>\n",
       "      <td>0.042178</td>\n",
       "    </tr>\n",
       "    <tr>\n",
       "      <th>tfid - drinks</th>\n",
       "      <td>0.038313</td>\n",
       "    </tr>\n",
       "    <tr>\n",
       "      <th>tfid - tour</th>\n",
       "      <td>0.038047</td>\n",
       "    </tr>\n",
       "    <tr>\n",
       "      <th>tfid - visited</th>\n",
       "      <td>0.037157</td>\n",
       "    </tr>\n",
       "    <tr>\n",
       "      <th>tfid - gave</th>\n",
       "      <td>0.035447</td>\n",
       "    </tr>\n",
       "    <tr>\n",
       "      <th>tfid - options</th>\n",
       "      <td>0.034164</td>\n",
       "    </tr>\n",
       "    <tr>\n",
       "      <th>tfid - felt</th>\n",
       "      <td>0.033467</td>\n",
       "    </tr>\n",
       "    <tr>\n",
       "      <th>tfid - expected</th>\n",
       "      <td>0.032708</td>\n",
       "    </tr>\n",
       "    <tr>\n",
       "      <th>tfid - comfortable</th>\n",
       "      <td>0.030404</td>\n",
       "    </tr>\n",
       "    <tr>\n",
       "      <th>tfid - captain</th>\n",
       "      <td>0.030174</td>\n",
       "    </tr>\n",
       "    <tr>\n",
       "      <th>tfid - easy</th>\n",
       "      <td>0.029614</td>\n",
       "    </tr>\n",
       "    <tr>\n",
       "      <th>tfid - book</th>\n",
       "      <td>0.029185</td>\n",
       "    </tr>\n",
       "    <tr>\n",
       "      <th>tfid - second</th>\n",
       "      <td>0.028977</td>\n",
       "    </tr>\n",
       "    <tr>\n",
       "      <th>tfid - early</th>\n",
       "      <td>0.028270</td>\n",
       "    </tr>\n",
       "    <tr>\n",
       "      <th>tfid - helpful</th>\n",
       "      <td>0.028267</td>\n",
       "    </tr>\n",
       "    <tr>\n",
       "      <th>tfid - clean</th>\n",
       "      <td>0.027734</td>\n",
       "    </tr>\n",
       "    <tr>\n",
       "      <th>tfid - size</th>\n",
       "      <td>0.025974</td>\n",
       "    </tr>\n",
       "    <tr>\n",
       "      <th>tfid - love</th>\n",
       "      <td>0.025910</td>\n",
       "    </tr>\n",
       "    <tr>\n",
       "      <th>tfid - awesome</th>\n",
       "      <td>0.023830</td>\n",
       "    </tr>\n",
       "  </tbody>\n",
       "</table>\n",
       "</div>"
      ],
      "text/plain": [
       "                        coefficient\n",
       "vader_content_pos          1.058893\n",
       "tfid - loved               0.255614\n",
       "tfid - perfect             0.229823\n",
       "tfid - enjoyed             0.215362\n",
       "tfid - plenty              0.213059\n",
       "tfid - excellent           0.140848\n",
       "tfid - amazing             0.125651\n",
       "tfid - fantastic           0.125537\n",
       "tfid - included            0.109600\n",
       "tfid - wonderful           0.107034\n",
       "tfid - lots                0.106569\n",
       "tfid - bit                 0.105881\n",
       "tfid - class               0.103578\n",
       "tfid - lunch               0.103128\n",
       "tfid - highly              0.100179\n",
       "tfid - year                0.099731\n",
       "tfid - board               0.090575\n",
       "tfid - excursions          0.072695\n",
       "tfid - check               0.072411\n",
       "tfid - getting             0.071067\n",
       "tfid - port                0.065842\n",
       "tfid - inside              0.065156\n",
       "tfid - tours               0.062995\n",
       "vader_content_compound     0.062976\n",
       "tfid - went                0.061900\n",
       "tfid - worth               0.059707\n",
       "tfid - wife                0.059528\n",
       "tfid - kept                0.052851\n",
       "tfid - high                0.048063\n",
       "tfid - stop                0.043645\n",
       "tfid - space               0.042598\n",
       "tfid - crew                0.042178\n",
       "tfid - drinks              0.038313\n",
       "tfid - tour                0.038047\n",
       "tfid - visited             0.037157\n",
       "tfid - gave                0.035447\n",
       "tfid - options             0.034164\n",
       "tfid - felt                0.033467\n",
       "tfid - expected            0.032708\n",
       "tfid - comfortable         0.030404\n",
       "tfid - captain             0.030174\n",
       "tfid - easy                0.029614\n",
       "tfid - book                0.029185\n",
       "tfid - second              0.028977\n",
       "tfid - early               0.028270\n",
       "tfid - helpful             0.028267\n",
       "tfid - clean               0.027734\n",
       "tfid - size                0.025974\n",
       "tfid - love                0.025910\n",
       "tfid - awesome             0.023830"
      ]
     },
     "execution_count": 74,
     "metadata": {},
     "output_type": "execute_result"
    }
   ],
   "source": [
    "coefficient_df[~is_0].sort_values(by= 'coefficient', ascending=False)[:50]"
   ]
  },
  {
   "cell_type": "code",
   "execution_count": 94,
   "metadata": {},
   "outputs": [
    {
     "data": {
      "text/plain": [
       "'This ship is a huge nightmare.  I am in decent shape, but walking to any venue was a major deal, partly because there were no elevators in the aft section......how about that !!Here\\'s a rundown:Bar, wait staff, room attendants are good, efficient, and polite.Front desk staff - a complete joke.  No matter the question, they have to send a message to the head office.  We requested a room change, the answer came back 4 days later .... !  what\\'s the point ?  A direct question:  \"Do you have a more central room available ?\"  They don\\'t know.  WHY?Food:  Mediocre at best.  First suggestion is to hire a pastry/dessert chef.  The desserts are pathetic.  Second suggestion:  No one eats al dente carrots.  Raw carrots, yes, Cooked carrots should be fork tender.  Next bulletin:  Most Americans don\\'t like tough beef.  Maybe the Europeans don\\'t care, but somehow your competition is able to get tender US beef on their cruises from Miami.Good point:  The breads are excellent.'"
      ]
     },
     "execution_count": 94,
     "metadata": {},
     "output_type": "execute_result"
    }
   ],
   "source": [
    "reviews.content.iloc[1]"
   ]
  },
  {
   "cell_type": "markdown",
   "metadata": {},
   "source": [
    "## Making it more efficient"
   ]
  },
  {
   "cell_type": "code",
   "execution_count": 89,
   "metadata": {},
   "outputs": [],
   "source": [
    "word_type_df = load_pickle('word_type.pkl')"
   ]
  },
  {
   "cell_type": "code",
   "execution_count": 91,
   "metadata": {},
   "outputs": [
    {
     "data": {
      "text/html": [
       "<div>\n",
       "<style scoped>\n",
       "    .dataframe tbody tr th:only-of-type {\n",
       "        vertical-align: middle;\n",
       "    }\n",
       "\n",
       "    .dataframe tbody tr th {\n",
       "        vertical-align: top;\n",
       "    }\n",
       "\n",
       "    .dataframe thead th {\n",
       "        text-align: right;\n",
       "    }\n",
       "</style>\n",
       "<table border=\"1\" class=\"dataframe\">\n",
       "  <thead>\n",
       "    <tr style=\"text-align: right;\">\n",
       "      <th></th>\n",
       "      <th>ADJ</th>\n",
       "      <th>ADP</th>\n",
       "      <th>ADV</th>\n",
       "      <th>CCONJ</th>\n",
       "      <th>DET</th>\n",
       "      <th>INTJ</th>\n",
       "      <th>NOUN</th>\n",
       "      <th>NUM</th>\n",
       "      <th>PART</th>\n",
       "      <th>PRON</th>\n",
       "      <th>PROPN</th>\n",
       "      <th>SCONJ</th>\n",
       "      <th>SPACE</th>\n",
       "      <th>SYM</th>\n",
       "      <th>VERB</th>\n",
       "      <th>X</th>\n",
       "      <th>word_count</th>\n",
       "      <th>stars_grouped</th>\n",
       "    </tr>\n",
       "  </thead>\n",
       "  <tbody>\n",
       "    <tr>\n",
       "      <th>0</th>\n",
       "      <td>2nd fair stunning awesome amazing smooth simil...</td>\n",
       "      <td>unlike</td>\n",
       "      <td>pretty greatly slightly anymore unfortunately ...</td>\n",
       "      <td>and/or</td>\n",
       "      <td></td>\n",
       "      <td></td>\n",
       "      <td>time sailing pros cons trip promenade screen c...</td>\n",
       "      <td>2020 2 2 3 2 3</td>\n",
       "      <td></td>\n",
       "      <td></td>\n",
       "      <td>msc meraviglia january western caribbean msc y...</td>\n",
       "      <td>like despite</td>\n",
       "      <td>...</td>\n",
       "      <td>/</td>\n",
       "      <td>sailed balanced found improve having sailed ex...</td>\n",
       "      <td></td>\n",
       "      <td>386</td>\n",
       "      <td>Good Review</td>\n",
       "    </tr>\n",
       "    <tr>\n",
       "      <th>1</th>\n",
       "      <td>huge decent major aft good efficient polite co...</td>\n",
       "      <td></td>\n",
       "      <td>partly matter later best maybe</td>\n",
       "      <td></td>\n",
       "      <td></td>\n",
       "      <td>yes</td>\n",
       "      <td>ship nightmare shape venue deal elevators sect...</td>\n",
       "      <td>4</td>\n",
       "      <td></td>\n",
       "      <td></td>\n",
       "      <td>why?food mediocre al dente carrots americans e...</td>\n",
       "      <td></td>\n",
       "      <td></td>\n",
       "      <td>/</td>\n",
       "      <td>walking wait send requested came know hire eat...</td>\n",
       "      <td></td>\n",
       "      <td>107</td>\n",
       "      <td>Bad Review</td>\n",
       "    </tr>\n",
       "    <tr>\n",
       "      <th>2</th>\n",
       "      <td>happy wonderful negative worried large beautif...</td>\n",
       "      <td></td>\n",
       "      <td>little freshly onboard highly</td>\n",
       "      <td></td>\n",
       "      <td></td>\n",
       "      <td></td>\n",
       "      <td>cruise experience reviews complaints ship faci...</td>\n",
       "      <td>5,000</td>\n",
       "      <td></td>\n",
       "      <td></td>\n",
       "      <td>msc meraviglia caribbean shampoo msc meraviglia</td>\n",
       "      <td></td>\n",
       "      <td></td>\n",
       "      <td></td>\n",
       "      <td>came read ate like eat baked order having incl...</td>\n",
       "      <td>i’ve</td>\n",
       "      <td>108</td>\n",
       "      <td>Good Review</td>\n",
       "    </tr>\n",
       "  </tbody>\n",
       "</table>\n",
       "</div>"
      ],
      "text/plain": [
       "                                                 ADJ      ADP  \\\n",
       "0  2nd fair stunning awesome amazing smooth simil...  unlike    \n",
       "1  huge decent major aft good efficient polite co...            \n",
       "2  happy wonderful negative worried large beautif...            \n",
       "\n",
       "                                                 ADV    CCONJ DET  INTJ  \\\n",
       "0  pretty greatly slightly anymore unfortunately ...  and/or              \n",
       "1                    partly matter later best maybe                yes    \n",
       "2                     little freshly onboard highly                       \n",
       "\n",
       "                                                NOUN              NUM PART  \\\n",
       "0  time sailing pros cons trip promenade screen c...  2020 2 2 3 2 3         \n",
       "1  ship nightmare shape venue deal elevators sect...               4         \n",
       "2  cruise experience reviews complaints ship faci...           5,000         \n",
       "\n",
       "  PRON                                              PROPN          SCONJ  \\\n",
       "0       msc meraviglia january western caribbean msc y...  like despite    \n",
       "1       why?food mediocre al dente carrots americans e...                  \n",
       "2        msc meraviglia caribbean shampoo msc meraviglia                   \n",
       "\n",
       "                                               SPACE SYM  \\\n",
       "0                                                ...  /    \n",
       "1                                                     /    \n",
       "2                                                          \n",
       "\n",
       "                                                VERB      X  word_count  \\\n",
       "0  sailed balanced found improve having sailed ex...                386   \n",
       "1  walking wait send requested came know hire eat...                107   \n",
       "2  came read ate like eat baked order having incl...  i’ve          108   \n",
       "\n",
       "  stars_grouped  \n",
       "0   Good Review  \n",
       "1    Bad Review  \n",
       "2   Good Review  "
      ]
     },
     "execution_count": 91,
     "metadata": {},
     "output_type": "execute_result"
    }
   ],
   "source": [
    "word_type_df.head(3)"
   ]
  },
  {
   "cell_type": "code",
   "execution_count": 93,
   "metadata": {},
   "outputs": [
    {
     "data": {
      "text/plain": [
       "0       2nd fair stunning awesome amazing smooth simil...\n",
       "1       huge decent major aft good efficient polite co...\n",
       "2       happy wonderful negative worried large beautif...\n",
       "3       bad excellent small little ready normal small ...\n",
       "4       important worried long long wrong half quick e...\n",
       "                              ...                        \n",
       "9602    interesting clean clean tired unorganized  cro...\n",
       "9603    charming nice proper efficient true profession...\n",
       "9604    second beautiful great friendly good best beau...\n",
       "9605    transatlantic long interesting good limited ni...\n",
       "9606    great great great annoyed great long nice big ...\n",
       "Length: 9596, dtype: object"
      ]
     },
     "execution_count": 93,
     "metadata": {},
     "output_type": "execute_result"
    }
   ],
   "source": [
    "word_type_df.apply(lambda x: x['ADJ']+' '+x['ADV']+' '+x['VERB'], axis = 1)"
   ]
  },
  {
   "cell_type": "code",
   "execution_count": null,
   "metadata": {},
   "outputs": [],
   "source": []
  }
 ],
 "metadata": {
  "kernelspec": {
   "display_name": "Python 3",
   "language": "python",
   "name": "python3"
  },
  "language_info": {
   "codemirror_mode": {
    "name": "ipython",
    "version": 3
   },
   "file_extension": ".py",
   "mimetype": "text/x-python",
   "name": "python",
   "nbconvert_exporter": "python",
   "pygments_lexer": "ipython3",
   "version": "3.7.6"
  }
 },
 "nbformat": 4,
 "nbformat_minor": 2
}
