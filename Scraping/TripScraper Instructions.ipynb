{
 "cells": [
  {
   "cell_type": "code",
   "execution_count": 1,
   "metadata": {},
   "outputs": [],
   "source": [
    "# Importing Class TripScraper (saved on TripScraper.py)\n",
    "from TripScraper import TripScraper\n",
    "from pprint import pprint"
   ]
  },
  {
   "cell_type": "markdown",
   "metadata": {},
   "source": [
    "# Scraping"
   ]
  },
  {
   "cell_type": "markdown",
   "metadata": {},
   "source": [
    "## Step 1 - Instantiating object"
   ]
  },
  {
   "cell_type": "code",
   "execution_count": 2,
   "metadata": {},
   "outputs": [],
   "source": [
    "# Parameter 1: List of destination urls. These urls should include a list of the ships for that destination.\n",
    "# Check the ecamples I'm using!\n",
    "list_of_destinations_urls = ['https://www.tripadvisor.co.uk/Cruises-g12-Antarctica-Cruises',\n",
    "                             'https://www.tripadvisor.co.uk/Cruises-g255055-Australia-Cruises']\n",
    "\n",
    "# Parameter 2: Path to chromedriver file.\n",
    "# If you need a different version of chromedriver, visit https://chromedriver.chromium.org/\n",
    "driver = './chromedriver'\n",
    "\n",
    "# Instantiation\n",
    "scraper = TripScraper(list_of_destinations_urls,driver)"
   ]
  },
  {
   "cell_type": "markdown",
   "metadata": {},
   "source": [
    "If you wish to update the list of urls, you can use the \"update_destinations\" method."
   ]
  },
  {
   "cell_type": "code",
   "execution_count": 3,
   "metadata": {},
   "outputs": [],
   "source": [
    "new_list_of_desntionations = ['https://www.tripadvisor.co.uk/Cruises-g12-Antarctica-Cruises',\n",
    "                             'https://www.tripadvisor.co.uk/Cruises-g255055-Australia-Cruises',\n",
    "                              'https://www.tripadvisor.co.uk/Cruises-g294211-China-Cruises'\n",
    "                             ]\n",
    "\n",
    "scraper.update_destinations(new_list_of_desntionations)"
   ]
  },
  {
   "cell_type": "markdown",
   "metadata": {},
   "source": [
    "## Step 2 - Scraping list of ships"
   ]
  },
  {
   "cell_type": "code",
   "execution_count": 4,
   "metadata": {
    "scrolled": false
   },
   "outputs": [],
   "source": [
    "#Scrape list of ships from those destinations:\n",
    "scraper.ships_scrape()"
   ]
  },
  {
   "cell_type": "code",
   "execution_count": 18,
   "metadata": {},
   "outputs": [
    {
     "name": "stdout",
     "output_type": "stream",
     "text": [
      "{'/Cruise_Review-d15691305-Reviews-Azamara_Journey': False,\n",
      " '/Cruise_Review-d15691306-Reviews-Azamara_Pursuit': False,\n",
      " '/Cruise_Review-d15691328-Reviews-Fred_Olsen_Boudicca': False,\n",
      " '/Cruise_Review-d15691371-Reviews-Celebrity_Eclipse': False,\n",
      " '/Cruise_Review-d15691381-Reviews-Celebrity_Solstice': False,\n",
      " '/Cruise_Review-d15691397-Reviews-Columbus': False,\n",
      " '/Cruise_Review-d15691402-Reviews-Coral_Princess': False,\n",
      " '/Cruise_Review-d15691422-Reviews-Crystal_Endeavor': False,\n",
      " '/Cruise_Review-d15691498-Reviews-Hanseatic_Inspiration': False,\n",
      " '/Cruise_Review-d15691546-Reviews-Ponant_L_Austral': False,\n",
      " '/Cruise_Review-d15691561-Reviews-Ponant_Le_Boreal': False,\n",
      " '/Cruise_Review-d15691565-Reviews-Le_Laperouse': False,\n",
      " '/Cruise_Review-d15691566-Reviews-Le_Lyrial_Ponant': False,\n",
      " '/Cruise_Review-d15691569-Reviews-Ponant_Le_Soleal': False,\n",
      " '/Cruise_Review-d15691581-Reviews-Holland_America_Maasdam': False,\n",
      " '/Cruise_Review-d15691585-Reviews-Majestic_Princess': False,\n",
      " '/Cruise_Review-d15691678-Reviews-Norwegian_Jewel': False,\n",
      " '/Cruise_Review-d15691692-Reviews-Holland_America_Oosterdam': False,\n",
      " '/Cruise_Review-d15691696-Reviews-Royal_Caribbean_Ovation_of_the_Seas': False,\n",
      " '/Cruise_Review-d15691702-Reviews-Pacific_Princess': False,\n",
      " '/Cruise_Review-d15691721-Reviews-Cunard_Queen_Elizabeth': False,\n",
      " '/Cruise_Review-d15691723-Reviews-Cunard_Queen_Mary_2_QM2': False,\n",
      " '/Cruise_Review-d15691731-Reviews-Regal_Princess': False,\n",
      " '/Cruise_Review-d15691792-Reviews-Sapphire_Princess': False,\n",
      " '/Cruise_Review-d15691813-Reviews-Sea_Princess': False,\n",
      " '/Cruise_Review-d15691815-Reviews-Seabourn_Encore': False,\n",
      " '/Cruise_Review-d15691823-Reviews-Royal_Caribbean_Serenade_of_the_Seas': False,\n",
      " '/Cruise_Review-d15691831-Reviews-Silver_Cloud_Expedition': False,\n",
      " '/Cruise_Review-d15691834-Reviews-Silversea_Silver_Explorer': False,\n",
      " '/Cruise_Review-d15691837-Reviews-Silversea_Silver_Muse': False,\n",
      " '/Cruise_Review-d15691841-Reviews-Silversea_Silver_Wind': False,\n",
      " '/Cruise_Review-d15691848-Reviews-Windstar_Star_Breeze': False,\n",
      " '/Cruise_Review-d15691859-Reviews-Sun_Princess': False,\n",
      " '/Cruise_Review-d15691945-Reviews-Viking_Orion': False,\n",
      " '/Cruise_Review-d15691959-Reviews-Viking_Sun': False,\n",
      " '/Cruise_Review-d15691978-Reviews-Royal_Caribbean_Voyager_of_the_Seas': False,\n",
      " '/Cruise_Review-d18852600-Reviews-Vasco_da_Gama': False}\n"
     ]
    }
   ],
   "source": [
    "# The step above created the following dictionary. Each key is a url that needs to be updated and the \n",
    "# value False stands for urls that haven't been scraped yet.\n",
    "pprint(scraper.ship_progress)"
   ]
  },
  {
   "cell_type": "markdown",
   "metadata": {},
   "source": [
    "## Step 3 - Scrape reviews"
   ]
  },
  {
   "cell_type": "code",
   "execution_count": 5,
   "metadata": {},
   "outputs": [
    {
     "name": "stdout",
     "output_type": "stream",
     "text": [
      "Starting with Ponant_Le_Soleal...\n",
      "Finished with Ponant_Le_Soleal.\n",
      "Starting with Crystal_Endeavor...\n",
      "Finished with Crystal_Endeavor.\n",
      "Starting with Silversea_Silver_Wind...\n",
      "Finished with Silversea_Silver_Wind.\n",
      "Starting with Ponant_Le_Boreal...\n",
      "Finished with Ponant_Le_Boreal.\n",
      "Starting with Le_Lyrial_Ponant...\n",
      "Finished with Le_Lyrial_Ponant.\n",
      "Starting with Hanseatic_Inspiration...\n",
      "Finished with Hanseatic_Inspiration.\n",
      "Starting with Silver_Cloud_Expedition...\n",
      "Finished with Silver_Cloud_Expedition.\n",
      "Starting with Coral_Princess...\n",
      "Finished with Coral_Princess.\n",
      "Starting with Ponant_L_Austral...\n",
      "Finished with Ponant_L_Austral.\n",
      "Starting with Silversea_Silver_Explorer...\n",
      "Finished with Silversea_Silver_Explorer.\n",
      "Starting with Pacific_Princess...\n",
      "Finished with Pacific_Princess.\n",
      "Starting with Le_Laperouse...\n",
      "Finished with Le_Laperouse.\n",
      "Starting with Holland_America_Oosterdam...\n",
      "Finished with Holland_America_Oosterdam.\n",
      "Starting with Majestic_Princess...\n",
      "Finished with Majestic_Princess.\n",
      "Starting with Viking_Sun...\n",
      "Finished with Viking_Sun.\n",
      "Starting with Viking_Orion...\n",
      "Finished with Viking_Orion.\n",
      "Starting with Fred_Olsen_Boudicca...\n",
      "Finished with Fred_Olsen_Boudicca.\n",
      "Starting with Sapphire_Princess...\n",
      "Finished with Sapphire_Princess.\n",
      "Starting with Royal_Caribbean_Voyager_of_the_Seas...\n",
      "Finished with Royal_Caribbean_Voyager_of_the_Seas.\n",
      "Starting with Crystal_Symphony...\n",
      "Finished with Crystal_Symphony.\n",
      "Starting with Royal_Caribbean_Ovation_of_the_Seas...\n",
      "Finished with Royal_Caribbean_Ovation_of_the_Seas.\n",
      "Starting with Columbus...\n",
      "Finished with Columbus.\n",
      "Starting with Norwegian_Jewel...\n",
      "Finished with Norwegian_Jewel.\n",
      "Starting with Celebrity_Eclipse...\n",
      "Finished with Celebrity_Eclipse.\n",
      "Starting with Oceania_Regatta...\n",
      "Finished with Oceania_Regatta.\n",
      "Starting with Windstar_Star_Breeze...\n",
      "Finished with Windstar_Star_Breeze.\n",
      "Starting with Seabourn_Encore...\n",
      "Finished with Seabourn_Encore.\n",
      "Starting with Cunard_Queen_Elizabeth...\n",
      "Finished with Cunard_Queen_Elizabeth.\n",
      "Starting with Celebrity_Solstice...\n",
      "Finished with Celebrity_Solstice.\n",
      "Starting with Oceania_Insignia...\n",
      "Finished with Oceania_Insignia.\n",
      "Starting with Azamara_Journey...\n",
      "Finished with Azamara_Journey.\n",
      "Starting with Sea_Princess...\n",
      "Finished with Sea_Princess.\n",
      "Starting with Silversea_Silver_Muse...\n",
      "Finished with Silversea_Silver_Muse.\n",
      "Starting with Cunard_Queen_Mary_2_QM2...\n",
      "Finished with Cunard_Queen_Mary_2_QM2.\n",
      "Starting with Vasco_da_Gama...\n",
      "Finished with Vasco_da_Gama.\n",
      "Starting with Sun_Princess...\n",
      "Finished with Sun_Princess.\n",
      "Starting with Azamara_Pursuit...\n",
      "Finished with Azamara_Pursuit.\n",
      "Starting with Holland_America_Maasdam...\n",
      "Finished with Holland_America_Maasdam.\n",
      "Starting with Royal_Caribbean_Serenade_of_the_Seas...\n",
      "Finished with Royal_Caribbean_Serenade_of_the_Seas.\n",
      "Starting with Royal_Caribbean_Radiance_of_the_Seas...\n",
      "Finished with Royal_Caribbean_Radiance_of_the_Seas.\n",
      "Starting with Regal_Princess...\n",
      "Finished with Regal_Princess.\n",
      "Starting with MSC_Bellissima...\n",
      "Finished with MSC_Bellissima.\n"
     ]
    }
   ],
   "source": [
    "#Step 3: Scrape Reviews. Each time the program finishes scraping the reviews of a ship, it marks\n",
    "# that url as scraped(True) in the ship_progress dictionary.\n",
    "scraper.reviews_scrape()"
   ]
  },
  {
   "cell_type": "code",
   "execution_count": 6,
   "metadata": {},
   "outputs": [
    {
     "data": {
      "text/plain": [
       "{'/Cruise_Review-d15691569-Reviews-Ponant_Le_Soleal': True,\n",
       " '/Cruise_Review-d15691422-Reviews-Crystal_Endeavor': True,\n",
       " '/Cruise_Review-d15691841-Reviews-Silversea_Silver_Wind': True,\n",
       " '/Cruise_Review-d15691561-Reviews-Ponant_Le_Boreal': True,\n",
       " '/Cruise_Review-d15691566-Reviews-Le_Lyrial_Ponant': True,\n",
       " '/Cruise_Review-d15691498-Reviews-Hanseatic_Inspiration': True,\n",
       " '/Cruise_Review-d15691831-Reviews-Silver_Cloud_Expedition': True,\n",
       " '/Cruise_Review-d15691402-Reviews-Coral_Princess': True,\n",
       " '/Cruise_Review-d15691546-Reviews-Ponant_L_Austral': True,\n",
       " '/Cruise_Review-d15691834-Reviews-Silversea_Silver_Explorer': True,\n",
       " '/Cruise_Review-d15691702-Reviews-Pacific_Princess': True,\n",
       " '/Cruise_Review-d15691565-Reviews-Le_Laperouse': True,\n",
       " '/Cruise_Review-d15691692-Reviews-Holland_America_Oosterdam': True,\n",
       " '/Cruise_Review-d15691585-Reviews-Majestic_Princess': True,\n",
       " '/Cruise_Review-d15691959-Reviews-Viking_Sun': True,\n",
       " '/Cruise_Review-d15691945-Reviews-Viking_Orion': True,\n",
       " '/Cruise_Review-d15691328-Reviews-Fred_Olsen_Boudicca': True,\n",
       " '/Cruise_Review-d15691792-Reviews-Sapphire_Princess': True,\n",
       " '/Cruise_Review-d15691978-Reviews-Royal_Caribbean_Voyager_of_the_Seas': True,\n",
       " '/Cruise_Review-d15691428-Reviews-Crystal_Symphony': True,\n",
       " '/Cruise_Review-d15691696-Reviews-Royal_Caribbean_Ovation_of_the_Seas': True,\n",
       " '/Cruise_Review-d15691397-Reviews-Columbus': True,\n",
       " '/Cruise_Review-d15691678-Reviews-Norwegian_Jewel': True,\n",
       " '/Cruise_Review-d15691371-Reviews-Celebrity_Eclipse': True,\n",
       " '/Cruise_Review-d15691732-Reviews-Oceania_Regatta': True,\n",
       " '/Cruise_Review-d15691848-Reviews-Windstar_Star_Breeze': True,\n",
       " '/Cruise_Review-d15691815-Reviews-Seabourn_Encore': True,\n",
       " '/Cruise_Review-d15691721-Reviews-Cunard_Queen_Elizabeth': True,\n",
       " '/Cruise_Review-d15691381-Reviews-Celebrity_Solstice': True,\n",
       " '/Cruise_Review-d15691514-Reviews-Oceania_Insignia': True,\n",
       " '/Cruise_Review-d15691305-Reviews-Azamara_Journey': True,\n",
       " '/Cruise_Review-d15691813-Reviews-Sea_Princess': True,\n",
       " '/Cruise_Review-d15691837-Reviews-Silversea_Silver_Muse': True,\n",
       " '/Cruise_Review-d15691723-Reviews-Cunard_Queen_Mary_2_QM2': True,\n",
       " '/Cruise_Review-d18852600-Reviews-Vasco_da_Gama': True,\n",
       " '/Cruise_Review-d15691859-Reviews-Sun_Princess': True,\n",
       " '/Cruise_Review-d15691306-Reviews-Azamara_Pursuit': True,\n",
       " '/Cruise_Review-d15691581-Reviews-Holland_America_Maasdam': True,\n",
       " '/Cruise_Review-d15691823-Reviews-Royal_Caribbean_Serenade_of_the_Seas': True,\n",
       " '/Cruise_Review-d15691727-Reviews-Royal_Caribbean_Radiance_of_the_Seas': True,\n",
       " '/Cruise_Review-d15691731-Reviews-Regal_Princess': True,\n",
       " '/Cruise_Review-d15691630-Reviews-MSC_Bellissima': True}"
      ]
     },
     "execution_count": 6,
     "metadata": {},
     "output_type": "execute_result"
    }
   ],
   "source": [
    "# Now that the urls have been scraped, the ship_progress dictionary has been fully updated. \n",
    "scraper.ship_progress"
   ]
  },
  {
   "cell_type": "code",
   "execution_count": 7,
   "metadata": {},
   "outputs": [
    {
     "data": {
      "text/html": [
       "<div>\n",
       "<style scoped>\n",
       "    .dataframe tbody tr th:only-of-type {\n",
       "        vertical-align: middle;\n",
       "    }\n",
       "\n",
       "    .dataframe tbody tr th {\n",
       "        vertical-align: top;\n",
       "    }\n",
       "\n",
       "    .dataframe thead th {\n",
       "        text-align: right;\n",
       "    }\n",
       "</style>\n",
       "<table border=\"1\" class=\"dataframe\">\n",
       "  <thead>\n",
       "    <tr style=\"text-align: right;\">\n",
       "      <th></th>\n",
       "      <th>reviews_ship_link</th>\n",
       "      <th>review_user_contributions</th>\n",
       "      <th>review_user_helpful_votes</th>\n",
       "      <th>review_links</th>\n",
       "      <th>review_user_date</th>\n",
       "      <th>review_user_link</th>\n",
       "      <th>review_ranking</th>\n",
       "      <th>review_title</th>\n",
       "      <th>review_content</th>\n",
       "      <th>review_meta</th>\n",
       "      <th>review_user_hometown</th>\n",
       "    </tr>\n",
       "  </thead>\n",
       "  <tbody>\n",
       "    <tr>\n",
       "      <th>0</th>\n",
       "      <td>/Cruise_Review-d15691569-Reviews-Ponant_Le_Soleal</td>\n",
       "      <td>65</td>\n",
       "      <td>14</td>\n",
       "      <td>/ShowUserReviews-g1-d15691569-r744918796-Le_So...</td>\n",
       "      <td>pbrian2018|Feb 2020</td>\n",
       "      <td>/Profile/pbrian2018</td>\n",
       "      <td>50</td>\n",
       "      <td>Excellent ship with wonderful captain</td>\n",
       "      <td>Our ship was clean and comfortable. Rooms was ...</td>\n",
       "      <td>Sail Date: January 2020|Cabin Type: Balcony|Ty...</td>\n",
       "      <td>Stettler, Canada</td>\n",
       "    </tr>\n",
       "    <tr>\n",
       "      <th>1</th>\n",
       "      <td>/Cruise_Review-d15691569-Reviews-Ponant_Le_Soleal</td>\n",
       "      <td>16</td>\n",
       "      <td>10</td>\n",
       "      <td>/ShowUserReviews-g1-d15691569-r744090222-Le_So...</td>\n",
       "      <td>Craig N|Feb 2020</td>\n",
       "      <td>/Profile/40craign</td>\n",
       "      <td>50</td>\n",
       "      <td>Luxury adventure cruise</td>\n",
       "      <td>Beautiful ship, 5 star treatment, magical dest...</td>\n",
       "      <td>Sail Date: January 2020|Cabin Type: Balcony|Ty...</td>\n",
       "      <td>Melbourne, Australia</td>\n",
       "    </tr>\n",
       "    <tr>\n",
       "      <th>2</th>\n",
       "      <td>/Cruise_Review-d15691569-Reviews-Ponant_Le_Soleal</td>\n",
       "      <td>159</td>\n",
       "      <td>82</td>\n",
       "      <td>/ShowUserReviews-g1-d15691569-r742463729-Le_So...</td>\n",
       "      <td>341billies|Feb 2020</td>\n",
       "      <td>/Profile/341billies</td>\n",
       "      <td>30</td>\n",
       "      <td>Average</td>\n",
       "      <td>Thus was our second Ponant Cruise. Same standa...</td>\n",
       "      <td>Sail Date: October 2019|Cabin Type: Balcony|Ty...</td>\n",
       "      <td>Geelong, Australia</td>\n",
       "    </tr>\n",
       "  </tbody>\n",
       "</table>\n",
       "</div>"
      ],
      "text/plain": [
       "                                   reviews_ship_link  \\\n",
       "0  /Cruise_Review-d15691569-Reviews-Ponant_Le_Soleal   \n",
       "1  /Cruise_Review-d15691569-Reviews-Ponant_Le_Soleal   \n",
       "2  /Cruise_Review-d15691569-Reviews-Ponant_Le_Soleal   \n",
       "\n",
       "  review_user_contributions review_user_helpful_votes  \\\n",
       "0                        65                        14   \n",
       "1                        16                        10   \n",
       "2                       159                        82   \n",
       "\n",
       "                                        review_links     review_user_date  \\\n",
       "0  /ShowUserReviews-g1-d15691569-r744918796-Le_So...  pbrian2018|Feb 2020   \n",
       "1  /ShowUserReviews-g1-d15691569-r744090222-Le_So...     Craig N|Feb 2020   \n",
       "2  /ShowUserReviews-g1-d15691569-r742463729-Le_So...  341billies|Feb 2020   \n",
       "\n",
       "      review_user_link review_ranking                           review_title  \\\n",
       "0  /Profile/pbrian2018             50  Excellent ship with wonderful captain   \n",
       "1    /Profile/40craign             50                Luxury adventure cruise   \n",
       "2  /Profile/341billies             30                                Average   \n",
       "\n",
       "                                      review_content  \\\n",
       "0  Our ship was clean and comfortable. Rooms was ...   \n",
       "1  Beautiful ship, 5 star treatment, magical dest...   \n",
       "2  Thus was our second Ponant Cruise. Same standa...   \n",
       "\n",
       "                                         review_meta  review_user_hometown  \n",
       "0  Sail Date: January 2020|Cabin Type: Balcony|Ty...      Stettler, Canada  \n",
       "1  Sail Date: January 2020|Cabin Type: Balcony|Ty...  Melbourne, Australia  \n",
       "2  Sail Date: October 2019|Cabin Type: Balcony|Ty...    Geelong, Australia  "
      ]
     },
     "execution_count": 7,
     "metadata": {},
     "output_type": "execute_result"
    }
   ],
   "source": [
    "#The reviews are now stored on a DataFrame\n",
    "scraper.reviews.head(3)"
   ]
  },
  {
   "cell_type": "markdown",
   "metadata": {},
   "source": [
    "# Saving and reloading progress and reviews"
   ]
  },
  {
   "cell_type": "code",
   "execution_count": 8,
   "metadata": {},
   "outputs": [],
   "source": [
    "#You can save your progress and reviews using the following method:\n",
    "scraper.save_progress('progress_dictionaries.pkl','reviews.csv')"
   ]
  },
  {
   "cell_type": "code",
   "execution_count": 9,
   "metadata": {},
   "outputs": [],
   "source": [
    "# Once your progress is saved, you can later load it to a new scraper object and continue scraping.\n",
    "scraper2 = TripScraper()\n",
    "scraper2.load_progress('progress_dictionaries.pkl','reviews.csv')"
   ]
  },
  {
   "cell_type": "code",
   "execution_count": 10,
   "metadata": {},
   "outputs": [
    {
     "data": {
      "text/html": [
       "<div>\n",
       "<style scoped>\n",
       "    .dataframe tbody tr th:only-of-type {\n",
       "        vertical-align: middle;\n",
       "    }\n",
       "\n",
       "    .dataframe tbody tr th {\n",
       "        vertical-align: top;\n",
       "    }\n",
       "\n",
       "    .dataframe thead th {\n",
       "        text-align: right;\n",
       "    }\n",
       "</style>\n",
       "<table border=\"1\" class=\"dataframe\">\n",
       "  <thead>\n",
       "    <tr style=\"text-align: right;\">\n",
       "      <th></th>\n",
       "      <th>reviews_ship_link</th>\n",
       "      <th>review_user_contributions</th>\n",
       "      <th>review_user_helpful_votes</th>\n",
       "      <th>review_links</th>\n",
       "      <th>review_user_date</th>\n",
       "      <th>review_user_link</th>\n",
       "      <th>review_ranking</th>\n",
       "      <th>review_title</th>\n",
       "      <th>review_content</th>\n",
       "      <th>review_meta</th>\n",
       "      <th>review_user_hometown</th>\n",
       "    </tr>\n",
       "  </thead>\n",
       "  <tbody>\n",
       "    <tr>\n",
       "      <th>0</th>\n",
       "      <td>/Cruise_Review-d15691569-Reviews-Ponant_Le_Soleal</td>\n",
       "      <td>65</td>\n",
       "      <td>14</td>\n",
       "      <td>/ShowUserReviews-g1-d15691569-r744918796-Le_So...</td>\n",
       "      <td>pbrian2018|Feb 2020</td>\n",
       "      <td>/Profile/pbrian2018</td>\n",
       "      <td>50</td>\n",
       "      <td>Excellent ship with wonderful captain</td>\n",
       "      <td>Our ship was clean and comfortable. Rooms was ...</td>\n",
       "      <td>Sail Date: January 2020|Cabin Type: Balcony|Ty...</td>\n",
       "      <td>Stettler, Canada</td>\n",
       "    </tr>\n",
       "    <tr>\n",
       "      <th>1</th>\n",
       "      <td>/Cruise_Review-d15691569-Reviews-Ponant_Le_Soleal</td>\n",
       "      <td>16</td>\n",
       "      <td>10</td>\n",
       "      <td>/ShowUserReviews-g1-d15691569-r744090222-Le_So...</td>\n",
       "      <td>Craig N|Feb 2020</td>\n",
       "      <td>/Profile/40craign</td>\n",
       "      <td>50</td>\n",
       "      <td>Luxury adventure cruise</td>\n",
       "      <td>Beautiful ship, 5 star treatment, magical dest...</td>\n",
       "      <td>Sail Date: January 2020|Cabin Type: Balcony|Ty...</td>\n",
       "      <td>Melbourne, Australia</td>\n",
       "    </tr>\n",
       "    <tr>\n",
       "      <th>2</th>\n",
       "      <td>/Cruise_Review-d15691569-Reviews-Ponant_Le_Soleal</td>\n",
       "      <td>159</td>\n",
       "      <td>82</td>\n",
       "      <td>/ShowUserReviews-g1-d15691569-r742463729-Le_So...</td>\n",
       "      <td>341billies|Feb 2020</td>\n",
       "      <td>/Profile/341billies</td>\n",
       "      <td>30</td>\n",
       "      <td>Average</td>\n",
       "      <td>Thus was our second Ponant Cruise. Same standa...</td>\n",
       "      <td>Sail Date: October 2019|Cabin Type: Balcony|Ty...</td>\n",
       "      <td>Geelong, Australia</td>\n",
       "    </tr>\n",
       "  </tbody>\n",
       "</table>\n",
       "</div>"
      ],
      "text/plain": [
       "                                   reviews_ship_link  \\\n",
       "0  /Cruise_Review-d15691569-Reviews-Ponant_Le_Soleal   \n",
       "1  /Cruise_Review-d15691569-Reviews-Ponant_Le_Soleal   \n",
       "2  /Cruise_Review-d15691569-Reviews-Ponant_Le_Soleal   \n",
       "\n",
       "  review_user_contributions review_user_helpful_votes  \\\n",
       "0                        65                        14   \n",
       "1                        16                        10   \n",
       "2                       159                        82   \n",
       "\n",
       "                                        review_links     review_user_date  \\\n",
       "0  /ShowUserReviews-g1-d15691569-r744918796-Le_So...  pbrian2018|Feb 2020   \n",
       "1  /ShowUserReviews-g1-d15691569-r744090222-Le_So...     Craig N|Feb 2020   \n",
       "2  /ShowUserReviews-g1-d15691569-r742463729-Le_So...  341billies|Feb 2020   \n",
       "\n",
       "      review_user_link  review_ranking                           review_title  \\\n",
       "0  /Profile/pbrian2018              50  Excellent ship with wonderful captain   \n",
       "1    /Profile/40craign              50                Luxury adventure cruise   \n",
       "2  /Profile/341billies              30                                Average   \n",
       "\n",
       "                                      review_content  \\\n",
       "0  Our ship was clean and comfortable. Rooms was ...   \n",
       "1  Beautiful ship, 5 star treatment, magical dest...   \n",
       "2  Thus was our second Ponant Cruise. Same standa...   \n",
       "\n",
       "                                         review_meta  review_user_hometown  \n",
       "0  Sail Date: January 2020|Cabin Type: Balcony|Ty...      Stettler, Canada  \n",
       "1  Sail Date: January 2020|Cabin Type: Balcony|Ty...  Melbourne, Australia  \n",
       "2  Sail Date: October 2019|Cabin Type: Balcony|Ty...    Geelong, Australia  "
      ]
     },
     "execution_count": 10,
     "metadata": {},
     "output_type": "execute_result"
    }
   ],
   "source": [
    "scraper2.reviews.head(3)"
   ]
  },
  {
   "cell_type": "code",
   "execution_count": null,
   "metadata": {},
   "outputs": [],
   "source": []
  }
 ],
 "metadata": {
  "kernelspec": {
   "display_name": "Python 3",
   "language": "python",
   "name": "python3"
  },
  "language_info": {
   "codemirror_mode": {
    "name": "ipython",
    "version": 3
   },
   "file_extension": ".py",
   "mimetype": "text/x-python",
   "name": "python",
   "nbconvert_exporter": "python",
   "pygments_lexer": "ipython3",
   "version": "3.7.6"
  }
 },
 "nbformat": 4,
 "nbformat_minor": 2
}
