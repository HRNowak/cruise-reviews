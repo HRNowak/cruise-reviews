{
 "cells": [
  {
   "cell_type": "markdown",
   "metadata": {},
   "source": [
    "<h1><center>Selecting Classifier Type</center></h1>"
   ]
  },
  {
   "cell_type": "markdown",
   "metadata": {},
   "source": [
    "![title](images/Screen.png)"
   ]
  },
  {
   "cell_type": "markdown",
   "metadata": {},
   "source": [
    "## Importing Libraries & Defining functions"
   ]
  },
  {
   "cell_type": "code",
   "execution_count": 18,
   "metadata": {},
   "outputs": [],
   "source": [
    "import pandas as pd\n",
    "import numpy as np\n",
    "import seaborn as sns\n",
    "import matplotlib.pyplot as plt\n",
    "import warnings\n",
    "import pickle\n",
    "from datetime import datetime\n",
    "\n",
    "# Preprocessing\n",
    "from sklearn.preprocessing import label_binarize, StandardScaler\n",
    "from sklearn.model_selection import train_test_split\n",
    "from sklearn.feature_extraction.text import TfidfVectorizer\n",
    "\n",
    "#Model Assestment\n",
    "from sklearn.model_selection import cross_val_score, GridSearchCV\n",
    "from sklearn.metrics import confusion_matrix,classification_report,precision_score, recall_score, roc_curve, auc, precision_recall_curve, average_precision_score\n",
    "from sklearn.preprocessing import label_binarize\n",
    "\n",
    "#Models\n",
    "from sklearn import naive_bayes\n",
    "from sklearn.neighbors import KNeighborsClassifier\n",
    "from sklearn.linear_model import LogisticRegressionCV\n",
    "from sklearn.tree import DecisionTreeClassifier\n",
    "from sklearn.ensemble import BaggingClassifier, RandomForestClassifier, GradientBoostingClassifier, AdaBoostClassifier\n",
    "from sklearn.svm import SVC, LinearSVC\n",
    "from sklearn.neural_network import MLPClassifier\n",
    "\n",
    "warnings.filterwarnings('ignore')\n",
    "#Add settings for SNS\n",
    "\n",
    "import sys\n",
    "sys.path.append('modules/')\n",
    "from simp_pickle import load_pickle, save_pickle"
   ]
  },
  {
   "cell_type": "markdown",
   "metadata": {},
   "source": [
    "## Loading Data"
   ]
  },
  {
   "cell_type": "code",
   "execution_count": 19,
   "metadata": {},
   "outputs": [
    {
     "name": "stdout",
     "output_type": "stream",
     "text": [
      "(9596, 30)\n"
     ]
    },
    {
     "data": {
      "text/html": [
       "<div>\n",
       "<style scoped>\n",
       "    .dataframe tbody tr th:only-of-type {\n",
       "        vertical-align: middle;\n",
       "    }\n",
       "\n",
       "    .dataframe tbody tr th {\n",
       "        vertical-align: top;\n",
       "    }\n",
       "\n",
       "    .dataframe thead th {\n",
       "        text-align: right;\n",
       "    }\n",
       "</style>\n",
       "<table border=\"1\" class=\"dataframe\">\n",
       "  <thead>\n",
       "    <tr style=\"text-align: right;\">\n",
       "      <th></th>\n",
       "      <th>ship_link</th>\n",
       "      <th>links</th>\n",
       "      <th>user_date</th>\n",
       "      <th>user_link</th>\n",
       "      <th>user_contributions</th>\n",
       "      <th>user_helpful_votes</th>\n",
       "      <th>stars</th>\n",
       "      <th>title</th>\n",
       "      <th>content</th>\n",
       "      <th>meta</th>\n",
       "      <th>...</th>\n",
       "      <th>word_count</th>\n",
       "      <th>stars_grouped</th>\n",
       "      <th>vader_title_compound</th>\n",
       "      <th>vader_title_neg</th>\n",
       "      <th>vader_title_neu</th>\n",
       "      <th>vader_title_pos</th>\n",
       "      <th>vader_content_compound</th>\n",
       "      <th>vader_content_neg</th>\n",
       "      <th>vader_content_neu</th>\n",
       "      <th>vader_content_pos</th>\n",
       "    </tr>\n",
       "  </thead>\n",
       "  <tbody>\n",
       "    <tr>\n",
       "      <th>0</th>\n",
       "      <td>/Cruise_Review-d15691636-Reviews-MSC_Meraviglia</td>\n",
       "      <td>/ShowUserReviews-g1-d15691636-r743487186-MSC_M...</td>\n",
       "      <td>Tony K|Yesterday</td>\n",
       "      <td>/Profile/L9746OCtonyk</td>\n",
       "      <td>62</td>\n",
       "      <td>5</td>\n",
       "      <td>4</td>\n",
       "      <td>MSC Meraviglia Yacht Club</td>\n",
       "      <td>We sailed on the MSC Meraviglia for the first ...</td>\n",
       "      <td>Sail Date: January 2020|Cabin Type: Balcony|Ty...</td>\n",
       "      <td>...</td>\n",
       "      <td>820</td>\n",
       "      <td>Good Review</td>\n",
       "      <td>0.000</td>\n",
       "      <td>0.0</td>\n",
       "      <td>1.000</td>\n",
       "      <td>0.000</td>\n",
       "      <td>0.9979</td>\n",
       "      <td>0.066</td>\n",
       "      <td>0.780</td>\n",
       "      <td>0.154</td>\n",
       "    </tr>\n",
       "    <tr>\n",
       "      <th>1</th>\n",
       "      <td>/Cruise_Review-d15691636-Reviews-MSC_Meraviglia</td>\n",
       "      <td>/ShowUserReviews-g1-d15691636-r743427041-MSC_M...</td>\n",
       "      <td>ann b|Yesterday</td>\n",
       "      <td>/Profile/bhayden</td>\n",
       "      <td>10</td>\n",
       "      <td>11</td>\n",
       "      <td>1</td>\n",
       "      <td>never again</td>\n",
       "      <td>This ship is a huge nightmare.  I am in decent...</td>\n",
       "      <td>Sail Date: February 2020|Cabin Type: Balcony|T...</td>\n",
       "      <td>...</td>\n",
       "      <td>159</td>\n",
       "      <td>Bad Review</td>\n",
       "      <td>0.000</td>\n",
       "      <td>0.0</td>\n",
       "      <td>1.000</td>\n",
       "      <td>0.000</td>\n",
       "      <td>0.8902</td>\n",
       "      <td>0.108</td>\n",
       "      <td>0.728</td>\n",
       "      <td>0.165</td>\n",
       "    </tr>\n",
       "    <tr>\n",
       "      <th>2</th>\n",
       "      <td>/Cruise_Review-d15691636-Reviews-MSC_Meraviglia</td>\n",
       "      <td>/ShowUserReviews-g1-d15691636-r743305803-MSC_M...</td>\n",
       "      <td>Lsabina11|5 Feb</td>\n",
       "      <td>/Profile/Lsabina11</td>\n",
       "      <td>289</td>\n",
       "      <td>57</td>\n",
       "      <td>5</td>\n",
       "      <td>Awesome experience at great value</td>\n",
       "      <td>Four of us just came back from a MSC Meravigli...</td>\n",
       "      <td>Sail Date: February 2020|Cabin Type: Balcony|T...</td>\n",
       "      <td>...</td>\n",
       "      <td>219</td>\n",
       "      <td>Good Review</td>\n",
       "      <td>0.891</td>\n",
       "      <td>0.0</td>\n",
       "      <td>0.159</td>\n",
       "      <td>0.841</td>\n",
       "      <td>0.9969</td>\n",
       "      <td>0.053</td>\n",
       "      <td>0.652</td>\n",
       "      <td>0.295</td>\n",
       "    </tr>\n",
       "  </tbody>\n",
       "</table>\n",
       "<p>3 rows × 30 columns</p>\n",
       "</div>"
      ],
      "text/plain": [
       "                                         ship_link  \\\n",
       "0  /Cruise_Review-d15691636-Reviews-MSC_Meraviglia   \n",
       "1  /Cruise_Review-d15691636-Reviews-MSC_Meraviglia   \n",
       "2  /Cruise_Review-d15691636-Reviews-MSC_Meraviglia   \n",
       "\n",
       "                                               links         user_date  \\\n",
       "0  /ShowUserReviews-g1-d15691636-r743487186-MSC_M...  Tony K|Yesterday   \n",
       "1  /ShowUserReviews-g1-d15691636-r743427041-MSC_M...   ann b|Yesterday   \n",
       "2  /ShowUserReviews-g1-d15691636-r743305803-MSC_M...   Lsabina11|5 Feb   \n",
       "\n",
       "               user_link  user_contributions  user_helpful_votes  stars  \\\n",
       "0  /Profile/L9746OCtonyk                  62                   5      4   \n",
       "1       /Profile/bhayden                  10                  11      1   \n",
       "2     /Profile/Lsabina11                 289                  57      5   \n",
       "\n",
       "                               title  \\\n",
       "0          MSC Meraviglia Yacht Club   \n",
       "1                        never again   \n",
       "2  Awesome experience at great value   \n",
       "\n",
       "                                             content  \\\n",
       "0  We sailed on the MSC Meraviglia for the first ...   \n",
       "1  This ship is a huge nightmare.  I am in decent...   \n",
       "2  Four of us just came back from a MSC Meravigli...   \n",
       "\n",
       "                                                meta  ... word_count  \\\n",
       "0  Sail Date: January 2020|Cabin Type: Balcony|Ty...  ...        820   \n",
       "1  Sail Date: February 2020|Cabin Type: Balcony|T...  ...        159   \n",
       "2  Sail Date: February 2020|Cabin Type: Balcony|T...  ...        219   \n",
       "\n",
       "  stars_grouped vader_title_compound  vader_title_neg vader_title_neu  \\\n",
       "0   Good Review                0.000              0.0           1.000   \n",
       "1    Bad Review                0.000              0.0           1.000   \n",
       "2   Good Review                0.891              0.0           0.159   \n",
       "\n",
       "  vader_title_pos vader_content_compound vader_content_neg vader_content_neu  \\\n",
       "0           0.000                 0.9979             0.066             0.780   \n",
       "1           0.000                 0.8902             0.108             0.728   \n",
       "2           0.841                 0.9969             0.053             0.652   \n",
       "\n",
       "  vader_content_pos  \n",
       "0             0.154  \n",
       "1             0.165  \n",
       "2             0.295  \n",
       "\n",
       "[3 rows x 30 columns]"
      ]
     },
     "execution_count": 19,
     "metadata": {},
     "output_type": "execute_result"
    }
   ],
   "source": [
    "# Reviews Content\n",
    "reviews = pd.read_csv('data/reviews_step_3.csv', index_col=0)\n",
    "print(reviews.shape)\n",
    "reviews.head(3)"
   ]
  },
  {
   "cell_type": "markdown",
   "metadata": {},
   "source": [
    "## Preparing Features and Target"
   ]
  },
  {
   "cell_type": "code",
   "execution_count": 20,
   "metadata": {},
   "outputs": [
    {
     "name": "stdout",
     "output_type": "stream",
     "text": [
      "Size of X: (9596, 5)\n",
      "Size of C: (9596,)\n",
      "Size of y: (9596,)\n"
     ]
    }
   ],
   "source": [
    "# Defining predictors\n",
    "X = reviews[['vader_content_compound', \n",
    "                        'vader_content_neg',\n",
    "                        'vader_content_neu', \n",
    "                        'vader_content_pos',\n",
    "                        'word_count']]\n",
    "\n",
    "#Separating content for train test split and subsequent tdif vectorisation\n",
    "C = reviews.content\n",
    "\n",
    "#Defining target\n",
    "y = reviews.stars_grouped\n",
    "\n",
    "print('Size of X: {}'.format(X.shape))\n",
    "print('Size of C: {}'.format(C.shape))\n",
    "print('Size of y: {}'.format(y.shape))"
   ]
  },
  {
   "cell_type": "markdown",
   "metadata": {},
   "source": [
    "## Train and Test Split"
   ]
  },
  {
   "cell_type": "code",
   "execution_count": 21,
   "metadata": {},
   "outputs": [],
   "source": [
    "Xtrain, Xtest,Ctrain,Ctest, ytrain, ytest = train_test_split(X,C,y,test_size = 0.3, stratify = y, random_state = 14)"
   ]
  },
  {
   "cell_type": "code",
   "execution_count": 22,
   "metadata": {},
   "outputs": [
    {
     "name": "stdout",
     "output_type": "stream",
     "text": [
      "6717 2879 6717 2879 6717 2879\n"
     ]
    }
   ],
   "source": [
    "print(len(Xtrain),len(Xtest),len(Ctrain),len(Ctest),len(ytrain),len(ytest))"
   ]
  },
  {
   "cell_type": "markdown",
   "metadata": {},
   "source": [
    "## TFID Vectorising"
   ]
  },
  {
   "cell_type": "code",
   "execution_count": 23,
   "metadata": {},
   "outputs": [],
   "source": [
    "#Instantiating Vectoriser\n",
    "content_tvec = TfidfVectorizer(strip_accents='unicode', ngram_range=(1,1),stop_words = 'english',max_df=0.4, min_df=0.05)\n",
    "\n",
    "#Fitting tfid based on Ctrain Data and transforming both train and test data.\n",
    "train_matrix = content_tvec.fit_transform(Ctrain)\n",
    "test_matrix = content_tvec.transform(Ctest)\n",
    "\n",
    "#Saving Train TFID into DataFrame\n",
    "train_tfid_df = pd.DataFrame(train_matrix.toarray(),\n",
    "                            columns= list(map(lambda x : 'tfid - '+ x, list(content_tvec.get_feature_names()))),\n",
    "                            index = Ctrain.index)\n",
    "\n",
    "#Saving Test TFID into DataFrame\n",
    "test_tfid_df = pd.DataFrame(test_matrix.toarray(),\n",
    "                            columns=list(map(lambda x : 'tfid - '+ x, list(content_tvec.get_feature_names()))), \n",
    "                            index = Ctest.index)"
   ]
  },
  {
   "cell_type": "code",
   "execution_count": 24,
   "metadata": {},
   "outputs": [
    {
     "name": "stdout",
     "output_type": "stream",
     "text": [
      "(6717, 310) (2879, 310)\n"
     ]
    }
   ],
   "source": [
    "#Joining data with tfid matrices\n",
    "Xtrain = pd.concat([Xtrain,train_tfid_df], axis=1)\n",
    "Xtest = pd.concat([Xtest,test_tfid_df], axis=1)\n",
    "print(Xtrain.shape,Xtest.shape)"
   ]
  },
  {
   "cell_type": "markdown",
   "metadata": {},
   "source": [
    "## Standardising"
   ]
  },
  {
   "cell_type": "code",
   "execution_count": 25,
   "metadata": {},
   "outputs": [],
   "source": [
    "# Keeping mean to work with Sparse Matrix\n",
    "scaler = StandardScaler(with_mean = False)\n",
    "Xtrain_std = pd.DataFrame(scaler.fit_transform(Xtrain),columns = Xtrain.columns, index = Xtrain.index)\n",
    "Xtest_std = pd.DataFrame(scaler.transform(Xtest),columns = Xtest.columns, index = Xtest.index)"
   ]
  },
  {
   "cell_type": "code",
   "execution_count": 26,
   "metadata": {},
   "outputs": [],
   "source": [
    "from scipy import sparse\n",
    "X_std = pd.DataFrame(scaler.fit_transform(X),columns = X.columns, index = X.index)\n",
    "\n",
    "Xtrain_std_spa = sparse.csr_matrix(Xtrain_std.values)\n",
    "Xtest_std_spa = sparse.csr_matrix(Xtest_std.values)"
   ]
  },
  {
   "cell_type": "markdown",
   "metadata": {},
   "source": [
    "## Assesing Models"
   ]
  },
  {
   "cell_type": "markdown",
   "metadata": {},
   "source": [
    "### Estimating Baseline"
   ]
  },
  {
   "cell_type": "code",
   "execution_count": 27,
   "metadata": {},
   "outputs": [
    {
     "data": {
      "text/plain": [
       "0.6779812416257258"
      ]
     },
     "execution_count": 27,
     "metadata": {},
     "output_type": "execute_result"
    }
   ],
   "source": [
    "##Estimating Baseline\n",
    "baseline = ytrain.value_counts(normalize = True)[0]\n",
    "baseline"
   ]
  },
  {
   "cell_type": "markdown",
   "metadata": {},
   "source": [
    "### Model Scorer"
   ]
  },
  {
   "cell_type": "code",
   "execution_count": 28,
   "metadata": {},
   "outputs": [],
   "source": [
    "random_state = 14"
   ]
  },
  {
   "cell_type": "code",
   "execution_count": 29,
   "metadata": {},
   "outputs": [],
   "source": [
    "model_results = {}\n",
    "\n",
    "def grid(model_name,model_type,param_dict,Xtr,ytr,Xte,yte,scoring='roc_auc'):\n",
    "    \n",
    "    start = datetime.now()\n",
    "    \n",
    "    #Fitting grid\n",
    "    grid = GridSearchCV(model_type,param_dict,n_jobs = -1,scoring=scoring,verbose =2,cv = 5).fit(Xtr,ytr)\n",
    "    grid_time = datetime.now()\n",
    "    print('Time\\nGrid fitting took {}'.format(grid_time - start))\n",
    "    \n",
    "    #Extracting best model and predictions\n",
    "    model = grid.best_estimator_\n",
    "    yte_hat = model.predict(Xte)\n",
    "    \n",
    "    # binarising for roc_auc\n",
    "    yte_bin = label_binarize(yte, classes=['Good Review','Bad Review'])\n",
    "    yte_hat_bin = label_binarize(yte_hat, classes=['Good Review','Bad Review'])\n",
    "    \n",
    "    # cross validating for accuracy\n",
    "    scores = cross_val_score(model,Xtr,ytr,cv = 5,scoring = 'accuracy')\n",
    "    cv_time = datetime.now()\n",
    "    print('CV took {}'.format(cv_time - grid_time))\n",
    "\n",
    "    # additional calculations\n",
    "    fpr, tpr, threshold = roc_curve(yte_bin, yte_hat_bin,pos_label = 1)\n",
    "    roc_auc = auc(fpr, tpr)\n",
    "    \n",
    "    # storing results  \n",
    "    model_results[model_name] = {\n",
    "        'model': model,\n",
    "        'accuracy train' : model.score(Xtr,ytr),\n",
    "        'accuracy test' : model.score(Xte,yte),\n",
    "        'accuracy cv' : np.mean(scores),\n",
    "        'confusion' : confusion_matrix(yte,yte_hat,model.classes_),\n",
    "        'report': classification_report(yte,yte_hat, labels = model.classes_),\n",
    "        'precision': precision_score(yte,yte_hat, labels = model.classes_,pos_label ='Bad Review'),\n",
    "        'recall': recall_score(yte,yte_hat, labels = model.classes_,pos_label ='Bad Review'),\n",
    "         'AUC': roc_auc,\n",
    "         'AUC CV':grid.best_score_\n",
    "    }    \n",
    "\n",
    "    #printing results\n",
    "    print('\\nModel Scores')\n",
    "    print('Accuracy on train data: {}'.format(model_results[model_name]['accuracy train']))\n",
    "    print('Accuracy on test data: {}'.format(model_results[model_name]['accuracy test']))\n",
    "    print('Accuracy on CV: {}'.format(model_results[model_name]['accuracy cv']))\n",
    "    print('Baseline: {}\\n'.format(baseline))\n",
    "    \n",
    "    print('AUC CV: {}'.format(model_results[model_name]['AUC CV'])) \n",
    "    print('\\nConfusion Matrix')\n",
    "    print(model_results[model_name]['confusion'])    \n",
    "    print('\\nClassification Report')\n",
    "    print(model_results[model_name]['report'])\n",
    "    \n",
    "    print('Best Estimator Parameters'.format(model_name))\n",
    "    print(model.get_params())\n",
    "    finish = datetime.now()\n",
    "    return grid"
   ]
  },
  {
   "cell_type": "markdown",
   "metadata": {},
   "source": [
    "## KNN"
   ]
  },
  {
   "cell_type": "code",
   "execution_count": 13,
   "metadata": {},
   "outputs": [
    {
     "name": "stdout",
     "output_type": "stream",
     "text": [
      "Fitting 5 folds for each of 18 candidates, totalling 90 fits\n"
     ]
    },
    {
     "name": "stderr",
     "output_type": "stream",
     "text": [
      "[Parallel(n_jobs=-1)]: Using backend LokyBackend with 8 concurrent workers.\n",
      "[Parallel(n_jobs=-1)]: Done  25 tasks      | elapsed:   19.0s\n",
      "[Parallel(n_jobs=-1)]: Done  90 out of  90 | elapsed:  1.2min finished\n"
     ]
    },
    {
     "name": "stdout",
     "output_type": "stream",
     "text": [
      "Time\n",
      "Grid fitting took 0:01:10.907390\n",
      "CV took 0:00:03.027355\n",
      "\n",
      "Model Scores\n",
      "Accuracy on train data: 1.0\n",
      "Accuracy on test data: 0.8068773879819382\n",
      "Accuracy on CV: 0.8037820238548361\n",
      "Baseline: 0.6779812416257258\n",
      "\n",
      "AUC CV: 0.8675222163413517\n",
      "\n",
      "Confusion Matrix\n",
      "[[ 498  429]\n",
      " [ 127 1825]]\n",
      "\n",
      "Classification Report\n",
      "              precision    recall  f1-score   support\n",
      "\n",
      "  Bad Review       0.80      0.54      0.64       927\n",
      " Good Review       0.81      0.93      0.87      1952\n",
      "\n",
      "   micro avg       0.81      0.81      0.81      2879\n",
      "   macro avg       0.80      0.74      0.75      2879\n",
      "weighted avg       0.81      0.81      0.80      2879\n",
      "\n",
      "Best Estimator Parameters\n",
      "{'algorithm': 'auto', 'leaf_size': 30, 'metric': 'cosine', 'metric_params': None, 'n_jobs': None, 'n_neighbors': 30, 'p': 2, 'weights': 'distance'}\n"
     ]
    }
   ],
   "source": [
    "kneigh_dict = {\n",
    "    'n_neighbors':[10,20,30],\n",
    "    'weights':['uniform','distance'],\n",
    "    'metric': ['euclidean','manhattan','cosine']  \n",
    "}\n",
    "\n",
    "kneigh_grid = grid('Combined - KNeighborsClassifier',KNeighborsClassifier(),kneigh_dict,\n",
    "                   Xtrain_std_spa,ytrain,Xtest_std_spa,ytest)\n"
   ]
  },
  {
   "cell_type": "markdown",
   "metadata": {},
   "source": [
    "## Logistic Regression"
   ]
  },
  {
   "cell_type": "code",
   "execution_count": 34,
   "metadata": {},
   "outputs": [
    {
     "name": "stdout",
     "output_type": "stream",
     "text": [
      "Fitting 5 folds for each of 2 candidates, totalling 10 fits\n"
     ]
    },
    {
     "name": "stderr",
     "output_type": "stream",
     "text": [
      "[Parallel(n_jobs=-1)]: Using backend LokyBackend with 8 concurrent workers.\n",
      "[Parallel(n_jobs=-1)]: Done   7 out of  10 | elapsed:    4.9s remaining:    2.1s\n",
      "[Parallel(n_jobs=-1)]: Done  10 out of  10 | elapsed:    5.1s finished\n"
     ]
    },
    {
     "name": "stdout",
     "output_type": "stream",
     "text": [
      "Time\n",
      "Grid fitting took 0:00:07.573681\n",
      "CV took 0:00:06.896276\n",
      "\n",
      "Model Scores\n",
      "Accuracy on train data: 0.8737531636147089\n",
      "Accuracy on test data: 0.8596734977422716\n",
      "Accuracy on CV: 0.8579706414013095\n",
      "Baseline: 0.6779812416257258\n",
      "\n",
      "AUC CV: 0.9209498590582691\n",
      "\n",
      "Confusion Matrix\n",
      "[[ 669  258]\n",
      " [ 146 1806]]\n",
      "\n",
      "Classification Report\n",
      "              precision    recall  f1-score   support\n",
      "\n",
      "  Bad Review       0.82      0.72      0.77       927\n",
      " Good Review       0.88      0.93      0.90      1952\n",
      "\n",
      "   micro avg       0.86      0.86      0.86      2879\n",
      "   macro avg       0.85      0.82      0.83      2879\n",
      "weighted avg       0.86      0.86      0.86      2879\n",
      "\n",
      "Best Estimator Parameters\n",
      "{'Cs': 10, 'class_weight': None, 'cv': 'warn', 'dual': False, 'fit_intercept': True, 'intercept_scaling': 1.0, 'max_iter': 100, 'multi_class': 'warn', 'n_jobs': None, 'penalty': 'l1', 'random_state': 14, 'refit': True, 'scoring': None, 'solver': 'liblinear', 'tol': 0.0001, 'verbose': 0}\n"
     ]
    }
   ],
   "source": [
    "#logistic regression parameter dictionaty\n",
    "log_dict = {\n",
    "    'Cs':[10],\n",
    "    'penalty':['l1','l2'],\n",
    "    'solver': ['liblinear']}\n",
    "\n",
    "#logistic regression parameter dictionaty\n",
    "log_grid = grid(\n",
    "    'Combined - LogisticRegression',LogisticRegressionCV(random_state = random_state),log_dict, \n",
    "    Xtrain_std_spa,ytrain,\n",
    "    Xtest_std_spa,ytest,\n",
    "    scoring = 'roc_auc')"
   ]
  },
  {
   "cell_type": "markdown",
   "metadata": {},
   "source": [
    "## Decision Trees"
   ]
  },
  {
   "cell_type": "code",
   "execution_count": 15,
   "metadata": {},
   "outputs": [
    {
     "name": "stdout",
     "output_type": "stream",
     "text": [
      "Fitting 5 folds for each of 16 candidates, totalling 80 fits\n"
     ]
    },
    {
     "name": "stderr",
     "output_type": "stream",
     "text": [
      "[Parallel(n_jobs=-1)]: Using backend LokyBackend with 8 concurrent workers.\n",
      "[Parallel(n_jobs=-1)]: Done  34 tasks      | elapsed:    0.9s\n",
      "[Parallel(n_jobs=-1)]: Done  80 out of  80 | elapsed:    1.8s finished\n"
     ]
    },
    {
     "name": "stdout",
     "output_type": "stream",
     "text": [
      "Time\n",
      "Grid fitting took 0:00:01.991070\n",
      "CV took 0:00:00.662100\n",
      "\n",
      "Model Scores\n",
      "Accuracy on train data: 0.8262617239839214\n",
      "Accuracy on test data: 0.8197290725946509\n",
      "Accuracy on CV: 0.8220973474233777\n",
      "Baseline: 0.6779812416257258\n",
      "\n",
      "AUC CV: 0.8811099976535962\n",
      "\n",
      "Confusion Matrix\n",
      "[[ 667  260]\n",
      " [ 259 1693]]\n",
      "\n",
      "Classification Report\n",
      "              precision    recall  f1-score   support\n",
      "\n",
      "  Bad Review       0.72      0.72      0.72       927\n",
      " Good Review       0.87      0.87      0.87      1952\n",
      "\n",
      "   micro avg       0.82      0.82      0.82      2879\n",
      "   macro avg       0.79      0.79      0.79      2879\n",
      "weighted avg       0.82      0.82      0.82      2879\n",
      "\n",
      "Best Estimator Parameters\n",
      "{'class_weight': None, 'criterion': 'entropy', 'max_depth': 4, 'max_features': None, 'max_leaf_nodes': None, 'min_impurity_decrease': 0.0, 'min_impurity_split': None, 'min_samples_leaf': 1, 'min_samples_split': 2, 'min_weight_fraction_leaf': 0.0, 'presort': False, 'random_state': 14, 'splitter': 'best'}\n"
     ]
    }
   ],
   "source": [
    "### Decision Tree Grid Dictionary\n",
    "dtree_dict = {\n",
    "    'max_depth':[2,3,4,6],\n",
    "    'criterion':['gini','entropy'],\n",
    "    'splitter': ['best','random']}\n",
    "\n",
    "#Decision Tree regression parameter dictionaty\n",
    "dtree_grid = grid(\n",
    "    'Combined - DecisionTreeClassifier',DecisionTreeClassifier(random_state = random_state),dtree_dict, \n",
    "    Xtrain_std,ytrain,Xtest_std,ytest,scoring = 'roc_auc')"
   ]
  },
  {
   "cell_type": "markdown",
   "metadata": {},
   "source": [
    "## Naive Bayes"
   ]
  },
  {
   "cell_type": "code",
   "execution_count": 16,
   "metadata": {},
   "outputs": [
    {
     "name": "stdout",
     "output_type": "stream",
     "text": [
      "Fitting 5 folds for each of 22 candidates, totalling 110 fits\n"
     ]
    },
    {
     "name": "stderr",
     "output_type": "stream",
     "text": [
      "[Parallel(n_jobs=-1)]: Using backend LokyBackend with 8 concurrent workers.\n",
      "[Parallel(n_jobs=-1)]: Done  25 tasks      | elapsed:    1.0s\n",
      "[Parallel(n_jobs=-1)]: Done 110 out of 110 | elapsed:    3.8s finished\n"
     ]
    },
    {
     "name": "stdout",
     "output_type": "stream",
     "text": [
      "Time\n",
      "Grid fitting took 0:00:03.834292\n",
      "CV took 0:00:00.310796\n",
      "\n",
      "Model Scores\n",
      "Accuracy on train data: 0.8024415661753759\n",
      "Accuracy on test data: 0.8044459881903439\n",
      "Accuracy on CV: 0.7903862859779162\n",
      "Baseline: 0.6779812416257258\n",
      "\n",
      "AUC CV: 0.8727050352000589\n",
      "\n",
      "Confusion Matrix\n",
      "[[ 755  172]\n",
      " [ 391 1561]]\n",
      "\n",
      "Classification Report\n",
      "              precision    recall  f1-score   support\n",
      "\n",
      "  Bad Review       0.66      0.81      0.73       927\n",
      " Good Review       0.90      0.80      0.85      1952\n",
      "\n",
      "   micro avg       0.80      0.80      0.80      2879\n",
      "   macro avg       0.78      0.81      0.79      2879\n",
      "weighted avg       0.82      0.80      0.81      2879\n",
      "\n",
      "Best Estimator Parameters\n",
      "{'priors': None, 'var_smoothing': 0.1}\n"
     ]
    }
   ],
   "source": [
    "#Decision Tree regression parameter dictionaty\n",
    "bayes_g_dict = {\n",
    "    'var_smoothing':np.logspace(-20,-1,22)}\n",
    "\n",
    "#Decision Tree regression parameter dictionaty\n",
    "bayes_g_grid = grid(\n",
    "    'Combined - NaiveBayes',naive_bayes.GaussianNB(),bayes_g_dict, \n",
    "    Xtrain_std,ytrain,\n",
    "    Xtest_std,ytest,\n",
    "    scoring = 'roc_auc')"
   ]
  },
  {
   "cell_type": "markdown",
   "metadata": {},
   "source": [
    "## Bagging"
   ]
  },
  {
   "cell_type": "code",
   "execution_count": 17,
   "metadata": {},
   "outputs": [
    {
     "name": "stdout",
     "output_type": "stream",
     "text": [
      "Fitting 5 folds for each of 12 candidates, totalling 60 fits\n"
     ]
    },
    {
     "name": "stderr",
     "output_type": "stream",
     "text": [
      "[Parallel(n_jobs=-1)]: Using backend LokyBackend with 8 concurrent workers.\n",
      "[Parallel(n_jobs=-1)]: Done  25 tasks      | elapsed:  2.5min\n",
      "[Parallel(n_jobs=-1)]: Done  60 out of  60 | elapsed:  6.2min finished\n"
     ]
    },
    {
     "name": "stdout",
     "output_type": "stream",
     "text": [
      "Time\n",
      "Grid fitting took 0:07:47.465514\n",
      "CV took 0:05:32.455269\n",
      "\n",
      "Model Scores\n",
      "Accuracy on train data: 0.9955337204108977\n",
      "Accuracy on test data: 0.8423063563737408\n",
      "Accuracy on CV: 0.8439798865413849\n",
      "Baseline: 0.6779812416257258\n",
      "\n",
      "AUC CV: 0.9019770712458751\n",
      "\n",
      "Confusion Matrix\n",
      "[[ 646  281]\n",
      " [ 173 1779]]\n",
      "\n",
      "Classification Report\n",
      "              precision    recall  f1-score   support\n",
      "\n",
      "  Bad Review       0.79      0.70      0.74       927\n",
      " Good Review       0.86      0.91      0.89      1952\n",
      "\n",
      "   micro avg       0.84      0.84      0.84      2879\n",
      "   macro avg       0.83      0.80      0.81      2879\n",
      "weighted avg       0.84      0.84      0.84      2879\n",
      "\n",
      "Best Estimator Parameters\n",
      "{'base_estimator__class_weight': None, 'base_estimator__criterion': 'gini', 'base_estimator__max_depth': 30, 'base_estimator__max_features': None, 'base_estimator__max_leaf_nodes': None, 'base_estimator__min_impurity_decrease': 0.0, 'base_estimator__min_impurity_split': None, 'base_estimator__min_samples_leaf': 1, 'base_estimator__min_samples_split': 2, 'base_estimator__min_weight_fraction_leaf': 0.0, 'base_estimator__presort': False, 'base_estimator__random_state': None, 'base_estimator__splitter': 'best', 'base_estimator': DecisionTreeClassifier(class_weight=None, criterion='gini', max_depth=30,\n",
      "            max_features=None, max_leaf_nodes=None,\n",
      "            min_impurity_decrease=0.0, min_impurity_split=None,\n",
      "            min_samples_leaf=1, min_samples_split=2,\n",
      "            min_weight_fraction_leaf=0.0, presort=False, random_state=None,\n",
      "            splitter='best'), 'bootstrap': True, 'bootstrap_features': False, 'max_features': 1.0, 'max_samples': 0.8, 'n_estimators': 220, 'n_jobs': None, 'oob_score': False, 'random_state': 14, 'verbose': 0, 'warm_start': False}\n"
     ]
    }
   ],
   "source": [
    "bag_dict = {\n",
    "    'base_estimator':[DecisionTreeClassifier(max_depth=4),\n",
    "                      DecisionTreeClassifier(max_depth=30),\n",
    "                      DecisionTreeClassifier(max_depth=50)],\n",
    "    'n_estimators' : [200,220],\n",
    "    'max_samples':[0.8,1]}\n",
    "\n",
    "bag_grid = grid('Combined - BaggingClassifier',BaggingClassifier(random_state=random_state),bag_dict, \n",
    "                Xtrain_std_spa,ytrain,\n",
    "                Xtest_std_spa,ytest,\n",
    "                scoring = 'roc_auc')"
   ]
  },
  {
   "cell_type": "markdown",
   "metadata": {},
   "source": [
    "## Random Forest"
   ]
  },
  {
   "cell_type": "code",
   "execution_count": 18,
   "metadata": {},
   "outputs": [
    {
     "name": "stdout",
     "output_type": "stream",
     "text": [
      "Fitting 5 folds for each of 50 candidates, totalling 250 fits\n"
     ]
    },
    {
     "name": "stderr",
     "output_type": "stream",
     "text": [
      "[Parallel(n_jobs=-1)]: Using backend LokyBackend with 8 concurrent workers.\n",
      "[Parallel(n_jobs=-1)]: Done  25 tasks      | elapsed:    2.3s\n",
      "[Parallel(n_jobs=-1)]: Done 146 tasks      | elapsed:    5.6s\n",
      "[Parallel(n_jobs=-1)]: Done 250 out of 250 | elapsed:    9.1s finished\n"
     ]
    },
    {
     "name": "stdout",
     "output_type": "stream",
     "text": [
      "Time\n",
      "Grid fitting took 0:00:09.224775\n",
      "CV took 0:00:00.417606\n",
      "\n",
      "Model Scores\n",
      "Accuracy on train data: 0.8441268423403305\n",
      "Accuracy on test data: 0.8207711010767628\n",
      "Accuracy on CV: 0.8265624087643697\n",
      "Baseline: 0.6779812416257258\n",
      "\n",
      "AUC CV: 0.8969826718424458\n",
      "\n",
      "Confusion Matrix\n",
      "[[ 525  402]\n",
      " [ 114 1838]]\n",
      "\n",
      "Classification Report\n",
      "              precision    recall  f1-score   support\n",
      "\n",
      "  Bad Review       0.82      0.57      0.67       927\n",
      " Good Review       0.82      0.94      0.88      1952\n",
      "\n",
      "   micro avg       0.82      0.82      0.82      2879\n",
      "   macro avg       0.82      0.75      0.77      2879\n",
      "weighted avg       0.82      0.82      0.81      2879\n",
      "\n",
      "Best Estimator Parameters\n",
      "{'bootstrap': True, 'class_weight': None, 'criterion': 'gini', 'max_depth': 10, 'max_features': 'auto', 'max_leaf_nodes': None, 'min_impurity_decrease': 0.001, 'min_impurity_split': None, 'min_samples_leaf': 1, 'min_samples_split': 2, 'min_weight_fraction_leaf': 0.0, 'n_estimators': 10, 'n_jobs': None, 'oob_score': False, 'random_state': 14, 'verbose': 0, 'warm_start': False}\n"
     ]
    }
   ],
   "source": [
    "rforest_dict = {\n",
    "    'min_impurity_decrease':[0.0,0.001,0.005,0.01,0.05],\n",
    "    'criterion': ['gini','entropy'],\n",
    "    'max_depth': [10,30,50,100,120]}\n",
    "\n",
    "rforest_grid = grid('Combined - RandomForest',RandomForestClassifier(random_state=random_state),rforest_dict,\n",
    "                    Xtrain_std_spa,ytrain, Xtest_std_spa, ytest)"
   ]
  },
  {
   "cell_type": "markdown",
   "metadata": {},
   "source": [
    "## Ada Boost"
   ]
  },
  {
   "cell_type": "code",
   "execution_count": 19,
   "metadata": {},
   "outputs": [
    {
     "name": "stdout",
     "output_type": "stream",
     "text": [
      "Fitting 5 folds for each of 18 candidates, totalling 90 fits\n"
     ]
    },
    {
     "name": "stderr",
     "output_type": "stream",
     "text": [
      "[Parallel(n_jobs=-1)]: Using backend LokyBackend with 8 concurrent workers.\n",
      "[Parallel(n_jobs=-1)]: Done  25 tasks      | elapsed:   55.7s\n",
      "[Parallel(n_jobs=-1)]: Done  90 out of  90 | elapsed:  7.1min finished\n"
     ]
    },
    {
     "name": "stdout",
     "output_type": "stream",
     "text": [
      "Time\n",
      "Grid fitting took 0:07:57.402057\n",
      "CV took 0:03:29.358336\n",
      "\n",
      "Model Scores\n",
      "Accuracy on train data: 1.0\n",
      "Accuracy on test data: 0.8370962139631817\n",
      "Accuracy on CV: 0.8383201354925566\n",
      "Baseline: 0.6779812416257258\n",
      "\n",
      "AUC CV: 0.9023733649045645\n",
      "\n",
      "Confusion Matrix\n",
      "[[ 603  324]\n",
      " [ 145 1807]]\n",
      "\n",
      "Classification Report\n",
      "              precision    recall  f1-score   support\n",
      "\n",
      "  Bad Review       0.81      0.65      0.72       927\n",
      " Good Review       0.85      0.93      0.89      1952\n",
      "\n",
      "   micro avg       0.84      0.84      0.84      2879\n",
      "   macro avg       0.83      0.79      0.80      2879\n",
      "weighted avg       0.83      0.84      0.83      2879\n",
      "\n",
      "Best Estimator Parameters\n",
      "{'algorithm': 'SAMME.R', 'base_estimator__class_weight': None, 'base_estimator__criterion': 'gini', 'base_estimator__max_depth': 20, 'base_estimator__max_features': None, 'base_estimator__max_leaf_nodes': None, 'base_estimator__min_impurity_decrease': 0.0, 'base_estimator__min_impurity_split': None, 'base_estimator__min_samples_leaf': 1, 'base_estimator__min_samples_split': 2, 'base_estimator__min_weight_fraction_leaf': 0.0, 'base_estimator__presort': False, 'base_estimator__random_state': None, 'base_estimator__splitter': 'best', 'base_estimator': DecisionTreeClassifier(class_weight=None, criterion='gini', max_depth=20,\n",
      "            max_features=None, max_leaf_nodes=None,\n",
      "            min_impurity_decrease=0.0, min_impurity_split=None,\n",
      "            min_samples_leaf=1, min_samples_split=2,\n",
      "            min_weight_fraction_leaf=0.0, presort=False, random_state=None,\n",
      "            splitter='best'), 'learning_rate': 1, 'n_estimators': 120, 'random_state': 14}\n"
     ]
    }
   ],
   "source": [
    "\n",
    "ada_dict = {\n",
    "    'base_estimator':[DecisionTreeClassifier(max_depth=5),\n",
    "                     DecisionTreeClassifier(max_depth=10),\n",
    "                     DecisionTreeClassifier(max_depth=20)],\n",
    "    'n_estimators' : [80,120],\n",
    "    'learning_rate':[.5,.9,1]}\n",
    "\n",
    "ada_grid = grid('Combined - AdaBoostClassifier',AdaBoostClassifier(random_state=random_state),ada_dict,\n",
    "               Xtrain_std_spa,ytrain, Xtest_std_spa, ytest)\n"
   ]
  },
  {
   "cell_type": "markdown",
   "metadata": {},
   "source": [
    "## Gradient Boosting Classifier"
   ]
  },
  {
   "cell_type": "code",
   "execution_count": 20,
   "metadata": {},
   "outputs": [
    {
     "name": "stdout",
     "output_type": "stream",
     "text": [
      "Fitting 5 folds for each of 24 candidates, totalling 120 fits\n"
     ]
    },
    {
     "name": "stderr",
     "output_type": "stream",
     "text": [
      "[Parallel(n_jobs=-1)]: Using backend LokyBackend with 8 concurrent workers.\n",
      "[Parallel(n_jobs=-1)]: Done  25 tasks      | elapsed:  2.7min\n",
      "[Parallel(n_jobs=-1)]: Done 120 out of 120 | elapsed: 12.3min finished\n"
     ]
    },
    {
     "name": "stdout",
     "output_type": "stream",
     "text": [
      "Time\n",
      "Grid fitting took 0:13:07.503173\n",
      "CV took 0:03:26.745253\n",
      "\n",
      "Model Scores\n",
      "Accuracy on train data: 1.0\n",
      "Accuracy on test data: 0.8551580409864536\n",
      "Accuracy on CV: 0.8474041679764965\n",
      "Baseline: 0.6779812416257258\n",
      "\n",
      "AUC CV: 0.9092067777654178\n",
      "\n",
      "Confusion Matrix\n",
      "[[ 666  261]\n",
      " [ 156 1796]]\n",
      "\n",
      "Classification Report\n",
      "              precision    recall  f1-score   support\n",
      "\n",
      "  Bad Review       0.81      0.72      0.76       927\n",
      " Good Review       0.87      0.92      0.90      1952\n",
      "\n",
      "   micro avg       0.86      0.86      0.86      2879\n",
      "   macro avg       0.84      0.82      0.83      2879\n",
      "weighted avg       0.85      0.86      0.85      2879\n",
      "\n",
      "Best Estimator Parameters\n",
      "{'criterion': 'mse', 'init': None, 'learning_rate': 0.1, 'loss': 'exponential', 'max_depth': 10, 'max_features': None, 'max_leaf_nodes': None, 'min_impurity_decrease': 0.0, 'min_impurity_split': None, 'min_samples_leaf': 1, 'min_samples_split': 2, 'min_weight_fraction_leaf': 0.0, 'n_estimators': 200, 'n_iter_no_change': None, 'presort': 'auto', 'random_state': 14, 'subsample': 1.0, 'tol': 0.0001, 'validation_fraction': 0.1, 'verbose': 0, 'warm_start': False}\n"
     ]
    }
   ],
   "source": [
    "gboost_dict = {\n",
    "    'n_estimators':[50,100,150,200],\n",
    "    'loss' : ['exponential'],\n",
    "    'learning_rate':[0.1,0.5,1],\n",
    "    'criterion': ['mse'],\n",
    "    'max_depth': [10,20]}\n",
    "\n",
    "gboost_grid = grid('Combined - Gradient Boosting',GradientBoostingClassifier(random_state=random_state)\n",
    "                   ,gboost_dict, Xtrain_std_spa,ytrain, Xtest_std_spa, ytest)\n"
   ]
  },
  {
   "cell_type": "markdown",
   "metadata": {},
   "source": [
    "## Support Vector Machines"
   ]
  },
  {
   "cell_type": "code",
   "execution_count": 21,
   "metadata": {},
   "outputs": [
    {
     "name": "stdout",
     "output_type": "stream",
     "text": [
      "Fitting 5 folds for each of 22 candidates, totalling 110 fits\n"
     ]
    },
    {
     "name": "stderr",
     "output_type": "stream",
     "text": [
      "[Parallel(n_jobs=-1)]: Using backend LokyBackend with 8 concurrent workers.\n",
      "[Parallel(n_jobs=-1)]: Done  25 tasks      | elapsed:    0.9s\n",
      "[Parallel(n_jobs=-1)]: Done 110 out of 110 | elapsed:   22.7s finished\n"
     ]
    },
    {
     "name": "stdout",
     "output_type": "stream",
     "text": [
      "Time\n",
      "Grid fitting took 0:00:22.820452\n",
      "CV took 0:00:00.329475\n",
      "\n",
      "Model Scores\n",
      "Accuracy on train data: 0.8774750632722942\n",
      "Accuracy on test data: 0.8541160125043418\n",
      "Accuracy on CV: 0.8494858372710136\n",
      "Baseline: 0.6779812416257258\n",
      "\n",
      "AUC CV: 0.9133609502501499\n",
      "\n",
      "Confusion Matrix\n",
      "[[ 669  258]\n",
      " [ 162 1790]]\n",
      "\n",
      "Classification Report\n",
      "              precision    recall  f1-score   support\n",
      "\n",
      "  Bad Review       0.81      0.72      0.76       927\n",
      " Good Review       0.87      0.92      0.90      1952\n",
      "\n",
      "   micro avg       0.85      0.85      0.85      2879\n",
      "   macro avg       0.84      0.82      0.83      2879\n",
      "weighted avg       0.85      0.85      0.85      2879\n",
      "\n",
      "Best Estimator Parameters\n",
      "{'C': 0.01, 'class_weight': None, 'dual': True, 'fit_intercept': False, 'intercept_scaling': 1, 'loss': 'hinge', 'max_iter': 1000, 'multi_class': 'ovr', 'penalty': 'l2', 'random_state': 14, 'tol': 0.0001, 'verbose': 0}\n"
     ]
    }
   ],
   "source": [
    "# Linear SVM\n",
    "svm_linear_dict = {'C': np.logspace(-2, 2, 11),\n",
    "                  'fit_intercept': [True, False],\n",
    "                  'loss':['hinge'],\n",
    "                 'penalty':['l2']}\n",
    "\n",
    "\n",
    "# Linear\n",
    "gboost_svm_lin = grid('Combined - SVM - Linear',LinearSVC(random_state=random_state)\n",
    "                   ,svm_linear_dict, Xtrain_std_spa,ytrain, Xtest_std_spa, ytest)\n",
    "\n",
    "    "
   ]
  },
  {
   "cell_type": "code",
   "execution_count": 22,
   "metadata": {},
   "outputs": [
    {
     "name": "stdout",
     "output_type": "stream",
     "text": [
      "Fitting 5 folds for each of 100 candidates, totalling 500 fits\n"
     ]
    },
    {
     "name": "stderr",
     "output_type": "stream",
     "text": [
      "[Parallel(n_jobs=-1)]: Using backend LokyBackend with 8 concurrent workers.\n",
      "[Parallel(n_jobs=-1)]: Done  25 tasks      | elapsed:  1.8min\n",
      "[Parallel(n_jobs=-1)]: Done 146 tasks      | elapsed:  9.6min\n",
      "[Parallel(n_jobs=-1)]: Done 349 tasks      | elapsed: 22.3min\n",
      "[Parallel(n_jobs=-1)]: Done 500 out of 500 | elapsed: 31.3min finished\n"
     ]
    },
    {
     "name": "stdout",
     "output_type": "stream",
     "text": [
      "Time\n",
      "Grid fitting took 0:31:27.074229\n",
      "CV took 0:00:31.146277\n",
      "\n",
      "Model Scores\n",
      "Accuracy on train data: 0.8663093642995385\n",
      "Accuracy on test data: 0.8520319555401181\n",
      "Accuracy on CV: 0.8514214689535571\n",
      "Baseline: 0.6779812416257258\n",
      "\n",
      "AUC CV: 0.9164315889290342\n",
      "\n",
      "Confusion Matrix\n",
      "[[ 609  318]\n",
      " [ 108 1844]]\n",
      "\n",
      "Classification Report\n",
      "              precision    recall  f1-score   support\n",
      "\n",
      "  Bad Review       0.85      0.66      0.74       927\n",
      " Good Review       0.85      0.94      0.90      1952\n",
      "\n",
      "   micro avg       0.85      0.85      0.85      2879\n",
      "   macro avg       0.85      0.80      0.82      2879\n",
      "weighted avg       0.85      0.85      0.85      2879\n",
      "\n",
      "Best Estimator Parameters\n",
      "{'C': 27.825594022071257, 'cache_size': 200, 'class_weight': None, 'coef0': 0.0, 'decision_function_shape': 'ovr', 'degree': 3, 'gamma': 1e-05, 'kernel': 'rbf', 'max_iter': -1, 'probability': False, 'random_state': 14, 'shrinking': True, 'tol': 0.001, 'verbose': False}\n"
     ]
    }
   ],
   "source": [
    "#rbf \n",
    "rbf_dict = {\n",
    "    'kernel':['rbf'],\n",
    "    'gamma' : np.logspace(-5, 2, 10),\n",
    "    'C' : np.logspace(-3, 2, 10),}\n",
    "\n",
    "svm_rbf_grid = grid('Combined - SVM - RBF',SVC(random_state=random_state)\n",
    "                   ,rbf_dict, Xtrain_std_spa,ytrain, Xtest_std_spa, ytest)"
   ]
  },
  {
   "cell_type": "code",
   "execution_count": 23,
   "metadata": {},
   "outputs": [
    {
     "name": "stdout",
     "output_type": "stream",
     "text": [
      "Fitting 5 folds for each of 200 candidates, totalling 1000 fits\n"
     ]
    },
    {
     "name": "stderr",
     "output_type": "stream",
     "text": [
      "[Parallel(n_jobs=-1)]: Using backend LokyBackend with 8 concurrent workers.\n",
      "[Parallel(n_jobs=-1)]: Done  25 tasks      | elapsed:  1.3min\n",
      "[Parallel(n_jobs=-1)]: Done 146 tasks      | elapsed:  6.9min\n",
      "[Parallel(n_jobs=-1)]: Done 349 tasks      | elapsed: 16.6min\n",
      "[Parallel(n_jobs=-1)]: Done 632 tasks      | elapsed: 27.1min\n",
      "[Parallel(n_jobs=-1)]: Done 1000 out of 1000 | elapsed: 40.0min finished\n"
     ]
    },
    {
     "name": "stdout",
     "output_type": "stream",
     "text": [
      "Time\n",
      "Grid fitting took 0:40:03.875356\n",
      "CV took 0:00:24.455686\n",
      "\n",
      "Model Scores\n",
      "Accuracy on train data: 0.902486228971267\n",
      "Accuracy on test data: 0.8513372698853768\n",
      "Accuracy on CV: 0.8493372495199667\n",
      "Baseline: 0.6779812416257258\n",
      "\n",
      "AUC CV: 0.9172004656547184\n",
      "\n",
      "Confusion Matrix\n",
      "[[ 604  323]\n",
      " [ 105 1847]]\n",
      "\n",
      "Classification Report\n",
      "              precision    recall  f1-score   support\n",
      "\n",
      "  Bad Review       0.85      0.65      0.74       927\n",
      " Good Review       0.85      0.95      0.90      1952\n",
      "\n",
      "   micro avg       0.85      0.85      0.85      2879\n",
      "   macro avg       0.85      0.80      0.82      2879\n",
      "weighted avg       0.85      0.85      0.85      2879\n",
      "\n",
      "Best Estimator Parameters\n",
      "{'C': 0.01291549665014884, 'cache_size': 200, 'class_weight': None, 'coef0': 0.0, 'decision_function_shape': 'ovr', 'degree': 2, 'gamma': 0.01291549665014884, 'kernel': 'poly', 'max_iter': -1, 'probability': False, 'random_state': 14, 'shrinking': True, 'tol': 0.001, 'verbose': False}\n"
     ]
    }
   ],
   "source": [
    "#poly \n",
    "poly_dict = {\n",
    "    'kernel':['poly'],\n",
    "    'gamma' : np.logspace(-5, 2, 10),\n",
    "    'degree' : [2,3],\n",
    "    'C' : np.logspace(-3, 2, 10),}\n",
    "\n",
    "svm_poly_grid = grid('Combined - SVM - Poly',SVC(random_state=random_state)\n",
    "                   ,poly_dict, Xtrain_std_spa,ytrain, Xtest_std_spa, ytest)"
   ]
  },
  {
   "cell_type": "code",
   "execution_count": 24,
   "metadata": {},
   "outputs": [
    {
     "name": "stdout",
     "output_type": "stream",
     "text": [
      "Fitting 5 folds for each of 100 candidates, totalling 500 fits\n"
     ]
    },
    {
     "name": "stderr",
     "output_type": "stream",
     "text": [
      "[Parallel(n_jobs=-1)]: Using backend LokyBackend with 8 concurrent workers.\n",
      "[Parallel(n_jobs=-1)]: Done  25 tasks      | elapsed:  1.1min\n",
      "[Parallel(n_jobs=-1)]: Done 146 tasks      | elapsed:  5.1min\n",
      "[Parallel(n_jobs=-1)]: Done 349 tasks      | elapsed: 13.0min\n",
      "[Parallel(n_jobs=-1)]: Done 500 out of 500 | elapsed: 18.1min finished\n"
     ]
    },
    {
     "name": "stdout",
     "output_type": "stream",
     "text": [
      "Time\n",
      "Grid fitting took 0:18:14.617132\n",
      "CV took 0:00:27.046396\n",
      "\n",
      "Model Scores\n",
      "Accuracy on train data: 0.8663093642995385\n",
      "Accuracy on test data: 0.8502952414032651\n",
      "Accuracy on CV: 0.8497841209763916\n",
      "Baseline: 0.6779812416257258\n",
      "\n",
      "AUC CV: 0.916455938004529\n",
      "\n",
      "Confusion Matrix\n",
      "[[ 598  329]\n",
      " [ 102 1850]]\n",
      "\n",
      "Classification Report\n",
      "              precision    recall  f1-score   support\n",
      "\n",
      "  Bad Review       0.85      0.65      0.74       927\n",
      " Good Review       0.85      0.95      0.90      1952\n",
      "\n",
      "   micro avg       0.85      0.85      0.85      2879\n",
      "   macro avg       0.85      0.80      0.82      2879\n",
      "weighted avg       0.85      0.85      0.84      2879\n",
      "\n",
      "Best Estimator Parameters\n",
      "{'C': 7.742636826811277, 'cache_size': 200, 'class_weight': None, 'coef0': 0.0, 'decision_function_shape': 'ovr', 'degree': 3, 'gamma': 5.994842503189409e-05, 'kernel': 'sigmoid', 'max_iter': -1, 'probability': False, 'random_state': 14, 'shrinking': True, 'tol': 0.001, 'verbose': False}\n"
     ]
    }
   ],
   "source": [
    "sigmoid_dict = {\n",
    "    'kernel':['sigmoid'],\n",
    "    'gamma' : np.logspace(-5, 2, 10),\n",
    "    'C' : np.logspace(-3, 2, 10)}\n",
    "\n",
    "sig_poly_grid = grid('Combined - SVM - Sigmoid',SVC(random_state=random_state)\n",
    "                   ,sigmoid_dict, Xtrain_std_spa,ytrain, Xtest_std_spa, ytest)"
   ]
  },
  {
   "cell_type": "markdown",
   "metadata": {},
   "source": [
    "## Neural Networks - Multi-Layer-Perceptron"
   ]
  },
  {
   "cell_type": "code",
   "execution_count": 25,
   "metadata": {},
   "outputs": [
    {
     "name": "stdout",
     "output_type": "stream",
     "text": [
      "Fitting 5 folds for each of 240 candidates, totalling 1200 fits\n"
     ]
    },
    {
     "name": "stderr",
     "output_type": "stream",
     "text": [
      "[Parallel(n_jobs=-1)]: Using backend LokyBackend with 8 concurrent workers.\n",
      "[Parallel(n_jobs=-1)]: Done  25 tasks      | elapsed:    5.3s\n",
      "[Parallel(n_jobs=-1)]: Done 146 tasks      | elapsed:   35.0s\n",
      "[Parallel(n_jobs=-1)]: Done 349 tasks      | elapsed:  2.2min\n",
      "[Parallel(n_jobs=-1)]: Done 632 tasks      | elapsed:  5.5min\n",
      "[Parallel(n_jobs=-1)]: Done 997 tasks      | elapsed:  9.4min\n",
      "[Parallel(n_jobs=-1)]: Done 1200 out of 1200 | elapsed: 12.1min finished\n"
     ]
    },
    {
     "name": "stdout",
     "output_type": "stream",
     "text": [
      "Time\n",
      "Grid fitting took 0:12:10.565407\n",
      "CV took 0:00:29.070850\n",
      "\n",
      "Model Scores\n",
      "Accuracy on train data: 0.8698823879708203\n",
      "Accuracy on test data: 0.8544633553317124\n",
      "Accuracy on CV: 0.8538021997268789\n",
      "Baseline: 0.6779812416257258\n",
      "\n",
      "AUC CV: 0.9193253521870373\n",
      "\n",
      "Confusion Matrix\n",
      "[[ 623  304]\n",
      " [ 115 1837]]\n",
      "\n",
      "Classification Report\n",
      "              precision    recall  f1-score   support\n",
      "\n",
      "  Bad Review       0.84      0.67      0.75       927\n",
      " Good Review       0.86      0.94      0.90      1952\n",
      "\n",
      "   micro avg       0.85      0.85      0.85      2879\n",
      "   macro avg       0.85      0.81      0.82      2879\n",
      "weighted avg       0.85      0.85      0.85      2879\n",
      "\n",
      "Best Estimator Parameters\n",
      "{'activation': 'logistic', 'alpha': 100.0, 'batch_size': 'auto', 'beta_1': 0.9, 'beta_2': 0.999, 'early_stopping': True, 'epsilon': 1e-08, 'hidden_layer_sizes': (80, 80), 'learning_rate': 'constant', 'learning_rate_init': 0.001, 'max_iter': 200, 'momentum': 0.9, 'n_iter_no_change': 10, 'nesterovs_momentum': True, 'power_t': 0.5, 'random_state': 14, 'shuffle': True, 'solver': 'lbfgs', 'tol': 0.0001, 'validation_fraction': 0.1, 'verbose': False, 'warm_start': False}\n"
     ]
    }
   ],
   "source": [
    "MLP_dict = {'hidden_layer_sizes' : [(20,20),(40,40),(60,60),(80,80),(20,20,20),(60,60,60)],\n",
    "       'activation' : ['identity', 'logistic', 'tanh', 'relu'],\n",
    "       'alpha': np.logspace(-5,4,10)}\n",
    "\n",
    "mlp_grid = grid('Combined - MLP',MLPClassifier(solver='lbfgs',\n",
    "                    random_state=random_state,\n",
    "                    batch_size='auto',early_stopping = True, n_iter_no_change=10), \n",
    "                MLP_dict,Xtrain_std_spa,ytrain, Xtest_std_spa, ytest)"
   ]
  },
  {
   "cell_type": "code",
   "execution_count": 35,
   "metadata": {},
   "outputs": [],
   "source": [
    "del model_results['Combined - LogisticRegression - 2Grams']"
   ]
  },
  {
   "cell_type": "code",
   "execution_count": 37,
   "metadata": {},
   "outputs": [
    {
     "data": {
      "text/plain": [
       "dict_keys(['Combined - KNeighborsClassifier', 'Combined - DecisionTreeClassifier', 'Combined - NaiveBayes', 'Combined - BaggingClassifier', 'Combined - RandomForest', 'Combined - AdaBoostClassifier', 'Combined - Gradient Boosting', 'Combined - SVM - Linear', 'Combined - SVM - RBF', 'Combined - SVM - Poly', 'Combined - SVM - Sigmoid', 'Combined - MLP', 'Combined - LogisticRegression'])"
      ]
     },
     "execution_count": 37,
     "metadata": {},
     "output_type": "execute_result"
    }
   ],
   "source": [
    "model_results.keys()"
   ]
  },
  {
   "cell_type": "markdown",
   "metadata": {},
   "source": [
    "## Saving Models"
   ]
  },
  {
   "cell_type": "code",
   "execution_count": 38,
   "metadata": {},
   "outputs": [],
   "source": [
    "save_pickle(model_results,'data/model_results.pkl')"
   ]
  },
  {
   "cell_type": "markdown",
   "metadata": {},
   "source": [
    "## Comparing Results"
   ]
  },
  {
   "cell_type": "code",
   "execution_count": 39,
   "metadata": {},
   "outputs": [],
   "source": [
    "model_results = load_pickle('model_results.pkl',loc = 'data/')"
   ]
  },
  {
   "cell_type": "code",
   "execution_count": 40,
   "metadata": {},
   "outputs": [
    {
     "data": {
      "text/html": [
       "<div>\n",
       "<style scoped>\n",
       "    .dataframe tbody tr th:only-of-type {\n",
       "        vertical-align: middle;\n",
       "    }\n",
       "\n",
       "    .dataframe tbody tr th {\n",
       "        vertical-align: top;\n",
       "    }\n",
       "\n",
       "    .dataframe thead th {\n",
       "        text-align: right;\n",
       "    }\n",
       "</style>\n",
       "<table border=\"1\" class=\"dataframe\">\n",
       "  <thead>\n",
       "    <tr style=\"text-align: right;\">\n",
       "      <th></th>\n",
       "      <th>Model Name</th>\n",
       "      <th>AUC CV</th>\n",
       "      <th>Accuracy CV</th>\n",
       "      <th>Accuracy on Test</th>\n",
       "    </tr>\n",
       "  </thead>\n",
       "  <tbody>\n",
       "    <tr>\n",
       "      <th>12</th>\n",
       "      <td>Combined - LogisticRegression</td>\n",
       "      <td>0.920950</td>\n",
       "      <td>0.857971</td>\n",
       "      <td>0.859673</td>\n",
       "    </tr>\n",
       "    <tr>\n",
       "      <th>11</th>\n",
       "      <td>Combined - MLP</td>\n",
       "      <td>0.919325</td>\n",
       "      <td>0.853802</td>\n",
       "      <td>0.854463</td>\n",
       "    </tr>\n",
       "    <tr>\n",
       "      <th>9</th>\n",
       "      <td>Combined - SVM - Poly</td>\n",
       "      <td>0.917200</td>\n",
       "      <td>0.849337</td>\n",
       "      <td>0.851337</td>\n",
       "    </tr>\n",
       "    <tr>\n",
       "      <th>10</th>\n",
       "      <td>Combined - SVM - Sigmoid</td>\n",
       "      <td>0.916456</td>\n",
       "      <td>0.849784</td>\n",
       "      <td>0.850295</td>\n",
       "    </tr>\n",
       "    <tr>\n",
       "      <th>8</th>\n",
       "      <td>Combined - SVM - RBF</td>\n",
       "      <td>0.916432</td>\n",
       "      <td>0.851421</td>\n",
       "      <td>0.852032</td>\n",
       "    </tr>\n",
       "    <tr>\n",
       "      <th>7</th>\n",
       "      <td>Combined - SVM - Linear</td>\n",
       "      <td>0.913361</td>\n",
       "      <td>0.849486</td>\n",
       "      <td>0.854116</td>\n",
       "    </tr>\n",
       "    <tr>\n",
       "      <th>6</th>\n",
       "      <td>Combined - Gradient Boosting</td>\n",
       "      <td>0.909207</td>\n",
       "      <td>0.847404</td>\n",
       "      <td>0.855158</td>\n",
       "    </tr>\n",
       "    <tr>\n",
       "      <th>5</th>\n",
       "      <td>Combined - AdaBoostClassifier</td>\n",
       "      <td>0.902373</td>\n",
       "      <td>0.838320</td>\n",
       "      <td>0.837096</td>\n",
       "    </tr>\n",
       "    <tr>\n",
       "      <th>3</th>\n",
       "      <td>Combined - BaggingClassifier</td>\n",
       "      <td>0.901977</td>\n",
       "      <td>0.843980</td>\n",
       "      <td>0.842306</td>\n",
       "    </tr>\n",
       "    <tr>\n",
       "      <th>4</th>\n",
       "      <td>Combined - RandomForest</td>\n",
       "      <td>0.896983</td>\n",
       "      <td>0.826562</td>\n",
       "      <td>0.820771</td>\n",
       "    </tr>\n",
       "    <tr>\n",
       "      <th>1</th>\n",
       "      <td>Combined - DecisionTreeClassifier</td>\n",
       "      <td>0.881110</td>\n",
       "      <td>0.822097</td>\n",
       "      <td>0.819729</td>\n",
       "    </tr>\n",
       "    <tr>\n",
       "      <th>2</th>\n",
       "      <td>Combined - NaiveBayes</td>\n",
       "      <td>0.872705</td>\n",
       "      <td>0.790386</td>\n",
       "      <td>0.804446</td>\n",
       "    </tr>\n",
       "    <tr>\n",
       "      <th>0</th>\n",
       "      <td>Combined - KNeighborsClassifier</td>\n",
       "      <td>0.867522</td>\n",
       "      <td>0.803782</td>\n",
       "      <td>0.806877</td>\n",
       "    </tr>\n",
       "  </tbody>\n",
       "</table>\n",
       "</div>"
      ],
      "text/plain": [
       "                           Model Name    AUC CV  Accuracy CV  Accuracy on Test\n",
       "12      Combined - LogisticRegression  0.920950     0.857971          0.859673\n",
       "11                     Combined - MLP  0.919325     0.853802          0.854463\n",
       "9               Combined - SVM - Poly  0.917200     0.849337          0.851337\n",
       "10           Combined - SVM - Sigmoid  0.916456     0.849784          0.850295\n",
       "8                Combined - SVM - RBF  0.916432     0.851421          0.852032\n",
       "7             Combined - SVM - Linear  0.913361     0.849486          0.854116\n",
       "6        Combined - Gradient Boosting  0.909207     0.847404          0.855158\n",
       "5       Combined - AdaBoostClassifier  0.902373     0.838320          0.837096\n",
       "3        Combined - BaggingClassifier  0.901977     0.843980          0.842306\n",
       "4             Combined - RandomForest  0.896983     0.826562          0.820771\n",
       "1   Combined - DecisionTreeClassifier  0.881110     0.822097          0.819729\n",
       "2               Combined - NaiveBayes  0.872705     0.790386          0.804446\n",
       "0     Combined - KNeighborsClassifier  0.867522     0.803782          0.806877"
      ]
     },
     "execution_count": 40,
     "metadata": {},
     "output_type": "execute_result"
    }
   ],
   "source": [
    "# Creating DataFrame with main scores\n",
    "model_resultsumm= {\n",
    "    'Model Name': [x for x in model_results.keys()],\n",
    "    'AUC CV': [model_results[x]['AUC CV'] for x in model_results.keys()],\n",
    "    'Accuracy CV': [model_results[x]['accuracy cv'] for x in model_results.keys()],\n",
    "    'Accuracy on Test': [model_results[x]['accuracy test'] for x in model_results.keys()]\n",
    "}\n",
    "\n",
    "resultsDF = pd.DataFrame(model_resultsumm).sort_values(by = 'AUC CV', ascending = False)\n",
    "\n",
    "resultsDF\n"
   ]
  },
  {
   "cell_type": "markdown",
   "metadata": {},
   "source": [
    "# AUC (CV) and Accuracy on Test by model "
   ]
  },
  {
   "cell_type": "code",
   "execution_count": 41,
   "metadata": {},
   "outputs": [
    {
     "data": {
      "image/png": "[encoded data removed]",
      "text/plain": [
       "<Figure size 432x648 with 1 Axes>"
      ]
     },
     "metadata": {
      "image/png": {
       "height": 528,
       "width": 634
      },
      "needs_background": "light"
     },
     "output_type": "display_data"
    }
   ],
   "source": [
    "fig, ax = plt.subplots(figsize = (6,9));\n",
    "resultsDF.set_index('Model Name')[['AUC CV','Accuracy on Test']].sort_values(\n",
    "                                    by = 'AUC CV', ascending = True).plot(kind = 'barh', ax = ax);\n",
    "ax.legend(loc = 'lower left');"
   ]
  },
  {
   "cell_type": "code",
   "execution_count": null,
   "metadata": {},
   "outputs": [],
   "source": []
  }
 ],
 "metadata": {
  "kernelspec": {
   "display_name": "Python 3",
   "language": "python",
   "name": "python3"
  },
  "language_info": {
   "codemirror_mode": {
    "name": "ipython",
    "version": 3
   },
   "file_extension": ".py",
   "mimetype": "text/x-python",
   "name": "python",
   "nbconvert_exporter": "python",
   "pygments_lexer": "ipython3",
   "version": "3.7.6"
  }
 },
 "nbformat": 4,
 "nbformat_minor": 2
}
